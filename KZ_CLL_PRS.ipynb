{
 "cells": [
  {
   "cell_type": "code",
   "execution_count": 1,
   "id": "3844e5c9",
   "metadata": {},
   "outputs": [
    {
     "name": "stderr",
     "output_type": "stream",
     "text": [
      "\n",
      "Attaching package: ‘dplyr’\n",
      "\n",
      "\n",
      "The following objects are masked from ‘package:stats’:\n",
      "\n",
      "    filter, lag\n",
      "\n",
      "\n",
      "The following objects are masked from ‘package:base’:\n",
      "\n",
      "    intersect, setdiff, setequal, union\n",
      "\n",
      "\n",
      "── \u001b[1mAttaching core tidyverse packages\u001b[22m ──────────────────────── tidyverse 2.0.0 ──\n",
      "\u001b[32m✔\u001b[39m \u001b[34mforcats  \u001b[39m 1.0.0     \u001b[32m✔\u001b[39m \u001b[34mreadr    \u001b[39m 2.1.5\n",
      "\u001b[32m✔\u001b[39m \u001b[34mggplot2  \u001b[39m 3.5.1     \u001b[32m✔\u001b[39m \u001b[34mstringr  \u001b[39m 1.5.1\n",
      "\u001b[32m✔\u001b[39m \u001b[34mlubridate\u001b[39m 1.9.3     \u001b[32m✔\u001b[39m \u001b[34mtibble   \u001b[39m 3.2.1\n",
      "\u001b[32m✔\u001b[39m \u001b[34mpurrr    \u001b[39m 1.0.2     \n",
      "── \u001b[1mConflicts\u001b[22m ────────────────────────────────────────── tidyverse_conflicts() ──\n",
      "\u001b[31m✖\u001b[39m \u001b[34mdplyr\u001b[39m::\u001b[32mfilter()\u001b[39m masks \u001b[34mstats\u001b[39m::filter()\n",
      "\u001b[31m✖\u001b[39m \u001b[34mdplyr\u001b[39m::\u001b[32mlag()\u001b[39m    masks \u001b[34mstats\u001b[39m::lag()\n",
      "\u001b[36mℹ\u001b[39m Use the conflicted package (\u001b[3m\u001b[34m<http://conflicted.r-lib.org/>\u001b[39m\u001b[23m) to force all conflicts to become errors\n",
      "\n",
      "Attaching package: ‘data.table’\n",
      "\n",
      "\n",
      "The following objects are masked from ‘package:lubridate’:\n",
      "\n",
      "    hour, isoweek, mday, minute, month, quarter, second, wday, week,\n",
      "    yday, year\n",
      "\n",
      "\n",
      "The following object is masked from ‘package:purrr’:\n",
      "\n",
      "    transpose\n",
      "\n",
      "\n",
      "The following objects are masked from ‘package:dplyr’:\n",
      "\n",
      "    between, first, last\n",
      "\n",
      "\n"
     ]
    }
   ],
   "source": [
    "library(tidyr)\n",
    "library(dplyr)\n",
    "library(tidyverse)\n",
    "library(data.table)\n",
    "library(lubridate)\n",
    "library(broom)\n",
    "library(survival)"
   ]
  },
  {
   "cell_type": "code",
   "execution_count": 157,
   "id": "1b47c0e3",
   "metadata": {},
   "outputs": [
    {
     "data": {
      "text/html": [
       "'UKB_mCA_clean'"
      ],
      "text/latex": [
       "'UKB\\_mCA\\_clean'"
      ],
      "text/markdown": [
       "'UKB_mCA_clean'"
      ],
      "text/plain": [
       "[1] \"UKB_mCA_clean\""
      ]
     },
     "metadata": {},
     "output_type": "display_data"
    }
   ],
   "source": [
    "#UKB\n",
    "x <- load(\"Users_Kun_Zhao_UKB_mCA_clean2.Rdata\")\n",
    "x"
   ]
  },
  {
   "cell_type": "code",
   "execution_count": 158,
   "id": "d71a1508",
   "metadata": {},
   "outputs": [
    {
     "data": {
      "text/html": [
       "<style>\n",
       ".list-inline {list-style: none; margin:0; padding: 0}\n",
       ".list-inline>li {display: inline-block}\n",
       ".list-inline>li:not(:last-child)::after {content: \"\\00b7\"; padding: 0 .5ex}\n",
       "</style>\n",
       "<ol class=list-inline><li>502413</li><li>26</li></ol>\n"
      ],
      "text/latex": [
       "\\begin{enumerate*}\n",
       "\\item 502413\n",
       "\\item 26\n",
       "\\end{enumerate*}\n"
      ],
      "text/markdown": [
       "1. 502413\n",
       "2. 26\n",
       "\n",
       "\n"
      ],
      "text/plain": [
       "[1] 502413     26"
      ]
     },
     "metadata": {},
     "output_type": "display_data"
    }
   ],
   "source": [
    "dim(UKB_mCA_clean)"
   ]
  },
  {
   "cell_type": "code",
   "execution_count": 30,
   "id": "b14ce3f8",
   "metadata": {},
   "outputs": [],
   "source": [
    "ltl_prs_ukb <- fread('Data_UKBioBank_prs_ltl_prs_yp09302024.tsv') \n",
    "cll_prs_ukb <- fread('Data_UKBioBank_prs_cll_prs_yp09302024.tsv') "
   ]
  },
  {
   "cell_type": "code",
   "execution_count": 31,
   "id": "7973f13a",
   "metadata": {},
   "outputs": [
    {
     "data": {
      "text/html": [
       "<table class=\"dataframe\">\n",
       "<caption>A data.table: 6 × 2</caption>\n",
       "<thead>\n",
       "\t<tr><th scope=col>IID</th><th scope=col>ltl_prs</th></tr>\n",
       "\t<tr><th scope=col>&lt;int&gt;</th><th scope=col>&lt;dbl&gt;</th></tr>\n",
       "</thead>\n",
       "<tbody>\n",
       "\t<tr><td>-338</td><td> 0.009331217</td></tr>\n",
       "\t<tr><td>-337</td><td>-0.008085725</td></tr>\n",
       "\t<tr><td>-336</td><td>-0.046034500</td></tr>\n",
       "\t<tr><td>-335</td><td>-0.025729090</td></tr>\n",
       "\t<tr><td>-334</td><td>-0.001564260</td></tr>\n",
       "\t<tr><td>-333</td><td>-0.011310033</td></tr>\n",
       "</tbody>\n",
       "</table>\n"
      ],
      "text/latex": [
       "A data.table: 6 × 2\n",
       "\\begin{tabular}{ll}\n",
       " IID & ltl\\_prs\\\\\n",
       " <int> & <dbl>\\\\\n",
       "\\hline\n",
       "\t -338 &  0.009331217\\\\\n",
       "\t -337 & -0.008085725\\\\\n",
       "\t -336 & -0.046034500\\\\\n",
       "\t -335 & -0.025729090\\\\\n",
       "\t -334 & -0.001564260\\\\\n",
       "\t -333 & -0.011310033\\\\\n",
       "\\end{tabular}\n"
      ],
      "text/markdown": [
       "\n",
       "A data.table: 6 × 2\n",
       "\n",
       "| IID &lt;int&gt; | ltl_prs &lt;dbl&gt; |\n",
       "|---|---|\n",
       "| -338 |  0.009331217 |\n",
       "| -337 | -0.008085725 |\n",
       "| -336 | -0.046034500 |\n",
       "| -335 | -0.025729090 |\n",
       "| -334 | -0.001564260 |\n",
       "| -333 | -0.011310033 |\n",
       "\n"
      ],
      "text/plain": [
       "  IID  ltl_prs     \n",
       "1 -338  0.009331217\n",
       "2 -337 -0.008085725\n",
       "3 -336 -0.046034500\n",
       "4 -335 -0.025729090\n",
       "5 -334 -0.001564260\n",
       "6 -333 -0.011310033"
      ]
     },
     "metadata": {},
     "output_type": "display_data"
    },
    {
     "data": {
      "text/html": [
       "<table class=\"dataframe\">\n",
       "<caption>A data.table: 6 × 2</caption>\n",
       "<thead>\n",
       "\t<tr><th scope=col>IID</th><th scope=col>cll_prs</th></tr>\n",
       "\t<tr><th scope=col>&lt;int&gt;</th><th scope=col>&lt;dbl&gt;</th></tr>\n",
       "</thead>\n",
       "<tbody>\n",
       "\t<tr><td>-338</td><td>1.063146</td></tr>\n",
       "\t<tr><td>-337</td><td>1.615900</td></tr>\n",
       "\t<tr><td>-336</td><td>1.395654</td></tr>\n",
       "\t<tr><td>-335</td><td>1.457313</td></tr>\n",
       "\t<tr><td>-334</td><td>1.574994</td></tr>\n",
       "\t<tr><td>-333</td><td>1.644956</td></tr>\n",
       "</tbody>\n",
       "</table>\n"
      ],
      "text/latex": [
       "A data.table: 6 × 2\n",
       "\\begin{tabular}{ll}\n",
       " IID & cll\\_prs\\\\\n",
       " <int> & <dbl>\\\\\n",
       "\\hline\n",
       "\t -338 & 1.063146\\\\\n",
       "\t -337 & 1.615900\\\\\n",
       "\t -336 & 1.395654\\\\\n",
       "\t -335 & 1.457313\\\\\n",
       "\t -334 & 1.574994\\\\\n",
       "\t -333 & 1.644956\\\\\n",
       "\\end{tabular}\n"
      ],
      "text/markdown": [
       "\n",
       "A data.table: 6 × 2\n",
       "\n",
       "| IID &lt;int&gt; | cll_prs &lt;dbl&gt; |\n",
       "|---|---|\n",
       "| -338 | 1.063146 |\n",
       "| -337 | 1.615900 |\n",
       "| -336 | 1.395654 |\n",
       "| -335 | 1.457313 |\n",
       "| -334 | 1.574994 |\n",
       "| -333 | 1.644956 |\n",
       "\n"
      ],
      "text/plain": [
       "  IID  cll_prs \n",
       "1 -338 1.063146\n",
       "2 -337 1.615900\n",
       "3 -336 1.395654\n",
       "4 -335 1.457313\n",
       "5 -334 1.574994\n",
       "6 -333 1.644956"
      ]
     },
     "metadata": {},
     "output_type": "display_data"
    }
   ],
   "source": [
    "head(ltl_prs_ukb)\n",
    "head(cll_prs_ukb)"
   ]
  },
  {
   "cell_type": "code",
   "execution_count": 32,
   "id": "f35b8c7f",
   "metadata": {},
   "outputs": [],
   "source": [
    "UKB_mCA_clean$ID_VUMC <- as.integer(UKB_mCA_clean$ID_VUMC)"
   ]
  },
  {
   "cell_type": "code",
   "execution_count": 33,
   "id": "a311b8de",
   "metadata": {},
   "outputs": [],
   "source": [
    "UKB_mCA_clean <- merge(UKB_mCA_clean,ltl_prs_ukb, by.x = \"ID_VUMC\", by.y = \"IID\",all.x = T)"
   ]
  },
  {
   "cell_type": "code",
   "execution_count": 34,
   "id": "8e6deae9",
   "metadata": {},
   "outputs": [],
   "source": [
    "UKB_mCA_clean <- merge(UKB_mCA_clean,cll_prs_ukb, by.x = \"ID_VUMC\", by.y = \"IID\",all.x = T)"
   ]
  },
  {
   "cell_type": "code",
   "execution_count": 35,
   "id": "3e224e0b",
   "metadata": {},
   "outputs": [
    {
     "data": {
      "text/plain": [
       "   Min. 1st Qu.  Median    Mean 3rd Qu.    Max.    NA's \n",
       "  0.619   1.348   1.475   1.477   1.605   2.326   15342 "
      ]
     },
     "metadata": {},
     "output_type": "display_data"
    },
    {
     "data": {
      "text/plain": [
       "   Min. 1st Qu.  Median    Mean 3rd Qu.    Max.    NA's \n",
       " -0.091  -0.023  -0.011  -0.011   0.001   0.080   15342 "
      ]
     },
     "metadata": {},
     "output_type": "display_data"
    },
    {
     "data": {
      "text/plain": [
       "   Min. 1st Qu.  Median    Mean 3rd Qu.    Max. \n",
       "  0.619   1.348   1.475   1.477   1.605   2.326 "
      ]
     },
     "metadata": {},
     "output_type": "display_data"
    },
    {
     "data": {
      "text/plain": [
       "     Min.   1st Qu.    Median      Mean   3rd Qu.      Max. \n",
       "-0.090521 -0.022777 -0.011048 -0.010667  0.001019  0.080075 "
      ]
     },
     "metadata": {},
     "output_type": "display_data"
    }
   ],
   "source": [
    "summary(UKB_mCA_clean$cll_prs)\n",
    "summary(UKB_mCA_clean$ltl_prs)\n",
    "UKB_mCA_clean <- filter(UKB_mCA_clean, is.na(UKB_mCA_clean$cll_prs)==F)\n",
    "UKB_mCA_clean <- filter(UKB_mCA_clean, is.na(UKB_mCA_clean$ltl_prs)==F)\n",
    "summary(UKB_mCA_clean$cll_prs)\n",
    "summary(UKB_mCA_clean$ltl_prs)"
   ]
  },
  {
   "cell_type": "code",
   "execution_count": 36,
   "id": "486437f1",
   "metadata": {},
   "outputs": [
    {
     "data": {
      "text/plain": [
       "\n",
       "     1      2      3 \n",
       " 97414 292242  97415 "
      ]
     },
     "metadata": {},
     "output_type": "display_data"
    }
   ],
   "source": [
    "UKB_mCA_clean$cll_262_coh <- 2\n",
    "UKB_mCA_clean$cll_262_coh[UKB_mCA_clean$cll_prs >= quantile(UKB_mCA_clean$cll_prs,0.8)] <- 3\n",
    "UKB_mCA_clean$cll_262_coh[UKB_mCA_clean$cll_prs < quantile(UKB_mCA_clean$cll_prs,0.2)] <- 1\n",
    "UKB_mCA_clean$cll_262_coh<-as.factor(UKB_mCA_clean$cll_262_coh)\n",
    "table(UKB_mCA_clean$cll_262_coh)"
   ]
  },
  {
   "cell_type": "code",
   "execution_count": 37,
   "id": "e4771e86",
   "metadata": {},
   "outputs": [
    {
     "data": {
      "text/plain": [
       "\n",
       "     1      2      3 \n",
       " 97414 292242  97415 "
      ]
     },
     "metadata": {},
     "output_type": "display_data"
    }
   ],
   "source": [
    "UKB_mCA_clean$ltl_262_coh <- 2\n",
    "UKB_mCA_clean$ltl_262_coh[UKB_mCA_clean$ltl_prs >= quantile(UKB_mCA_clean$ltl_prs,0.8)] <- 3\n",
    "UKB_mCA_clean$ltl_262_coh[UKB_mCA_clean$ltl_prs < quantile(UKB_mCA_clean$ltl_prs,0.2)] <- 1\n",
    "UKB_mCA_clean$ltl_262_coh<- as.factor(UKB_mCA_clean$ltl_262_coh)\n",
    "table(UKB_mCA_clean$ltl_262_coh)"
   ]
  },
  {
   "cell_type": "code",
   "execution_count": 41,
   "id": "0f66fcd2",
   "metadata": {},
   "outputs": [
    {
     "data": {
      "text/plain": [
       "\n",
       "   37    38    39    40    41    42    43    44    45    46    47    48    49 \n",
       "    1     1     5  5277 10701 10775 11523 11799 12250 12293 12625 13059 13688 \n",
       "   50    51    52    53    54    55    56    57    58    59    60    61    62 \n",
       "13831 14565 14699 15223 15587 16345 16826 17228 18256 19320 23755 25303 24548 \n",
       "   63    64    65    66    67    68    69    70    71    72    73 \n",
       "22612 21802 21522 19600 17838 16335 15538  2334     3     3     1 "
      ]
     },
     "metadata": {},
     "output_type": "display_data"
    }
   ],
   "source": [
    "table(UKB_mCA_clean$baseline_age)"
   ]
  },
  {
   "cell_type": "code",
   "execution_count": 38,
   "id": "a5aa1936",
   "metadata": {},
   "outputs": [
    {
     "data": {
      "text/html": [
       "'data_all_pheno_cox'"
      ],
      "text/latex": [
       "'data\\_all\\_pheno\\_cox'"
      ],
      "text/markdown": [
       "'data_all_pheno_cox'"
      ],
      "text/plain": [
       "[1] \"data_all_pheno_cox\""
      ]
     },
     "metadata": {},
     "output_type": "display_data"
    }
   ],
   "source": [
    "#Merge AoU\n",
    "a <- load(\"data_all_pheno_cox_PhecodeX.Rdata\")\n",
    "a"
   ]
  },
  {
   "cell_type": "code",
   "execution_count": 39,
   "id": "cd7b9386",
   "metadata": {},
   "outputs": [],
   "source": [
    "data_ancestry <- fread('ancestry_preds.tsv') "
   ]
  },
  {
   "cell_type": "code",
   "execution_count": 40,
   "id": "9de8c79f",
   "metadata": {},
   "outputs": [
    {
     "data": {
      "text/plain": [
       "\n",
       "   afr    amr    eas    eur    mid    sas   <NA> \n",
       " 56911  45034   5706 133578    942   3217  67537 "
      ]
     },
     "metadata": {},
     "output_type": "display_data"
    }
   ],
   "source": [
    "data_all_pheno_cox<- merge(data_all_pheno_cox,data_ancestry,by.x = \"person_id\", by.y = \"research_id\",all.x = T)\n",
    "table(data_all_pheno_cox$ancestry_pred,useNA = \"always\")"
   ]
  },
  {
   "cell_type": "code",
   "execution_count": 42,
   "id": "fd809190",
   "metadata": {},
   "outputs": [],
   "source": [
    "data_eur <- filter(data_all_pheno_cox , data_all_pheno_cox$ancestry_pred == \"eur\")"
   ]
  },
  {
   "cell_type": "code",
   "execution_count": 43,
   "id": "8c09ce12",
   "metadata": {},
   "outputs": [
    {
     "data": {
      "text/plain": [
       "   Min. 1st Qu.  Median    Mean 3rd Qu.    Max. \n",
       " 0.5294  1.1480  1.2701  1.2687  1.3913  1.9649 "
      ]
     },
     "metadata": {},
     "output_type": "display_data"
    }
   ],
   "source": [
    "CLL_prs_aou <- fread('cll_pgs_v7_yp09182024.tsv') \n",
    "data_eur <- merge(data_eur,CLL_prs_aou,by.x = \"person_id\", by.y = \"IID\", all.x=T)\n",
    "summary(data_eur$cll_prs)"
   ]
  },
  {
   "cell_type": "code",
   "execution_count": 44,
   "id": "38354340",
   "metadata": {},
   "outputs": [],
   "source": [
    "data_all_pheno_cox2 <- filter(data_eur, is.na(data_eur$cll_prs)==F)"
   ]
  },
  {
   "cell_type": "code",
   "execution_count": 45,
   "id": "f3c671a4",
   "metadata": {},
   "outputs": [
    {
     "data": {
      "text/plain": [
       "   Min. 1st Qu.  Median    Mean 3rd Qu.    Max. \n",
       "  40.00   54.65   63.80   62.95   71.33   89.99 "
      ]
     },
     "metadata": {},
     "output_type": "display_data"
    }
   ],
   "source": [
    "data_all_pheno_cox2 <- filter(data_all_pheno_cox2,data_all_pheno_cox2$age>=40 & data_all_pheno_cox2$age<=90)\n",
    "summary(data_all_pheno_cox2$age)"
   ]
  },
  {
   "cell_type": "code",
   "execution_count": 46,
   "id": "9331ffb2",
   "metadata": {},
   "outputs": [
    {
     "data": {
      "text/plain": [
       "\n",
       " chr1 chr10 chr11 chr12 chr13 chr14 chr15 chr16 chr17 chr18 chr19  chr2 chr20 \n",
       "  265    54   253   192   245   218   177   105    98    37    64   205   171 \n",
       "chr21 chr22  chr3  chr4  chr5  chr6  chr7  chr8  chr9  chrX \n",
       "   37    96   170   144   116    80    85    78   214  5611 "
      ]
     },
     "metadata": {},
     "output_type": "display_data"
    }
   ],
   "source": [
    "table(data_all_pheno_cox2$chrom)"
   ]
  },
  {
   "cell_type": "code",
   "execution_count": 47,
   "id": "00e54e9e",
   "metadata": {},
   "outputs": [
    {
     "data": {
      "text/plain": [
       "\n",
       "    0     1 \n",
       "99699  3104 "
      ]
     },
     "metadata": {},
     "output_type": "display_data"
    },
    {
     "data": {
      "text/plain": [
       "\n",
       "    0     1 \n",
       "94088  8715 "
      ]
     },
     "metadata": {},
     "output_type": "display_data"
    }
   ],
   "source": [
    "data_all_pheno_cox2$mca_auto <- data_all_pheno_cox2$mca_status\n",
    "data_all_pheno_cox2$mca_auto <- ifelse(data_all_pheno_cox2$chrom == \"chrX\" & data_all_pheno_cox2$mca_status == \"1\" , 0 ,data_all_pheno_cox2$mca_auto)\n",
    "table(data_all_pheno_cox2$mca_auto)\n",
    "table(data_all_pheno_cox2$mca_status)"
   ]
  },
  {
   "cell_type": "code",
   "execution_count": 48,
   "id": "fd4b9aae",
   "metadata": {},
   "outputs": [
    {
     "data": {
      "text/plain": [
       "     Min.   1st Qu.    Median      Mean   3rd Qu.      Max. \n",
       "-0.006254  0.062548  0.073939  0.074255  0.085595  0.165163 "
      ]
     },
     "metadata": {},
     "output_type": "display_data"
    }
   ],
   "source": [
    "prs_LTL_aou <- fread('ltl_prs_v7_yp08282024.tsv') \n",
    "data_all_pheno_cox2 <- merge(data_all_pheno_cox2,prs_LTL_aou,by.x = \"person_id\", by.y = \"IID\", all.x=T)\n",
    "summary(data_all_pheno_cox2$ltl_prs)"
   ]
  },
  {
   "cell_type": "code",
   "execution_count": 49,
   "id": "28e67867",
   "metadata": {},
   "outputs": [
    {
     "data": {
      "text/plain": [
       "\n",
       "    1     2     3 \n",
       "20561 61681 20561 "
      ]
     },
     "metadata": {},
     "output_type": "display_data"
    }
   ],
   "source": [
    "data_all_pheno_cox2$ltl_262_coh <- 2\n",
    "data_all_pheno_cox2$ltl_262_coh[data_all_pheno_cox2$ltl_prs >= quantile(data_all_pheno_cox2$ltl_prs,0.8)] <- 3\n",
    "data_all_pheno_cox2$ltl_262_coh[data_all_pheno_cox2$ltl_prs < quantile(data_all_pheno_cox2$ltl_prs,0.2)] <- 1\n",
    "data_all_pheno_cox2$ltl_262_coh<-as.factor(data_all_pheno_cox2$ltl_262_coh)\n",
    "table(data_all_pheno_cox2$ltl_262_coh)"
   ]
  },
  {
   "cell_type": "code",
   "execution_count": 50,
   "id": "8828e358",
   "metadata": {},
   "outputs": [
    {
     "data": {
      "text/plain": [
       "\n",
       "    1     2     3 \n",
       "20560 61682 20561 "
      ]
     },
     "metadata": {},
     "output_type": "display_data"
    }
   ],
   "source": [
    "data_all_pheno_cox2$cll_262_coh <- 2\n",
    "data_all_pheno_cox2$cll_262_coh[data_all_pheno_cox2$cll_prs >= quantile(data_all_pheno_cox2$cll_prs,0.8)] <- 3\n",
    "data_all_pheno_cox2$cll_262_coh[data_all_pheno_cox2$cll_prs < quantile(data_all_pheno_cox2$cll_prs,0.2)] <- 1\n",
    "data_all_pheno_cox2$cll_262_coh <- as.factor(data_all_pheno_cox2$cll_262_coh)\n",
    "table(data_all_pheno_cox2$cll_262_coh)"
   ]
  },
  {
   "cell_type": "code",
   "execution_count": 51,
   "id": "ef9a69fa",
   "metadata": {},
   "outputs": [
    {
     "data": {
      "text/plain": [
       "\n",
       "    0     1 \n",
       "99699  3104 "
      ]
     },
     "metadata": {},
     "output_type": "display_data"
    },
    {
     "data": {
      "text/plain": [
       "\n",
       "    0     1 \n",
       "94088  8715 "
      ]
     },
     "metadata": {},
     "output_type": "display_data"
    }
   ],
   "source": [
    "data_all_pheno_cox2$mca_auto <- data_all_pheno_cox2$mca_status\n",
    "data_all_pheno_cox2$mca_auto <- ifelse(data_all_pheno_cox2$chrom == \"chrX\" & data_all_pheno_cox2$mca_status == \"1\" , 0 ,data_all_pheno_cox2$mca_auto)\n",
    "table(data_all_pheno_cox2$mca_auto)\n",
    "table(data_all_pheno_cox2$mca_status)"
   ]
  },
  {
   "cell_type": "code",
   "execution_count": 52,
   "id": "11cb6562",
   "metadata": {
    "scrolled": true
   },
   "outputs": [
    {
     "data": {
      "text/html": [
       "<table class=\"dataframe\">\n",
       "<caption>A data.frame: 6 × 853</caption>\n",
       "<thead>\n",
       "\t<tr><th></th><th scope=col>person_id</th><th scope=col>gender</th><th scope=col>date_of_birth</th><th scope=col>race</th><th scope=col>ethnicity</th><th scope=col>sex_at_birth</th><th scope=col>computed_gender</th><th scope=col>chrom</th><th scope=col>beg_GRCh38</th><th scope=col>end_GRCh38</th><th scope=col>⋯</th><th scope=col>lCH</th><th scope=col>ancestry_pred</th><th scope=col>probabilities</th><th scope=col>pca_features</th><th scope=col>ancestry_pred_other</th><th scope=col>cll_prs</th><th scope=col>mca_auto</th><th scope=col>ltl_prs</th><th scope=col>ltl_262_coh</th><th scope=col>cll_262_coh</th></tr>\n",
       "\t<tr><th></th><th scope=col>&lt;dbl&gt;</th><th scope=col>&lt;chr&gt;</th><th scope=col>&lt;dttm&gt;</th><th scope=col>&lt;chr&gt;</th><th scope=col>&lt;chr&gt;</th><th scope=col>&lt;chr&gt;</th><th scope=col>&lt;chr&gt;</th><th scope=col>&lt;chr&gt;</th><th scope=col>&lt;int&gt;</th><th scope=col>&lt;int&gt;</th><th scope=col>⋯</th><th scope=col>&lt;dbl&gt;</th><th scope=col>&lt;chr&gt;</th><th scope=col>&lt;chr&gt;</th><th scope=col>&lt;chr&gt;</th><th scope=col>&lt;chr&gt;</th><th scope=col>&lt;dbl&gt;</th><th scope=col>&lt;dbl&gt;</th><th scope=col>&lt;dbl&gt;</th><th scope=col>&lt;fct&gt;</th><th scope=col>&lt;fct&gt;</th></tr>\n",
       "</thead>\n",
       "<tbody>\n",
       "\t<tr><th scope=row>1</th><td>1000004</td><td>Male  </td><td>1940-06-15</td><td>White</td><td>Not Hispanic or Latino</td><td>Male  </td><td>NA</td><td>NA</td><td>NA</td><td>NA</td><td>⋯</td><td>0</td><td>eur</td><td>[0.0, 0.0, 0.01, 0.99, 0.0, 0.0] </td><td>[0.10051663592874799, 0.1360249193403286, -0.006317042013381508, 0.05224893088407148, 0.003264557482538397, 0.0163363587430276, 0.01602793629214028, -0.0021481362244359097, -0.001438666033873317, 0.0010070149017609809, 0.0014280909874970116, -0.0005128583327644807, 5.042906140389694e-05, -0.0006639144676124135, 0.0008590882820919863, -0.0013159666185546246]     </td><td>eur</td><td>1.269121</td><td>0</td><td>0.07003842</td><td>2</td><td>2</td></tr>\n",
       "\t<tr><th scope=row>2</th><td>1000033</td><td>Male  </td><td>1956-06-15</td><td>White</td><td>Not Hispanic or Latino</td><td>Male  </td><td>NA</td><td>NA</td><td>NA</td><td>NA</td><td>⋯</td><td>0</td><td>eur</td><td>[0.0, 0.0, 0.01, 0.99, 0.0, 0.0] </td><td>[0.09828612276613305, 0.12465899985829886, -0.009625498441304989, 0.04319221866281957, 0.0034809501846149436, 0.020772217965413384, 0.022587866667172732, -0.0025827653590480178, -0.0013463895998797055, 6.18717109006189e-05, -0.00013721587795482277, 0.0004617272349225212, 0.00048178264959625617, 0.0007051463209457688, 0.0006071772416190404, 0.0008175721775497601]</td><td>eur</td><td>1.046595</td><td>0</td><td>0.05900267</td><td>1</td><td>1</td></tr>\n",
       "\t<tr><th scope=row>3</th><td>1000059</td><td>Female</td><td>1957-06-15</td><td>White</td><td>Not Hispanic or Latino</td><td>Female</td><td>NA</td><td>NA</td><td>NA</td><td>NA</td><td>⋯</td><td>0</td><td>eur</td><td>[0.0, 0.01, 0.13, 0.86, 0.0, 0.0]</td><td>[0.101364060653216, 0.1291766049697805, -0.003487352584485684, 0.04234351678089891, 0.0016333807427006848, 0.013105682515860003, 0.01422169472775189, -0.0023217384830628747, -0.00035961826126234403, -0.0004943597794948009, 0.0002244860950533817, -0.0020885470549639493, 0.0008466217968905725, -0.0003232616222189869, 0.000462540878276781, -0.00031009614787747556] </td><td>eur</td><td>1.514081</td><td>0</td><td>0.05709059</td><td>1</td><td>3</td></tr>\n",
       "\t<tr><th scope=row>4</th><td>1000061</td><td>Male  </td><td>1964-06-15</td><td>White</td><td>Not Hispanic or Latino</td><td>Male  </td><td>NA</td><td>NA</td><td>NA</td><td>NA</td><td>⋯</td><td>0</td><td>eur</td><td>[0.0, 0.0, 0.0, 1.0, 0.0, 0.0]   </td><td>[0.10085760470722085, 0.13344686833215572, -0.01247018031651587, 0.04666732504335144, 0.00253850443697011, 0.01945622075411456, 0.02179766576627512, -0.004583230443745745, -0.0018777295357035495, 9.14961421253301e-05, -0.0005869645657689797, -0.00029594633893824374, -7.698801346495772e-05, -0.0009725585218240581, 4.105784101860854e-05, -0.0019297644268820905]   </td><td>eur</td><td>1.299118</td><td>0</td><td>0.06786092</td><td>2</td><td>2</td></tr>\n",
       "\t<tr><th scope=row>5</th><td>1000070</td><td>Female</td><td>1947-06-15</td><td>White</td><td>Not Hispanic or Latino</td><td>NA    </td><td>NA</td><td>NA</td><td>NA</td><td>NA</td><td>⋯</td><td>0</td><td>eur</td><td>[0.0, 0.0, 0.01, 0.99, 0.0, 0.0] </td><td>[0.1010393263147634, 0.13358428512510742, -0.011063043591677132, 0.04712044950944926, 0.002319504693865122, 0.01922752410608919, 0.022216058958466, -0.003748165502300085, -0.0025657521254363975, 1.3865934200874865e-06, -0.00021020949498413955, -0.0013742019641753177, -0.00018772228821021888, -0.0005185590865910027, 0.0017962880610356221, 7.307403413525868e-05]  </td><td>eur</td><td>1.299154</td><td>0</td><td>0.06656039</td><td>2</td><td>2</td></tr>\n",
       "\t<tr><th scope=row>6</th><td>1000091</td><td>Female</td><td>1954-06-15</td><td>White</td><td>Not Hispanic or Latino</td><td>Female</td><td>NA</td><td>NA</td><td>NA</td><td>NA</td><td>⋯</td><td>0</td><td>eur</td><td>[0.0, 0.0, 0.0, 1.0, 0.0, 0.0]   </td><td>[0.10106103916383959, 0.1268855692951698, -0.010065741011502836, 0.045756588796433906, 0.0020057961865087128, 0.02550286165517666, 0.033920178430476705, -0.006515419713601444, -0.002493741254014306, -0.0016770435748865204, -0.0006727931152468894, -0.0014279802722304115, 0.000514895662989922, -0.000389921191596582, 3.663271568375134e-05, 0.0005116756058204766]   </td><td>eur</td><td>1.322771</td><td>0</td><td>0.05297797</td><td>1</td><td>2</td></tr>\n",
       "</tbody>\n",
       "</table>\n"
      ],
      "text/latex": [
       "A data.frame: 6 × 853\n",
       "\\begin{tabular}{r|lllllllllllllllllllll}\n",
       "  & person\\_id & gender & date\\_of\\_birth & race & ethnicity & sex\\_at\\_birth & computed\\_gender & chrom & beg\\_GRCh38 & end\\_GRCh38 & ⋯ & lCH & ancestry\\_pred & probabilities & pca\\_features & ancestry\\_pred\\_other & cll\\_prs & mca\\_auto & ltl\\_prs & ltl\\_262\\_coh & cll\\_262\\_coh\\\\\n",
       "  & <dbl> & <chr> & <dttm> & <chr> & <chr> & <chr> & <chr> & <chr> & <int> & <int> & ⋯ & <dbl> & <chr> & <chr> & <chr> & <chr> & <dbl> & <dbl> & <dbl> & <fct> & <fct>\\\\\n",
       "\\hline\n",
       "\t1 & 1000004 & Male   & 1940-06-15 & White & Not Hispanic or Latino & Male   & NA & NA & NA & NA & ⋯ & 0 & eur & {[}0.0, 0.0, 0.01, 0.99, 0.0, 0.0{]}  & {[}0.10051663592874799, 0.1360249193403286, -0.006317042013381508, 0.05224893088407148, 0.003264557482538397, 0.0163363587430276, 0.01602793629214028, -0.0021481362244359097, -0.001438666033873317, 0.0010070149017609809, 0.0014280909874970116, -0.0005128583327644807, 5.042906140389694e-05, -0.0006639144676124135, 0.0008590882820919863, -0.0013159666185546246{]}      & eur & 1.269121 & 0 & 0.07003842 & 2 & 2\\\\\n",
       "\t2 & 1000033 & Male   & 1956-06-15 & White & Not Hispanic or Latino & Male   & NA & NA & NA & NA & ⋯ & 0 & eur & {[}0.0, 0.0, 0.01, 0.99, 0.0, 0.0{]}  & {[}0.09828612276613305, 0.12465899985829886, -0.009625498441304989, 0.04319221866281957, 0.0034809501846149436, 0.020772217965413384, 0.022587866667172732, -0.0025827653590480178, -0.0013463895998797055, 6.18717109006189e-05, -0.00013721587795482277, 0.0004617272349225212, 0.00048178264959625617, 0.0007051463209457688, 0.0006071772416190404, 0.0008175721775497601{]} & eur & 1.046595 & 0 & 0.05900267 & 1 & 1\\\\\n",
       "\t3 & 1000059 & Female & 1957-06-15 & White & Not Hispanic or Latino & Female & NA & NA & NA & NA & ⋯ & 0 & eur & {[}0.0, 0.01, 0.13, 0.86, 0.0, 0.0{]} & {[}0.101364060653216, 0.1291766049697805, -0.003487352584485684, 0.04234351678089891, 0.0016333807427006848, 0.013105682515860003, 0.01422169472775189, -0.0023217384830628747, -0.00035961826126234403, -0.0004943597794948009, 0.0002244860950533817, -0.0020885470549639493, 0.0008466217968905725, -0.0003232616222189869, 0.000462540878276781, -0.00031009614787747556{]}  & eur & 1.514081 & 0 & 0.05709059 & 1 & 3\\\\\n",
       "\t4 & 1000061 & Male   & 1964-06-15 & White & Not Hispanic or Latino & Male   & NA & NA & NA & NA & ⋯ & 0 & eur & {[}0.0, 0.0, 0.0, 1.0, 0.0, 0.0{]}    & {[}0.10085760470722085, 0.13344686833215572, -0.01247018031651587, 0.04666732504335144, 0.00253850443697011, 0.01945622075411456, 0.02179766576627512, -0.004583230443745745, -0.0018777295357035495, 9.14961421253301e-05, -0.0005869645657689797, -0.00029594633893824374, -7.698801346495772e-05, -0.0009725585218240581, 4.105784101860854e-05, -0.0019297644268820905{]}    & eur & 1.299118 & 0 & 0.06786092 & 2 & 2\\\\\n",
       "\t5 & 1000070 & Female & 1947-06-15 & White & Not Hispanic or Latino & NA     & NA & NA & NA & NA & ⋯ & 0 & eur & {[}0.0, 0.0, 0.01, 0.99, 0.0, 0.0{]}  & {[}0.1010393263147634, 0.13358428512510742, -0.011063043591677132, 0.04712044950944926, 0.002319504693865122, 0.01922752410608919, 0.022216058958466, -0.003748165502300085, -0.0025657521254363975, 1.3865934200874865e-06, -0.00021020949498413955, -0.0013742019641753177, -0.00018772228821021888, -0.0005185590865910027, 0.0017962880610356221, 7.307403413525868e-05{]}   & eur & 1.299154 & 0 & 0.06656039 & 2 & 2\\\\\n",
       "\t6 & 1000091 & Female & 1954-06-15 & White & Not Hispanic or Latino & Female & NA & NA & NA & NA & ⋯ & 0 & eur & {[}0.0, 0.0, 0.0, 1.0, 0.0, 0.0{]}    & {[}0.10106103916383959, 0.1268855692951698, -0.010065741011502836, 0.045756588796433906, 0.0020057961865087128, 0.02550286165517666, 0.033920178430476705, -0.006515419713601444, -0.002493741254014306, -0.0016770435748865204, -0.0006727931152468894, -0.0014279802722304115, 0.000514895662989922, -0.000389921191596582, 3.663271568375134e-05, 0.0005116756058204766{]}    & eur & 1.322771 & 0 & 0.05297797 & 1 & 2\\\\\n",
       "\\end{tabular}\n"
      ],
      "text/markdown": [
       "\n",
       "A data.frame: 6 × 853\n",
       "\n",
       "| <!--/--> | person_id &lt;dbl&gt; | gender &lt;chr&gt; | date_of_birth &lt;dttm&gt; | race &lt;chr&gt; | ethnicity &lt;chr&gt; | sex_at_birth &lt;chr&gt; | computed_gender &lt;chr&gt; | chrom &lt;chr&gt; | beg_GRCh38 &lt;int&gt; | end_GRCh38 &lt;int&gt; | ⋯ ⋯ | lCH &lt;dbl&gt; | ancestry_pred &lt;chr&gt; | probabilities &lt;chr&gt; | pca_features &lt;chr&gt; | ancestry_pred_other &lt;chr&gt; | cll_prs &lt;dbl&gt; | mca_auto &lt;dbl&gt; | ltl_prs &lt;dbl&gt; | ltl_262_coh &lt;fct&gt; | cll_262_coh &lt;fct&gt; |\n",
       "|---|---|---|---|---|---|---|---|---|---|---|---|---|---|---|---|---|---|---|---|---|---|\n",
       "| 1 | 1000004 | Male   | 1940-06-15 | White | Not Hispanic or Latino | Male   | NA | NA | NA | NA | ⋯ | 0 | eur | [0.0, 0.0, 0.01, 0.99, 0.0, 0.0]  | [0.10051663592874799, 0.1360249193403286, -0.006317042013381508, 0.05224893088407148, 0.003264557482538397, 0.0163363587430276, 0.01602793629214028, -0.0021481362244359097, -0.001438666033873317, 0.0010070149017609809, 0.0014280909874970116, -0.0005128583327644807, 5.042906140389694e-05, -0.0006639144676124135, 0.0008590882820919863, -0.0013159666185546246]      | eur | 1.269121 | 0 | 0.07003842 | 2 | 2 |\n",
       "| 2 | 1000033 | Male   | 1956-06-15 | White | Not Hispanic or Latino | Male   | NA | NA | NA | NA | ⋯ | 0 | eur | [0.0, 0.0, 0.01, 0.99, 0.0, 0.0]  | [0.09828612276613305, 0.12465899985829886, -0.009625498441304989, 0.04319221866281957, 0.0034809501846149436, 0.020772217965413384, 0.022587866667172732, -0.0025827653590480178, -0.0013463895998797055, 6.18717109006189e-05, -0.00013721587795482277, 0.0004617272349225212, 0.00048178264959625617, 0.0007051463209457688, 0.0006071772416190404, 0.0008175721775497601] | eur | 1.046595 | 0 | 0.05900267 | 1 | 1 |\n",
       "| 3 | 1000059 | Female | 1957-06-15 | White | Not Hispanic or Latino | Female | NA | NA | NA | NA | ⋯ | 0 | eur | [0.0, 0.01, 0.13, 0.86, 0.0, 0.0] | [0.101364060653216, 0.1291766049697805, -0.003487352584485684, 0.04234351678089891, 0.0016333807427006848, 0.013105682515860003, 0.01422169472775189, -0.0023217384830628747, -0.00035961826126234403, -0.0004943597794948009, 0.0002244860950533817, -0.0020885470549639493, 0.0008466217968905725, -0.0003232616222189869, 0.000462540878276781, -0.00031009614787747556]  | eur | 1.514081 | 0 | 0.05709059 | 1 | 3 |\n",
       "| 4 | 1000061 | Male   | 1964-06-15 | White | Not Hispanic or Latino | Male   | NA | NA | NA | NA | ⋯ | 0 | eur | [0.0, 0.0, 0.0, 1.0, 0.0, 0.0]    | [0.10085760470722085, 0.13344686833215572, -0.01247018031651587, 0.04666732504335144, 0.00253850443697011, 0.01945622075411456, 0.02179766576627512, -0.004583230443745745, -0.0018777295357035495, 9.14961421253301e-05, -0.0005869645657689797, -0.00029594633893824374, -7.698801346495772e-05, -0.0009725585218240581, 4.105784101860854e-05, -0.0019297644268820905]    | eur | 1.299118 | 0 | 0.06786092 | 2 | 2 |\n",
       "| 5 | 1000070 | Female | 1947-06-15 | White | Not Hispanic or Latino | NA     | NA | NA | NA | NA | ⋯ | 0 | eur | [0.0, 0.0, 0.01, 0.99, 0.0, 0.0]  | [0.1010393263147634, 0.13358428512510742, -0.011063043591677132, 0.04712044950944926, 0.002319504693865122, 0.01922752410608919, 0.022216058958466, -0.003748165502300085, -0.0025657521254363975, 1.3865934200874865e-06, -0.00021020949498413955, -0.0013742019641753177, -0.00018772228821021888, -0.0005185590865910027, 0.0017962880610356221, 7.307403413525868e-05]   | eur | 1.299154 | 0 | 0.06656039 | 2 | 2 |\n",
       "| 6 | 1000091 | Female | 1954-06-15 | White | Not Hispanic or Latino | Female | NA | NA | NA | NA | ⋯ | 0 | eur | [0.0, 0.0, 0.0, 1.0, 0.0, 0.0]    | [0.10106103916383959, 0.1268855692951698, -0.010065741011502836, 0.045756588796433906, 0.0020057961865087128, 0.02550286165517666, 0.033920178430476705, -0.006515419713601444, -0.002493741254014306, -0.0016770435748865204, -0.0006727931152468894, -0.0014279802722304115, 0.000514895662989922, -0.000389921191596582, 3.663271568375134e-05, 0.0005116756058204766]    | eur | 1.322771 | 0 | 0.05297797 | 1 | 2 |\n",
       "\n"
      ],
      "text/plain": [
       "  person_id gender date_of_birth race  ethnicity              sex_at_birth\n",
       "1 1000004   Male   1940-06-15    White Not Hispanic or Latino Male        \n",
       "2 1000033   Male   1956-06-15    White Not Hispanic or Latino Male        \n",
       "3 1000059   Female 1957-06-15    White Not Hispanic or Latino Female      \n",
       "4 1000061   Male   1964-06-15    White Not Hispanic or Latino Male        \n",
       "5 1000070   Female 1947-06-15    White Not Hispanic or Latino NA          \n",
       "6 1000091   Female 1954-06-15    White Not Hispanic or Latino Female      \n",
       "  computed_gender chrom beg_GRCh38 end_GRCh38 ⋯ lCH ancestry_pred\n",
       "1 NA              NA    NA         NA         ⋯ 0   eur          \n",
       "2 NA              NA    NA         NA         ⋯ 0   eur          \n",
       "3 NA              NA    NA         NA         ⋯ 0   eur          \n",
       "4 NA              NA    NA         NA         ⋯ 0   eur          \n",
       "5 NA              NA    NA         NA         ⋯ 0   eur          \n",
       "6 NA              NA    NA         NA         ⋯ 0   eur          \n",
       "  probabilities                    \n",
       "1 [0.0, 0.0, 0.01, 0.99, 0.0, 0.0] \n",
       "2 [0.0, 0.0, 0.01, 0.99, 0.0, 0.0] \n",
       "3 [0.0, 0.01, 0.13, 0.86, 0.0, 0.0]\n",
       "4 [0.0, 0.0, 0.0, 1.0, 0.0, 0.0]   \n",
       "5 [0.0, 0.0, 0.01, 0.99, 0.0, 0.0] \n",
       "6 [0.0, 0.0, 0.0, 1.0, 0.0, 0.0]   \n",
       "  pca_features                                                                                                                                                                                                                                                                                                                                                                \n",
       "1 [0.10051663592874799, 0.1360249193403286, -0.006317042013381508, 0.05224893088407148, 0.003264557482538397, 0.0163363587430276, 0.01602793629214028, -0.0021481362244359097, -0.001438666033873317, 0.0010070149017609809, 0.0014280909874970116, -0.0005128583327644807, 5.042906140389694e-05, -0.0006639144676124135, 0.0008590882820919863, -0.0013159666185546246]     \n",
       "2 [0.09828612276613305, 0.12465899985829886, -0.009625498441304989, 0.04319221866281957, 0.0034809501846149436, 0.020772217965413384, 0.022587866667172732, -0.0025827653590480178, -0.0013463895998797055, 6.18717109006189e-05, -0.00013721587795482277, 0.0004617272349225212, 0.00048178264959625617, 0.0007051463209457688, 0.0006071772416190404, 0.0008175721775497601]\n",
       "3 [0.101364060653216, 0.1291766049697805, -0.003487352584485684, 0.04234351678089891, 0.0016333807427006848, 0.013105682515860003, 0.01422169472775189, -0.0023217384830628747, -0.00035961826126234403, -0.0004943597794948009, 0.0002244860950533817, -0.0020885470549639493, 0.0008466217968905725, -0.0003232616222189869, 0.000462540878276781, -0.00031009614787747556] \n",
       "4 [0.10085760470722085, 0.13344686833215572, -0.01247018031651587, 0.04666732504335144, 0.00253850443697011, 0.01945622075411456, 0.02179766576627512, -0.004583230443745745, -0.0018777295357035495, 9.14961421253301e-05, -0.0005869645657689797, -0.00029594633893824374, -7.698801346495772e-05, -0.0009725585218240581, 4.105784101860854e-05, -0.0019297644268820905]   \n",
       "5 [0.1010393263147634, 0.13358428512510742, -0.011063043591677132, 0.04712044950944926, 0.002319504693865122, 0.01922752410608919, 0.022216058958466, -0.003748165502300085, -0.0025657521254363975, 1.3865934200874865e-06, -0.00021020949498413955, -0.0013742019641753177, -0.00018772228821021888, -0.0005185590865910027, 0.0017962880610356221, 7.307403413525868e-05]  \n",
       "6 [0.10106103916383959, 0.1268855692951698, -0.010065741011502836, 0.045756588796433906, 0.0020057961865087128, 0.02550286165517666, 0.033920178430476705, -0.006515419713601444, -0.002493741254014306, -0.0016770435748865204, -0.0006727931152468894, -0.0014279802722304115, 0.000514895662989922, -0.000389921191596582, 3.663271568375134e-05, 0.0005116756058204766]   \n",
       "  ancestry_pred_other cll_prs  mca_auto ltl_prs    ltl_262_coh cll_262_coh\n",
       "1 eur                 1.269121 0        0.07003842 2           2          \n",
       "2 eur                 1.046595 0        0.05900267 1           1          \n",
       "3 eur                 1.514081 0        0.05709059 1           3          \n",
       "4 eur                 1.299118 0        0.06786092 2           2          \n",
       "5 eur                 1.299154 0        0.06656039 2           2          \n",
       "6 eur                 1.322771 0        0.05297797 1           2          "
      ]
     },
     "metadata": {},
     "output_type": "display_data"
    }
   ],
   "source": [
    "head(data_all_pheno_cox2)"
   ]
  },
  {
   "cell_type": "code",
   "execution_count": 53,
   "id": "a380e4aa",
   "metadata": {},
   "outputs": [],
   "source": [
    "AoU_mCA_clean <- data_all_pheno_cox2[,c(\"person_id\", \"age\", \"age_squ\", \"sex_at_birth\", \"smoking\", \"cll_prs\", \"ltl_prs\",\n",
    "                                       \"cll_262_coh\", \"ltl_262_coh\", \"mca_auto\", \"cf_cat\", \"cf_max\",\"chrom\", \"mca_highrisk\",\n",
    "                                       \"p_arm\",\"q_arm\",\"type\",\"cll\")]"
   ]
  },
  {
   "cell_type": "code",
   "execution_count": 54,
   "id": "0df52d10",
   "metadata": {},
   "outputs": [
    {
     "data": {
      "text/html": [
       "<style>\n",
       ".list-inline {list-style: none; margin:0; padding: 0}\n",
       ".list-inline>li {display: inline-block}\n",
       ".list-inline>li:not(:last-child)::after {content: \"\\00b7\"; padding: 0 .5ex}\n",
       "</style>\n",
       "<ol class=list-inline><li>'age2'</li><li>'baseline_age'</li><li>'cf_cat'</li><li>'cf_max'</li><li>'chrom'</li><li>'cll'</li><li>'cll_262_coh'</li><li>'cll_prs'</li><li>'eversmoked_0'</li><li>'genetic_sex'</li><li>'ID_VUMC'</li><li>'ltl_262_coh'</li><li>'ltl_prs'</li><li>'mca_highrisk'</li><li>'mca_status'</li><li>'p_arm'</li><li>'PC1'</li><li>'PC10'</li><li>'PC2'</li><li>'PC3'</li><li>'PC5'</li><li>'PC6'</li><li>'PC7'</li><li>'PC8'</li><li>'PC9'</li><li>'PCD4'</li><li>'q_arm'</li><li>'smoking_0'</li><li>'survial_cll'</li><li>'type'</li></ol>\n"
      ],
      "text/latex": [
       "\\begin{enumerate*}\n",
       "\\item 'age2'\n",
       "\\item 'baseline\\_age'\n",
       "\\item 'cf\\_cat'\n",
       "\\item 'cf\\_max'\n",
       "\\item 'chrom'\n",
       "\\item 'cll'\n",
       "\\item 'cll\\_262\\_coh'\n",
       "\\item 'cll\\_prs'\n",
       "\\item 'eversmoked\\_0'\n",
       "\\item 'genetic\\_sex'\n",
       "\\item 'ID\\_VUMC'\n",
       "\\item 'ltl\\_262\\_coh'\n",
       "\\item 'ltl\\_prs'\n",
       "\\item 'mca\\_highrisk'\n",
       "\\item 'mca\\_status'\n",
       "\\item 'p\\_arm'\n",
       "\\item 'PC1'\n",
       "\\item 'PC10'\n",
       "\\item 'PC2'\n",
       "\\item 'PC3'\n",
       "\\item 'PC5'\n",
       "\\item 'PC6'\n",
       "\\item 'PC7'\n",
       "\\item 'PC8'\n",
       "\\item 'PC9'\n",
       "\\item 'PCD4'\n",
       "\\item 'q\\_arm'\n",
       "\\item 'smoking\\_0'\n",
       "\\item 'survial\\_cll'\n",
       "\\item 'type'\n",
       "\\end{enumerate*}\n"
      ],
      "text/markdown": [
       "1. 'age2'\n",
       "2. 'baseline_age'\n",
       "3. 'cf_cat'\n",
       "4. 'cf_max'\n",
       "5. 'chrom'\n",
       "6. 'cll'\n",
       "7. 'cll_262_coh'\n",
       "8. 'cll_prs'\n",
       "9. 'eversmoked_0'\n",
       "10. 'genetic_sex'\n",
       "11. 'ID_VUMC'\n",
       "12. 'ltl_262_coh'\n",
       "13. 'ltl_prs'\n",
       "14. 'mca_highrisk'\n",
       "15. 'mca_status'\n",
       "16. 'p_arm'\n",
       "17. 'PC1'\n",
       "18. 'PC10'\n",
       "19. 'PC2'\n",
       "20. 'PC3'\n",
       "21. 'PC5'\n",
       "22. 'PC6'\n",
       "23. 'PC7'\n",
       "24. 'PC8'\n",
       "25. 'PC9'\n",
       "26. 'PCD4'\n",
       "27. 'q_arm'\n",
       "28. 'smoking_0'\n",
       "29. 'survial_cll'\n",
       "30. 'type'\n",
       "\n",
       "\n"
      ],
      "text/plain": [
       " [1] \"age2\"         \"baseline_age\" \"cf_cat\"       \"cf_max\"       \"chrom\"       \n",
       " [6] \"cll\"          \"cll_262_coh\"  \"cll_prs\"      \"eversmoked_0\" \"genetic_sex\" \n",
       "[11] \"ID_VUMC\"      \"ltl_262_coh\"  \"ltl_prs\"      \"mca_highrisk\" \"mca_status\"  \n",
       "[16] \"p_arm\"        \"PC1\"          \"PC10\"         \"PC2\"          \"PC3\"         \n",
       "[21] \"PC5\"          \"PC6\"          \"PC7\"          \"PC8\"          \"PC9\"         \n",
       "[26] \"PCD4\"         \"q_arm\"        \"smoking_0\"    \"survial_cll\"  \"type\"        "
      ]
     },
     "metadata": {},
     "output_type": "display_data"
    }
   ],
   "source": [
    "ls(UKB_mCA_clean)"
   ]
  },
  {
   "cell_type": "code",
   "execution_count": 55,
   "id": "c038b545",
   "metadata": {},
   "outputs": [],
   "source": [
    "UKB_mCA_clean2 <- UKB_mCA_clean[,c(\"ID_VUMC\", \"baseline_age\", \"age2\", \"genetic_sex\",\"eversmoked_0\",\"cll_prs\", \"ltl_prs\",\n",
    "                                 \"cll_262_coh\", \"ltl_262_coh\", \"mca_status\", \"cf_cat\", \"cf_max\",\"chrom\", \"mca_highrisk\",\n",
    "                                 \"p_arm\",\"q_arm\",\"type\",\"cll\")]"
   ]
  },
  {
   "cell_type": "code",
   "execution_count": 56,
   "id": "2d6a4479",
   "metadata": {},
   "outputs": [],
   "source": [
    "names(UKB_mCA_clean2)[1] <- \"person_id\"\n",
    "names(UKB_mCA_clean2)[2] <- \"age\"\n",
    "names(UKB_mCA_clean2)[3] <- \"age_squ\"\n",
    "names(UKB_mCA_clean2)[4] <- \"sex_at_birth\"\n",
    "names(UKB_mCA_clean2)[5] <- \"smoking\"\n",
    "names(UKB_mCA_clean2)[10] <- \"mca_auto\""
   ]
  },
  {
   "cell_type": "code",
   "execution_count": 57,
   "id": "40b4f94e",
   "metadata": {},
   "outputs": [
    {
     "data": {
      "text/html": [
       "<style>\n",
       ".list-inline {list-style: none; margin:0; padding: 0}\n",
       ".list-inline>li {display: inline-block}\n",
       ".list-inline>li:not(:last-child)::after {content: \"\\00b7\"; padding: 0 .5ex}\n",
       "</style>\n",
       "<ol class=list-inline><li>'age'</li><li>'age_squ'</li><li>'cf_cat'</li><li>'cf_max'</li><li>'chrom'</li><li>'cll'</li><li>'cll_262_coh'</li><li>'cll_prs'</li><li>'ltl_262_coh'</li><li>'ltl_prs'</li><li>'mca_auto'</li><li>'mca_highrisk'</li><li>'p_arm'</li><li>'person_id'</li><li>'q_arm'</li><li>'sex_at_birth'</li><li>'smoking'</li><li>'type'</li></ol>\n"
      ],
      "text/latex": [
       "\\begin{enumerate*}\n",
       "\\item 'age'\n",
       "\\item 'age\\_squ'\n",
       "\\item 'cf\\_cat'\n",
       "\\item 'cf\\_max'\n",
       "\\item 'chrom'\n",
       "\\item 'cll'\n",
       "\\item 'cll\\_262\\_coh'\n",
       "\\item 'cll\\_prs'\n",
       "\\item 'ltl\\_262\\_coh'\n",
       "\\item 'ltl\\_prs'\n",
       "\\item 'mca\\_auto'\n",
       "\\item 'mca\\_highrisk'\n",
       "\\item 'p\\_arm'\n",
       "\\item 'person\\_id'\n",
       "\\item 'q\\_arm'\n",
       "\\item 'sex\\_at\\_birth'\n",
       "\\item 'smoking'\n",
       "\\item 'type'\n",
       "\\end{enumerate*}\n"
      ],
      "text/markdown": [
       "1. 'age'\n",
       "2. 'age_squ'\n",
       "3. 'cf_cat'\n",
       "4. 'cf_max'\n",
       "5. 'chrom'\n",
       "6. 'cll'\n",
       "7. 'cll_262_coh'\n",
       "8. 'cll_prs'\n",
       "9. 'ltl_262_coh'\n",
       "10. 'ltl_prs'\n",
       "11. 'mca_auto'\n",
       "12. 'mca_highrisk'\n",
       "13. 'p_arm'\n",
       "14. 'person_id'\n",
       "15. 'q_arm'\n",
       "16. 'sex_at_birth'\n",
       "17. 'smoking'\n",
       "18. 'type'\n",
       "\n",
       "\n"
      ],
      "text/plain": [
       " [1] \"age\"          \"age_squ\"      \"cf_cat\"       \"cf_max\"       \"chrom\"       \n",
       " [6] \"cll\"          \"cll_262_coh\"  \"cll_prs\"      \"ltl_262_coh\"  \"ltl_prs\"     \n",
       "[11] \"mca_auto\"     \"mca_highrisk\" \"p_arm\"        \"person_id\"    \"q_arm\"       \n",
       "[16] \"sex_at_birth\" \"smoking\"      \"type\"        "
      ]
     },
     "metadata": {},
     "output_type": "display_data"
    },
    {
     "data": {
      "text/html": [
       "<style>\n",
       ".list-inline {list-style: none; margin:0; padding: 0}\n",
       ".list-inline>li {display: inline-block}\n",
       ".list-inline>li:not(:last-child)::after {content: \"\\00b7\"; padding: 0 .5ex}\n",
       "</style>\n",
       "<ol class=list-inline><li>'age'</li><li>'age_squ'</li><li>'cf_cat'</li><li>'cf_max'</li><li>'chrom'</li><li>'cll'</li><li>'cll_262_coh'</li><li>'cll_prs'</li><li>'ltl_262_coh'</li><li>'ltl_prs'</li><li>'mca_auto'</li><li>'mca_highrisk'</li><li>'p_arm'</li><li>'person_id'</li><li>'q_arm'</li><li>'sex_at_birth'</li><li>'smoking'</li><li>'type'</li></ol>\n"
      ],
      "text/latex": [
       "\\begin{enumerate*}\n",
       "\\item 'age'\n",
       "\\item 'age\\_squ'\n",
       "\\item 'cf\\_cat'\n",
       "\\item 'cf\\_max'\n",
       "\\item 'chrom'\n",
       "\\item 'cll'\n",
       "\\item 'cll\\_262\\_coh'\n",
       "\\item 'cll\\_prs'\n",
       "\\item 'ltl\\_262\\_coh'\n",
       "\\item 'ltl\\_prs'\n",
       "\\item 'mca\\_auto'\n",
       "\\item 'mca\\_highrisk'\n",
       "\\item 'p\\_arm'\n",
       "\\item 'person\\_id'\n",
       "\\item 'q\\_arm'\n",
       "\\item 'sex\\_at\\_birth'\n",
       "\\item 'smoking'\n",
       "\\item 'type'\n",
       "\\end{enumerate*}\n"
      ],
      "text/markdown": [
       "1. 'age'\n",
       "2. 'age_squ'\n",
       "3. 'cf_cat'\n",
       "4. 'cf_max'\n",
       "5. 'chrom'\n",
       "6. 'cll'\n",
       "7. 'cll_262_coh'\n",
       "8. 'cll_prs'\n",
       "9. 'ltl_262_coh'\n",
       "10. 'ltl_prs'\n",
       "11. 'mca_auto'\n",
       "12. 'mca_highrisk'\n",
       "13. 'p_arm'\n",
       "14. 'person_id'\n",
       "15. 'q_arm'\n",
       "16. 'sex_at_birth'\n",
       "17. 'smoking'\n",
       "18. 'type'\n",
       "\n",
       "\n"
      ],
      "text/plain": [
       " [1] \"age\"          \"age_squ\"      \"cf_cat\"       \"cf_max\"       \"chrom\"       \n",
       " [6] \"cll\"          \"cll_262_coh\"  \"cll_prs\"      \"ltl_262_coh\"  \"ltl_prs\"     \n",
       "[11] \"mca_auto\"     \"mca_highrisk\" \"p_arm\"        \"person_id\"    \"q_arm\"       \n",
       "[16] \"sex_at_birth\" \"smoking\"      \"type\"        "
      ]
     },
     "metadata": {},
     "output_type": "display_data"
    }
   ],
   "source": [
    "ls(UKB_mCA_clean2)\n",
    "ls(AoU_mCA_clean)"
   ]
  },
  {
   "cell_type": "code",
   "execution_count": 58,
   "id": "7bd9e377",
   "metadata": {},
   "outputs": [
    {
     "data": {
      "text/plain": [
       "\n",
       "     0      1   <NA> \n",
       "264166 222905      0 "
      ]
     },
     "metadata": {},
     "output_type": "display_data"
    },
    {
     "data": {
      "text/plain": [
       "\n",
       "  Female Intersex     Male     <NA> \n",
       "   58368       15    42147     2273 "
      ]
     },
     "metadata": {},
     "output_type": "display_data"
    },
    {
     "data": {
      "text/plain": [
       "\n",
       "     0      1   <NA> \n",
       "194649 289981   2441 "
      ]
     },
     "metadata": {},
     "output_type": "display_data"
    },
    {
     "data": {
      "text/plain": [
       "\n",
       "            No PMI: Dont Know            Yes           <NA> \n",
       "         54860            997          45584           1362 "
      ]
     },
     "metadata": {},
     "output_type": "display_data"
    }
   ],
   "source": [
    "table(UKB_mCA_clean2$sex_at_birth, useNA = 'always')\n",
    "table(AoU_mCA_clean$sex_at_birth, useNA = 'always')\n",
    "\n",
    "table(UKB_mCA_clean2$smoking, useNA = 'always')\n",
    "table(AoU_mCA_clean$smoking, useNA = 'always')"
   ]
  },
  {
   "cell_type": "code",
   "execution_count": 59,
   "id": "c0fcc399",
   "metadata": {},
   "outputs": [
    {
     "data": {
      "text/plain": [
       "\n",
       "Female   Male \n",
       "264166 222905 "
      ]
     },
     "metadata": {},
     "output_type": "display_data"
    },
    {
     "data": {
      "text/plain": [
       "\n",
       "    No    Yes \n",
       "194649 289981 "
      ]
     },
     "metadata": {},
     "output_type": "display_data"
    }
   ],
   "source": [
    "UKB_mCA_clean2$sex_at_birth <- ifelse(UKB_mCA_clean2$sex_at_birth == 1, \"Male\", \"Female\")\n",
    "table(UKB_mCA_clean2$sex_at_birth)\n",
    "\n",
    "UKB_mCA_clean2$smoking <- ifelse(UKB_mCA_clean2$smoking == 1, \"Yes\", \"No\")\n",
    "table(UKB_mCA_clean2$smoking)"
   ]
  },
  {
   "cell_type": "code",
   "execution_count": 60,
   "id": "65dc1d66",
   "metadata": {},
   "outputs": [
    {
     "data": {
      "text/plain": [
       "\n",
       "     0      1      2   <NA> \n",
       "472527  10358   4186      0 "
      ]
     },
     "metadata": {},
     "output_type": "display_data"
    },
    {
     "data": {
      "text/plain": [
       "\n",
       "     0      1      2   <NA> \n",
       "472009   1906  13156      0 "
      ]
     },
     "metadata": {},
     "output_type": "display_data"
    },
    {
     "data": {
      "text/plain": [
       "\n",
       "     0      1      2   <NA> \n",
       "472527  10358   4186      0 "
      ]
     },
     "metadata": {},
     "output_type": "display_data"
    },
    {
     "data": {
      "text/plain": [
       "\n",
       "     0      1      2   <NA> \n",
       "472009   1906  13156      0 "
      ]
     },
     "metadata": {},
     "output_type": "display_data"
    }
   ],
   "source": [
    "table(UKB_mCA_clean2$cf_cat, useNA = \"always\")\n",
    "table(UKB_mCA_clean2$mca_highrisk, useNA = \"always\")\n",
    "UKB_mCA_clean2$cf_cat <- ifelse(is.na(UKB_mCA_clean2$cf_cat),0,UKB_mCA_clean2$cf_cat)\n",
    "UKB_mCA_clean2$mca_highrisk <- ifelse(is.na(UKB_mCA_clean2$mca_highrisk),0,UKB_mCA_clean2$mca_highrisk)\n",
    "table(UKB_mCA_clean2$cf_cat, useNA = \"always\")\n",
    "table(UKB_mCA_clean2$mca_highrisk, useNA = \"always\")"
   ]
  },
  {
   "cell_type": "code",
   "execution_count": 61,
   "id": "d4d201d6",
   "metadata": {
    "scrolled": true
   },
   "outputs": [
    {
     "data": {
      "text/html": [
       "<table class=\"dataframe\">\n",
       "<caption>A data.table: 487071 × 18</caption>\n",
       "<thead>\n",
       "\t<tr><th scope=col>person_id</th><th scope=col>age</th><th scope=col>age_squ</th><th scope=col>sex_at_birth</th><th scope=col>smoking</th><th scope=col>cll_prs</th><th scope=col>ltl_prs</th><th scope=col>cll_262_coh</th><th scope=col>ltl_262_coh</th><th scope=col>mca_auto</th><th scope=col>cf_cat</th><th scope=col>cf_max</th><th scope=col>chrom</th><th scope=col>mca_highrisk</th><th scope=col>p_arm</th><th scope=col>q_arm</th><th scope=col>type</th><th scope=col>cll</th></tr>\n",
       "\t<tr><th scope=col>&lt;int&gt;</th><th scope=col>&lt;int&gt;</th><th scope=col>&lt;int&gt;</th><th scope=col>&lt;chr&gt;</th><th scope=col>&lt;chr&gt;</th><th scope=col>&lt;dbl&gt;</th><th scope=col>&lt;dbl&gt;</th><th scope=col>&lt;fct&gt;</th><th scope=col>&lt;fct&gt;</th><th scope=col>&lt;dbl&gt;</th><th scope=col>&lt;fct&gt;</th><th scope=col>&lt;dbl&gt;</th><th scope=col>&lt;chr&gt;</th><th scope=col>&lt;fct&gt;</th><th scope=col>&lt;chr&gt;</th><th scope=col>&lt;chr&gt;</th><th scope=col>&lt;chr&gt;</th><th scope=col>&lt;dbl&gt;</th></tr>\n",
       "</thead>\n",
       "<tbody>\n",
       "\t<tr><td>1000013</td><td>48</td><td>2304</td><td>Female</td><td>No </td><td>1.142505</td><td>-0.009114790</td><td>1</td><td>2</td><td>0</td><td>0</td><td>   NA</td><td>NA   </td><td>0</td><td>NA</td><td>NA</td><td>NA          </td><td>0</td></tr>\n",
       "\t<tr><td>1000024</td><td>54</td><td>2916</td><td>Female</td><td>Yes</td><td>1.365924</td><td>-0.048422140</td><td>2</td><td>1</td><td>0</td><td>0</td><td>   NA</td><td>NA   </td><td>0</td><td>NA</td><td>NA</td><td>NA          </td><td>0</td></tr>\n",
       "\t<tr><td>1000036</td><td>67</td><td>4489</td><td>Male  </td><td>No </td><td>1.520083</td><td>-0.034286250</td><td>2</td><td>1</td><td>0</td><td>0</td><td>   NA</td><td>NA   </td><td>0</td><td>NA</td><td>NA</td><td>NA          </td><td>0</td></tr>\n",
       "\t<tr><td>1000048</td><td>60</td><td>3600</td><td>Female</td><td>Yes</td><td>1.669113</td><td>-0.011578300</td><td>3</td><td>2</td><td>0</td><td>0</td><td>   NA</td><td>NA   </td><td>0</td><td>NA</td><td>NA</td><td>NA          </td><td>0</td></tr>\n",
       "\t<tr><td>1000055</td><td>40</td><td>1600</td><td>Male  </td><td>No </td><td>1.235437</td><td>-0.015263113</td><td>1</td><td>2</td><td>0</td><td>0</td><td>   NA</td><td>NA   </td><td>0</td><td>NA</td><td>NA</td><td>NA          </td><td>0</td></tr>\n",
       "\t<tr><td>1000067</td><td>64</td><td>4096</td><td>Female</td><td>No </td><td>1.159228</td><td>-0.021568793</td><td>1</td><td>2</td><td>0</td><td>0</td><td>   NA</td><td>NA   </td><td>0</td><td>NA</td><td>NA</td><td>NA          </td><td>0</td></tr>\n",
       "\t<tr><td>1000072</td><td>54</td><td>2916</td><td>Male  </td><td>No </td><td>1.915532</td><td>-0.021272490</td><td>3</td><td>2</td><td>0</td><td>0</td><td>   NA</td><td>NA   </td><td>0</td><td>NA</td><td>NA</td><td>NA          </td><td>0</td></tr>\n",
       "\t<tr><td>1000080</td><td>49</td><td>2401</td><td>Male  </td><td>Yes</td><td>1.352047</td><td>-0.003704730</td><td>2</td><td>2</td><td>0</td><td>0</td><td>   NA</td><td>NA   </td><td>0</td><td>NA</td><td>NA</td><td>NA          </td><td>0</td></tr>\n",
       "\t<tr><td>1000099</td><td>58</td><td>3364</td><td>Male  </td><td>Yes</td><td>1.686992</td><td>-0.027113390</td><td>3</td><td>1</td><td>0</td><td>0</td><td>   NA</td><td>NA   </td><td>0</td><td>NA</td><td>NA</td><td>NA          </td><td>0</td></tr>\n",
       "\t<tr><td>1000106</td><td>42</td><td>1764</td><td>Female</td><td>Yes</td><td>1.475761</td><td>-0.000256200</td><td>2</td><td>2</td><td>0</td><td>0</td><td>   NA</td><td>NA   </td><td>0</td><td>NA</td><td>NA</td><td>NA          </td><td>0</td></tr>\n",
       "\t<tr><td>1000114</td><td>43</td><td>1849</td><td>Male  </td><td>No </td><td>1.727055</td><td>-0.015734760</td><td>3</td><td>2</td><td>0</td><td>0</td><td>   NA</td><td>NA   </td><td>0</td><td>NA</td><td>NA</td><td>NA          </td><td>0</td></tr>\n",
       "\t<tr><td>1000123</td><td>64</td><td>4096</td><td>Male  </td><td>Yes</td><td>1.612589</td><td> 0.006438262</td><td>2</td><td>3</td><td>1</td><td>1</td><td>0.077</td><td>chr19</td><td>2</td><td>N </td><td>T </td><td>Undetermined</td><td>0</td></tr>\n",
       "\t<tr><td>1000131</td><td>57</td><td>3249</td><td>Male  </td><td>Yes</td><td>1.395898</td><td>-0.008145320</td><td>2</td><td>2</td><td>0</td><td>0</td><td>   NA</td><td>NA   </td><td>0</td><td>NA</td><td>NA</td><td>NA          </td><td>0</td></tr>\n",
       "\t<tr><td>1000140</td><td>48</td><td>2304</td><td>Female</td><td>No </td><td>1.334920</td><td>-0.032876348</td><td>2</td><td>1</td><td>0</td><td>0</td><td>   NA</td><td>NA   </td><td>0</td><td>NA</td><td>NA</td><td>NA          </td><td>0</td></tr>\n",
       "\t<tr><td>1000157</td><td>64</td><td>4096</td><td>Female</td><td>No </td><td>1.585097</td><td> 0.002202860</td><td>2</td><td>2</td><td>0</td><td>0</td><td>   NA</td><td>NA   </td><td>0</td><td>NA</td><td>NA</td><td>NA          </td><td>0</td></tr>\n",
       "\t<tr><td>1000165</td><td>64</td><td>4096</td><td>Female</td><td>No </td><td>1.777829</td><td>-0.026820388</td><td>3</td><td>1</td><td>0</td><td>0</td><td>   NA</td><td>NA   </td><td>0</td><td>NA</td><td>NA</td><td>NA          </td><td>0</td></tr>\n",
       "\t<tr><td>1000179</td><td>64</td><td>4096</td><td>Female</td><td>Yes</td><td>1.701367</td><td>-0.004466590</td><td>3</td><td>2</td><td>0</td><td>0</td><td>   NA</td><td>NA   </td><td>0</td><td>NA</td><td>NA</td><td>NA          </td><td>0</td></tr>\n",
       "\t<tr><td>1000188</td><td>65</td><td>4225</td><td>Male  </td><td>Yes</td><td>1.459902</td><td>-0.001325840</td><td>2</td><td>2</td><td>0</td><td>0</td><td>   NA</td><td>NA   </td><td>0</td><td>NA</td><td>NA</td><td>NA          </td><td>0</td></tr>\n",
       "\t<tr><td>1000192</td><td>57</td><td>3249</td><td>Female</td><td>Yes</td><td>1.329569</td><td>-0.033985270</td><td>2</td><td>1</td><td>0</td><td>0</td><td>   NA</td><td>NA   </td><td>0</td><td>NA</td><td>NA</td><td>NA          </td><td>0</td></tr>\n",
       "\t<tr><td>1000207</td><td>66</td><td>4356</td><td>Female</td><td>Yes</td><td>1.566201</td><td>-0.023885730</td><td>2</td><td>2</td><td>0</td><td>0</td><td>   NA</td><td>NA   </td><td>0</td><td>NA</td><td>NA</td><td>NA          </td><td>0</td></tr>\n",
       "\t<tr><td>1000219</td><td>66</td><td>4356</td><td>Female</td><td>No </td><td>1.377849</td><td>-0.010326590</td><td>2</td><td>2</td><td>0</td><td>0</td><td>   NA</td><td>NA   </td><td>0</td><td>NA</td><td>NA</td><td>NA          </td><td>0</td></tr>\n",
       "\t<tr><td>1000225</td><td>49</td><td>2401</td><td>Male  </td><td>No </td><td>1.299359</td><td>-0.016036085</td><td>1</td><td>2</td><td>0</td><td>0</td><td>   NA</td><td>NA   </td><td>0</td><td>NA</td><td>NA</td><td>NA          </td><td>0</td></tr>\n",
       "\t<tr><td>1000238</td><td>61</td><td>3721</td><td>Male  </td><td>Yes</td><td>1.570405</td><td>-0.008104350</td><td>2</td><td>2</td><td>0</td><td>0</td><td>   NA</td><td>NA   </td><td>0</td><td>NA</td><td>NA</td><td>NA          </td><td>0</td></tr>\n",
       "\t<tr><td>1000242</td><td>44</td><td>1936</td><td>Male  </td><td>Yes</td><td>1.353238</td><td>-0.012458130</td><td>2</td><td>2</td><td>0</td><td>0</td><td>   NA</td><td>NA   </td><td>0</td><td>NA</td><td>NA</td><td>NA          </td><td>0</td></tr>\n",
       "\t<tr><td>1000256</td><td>55</td><td>3025</td><td>Female</td><td>Yes</td><td>1.737987</td><td>-0.004229190</td><td>3</td><td>2</td><td>0</td><td>0</td><td>   NA</td><td>NA   </td><td>0</td><td>NA</td><td>NA</td><td>NA          </td><td>0</td></tr>\n",
       "\t<tr><td>1000263</td><td>48</td><td>2304</td><td>Female</td><td>Yes</td><td>1.490662</td><td> 0.003304697</td><td>2</td><td>2</td><td>0</td><td>0</td><td>   NA</td><td>NA   </td><td>0</td><td>NA</td><td>NA</td><td>NA          </td><td>0</td></tr>\n",
       "\t<tr><td>1000274</td><td>62</td><td>3844</td><td>Female</td><td>Yes</td><td>1.210703</td><td>-0.025498130</td><td>1</td><td>2</td><td>0</td><td>0</td><td>   NA</td><td>NA   </td><td>0</td><td>NA</td><td>NA</td><td>NA          </td><td>0</td></tr>\n",
       "\t<tr><td>1000281</td><td>57</td><td>3249</td><td>Female</td><td>No </td><td>1.531858</td><td>-0.003096880</td><td>2</td><td>2</td><td>0</td><td>0</td><td>   NA</td><td>NA   </td><td>0</td><td>NA</td><td>NA</td><td>NA          </td><td>0</td></tr>\n",
       "\t<tr><td>1000290</td><td>69</td><td>4761</td><td>Female</td><td>Yes</td><td>1.758791</td><td> 0.024574048</td><td>3</td><td>3</td><td>0</td><td>0</td><td>   NA</td><td>NA   </td><td>0</td><td>NA</td><td>NA</td><td>NA          </td><td>0</td></tr>\n",
       "\t<tr><td>1000305</td><td>46</td><td>2116</td><td>Female</td><td>Yes</td><td>1.643584</td><td> 0.024173190</td><td>3</td><td>3</td><td>0</td><td>0</td><td>   NA</td><td>NA   </td><td>0</td><td>NA</td><td>NA</td><td>NA          </td><td>0</td></tr>\n",
       "\t<tr><td>⋮</td><td>⋮</td><td>⋮</td><td>⋮</td><td>⋮</td><td>⋮</td><td>⋮</td><td>⋮</td><td>⋮</td><td>⋮</td><td>⋮</td><td>⋮</td><td>⋮</td><td>⋮</td><td>⋮</td><td>⋮</td><td>⋮</td><td>⋮</td></tr>\n",
       "\t<tr><td>6024501</td><td>58</td><td>3364</td><td>Male  </td><td>Yes</td><td>1.6856982</td><td>-0.034345230</td><td>3</td><td>1</td><td>0</td><td>0</td><td>    NA</td><td>NA   </td><td>0</td><td>NA</td><td>NA</td><td>NA  </td><td>0</td></tr>\n",
       "\t<tr><td>6024513</td><td>69</td><td>4761</td><td>Male  </td><td>Yes</td><td>1.8545336</td><td> 0.002785634</td><td>3</td><td>2</td><td>0</td><td>0</td><td>    NA</td><td>NA   </td><td>0</td><td>NA</td><td>NA</td><td>NA  </td><td>0</td></tr>\n",
       "\t<tr><td>6024536</td><td>41</td><td>1681</td><td>Female</td><td>Yes</td><td>1.8535724</td><td> 0.049676253</td><td>3</td><td>3</td><td>0</td><td>0</td><td>    NA</td><td>NA   </td><td>0</td><td>NA</td><td>NA</td><td>NA  </td><td>0</td></tr>\n",
       "\t<tr><td>6024548</td><td>59</td><td>3481</td><td>Male  </td><td>Yes</td><td>1.3350505</td><td>-0.006942743</td><td>2</td><td>2</td><td>0</td><td>0</td><td>    NA</td><td>NA   </td><td>0</td><td>NA</td><td>NA</td><td>NA  </td><td>0</td></tr>\n",
       "\t<tr><td>6024555</td><td>45</td><td>2025</td><td>Female</td><td>No </td><td>1.6298268</td><td>-0.023814126</td><td>2</td><td>2</td><td>0</td><td>0</td><td>    NA</td><td>NA   </td><td>0</td><td>NA</td><td>NA</td><td>NA  </td><td>0</td></tr>\n",
       "\t<tr><td>6024567</td><td>66</td><td>4356</td><td>Male  </td><td>Yes</td><td>1.0695340</td><td>-0.025009650</td><td>1</td><td>2</td><td>0</td><td>0</td><td>    NA</td><td>NA   </td><td>0</td><td>NA</td><td>NA</td><td>NA  </td><td>0</td></tr>\n",
       "\t<tr><td>6024572</td><td>55</td><td>3025</td><td>Female</td><td>No </td><td>1.0044346</td><td>-0.013469203</td><td>1</td><td>2</td><td>0</td><td>0</td><td>    NA</td><td>NA   </td><td>0</td><td>NA</td><td>NA</td><td>NA  </td><td>0</td></tr>\n",
       "\t<tr><td>6024580</td><td>54</td><td>2916</td><td>Male  </td><td>No </td><td>1.6881258</td><td>-0.004045390</td><td>3</td><td>2</td><td>0</td><td>0</td><td>    NA</td><td>NA   </td><td>0</td><td>NA</td><td>NA</td><td>NA  </td><td>0</td></tr>\n",
       "\t<tr><td>6024599</td><td>41</td><td>1681</td><td>Female</td><td>No </td><td>1.3625605</td><td>-0.054050330</td><td>2</td><td>1</td><td>0</td><td>0</td><td>    NA</td><td>NA   </td><td>0</td><td>NA</td><td>NA</td><td>NA  </td><td>0</td></tr>\n",
       "\t<tr><td>6024608</td><td>66</td><td>4356</td><td>Male  </td><td>No </td><td>1.0845446</td><td>-0.023583150</td><td>1</td><td>2</td><td>0</td><td>0</td><td>    NA</td><td>NA   </td><td>0</td><td>NA</td><td>NA</td><td>NA  </td><td>0</td></tr>\n",
       "\t<tr><td>6024629</td><td>56</td><td>3136</td><td>Female</td><td>No </td><td>1.1912430</td><td>-0.014544060</td><td>1</td><td>2</td><td>0</td><td>0</td><td>    NA</td><td>NA   </td><td>0</td><td>NA</td><td>NA</td><td>NA  </td><td>0</td></tr>\n",
       "\t<tr><td>6024637</td><td>55</td><td>3025</td><td>Male  </td><td>Yes</td><td>1.7386610</td><td> 0.000941870</td><td>3</td><td>2</td><td>1</td><td>2</td><td>0.1627</td><td>chr17</td><td>1</td><td>N </td><td>Y </td><td>Loss</td><td>0</td></tr>\n",
       "\t<tr><td>6024641</td><td>65</td><td>4225</td><td>Female</td><td>Yes</td><td>1.3785038</td><td>-0.008600280</td><td>2</td><td>2</td><td>0</td><td>0</td><td>    NA</td><td>NA   </td><td>0</td><td>NA</td><td>NA</td><td>NA  </td><td>0</td></tr>\n",
       "\t<tr><td>6024653</td><td>50</td><td>2500</td><td>Female</td><td>Yes</td><td>1.6865002</td><td>-0.009292370</td><td>3</td><td>2</td><td>0</td><td>0</td><td>    NA</td><td>NA   </td><td>0</td><td>NA</td><td>NA</td><td>NA  </td><td>0</td></tr>\n",
       "\t<tr><td>6024666</td><td>63</td><td>3969</td><td>Male  </td><td>Yes</td><td>1.0112371</td><td> 0.012902697</td><td>1</td><td>3</td><td>0</td><td>0</td><td>    NA</td><td>NA   </td><td>0</td><td>NA</td><td>NA</td><td>NA  </td><td>0</td></tr>\n",
       "\t<tr><td>6024670</td><td>69</td><td>4761</td><td>Male  </td><td>No </td><td>1.1967811</td><td>-0.033676541</td><td>1</td><td>1</td><td>0</td><td>0</td><td>    NA</td><td>NA   </td><td>0</td><td>NA</td><td>NA</td><td>NA  </td><td>0</td></tr>\n",
       "\t<tr><td>6024682</td><td>61</td><td>3721</td><td>Female</td><td>No </td><td>1.5946463</td><td>-0.024860880</td><td>2</td><td>2</td><td>0</td><td>0</td><td>    NA</td><td>NA   </td><td>0</td><td>NA</td><td>NA</td><td>NA  </td><td>0</td></tr>\n",
       "\t<tr><td>6024694</td><td>41</td><td>1681</td><td>Male  </td><td>Yes</td><td>1.6256079</td><td> 0.008505120</td><td>2</td><td>3</td><td>0</td><td>0</td><td>    NA</td><td>NA   </td><td>0</td><td>NA</td><td>NA</td><td>NA  </td><td>0</td></tr>\n",
       "\t<tr><td>6024705</td><td>41</td><td>1681</td><td>Female</td><td>Yes</td><td>1.1857731</td><td>-0.018385013</td><td>1</td><td>2</td><td>0</td><td>0</td><td>    NA</td><td>NA   </td><td>0</td><td>NA</td><td>NA</td><td>NA  </td><td>0</td></tr>\n",
       "\t<tr><td>6024712</td><td>47</td><td>2209</td><td>Female</td><td>No </td><td>1.4883518</td><td>-0.024865300</td><td>2</td><td>2</td><td>0</td><td>0</td><td>    NA</td><td>NA   </td><td>0</td><td>NA</td><td>NA</td><td>NA  </td><td>0</td></tr>\n",
       "\t<tr><td>6024727</td><td>54</td><td>2916</td><td>Female</td><td>Yes</td><td>1.0363077</td><td>-0.028498820</td><td>1</td><td>1</td><td>0</td><td>0</td><td>    NA</td><td>NA   </td><td>0</td><td>NA</td><td>NA</td><td>NA  </td><td>0</td></tr>\n",
       "\t<tr><td>6024730</td><td>58</td><td>3364</td><td>Male  </td><td>No </td><td>1.5713098</td><td>-0.004307663</td><td>2</td><td>2</td><td>0</td><td>0</td><td>    NA</td><td>NA   </td><td>0</td><td>NA</td><td>NA</td><td>NA  </td><td>0</td></tr>\n",
       "\t<tr><td>6024749</td><td>66</td><td>4356</td><td>Male  </td><td>No </td><td>1.4221628</td><td> 0.003904330</td><td>2</td><td>2</td><td>0</td><td>0</td><td>    NA</td><td>NA   </td><td>0</td><td>NA</td><td>NA</td><td>NA  </td><td>0</td></tr>\n",
       "\t<tr><td>6024751</td><td>43</td><td>1849</td><td>Male  </td><td>No </td><td>1.4832133</td><td>-0.030490133</td><td>2</td><td>1</td><td>0</td><td>0</td><td>    NA</td><td>NA   </td><td>0</td><td>NA</td><td>NA</td><td>NA  </td><td>0</td></tr>\n",
       "\t<tr><td>6024764</td><td>44</td><td>1936</td><td>Female</td><td>No </td><td>0.9460663</td><td>-0.009774220</td><td>1</td><td>2</td><td>0</td><td>0</td><td>    NA</td><td>NA   </td><td>0</td><td>NA</td><td>NA</td><td>NA  </td><td>0</td></tr>\n",
       "\t<tr><td>6024773</td><td>64</td><td>4096</td><td>Male  </td><td>Yes</td><td>1.9840025</td><td> 0.004641624</td><td>3</td><td>3</td><td>0</td><td>0</td><td>    NA</td><td>NA   </td><td>0</td><td>NA</td><td>NA</td><td>NA  </td><td>0</td></tr>\n",
       "\t<tr><td>6024786</td><td>42</td><td>1764</td><td>Female</td><td>No </td><td>1.2313939</td><td>-0.012126080</td><td>1</td><td>2</td><td>0</td><td>0</td><td>    NA</td><td>NA   </td><td>0</td><td>NA</td><td>NA</td><td>NA  </td><td>0</td></tr>\n",
       "\t<tr><td>6024798</td><td>44</td><td>1936</td><td>Female</td><td>No </td><td>1.3876642</td><td>-0.014812369</td><td>2</td><td>2</td><td>0</td><td>0</td><td>    NA</td><td>NA   </td><td>0</td><td>NA</td><td>NA</td><td>NA  </td><td>0</td></tr>\n",
       "\t<tr><td>6024806</td><td>64</td><td>4096</td><td>Female</td><td>Yes</td><td>1.3338934</td><td>-0.025732660</td><td>2</td><td>1</td><td>0</td><td>0</td><td>    NA</td><td>NA   </td><td>0</td><td>NA</td><td>NA</td><td>NA  </td><td>0</td></tr>\n",
       "\t<tr><td>6024814</td><td>59</td><td>3481</td><td>Male  </td><td>Yes</td><td>1.8640634</td><td> 0.021238291</td><td>3</td><td>3</td><td>0</td><td>0</td><td>    NA</td><td>NA   </td><td>0</td><td>NA</td><td>NA</td><td>NA  </td><td>0</td></tr>\n",
       "</tbody>\n",
       "</table>\n"
      ],
      "text/latex": [
       "A data.table: 487071 × 18\n",
       "\\begin{tabular}{llllllllllllllllll}\n",
       " person\\_id & age & age\\_squ & sex\\_at\\_birth & smoking & cll\\_prs & ltl\\_prs & cll\\_262\\_coh & ltl\\_262\\_coh & mca\\_auto & cf\\_cat & cf\\_max & chrom & mca\\_highrisk & p\\_arm & q\\_arm & type & cll\\\\\n",
       " <int> & <int> & <int> & <chr> & <chr> & <dbl> & <dbl> & <fct> & <fct> & <dbl> & <fct> & <dbl> & <chr> & <fct> & <chr> & <chr> & <chr> & <dbl>\\\\\n",
       "\\hline\n",
       "\t 1000013 & 48 & 2304 & Female & No  & 1.142505 & -0.009114790 & 1 & 2 & 0 & 0 &    NA & NA    & 0 & NA & NA & NA           & 0\\\\\n",
       "\t 1000024 & 54 & 2916 & Female & Yes & 1.365924 & -0.048422140 & 2 & 1 & 0 & 0 &    NA & NA    & 0 & NA & NA & NA           & 0\\\\\n",
       "\t 1000036 & 67 & 4489 & Male   & No  & 1.520083 & -0.034286250 & 2 & 1 & 0 & 0 &    NA & NA    & 0 & NA & NA & NA           & 0\\\\\n",
       "\t 1000048 & 60 & 3600 & Female & Yes & 1.669113 & -0.011578300 & 3 & 2 & 0 & 0 &    NA & NA    & 0 & NA & NA & NA           & 0\\\\\n",
       "\t 1000055 & 40 & 1600 & Male   & No  & 1.235437 & -0.015263113 & 1 & 2 & 0 & 0 &    NA & NA    & 0 & NA & NA & NA           & 0\\\\\n",
       "\t 1000067 & 64 & 4096 & Female & No  & 1.159228 & -0.021568793 & 1 & 2 & 0 & 0 &    NA & NA    & 0 & NA & NA & NA           & 0\\\\\n",
       "\t 1000072 & 54 & 2916 & Male   & No  & 1.915532 & -0.021272490 & 3 & 2 & 0 & 0 &    NA & NA    & 0 & NA & NA & NA           & 0\\\\\n",
       "\t 1000080 & 49 & 2401 & Male   & Yes & 1.352047 & -0.003704730 & 2 & 2 & 0 & 0 &    NA & NA    & 0 & NA & NA & NA           & 0\\\\\n",
       "\t 1000099 & 58 & 3364 & Male   & Yes & 1.686992 & -0.027113390 & 3 & 1 & 0 & 0 &    NA & NA    & 0 & NA & NA & NA           & 0\\\\\n",
       "\t 1000106 & 42 & 1764 & Female & Yes & 1.475761 & -0.000256200 & 2 & 2 & 0 & 0 &    NA & NA    & 0 & NA & NA & NA           & 0\\\\\n",
       "\t 1000114 & 43 & 1849 & Male   & No  & 1.727055 & -0.015734760 & 3 & 2 & 0 & 0 &    NA & NA    & 0 & NA & NA & NA           & 0\\\\\n",
       "\t 1000123 & 64 & 4096 & Male   & Yes & 1.612589 &  0.006438262 & 2 & 3 & 1 & 1 & 0.077 & chr19 & 2 & N  & T  & Undetermined & 0\\\\\n",
       "\t 1000131 & 57 & 3249 & Male   & Yes & 1.395898 & -0.008145320 & 2 & 2 & 0 & 0 &    NA & NA    & 0 & NA & NA & NA           & 0\\\\\n",
       "\t 1000140 & 48 & 2304 & Female & No  & 1.334920 & -0.032876348 & 2 & 1 & 0 & 0 &    NA & NA    & 0 & NA & NA & NA           & 0\\\\\n",
       "\t 1000157 & 64 & 4096 & Female & No  & 1.585097 &  0.002202860 & 2 & 2 & 0 & 0 &    NA & NA    & 0 & NA & NA & NA           & 0\\\\\n",
       "\t 1000165 & 64 & 4096 & Female & No  & 1.777829 & -0.026820388 & 3 & 1 & 0 & 0 &    NA & NA    & 0 & NA & NA & NA           & 0\\\\\n",
       "\t 1000179 & 64 & 4096 & Female & Yes & 1.701367 & -0.004466590 & 3 & 2 & 0 & 0 &    NA & NA    & 0 & NA & NA & NA           & 0\\\\\n",
       "\t 1000188 & 65 & 4225 & Male   & Yes & 1.459902 & -0.001325840 & 2 & 2 & 0 & 0 &    NA & NA    & 0 & NA & NA & NA           & 0\\\\\n",
       "\t 1000192 & 57 & 3249 & Female & Yes & 1.329569 & -0.033985270 & 2 & 1 & 0 & 0 &    NA & NA    & 0 & NA & NA & NA           & 0\\\\\n",
       "\t 1000207 & 66 & 4356 & Female & Yes & 1.566201 & -0.023885730 & 2 & 2 & 0 & 0 &    NA & NA    & 0 & NA & NA & NA           & 0\\\\\n",
       "\t 1000219 & 66 & 4356 & Female & No  & 1.377849 & -0.010326590 & 2 & 2 & 0 & 0 &    NA & NA    & 0 & NA & NA & NA           & 0\\\\\n",
       "\t 1000225 & 49 & 2401 & Male   & No  & 1.299359 & -0.016036085 & 1 & 2 & 0 & 0 &    NA & NA    & 0 & NA & NA & NA           & 0\\\\\n",
       "\t 1000238 & 61 & 3721 & Male   & Yes & 1.570405 & -0.008104350 & 2 & 2 & 0 & 0 &    NA & NA    & 0 & NA & NA & NA           & 0\\\\\n",
       "\t 1000242 & 44 & 1936 & Male   & Yes & 1.353238 & -0.012458130 & 2 & 2 & 0 & 0 &    NA & NA    & 0 & NA & NA & NA           & 0\\\\\n",
       "\t 1000256 & 55 & 3025 & Female & Yes & 1.737987 & -0.004229190 & 3 & 2 & 0 & 0 &    NA & NA    & 0 & NA & NA & NA           & 0\\\\\n",
       "\t 1000263 & 48 & 2304 & Female & Yes & 1.490662 &  0.003304697 & 2 & 2 & 0 & 0 &    NA & NA    & 0 & NA & NA & NA           & 0\\\\\n",
       "\t 1000274 & 62 & 3844 & Female & Yes & 1.210703 & -0.025498130 & 1 & 2 & 0 & 0 &    NA & NA    & 0 & NA & NA & NA           & 0\\\\\n",
       "\t 1000281 & 57 & 3249 & Female & No  & 1.531858 & -0.003096880 & 2 & 2 & 0 & 0 &    NA & NA    & 0 & NA & NA & NA           & 0\\\\\n",
       "\t 1000290 & 69 & 4761 & Female & Yes & 1.758791 &  0.024574048 & 3 & 3 & 0 & 0 &    NA & NA    & 0 & NA & NA & NA           & 0\\\\\n",
       "\t 1000305 & 46 & 2116 & Female & Yes & 1.643584 &  0.024173190 & 3 & 3 & 0 & 0 &    NA & NA    & 0 & NA & NA & NA           & 0\\\\\n",
       "\t ⋮ & ⋮ & ⋮ & ⋮ & ⋮ & ⋮ & ⋮ & ⋮ & ⋮ & ⋮ & ⋮ & ⋮ & ⋮ & ⋮ & ⋮ & ⋮ & ⋮ & ⋮\\\\\n",
       "\t 6024501 & 58 & 3364 & Male   & Yes & 1.6856982 & -0.034345230 & 3 & 1 & 0 & 0 &     NA & NA    & 0 & NA & NA & NA   & 0\\\\\n",
       "\t 6024513 & 69 & 4761 & Male   & Yes & 1.8545336 &  0.002785634 & 3 & 2 & 0 & 0 &     NA & NA    & 0 & NA & NA & NA   & 0\\\\\n",
       "\t 6024536 & 41 & 1681 & Female & Yes & 1.8535724 &  0.049676253 & 3 & 3 & 0 & 0 &     NA & NA    & 0 & NA & NA & NA   & 0\\\\\n",
       "\t 6024548 & 59 & 3481 & Male   & Yes & 1.3350505 & -0.006942743 & 2 & 2 & 0 & 0 &     NA & NA    & 0 & NA & NA & NA   & 0\\\\\n",
       "\t 6024555 & 45 & 2025 & Female & No  & 1.6298268 & -0.023814126 & 2 & 2 & 0 & 0 &     NA & NA    & 0 & NA & NA & NA   & 0\\\\\n",
       "\t 6024567 & 66 & 4356 & Male   & Yes & 1.0695340 & -0.025009650 & 1 & 2 & 0 & 0 &     NA & NA    & 0 & NA & NA & NA   & 0\\\\\n",
       "\t 6024572 & 55 & 3025 & Female & No  & 1.0044346 & -0.013469203 & 1 & 2 & 0 & 0 &     NA & NA    & 0 & NA & NA & NA   & 0\\\\\n",
       "\t 6024580 & 54 & 2916 & Male   & No  & 1.6881258 & -0.004045390 & 3 & 2 & 0 & 0 &     NA & NA    & 0 & NA & NA & NA   & 0\\\\\n",
       "\t 6024599 & 41 & 1681 & Female & No  & 1.3625605 & -0.054050330 & 2 & 1 & 0 & 0 &     NA & NA    & 0 & NA & NA & NA   & 0\\\\\n",
       "\t 6024608 & 66 & 4356 & Male   & No  & 1.0845446 & -0.023583150 & 1 & 2 & 0 & 0 &     NA & NA    & 0 & NA & NA & NA   & 0\\\\\n",
       "\t 6024629 & 56 & 3136 & Female & No  & 1.1912430 & -0.014544060 & 1 & 2 & 0 & 0 &     NA & NA    & 0 & NA & NA & NA   & 0\\\\\n",
       "\t 6024637 & 55 & 3025 & Male   & Yes & 1.7386610 &  0.000941870 & 3 & 2 & 1 & 2 & 0.1627 & chr17 & 1 & N  & Y  & Loss & 0\\\\\n",
       "\t 6024641 & 65 & 4225 & Female & Yes & 1.3785038 & -0.008600280 & 2 & 2 & 0 & 0 &     NA & NA    & 0 & NA & NA & NA   & 0\\\\\n",
       "\t 6024653 & 50 & 2500 & Female & Yes & 1.6865002 & -0.009292370 & 3 & 2 & 0 & 0 &     NA & NA    & 0 & NA & NA & NA   & 0\\\\\n",
       "\t 6024666 & 63 & 3969 & Male   & Yes & 1.0112371 &  0.012902697 & 1 & 3 & 0 & 0 &     NA & NA    & 0 & NA & NA & NA   & 0\\\\\n",
       "\t 6024670 & 69 & 4761 & Male   & No  & 1.1967811 & -0.033676541 & 1 & 1 & 0 & 0 &     NA & NA    & 0 & NA & NA & NA   & 0\\\\\n",
       "\t 6024682 & 61 & 3721 & Female & No  & 1.5946463 & -0.024860880 & 2 & 2 & 0 & 0 &     NA & NA    & 0 & NA & NA & NA   & 0\\\\\n",
       "\t 6024694 & 41 & 1681 & Male   & Yes & 1.6256079 &  0.008505120 & 2 & 3 & 0 & 0 &     NA & NA    & 0 & NA & NA & NA   & 0\\\\\n",
       "\t 6024705 & 41 & 1681 & Female & Yes & 1.1857731 & -0.018385013 & 1 & 2 & 0 & 0 &     NA & NA    & 0 & NA & NA & NA   & 0\\\\\n",
       "\t 6024712 & 47 & 2209 & Female & No  & 1.4883518 & -0.024865300 & 2 & 2 & 0 & 0 &     NA & NA    & 0 & NA & NA & NA   & 0\\\\\n",
       "\t 6024727 & 54 & 2916 & Female & Yes & 1.0363077 & -0.028498820 & 1 & 1 & 0 & 0 &     NA & NA    & 0 & NA & NA & NA   & 0\\\\\n",
       "\t 6024730 & 58 & 3364 & Male   & No  & 1.5713098 & -0.004307663 & 2 & 2 & 0 & 0 &     NA & NA    & 0 & NA & NA & NA   & 0\\\\\n",
       "\t 6024749 & 66 & 4356 & Male   & No  & 1.4221628 &  0.003904330 & 2 & 2 & 0 & 0 &     NA & NA    & 0 & NA & NA & NA   & 0\\\\\n",
       "\t 6024751 & 43 & 1849 & Male   & No  & 1.4832133 & -0.030490133 & 2 & 1 & 0 & 0 &     NA & NA    & 0 & NA & NA & NA   & 0\\\\\n",
       "\t 6024764 & 44 & 1936 & Female & No  & 0.9460663 & -0.009774220 & 1 & 2 & 0 & 0 &     NA & NA    & 0 & NA & NA & NA   & 0\\\\\n",
       "\t 6024773 & 64 & 4096 & Male   & Yes & 1.9840025 &  0.004641624 & 3 & 3 & 0 & 0 &     NA & NA    & 0 & NA & NA & NA   & 0\\\\\n",
       "\t 6024786 & 42 & 1764 & Female & No  & 1.2313939 & -0.012126080 & 1 & 2 & 0 & 0 &     NA & NA    & 0 & NA & NA & NA   & 0\\\\\n",
       "\t 6024798 & 44 & 1936 & Female & No  & 1.3876642 & -0.014812369 & 2 & 2 & 0 & 0 &     NA & NA    & 0 & NA & NA & NA   & 0\\\\\n",
       "\t 6024806 & 64 & 4096 & Female & Yes & 1.3338934 & -0.025732660 & 2 & 1 & 0 & 0 &     NA & NA    & 0 & NA & NA & NA   & 0\\\\\n",
       "\t 6024814 & 59 & 3481 & Male   & Yes & 1.8640634 &  0.021238291 & 3 & 3 & 0 & 0 &     NA & NA    & 0 & NA & NA & NA   & 0\\\\\n",
       "\\end{tabular}\n"
      ],
      "text/markdown": [
       "\n",
       "A data.table: 487071 × 18\n",
       "\n",
       "| person_id &lt;int&gt; | age &lt;int&gt; | age_squ &lt;int&gt; | sex_at_birth &lt;chr&gt; | smoking &lt;chr&gt; | cll_prs &lt;dbl&gt; | ltl_prs &lt;dbl&gt; | cll_262_coh &lt;fct&gt; | ltl_262_coh &lt;fct&gt; | mca_auto &lt;dbl&gt; | cf_cat &lt;fct&gt; | cf_max &lt;dbl&gt; | chrom &lt;chr&gt; | mca_highrisk &lt;fct&gt; | p_arm &lt;chr&gt; | q_arm &lt;chr&gt; | type &lt;chr&gt; | cll &lt;dbl&gt; |\n",
       "|---|---|---|---|---|---|---|---|---|---|---|---|---|---|---|---|---|---|\n",
       "| 1000013 | 48 | 2304 | Female | No  | 1.142505 | -0.009114790 | 1 | 2 | 0 | 0 |    NA | NA    | 0 | NA | NA | NA           | 0 |\n",
       "| 1000024 | 54 | 2916 | Female | Yes | 1.365924 | -0.048422140 | 2 | 1 | 0 | 0 |    NA | NA    | 0 | NA | NA | NA           | 0 |\n",
       "| 1000036 | 67 | 4489 | Male   | No  | 1.520083 | -0.034286250 | 2 | 1 | 0 | 0 |    NA | NA    | 0 | NA | NA | NA           | 0 |\n",
       "| 1000048 | 60 | 3600 | Female | Yes | 1.669113 | -0.011578300 | 3 | 2 | 0 | 0 |    NA | NA    | 0 | NA | NA | NA           | 0 |\n",
       "| 1000055 | 40 | 1600 | Male   | No  | 1.235437 | -0.015263113 | 1 | 2 | 0 | 0 |    NA | NA    | 0 | NA | NA | NA           | 0 |\n",
       "| 1000067 | 64 | 4096 | Female | No  | 1.159228 | -0.021568793 | 1 | 2 | 0 | 0 |    NA | NA    | 0 | NA | NA | NA           | 0 |\n",
       "| 1000072 | 54 | 2916 | Male   | No  | 1.915532 | -0.021272490 | 3 | 2 | 0 | 0 |    NA | NA    | 0 | NA | NA | NA           | 0 |\n",
       "| 1000080 | 49 | 2401 | Male   | Yes | 1.352047 | -0.003704730 | 2 | 2 | 0 | 0 |    NA | NA    | 0 | NA | NA | NA           | 0 |\n",
       "| 1000099 | 58 | 3364 | Male   | Yes | 1.686992 | -0.027113390 | 3 | 1 | 0 | 0 |    NA | NA    | 0 | NA | NA | NA           | 0 |\n",
       "| 1000106 | 42 | 1764 | Female | Yes | 1.475761 | -0.000256200 | 2 | 2 | 0 | 0 |    NA | NA    | 0 | NA | NA | NA           | 0 |\n",
       "| 1000114 | 43 | 1849 | Male   | No  | 1.727055 | -0.015734760 | 3 | 2 | 0 | 0 |    NA | NA    | 0 | NA | NA | NA           | 0 |\n",
       "| 1000123 | 64 | 4096 | Male   | Yes | 1.612589 |  0.006438262 | 2 | 3 | 1 | 1 | 0.077 | chr19 | 2 | N  | T  | Undetermined | 0 |\n",
       "| 1000131 | 57 | 3249 | Male   | Yes | 1.395898 | -0.008145320 | 2 | 2 | 0 | 0 |    NA | NA    | 0 | NA | NA | NA           | 0 |\n",
       "| 1000140 | 48 | 2304 | Female | No  | 1.334920 | -0.032876348 | 2 | 1 | 0 | 0 |    NA | NA    | 0 | NA | NA | NA           | 0 |\n",
       "| 1000157 | 64 | 4096 | Female | No  | 1.585097 |  0.002202860 | 2 | 2 | 0 | 0 |    NA | NA    | 0 | NA | NA | NA           | 0 |\n",
       "| 1000165 | 64 | 4096 | Female | No  | 1.777829 | -0.026820388 | 3 | 1 | 0 | 0 |    NA | NA    | 0 | NA | NA | NA           | 0 |\n",
       "| 1000179 | 64 | 4096 | Female | Yes | 1.701367 | -0.004466590 | 3 | 2 | 0 | 0 |    NA | NA    | 0 | NA | NA | NA           | 0 |\n",
       "| 1000188 | 65 | 4225 | Male   | Yes | 1.459902 | -0.001325840 | 2 | 2 | 0 | 0 |    NA | NA    | 0 | NA | NA | NA           | 0 |\n",
       "| 1000192 | 57 | 3249 | Female | Yes | 1.329569 | -0.033985270 | 2 | 1 | 0 | 0 |    NA | NA    | 0 | NA | NA | NA           | 0 |\n",
       "| 1000207 | 66 | 4356 | Female | Yes | 1.566201 | -0.023885730 | 2 | 2 | 0 | 0 |    NA | NA    | 0 | NA | NA | NA           | 0 |\n",
       "| 1000219 | 66 | 4356 | Female | No  | 1.377849 | -0.010326590 | 2 | 2 | 0 | 0 |    NA | NA    | 0 | NA | NA | NA           | 0 |\n",
       "| 1000225 | 49 | 2401 | Male   | No  | 1.299359 | -0.016036085 | 1 | 2 | 0 | 0 |    NA | NA    | 0 | NA | NA | NA           | 0 |\n",
       "| 1000238 | 61 | 3721 | Male   | Yes | 1.570405 | -0.008104350 | 2 | 2 | 0 | 0 |    NA | NA    | 0 | NA | NA | NA           | 0 |\n",
       "| 1000242 | 44 | 1936 | Male   | Yes | 1.353238 | -0.012458130 | 2 | 2 | 0 | 0 |    NA | NA    | 0 | NA | NA | NA           | 0 |\n",
       "| 1000256 | 55 | 3025 | Female | Yes | 1.737987 | -0.004229190 | 3 | 2 | 0 | 0 |    NA | NA    | 0 | NA | NA | NA           | 0 |\n",
       "| 1000263 | 48 | 2304 | Female | Yes | 1.490662 |  0.003304697 | 2 | 2 | 0 | 0 |    NA | NA    | 0 | NA | NA | NA           | 0 |\n",
       "| 1000274 | 62 | 3844 | Female | Yes | 1.210703 | -0.025498130 | 1 | 2 | 0 | 0 |    NA | NA    | 0 | NA | NA | NA           | 0 |\n",
       "| 1000281 | 57 | 3249 | Female | No  | 1.531858 | -0.003096880 | 2 | 2 | 0 | 0 |    NA | NA    | 0 | NA | NA | NA           | 0 |\n",
       "| 1000290 | 69 | 4761 | Female | Yes | 1.758791 |  0.024574048 | 3 | 3 | 0 | 0 |    NA | NA    | 0 | NA | NA | NA           | 0 |\n",
       "| 1000305 | 46 | 2116 | Female | Yes | 1.643584 |  0.024173190 | 3 | 3 | 0 | 0 |    NA | NA    | 0 | NA | NA | NA           | 0 |\n",
       "| ⋮ | ⋮ | ⋮ | ⋮ | ⋮ | ⋮ | ⋮ | ⋮ | ⋮ | ⋮ | ⋮ | ⋮ | ⋮ | ⋮ | ⋮ | ⋮ | ⋮ | ⋮ |\n",
       "| 6024501 | 58 | 3364 | Male   | Yes | 1.6856982 | -0.034345230 | 3 | 1 | 0 | 0 |     NA | NA    | 0 | NA | NA | NA   | 0 |\n",
       "| 6024513 | 69 | 4761 | Male   | Yes | 1.8545336 |  0.002785634 | 3 | 2 | 0 | 0 |     NA | NA    | 0 | NA | NA | NA   | 0 |\n",
       "| 6024536 | 41 | 1681 | Female | Yes | 1.8535724 |  0.049676253 | 3 | 3 | 0 | 0 |     NA | NA    | 0 | NA | NA | NA   | 0 |\n",
       "| 6024548 | 59 | 3481 | Male   | Yes | 1.3350505 | -0.006942743 | 2 | 2 | 0 | 0 |     NA | NA    | 0 | NA | NA | NA   | 0 |\n",
       "| 6024555 | 45 | 2025 | Female | No  | 1.6298268 | -0.023814126 | 2 | 2 | 0 | 0 |     NA | NA    | 0 | NA | NA | NA   | 0 |\n",
       "| 6024567 | 66 | 4356 | Male   | Yes | 1.0695340 | -0.025009650 | 1 | 2 | 0 | 0 |     NA | NA    | 0 | NA | NA | NA   | 0 |\n",
       "| 6024572 | 55 | 3025 | Female | No  | 1.0044346 | -0.013469203 | 1 | 2 | 0 | 0 |     NA | NA    | 0 | NA | NA | NA   | 0 |\n",
       "| 6024580 | 54 | 2916 | Male   | No  | 1.6881258 | -0.004045390 | 3 | 2 | 0 | 0 |     NA | NA    | 0 | NA | NA | NA   | 0 |\n",
       "| 6024599 | 41 | 1681 | Female | No  | 1.3625605 | -0.054050330 | 2 | 1 | 0 | 0 |     NA | NA    | 0 | NA | NA | NA   | 0 |\n",
       "| 6024608 | 66 | 4356 | Male   | No  | 1.0845446 | -0.023583150 | 1 | 2 | 0 | 0 |     NA | NA    | 0 | NA | NA | NA   | 0 |\n",
       "| 6024629 | 56 | 3136 | Female | No  | 1.1912430 | -0.014544060 | 1 | 2 | 0 | 0 |     NA | NA    | 0 | NA | NA | NA   | 0 |\n",
       "| 6024637 | 55 | 3025 | Male   | Yes | 1.7386610 |  0.000941870 | 3 | 2 | 1 | 2 | 0.1627 | chr17 | 1 | N  | Y  | Loss | 0 |\n",
       "| 6024641 | 65 | 4225 | Female | Yes | 1.3785038 | -0.008600280 | 2 | 2 | 0 | 0 |     NA | NA    | 0 | NA | NA | NA   | 0 |\n",
       "| 6024653 | 50 | 2500 | Female | Yes | 1.6865002 | -0.009292370 | 3 | 2 | 0 | 0 |     NA | NA    | 0 | NA | NA | NA   | 0 |\n",
       "| 6024666 | 63 | 3969 | Male   | Yes | 1.0112371 |  0.012902697 | 1 | 3 | 0 | 0 |     NA | NA    | 0 | NA | NA | NA   | 0 |\n",
       "| 6024670 | 69 | 4761 | Male   | No  | 1.1967811 | -0.033676541 | 1 | 1 | 0 | 0 |     NA | NA    | 0 | NA | NA | NA   | 0 |\n",
       "| 6024682 | 61 | 3721 | Female | No  | 1.5946463 | -0.024860880 | 2 | 2 | 0 | 0 |     NA | NA    | 0 | NA | NA | NA   | 0 |\n",
       "| 6024694 | 41 | 1681 | Male   | Yes | 1.6256079 |  0.008505120 | 2 | 3 | 0 | 0 |     NA | NA    | 0 | NA | NA | NA   | 0 |\n",
       "| 6024705 | 41 | 1681 | Female | Yes | 1.1857731 | -0.018385013 | 1 | 2 | 0 | 0 |     NA | NA    | 0 | NA | NA | NA   | 0 |\n",
       "| 6024712 | 47 | 2209 | Female | No  | 1.4883518 | -0.024865300 | 2 | 2 | 0 | 0 |     NA | NA    | 0 | NA | NA | NA   | 0 |\n",
       "| 6024727 | 54 | 2916 | Female | Yes | 1.0363077 | -0.028498820 | 1 | 1 | 0 | 0 |     NA | NA    | 0 | NA | NA | NA   | 0 |\n",
       "| 6024730 | 58 | 3364 | Male   | No  | 1.5713098 | -0.004307663 | 2 | 2 | 0 | 0 |     NA | NA    | 0 | NA | NA | NA   | 0 |\n",
       "| 6024749 | 66 | 4356 | Male   | No  | 1.4221628 |  0.003904330 | 2 | 2 | 0 | 0 |     NA | NA    | 0 | NA | NA | NA   | 0 |\n",
       "| 6024751 | 43 | 1849 | Male   | No  | 1.4832133 | -0.030490133 | 2 | 1 | 0 | 0 |     NA | NA    | 0 | NA | NA | NA   | 0 |\n",
       "| 6024764 | 44 | 1936 | Female | No  | 0.9460663 | -0.009774220 | 1 | 2 | 0 | 0 |     NA | NA    | 0 | NA | NA | NA   | 0 |\n",
       "| 6024773 | 64 | 4096 | Male   | Yes | 1.9840025 |  0.004641624 | 3 | 3 | 0 | 0 |     NA | NA    | 0 | NA | NA | NA   | 0 |\n",
       "| 6024786 | 42 | 1764 | Female | No  | 1.2313939 | -0.012126080 | 1 | 2 | 0 | 0 |     NA | NA    | 0 | NA | NA | NA   | 0 |\n",
       "| 6024798 | 44 | 1936 | Female | No  | 1.3876642 | -0.014812369 | 2 | 2 | 0 | 0 |     NA | NA    | 0 | NA | NA | NA   | 0 |\n",
       "| 6024806 | 64 | 4096 | Female | Yes | 1.3338934 | -0.025732660 | 2 | 1 | 0 | 0 |     NA | NA    | 0 | NA | NA | NA   | 0 |\n",
       "| 6024814 | 59 | 3481 | Male   | Yes | 1.8640634 |  0.021238291 | 3 | 3 | 0 | 0 |     NA | NA    | 0 | NA | NA | NA   | 0 |\n",
       "\n"
      ],
      "text/plain": [
       "       person_id age age_squ sex_at_birth smoking cll_prs   ltl_prs     \n",
       "1      1000013   48  2304    Female       No      1.142505  -0.009114790\n",
       "2      1000024   54  2916    Female       Yes     1.365924  -0.048422140\n",
       "3      1000036   67  4489    Male         No      1.520083  -0.034286250\n",
       "4      1000048   60  3600    Female       Yes     1.669113  -0.011578300\n",
       "5      1000055   40  1600    Male         No      1.235437  -0.015263113\n",
       "6      1000067   64  4096    Female       No      1.159228  -0.021568793\n",
       "7      1000072   54  2916    Male         No      1.915532  -0.021272490\n",
       "8      1000080   49  2401    Male         Yes     1.352047  -0.003704730\n",
       "9      1000099   58  3364    Male         Yes     1.686992  -0.027113390\n",
       "10     1000106   42  1764    Female       Yes     1.475761  -0.000256200\n",
       "11     1000114   43  1849    Male         No      1.727055  -0.015734760\n",
       "12     1000123   64  4096    Male         Yes     1.612589   0.006438262\n",
       "13     1000131   57  3249    Male         Yes     1.395898  -0.008145320\n",
       "14     1000140   48  2304    Female       No      1.334920  -0.032876348\n",
       "15     1000157   64  4096    Female       No      1.585097   0.002202860\n",
       "16     1000165   64  4096    Female       No      1.777829  -0.026820388\n",
       "17     1000179   64  4096    Female       Yes     1.701367  -0.004466590\n",
       "18     1000188   65  4225    Male         Yes     1.459902  -0.001325840\n",
       "19     1000192   57  3249    Female       Yes     1.329569  -0.033985270\n",
       "20     1000207   66  4356    Female       Yes     1.566201  -0.023885730\n",
       "21     1000219   66  4356    Female       No      1.377849  -0.010326590\n",
       "22     1000225   49  2401    Male         No      1.299359  -0.016036085\n",
       "23     1000238   61  3721    Male         Yes     1.570405  -0.008104350\n",
       "24     1000242   44  1936    Male         Yes     1.353238  -0.012458130\n",
       "25     1000256   55  3025    Female       Yes     1.737987  -0.004229190\n",
       "26     1000263   48  2304    Female       Yes     1.490662   0.003304697\n",
       "27     1000274   62  3844    Female       Yes     1.210703  -0.025498130\n",
       "28     1000281   57  3249    Female       No      1.531858  -0.003096880\n",
       "29     1000290   69  4761    Female       Yes     1.758791   0.024574048\n",
       "30     1000305   46  2116    Female       Yes     1.643584   0.024173190\n",
       "⋮      ⋮         ⋮   ⋮       ⋮            ⋮       ⋮         ⋮           \n",
       "487042 6024501   58  3364    Male         Yes     1.6856982 -0.034345230\n",
       "487043 6024513   69  4761    Male         Yes     1.8545336  0.002785634\n",
       "487044 6024536   41  1681    Female       Yes     1.8535724  0.049676253\n",
       "487045 6024548   59  3481    Male         Yes     1.3350505 -0.006942743\n",
       "487046 6024555   45  2025    Female       No      1.6298268 -0.023814126\n",
       "487047 6024567   66  4356    Male         Yes     1.0695340 -0.025009650\n",
       "487048 6024572   55  3025    Female       No      1.0044346 -0.013469203\n",
       "487049 6024580   54  2916    Male         No      1.6881258 -0.004045390\n",
       "487050 6024599   41  1681    Female       No      1.3625605 -0.054050330\n",
       "487051 6024608   66  4356    Male         No      1.0845446 -0.023583150\n",
       "487052 6024629   56  3136    Female       No      1.1912430 -0.014544060\n",
       "487053 6024637   55  3025    Male         Yes     1.7386610  0.000941870\n",
       "487054 6024641   65  4225    Female       Yes     1.3785038 -0.008600280\n",
       "487055 6024653   50  2500    Female       Yes     1.6865002 -0.009292370\n",
       "487056 6024666   63  3969    Male         Yes     1.0112371  0.012902697\n",
       "487057 6024670   69  4761    Male         No      1.1967811 -0.033676541\n",
       "487058 6024682   61  3721    Female       No      1.5946463 -0.024860880\n",
       "487059 6024694   41  1681    Male         Yes     1.6256079  0.008505120\n",
       "487060 6024705   41  1681    Female       Yes     1.1857731 -0.018385013\n",
       "487061 6024712   47  2209    Female       No      1.4883518 -0.024865300\n",
       "487062 6024727   54  2916    Female       Yes     1.0363077 -0.028498820\n",
       "487063 6024730   58  3364    Male         No      1.5713098 -0.004307663\n",
       "487064 6024749   66  4356    Male         No      1.4221628  0.003904330\n",
       "487065 6024751   43  1849    Male         No      1.4832133 -0.030490133\n",
       "487066 6024764   44  1936    Female       No      0.9460663 -0.009774220\n",
       "487067 6024773   64  4096    Male         Yes     1.9840025  0.004641624\n",
       "487068 6024786   42  1764    Female       No      1.2313939 -0.012126080\n",
       "487069 6024798   44  1936    Female       No      1.3876642 -0.014812369\n",
       "487070 6024806   64  4096    Female       Yes     1.3338934 -0.025732660\n",
       "487071 6024814   59  3481    Male         Yes     1.8640634  0.021238291\n",
       "       cll_262_coh ltl_262_coh mca_auto cf_cat cf_max chrom mca_highrisk p_arm\n",
       "1      1           2           0        0         NA  NA    0            NA   \n",
       "2      2           1           0        0         NA  NA    0            NA   \n",
       "3      2           1           0        0         NA  NA    0            NA   \n",
       "4      3           2           0        0         NA  NA    0            NA   \n",
       "5      1           2           0        0         NA  NA    0            NA   \n",
       "6      1           2           0        0         NA  NA    0            NA   \n",
       "7      3           2           0        0         NA  NA    0            NA   \n",
       "8      2           2           0        0         NA  NA    0            NA   \n",
       "9      3           1           0        0         NA  NA    0            NA   \n",
       "10     2           2           0        0         NA  NA    0            NA   \n",
       "11     3           2           0        0         NA  NA    0            NA   \n",
       "12     2           3           1        1      0.077  chr19 2            N    \n",
       "13     2           2           0        0         NA  NA    0            NA   \n",
       "14     2           1           0        0         NA  NA    0            NA   \n",
       "15     2           2           0        0         NA  NA    0            NA   \n",
       "16     3           1           0        0         NA  NA    0            NA   \n",
       "17     3           2           0        0         NA  NA    0            NA   \n",
       "18     2           2           0        0         NA  NA    0            NA   \n",
       "19     2           1           0        0         NA  NA    0            NA   \n",
       "20     2           2           0        0         NA  NA    0            NA   \n",
       "21     2           2           0        0         NA  NA    0            NA   \n",
       "22     1           2           0        0         NA  NA    0            NA   \n",
       "23     2           2           0        0         NA  NA    0            NA   \n",
       "24     2           2           0        0         NA  NA    0            NA   \n",
       "25     3           2           0        0         NA  NA    0            NA   \n",
       "26     2           2           0        0         NA  NA    0            NA   \n",
       "27     1           2           0        0         NA  NA    0            NA   \n",
       "28     2           2           0        0         NA  NA    0            NA   \n",
       "29     3           3           0        0         NA  NA    0            NA   \n",
       "30     3           3           0        0         NA  NA    0            NA   \n",
       "⋮      ⋮           ⋮           ⋮        ⋮      ⋮      ⋮     ⋮            ⋮    \n",
       "487042 3           1           0        0          NA NA    0            NA   \n",
       "487043 3           2           0        0          NA NA    0            NA   \n",
       "487044 3           3           0        0          NA NA    0            NA   \n",
       "487045 2           2           0        0          NA NA    0            NA   \n",
       "487046 2           2           0        0          NA NA    0            NA   \n",
       "487047 1           2           0        0          NA NA    0            NA   \n",
       "487048 1           2           0        0          NA NA    0            NA   \n",
       "487049 3           2           0        0          NA NA    0            NA   \n",
       "487050 2           1           0        0          NA NA    0            NA   \n",
       "487051 1           2           0        0          NA NA    0            NA   \n",
       "487052 1           2           0        0          NA NA    0            NA   \n",
       "487053 3           2           1        2      0.1627 chr17 1            N    \n",
       "487054 2           2           0        0          NA NA    0            NA   \n",
       "487055 3           2           0        0          NA NA    0            NA   \n",
       "487056 1           3           0        0          NA NA    0            NA   \n",
       "487057 1           1           0        0          NA NA    0            NA   \n",
       "487058 2           2           0        0          NA NA    0            NA   \n",
       "487059 2           3           0        0          NA NA    0            NA   \n",
       "487060 1           2           0        0          NA NA    0            NA   \n",
       "487061 2           2           0        0          NA NA    0            NA   \n",
       "487062 1           1           0        0          NA NA    0            NA   \n",
       "487063 2           2           0        0          NA NA    0            NA   \n",
       "487064 2           2           0        0          NA NA    0            NA   \n",
       "487065 2           1           0        0          NA NA    0            NA   \n",
       "487066 1           2           0        0          NA NA    0            NA   \n",
       "487067 3           3           0        0          NA NA    0            NA   \n",
       "487068 1           2           0        0          NA NA    0            NA   \n",
       "487069 2           2           0        0          NA NA    0            NA   \n",
       "487070 2           1           0        0          NA NA    0            NA   \n",
       "487071 3           3           0        0          NA NA    0            NA   \n",
       "       q_arm type         cll\n",
       "1      NA    NA           0  \n",
       "2      NA    NA           0  \n",
       "3      NA    NA           0  \n",
       "4      NA    NA           0  \n",
       "5      NA    NA           0  \n",
       "6      NA    NA           0  \n",
       "7      NA    NA           0  \n",
       "8      NA    NA           0  \n",
       "9      NA    NA           0  \n",
       "10     NA    NA           0  \n",
       "11     NA    NA           0  \n",
       "12     T     Undetermined 0  \n",
       "13     NA    NA           0  \n",
       "14     NA    NA           0  \n",
       "15     NA    NA           0  \n",
       "16     NA    NA           0  \n",
       "17     NA    NA           0  \n",
       "18     NA    NA           0  \n",
       "19     NA    NA           0  \n",
       "20     NA    NA           0  \n",
       "21     NA    NA           0  \n",
       "22     NA    NA           0  \n",
       "23     NA    NA           0  \n",
       "24     NA    NA           0  \n",
       "25     NA    NA           0  \n",
       "26     NA    NA           0  \n",
       "27     NA    NA           0  \n",
       "28     NA    NA           0  \n",
       "29     NA    NA           0  \n",
       "30     NA    NA           0  \n",
       "⋮      ⋮     ⋮            ⋮  \n",
       "487042 NA    NA           0  \n",
       "487043 NA    NA           0  \n",
       "487044 NA    NA           0  \n",
       "487045 NA    NA           0  \n",
       "487046 NA    NA           0  \n",
       "487047 NA    NA           0  \n",
       "487048 NA    NA           0  \n",
       "487049 NA    NA           0  \n",
       "487050 NA    NA           0  \n",
       "487051 NA    NA           0  \n",
       "487052 NA    NA           0  \n",
       "487053 Y     Loss         0  \n",
       "487054 NA    NA           0  \n",
       "487055 NA    NA           0  \n",
       "487056 NA    NA           0  \n",
       "487057 NA    NA           0  \n",
       "487058 NA    NA           0  \n",
       "487059 NA    NA           0  \n",
       "487060 NA    NA           0  \n",
       "487061 NA    NA           0  \n",
       "487062 NA    NA           0  \n",
       "487063 NA    NA           0  \n",
       "487064 NA    NA           0  \n",
       "487065 NA    NA           0  \n",
       "487066 NA    NA           0  \n",
       "487067 NA    NA           0  \n",
       "487068 NA    NA           0  \n",
       "487069 NA    NA           0  \n",
       "487070 NA    NA           0  \n",
       "487071 NA    NA           0  "
      ]
     },
     "metadata": {},
     "output_type": "display_data"
    },
    {
     "data": {
      "text/html": [
       "<table class=\"dataframe\">\n",
       "<caption>A data.frame: 102803 × 18</caption>\n",
       "<thead>\n",
       "\t<tr><th scope=col>person_id</th><th scope=col>age</th><th scope=col>age_squ</th><th scope=col>sex_at_birth</th><th scope=col>smoking</th><th scope=col>cll_prs</th><th scope=col>ltl_prs</th><th scope=col>cll_262_coh</th><th scope=col>ltl_262_coh</th><th scope=col>mca_auto</th><th scope=col>cf_cat</th><th scope=col>cf_max</th><th scope=col>chrom</th><th scope=col>mca_highrisk</th><th scope=col>p_arm</th><th scope=col>q_arm</th><th scope=col>type</th><th scope=col>cll</th></tr>\n",
       "\t<tr><th scope=col>&lt;int&gt;</th><th scope=col>&lt;int&gt;</th><th scope=col>&lt;int&gt;</th><th scope=col>&lt;chr&gt;</th><th scope=col>&lt;chr&gt;</th><th scope=col>&lt;dbl&gt;</th><th scope=col>&lt;dbl&gt;</th><th scope=col>&lt;fct&gt;</th><th scope=col>&lt;fct&gt;</th><th scope=col>&lt;dbl&gt;</th><th scope=col>&lt;fct&gt;</th><th scope=col>&lt;dbl&gt;</th><th scope=col>&lt;chr&gt;</th><th scope=col>&lt;fct&gt;</th><th scope=col>&lt;chr&gt;</th><th scope=col>&lt;chr&gt;</th><th scope=col>&lt;chr&gt;</th><th scope=col>&lt;dbl&gt;</th></tr>\n",
       "</thead>\n",
       "<tbody>\n",
       "\t<tr><td>1000004</td><td>79</td><td>6258</td><td>Male  </td><td>No </td><td>1.2691209</td><td>0.07003842</td><td>2</td><td>2</td><td>0</td><td>0</td><td>    NA</td><td>NA  </td><td>0</td><td>NA</td><td>NA</td><td>NA    </td><td>0</td></tr>\n",
       "\t<tr><td>1000033</td><td>63</td><td>3983</td><td>Male  </td><td>No </td><td>1.0465949</td><td>0.05900267</td><td>1</td><td>1</td><td>0</td><td>0</td><td>    NA</td><td>NA  </td><td>0</td><td>NA</td><td>NA</td><td>NA    </td><td>0</td></tr>\n",
       "\t<tr><td>1000059</td><td>62</td><td>3873</td><td>Female</td><td>Yes</td><td>1.5140814</td><td>0.05709059</td><td>3</td><td>1</td><td>0</td><td>0</td><td>    NA</td><td>NA  </td><td>0</td><td>NA</td><td>NA</td><td>NA    </td><td>0</td></tr>\n",
       "\t<tr><td>1000061</td><td>55</td><td>3064</td><td>Male  </td><td>No </td><td>1.2991181</td><td>0.06786092</td><td>2</td><td>2</td><td>0</td><td>0</td><td>    NA</td><td>NA  </td><td>0</td><td>NA</td><td>NA</td><td>NA    </td><td>0</td></tr>\n",
       "\t<tr><td>1000070</td><td>71</td><td>5081</td><td>NA    </td><td>Yes</td><td>1.2991541</td><td>0.06656039</td><td>2</td><td>2</td><td>0</td><td>0</td><td>    NA</td><td>NA  </td><td>0</td><td>NA</td><td>NA</td><td>NA    </td><td>0</td></tr>\n",
       "\t<tr><td>1000091</td><td>65</td><td>4238</td><td>Female</td><td>No </td><td>1.3227711</td><td>0.05297797</td><td>2</td><td>1</td><td>0</td><td>0</td><td>    NA</td><td>NA  </td><td>0</td><td>NA</td><td>NA</td><td>NA    </td><td>0</td></tr>\n",
       "\t<tr><td>1000185</td><td>73</td><td>5357</td><td>Female</td><td>No </td><td>1.1369147</td><td>0.05699883</td><td>2</td><td>1</td><td>0</td><td>0</td><td>    NA</td><td>NA  </td><td>0</td><td>NA</td><td>NA</td><td>NA    </td><td>0</td></tr>\n",
       "\t<tr><td>1000186</td><td>78</td><td>6183</td><td>Male  </td><td>Yes</td><td>1.2822427</td><td>0.06077538</td><td>2</td><td>2</td><td>0</td><td>1</td><td>0.0734</td><td>chrX</td><td>2</td><td>T </td><td>T </td><td>CN-LOH</td><td>0</td></tr>\n",
       "\t<tr><td>1000196</td><td>61</td><td>3755</td><td>Male  </td><td>No </td><td>1.4637522</td><td>0.05153569</td><td>3</td><td>1</td><td>0</td><td>2</td><td>0.1040</td><td>chrX</td><td>2</td><td>T </td><td>T </td><td>CN-LOH</td><td>0</td></tr>\n",
       "\t<tr><td>1000202</td><td>67</td><td>4575</td><td>Male  </td><td>No </td><td>1.3464351</td><td>0.11069120</td><td>2</td><td>3</td><td>0</td><td>1</td><td>0.0798</td><td>chrX</td><td>2</td><td>T </td><td>T </td><td>Gain  </td><td>0</td></tr>\n",
       "\t<tr><td>1000206</td><td>60</td><td>3634</td><td>Male  </td><td>No </td><td>1.4347280</td><td>0.07073739</td><td>3</td><td>2</td><td>0</td><td>0</td><td>    NA</td><td>NA  </td><td>0</td><td>NA</td><td>NA</td><td>NA    </td><td>0</td></tr>\n",
       "\t<tr><td>1000207</td><td>77</td><td>6000</td><td>Female</td><td>No </td><td>1.1805501</td><td>0.06584593</td><td>2</td><td>2</td><td>0</td><td>0</td><td>    NA</td><td>NA  </td><td>0</td><td>NA</td><td>NA</td><td>NA    </td><td>0</td></tr>\n",
       "\t<tr><td>1000216</td><td>51</td><td>2668</td><td>Male  </td><td>Yes</td><td>1.3104970</td><td>0.09961135</td><td>2</td><td>3</td><td>0</td><td>0</td><td>    NA</td><td>NA  </td><td>0</td><td>NA</td><td>NA</td><td>NA    </td><td>0</td></tr>\n",
       "\t<tr><td>1000222</td><td>72</td><td>5327</td><td>Male  </td><td>No </td><td>1.0444412</td><td>0.07545095</td><td>1</td><td>2</td><td>0</td><td>0</td><td>    NA</td><td>NA  </td><td>0</td><td>NA</td><td>NA</td><td>NA    </td><td>0</td></tr>\n",
       "\t<tr><td>1000260</td><td>53</td><td>2885</td><td>Male  </td><td>Yes</td><td>1.1925987</td><td>0.05461395</td><td>2</td><td>1</td><td>0</td><td>0</td><td>    NA</td><td>NA  </td><td>0</td><td>NA</td><td>NA</td><td>NA    </td><td>0</td></tr>\n",
       "\t<tr><td>1000275</td><td>62</td><td>3967</td><td>Male  </td><td>No </td><td>1.0892089</td><td>0.04760061</td><td>1</td><td>1</td><td>0</td><td>0</td><td>    NA</td><td>NA  </td><td>0</td><td>NA</td><td>NA</td><td>NA    </td><td>0</td></tr>\n",
       "\t<tr><td>1000292</td><td>40</td><td>1630</td><td>Male  </td><td>No </td><td>1.1503816</td><td>0.06989333</td><td>2</td><td>2</td><td>0</td><td>0</td><td>    NA</td><td>NA  </td><td>0</td><td>NA</td><td>NA</td><td>NA    </td><td>0</td></tr>\n",
       "\t<tr><td>1000301</td><td>59</td><td>3523</td><td>Female</td><td>Yes</td><td>1.2648959</td><td>0.07641079</td><td>2</td><td>2</td><td>0</td><td>0</td><td>    NA</td><td>NA  </td><td>0</td><td>NA</td><td>NA</td><td>NA    </td><td>0</td></tr>\n",
       "\t<tr><td>1000307</td><td>54</td><td>3004</td><td>Female</td><td>No </td><td>1.0607477</td><td>0.09933958</td><td>1</td><td>3</td><td>0</td><td>0</td><td>    NA</td><td>NA  </td><td>0</td><td>NA</td><td>NA</td><td>NA    </td><td>0</td></tr>\n",
       "\t<tr><td>1000357</td><td>75</td><td>5730</td><td>Female</td><td>Yes</td><td>1.4903194</td><td>0.03874976</td><td>3</td><td>1</td><td>0</td><td>0</td><td>    NA</td><td>NA  </td><td>0</td><td>NA</td><td>NA</td><td>NA    </td><td>0</td></tr>\n",
       "\t<tr><td>1000373</td><td>59</td><td>3551</td><td>Male  </td><td>No </td><td>1.3548009</td><td>0.12956353</td><td>2</td><td>3</td><td>0</td><td>0</td><td>    NA</td><td>NA  </td><td>0</td><td>NA</td><td>NA</td><td>NA    </td><td>0</td></tr>\n",
       "\t<tr><td>1000379</td><td>50</td><td>2511</td><td>Male  </td><td>Yes</td><td>0.8685744</td><td>0.06358450</td><td>1</td><td>2</td><td>0</td><td>0</td><td>    NA</td><td>NA  </td><td>0</td><td>NA</td><td>NA</td><td>NA    </td><td>0</td></tr>\n",
       "\t<tr><td>1000384</td><td>74</td><td>5582</td><td>Female</td><td>No </td><td>1.0319390</td><td>0.06897350</td><td>1</td><td>2</td><td>0</td><td>1</td><td>0.0222</td><td>chrX</td><td>2</td><td>T </td><td>T </td><td>Gain  </td><td>0</td></tr>\n",
       "\t<tr><td>1000387</td><td>69</td><td>4769</td><td>Male  </td><td>Yes</td><td>1.3919831</td><td>0.08103790</td><td>2</td><td>2</td><td>0</td><td>0</td><td>    NA</td><td>NA  </td><td>0</td><td>NA</td><td>NA</td><td>NA    </td><td>0</td></tr>\n",
       "\t<tr><td>1000396</td><td>71</td><td>5133</td><td>Male  </td><td>Yes</td><td>1.2614929</td><td>0.07581119</td><td>2</td><td>2</td><td>0</td><td>2</td><td>0.1061</td><td>chrX</td><td>2</td><td>T </td><td>T </td><td>CN-LOH</td><td>0</td></tr>\n",
       "\t<tr><td>1000402</td><td>68</td><td>4717</td><td>Female</td><td>No </td><td>1.2514038</td><td>0.05240179</td><td>2</td><td>1</td><td>0</td><td>0</td><td>    NA</td><td>NA  </td><td>0</td><td>NA</td><td>NA</td><td>NA    </td><td>0</td></tr>\n",
       "\t<tr><td>1000434</td><td>63</td><td>3999</td><td>Female</td><td>No </td><td>1.1215480</td><td>0.03287154</td><td>2</td><td>1</td><td>0</td><td>0</td><td>    NA</td><td>NA  </td><td>0</td><td>NA</td><td>NA</td><td>NA    </td><td>0</td></tr>\n",
       "\t<tr><td>1000439</td><td>51</td><td>2672</td><td>Male  </td><td>Yes</td><td>1.3763296</td><td>0.05480801</td><td>2</td><td>1</td><td>0</td><td>0</td><td>    NA</td><td>NA  </td><td>0</td><td>NA</td><td>NA</td><td>NA    </td><td>0</td></tr>\n",
       "\t<tr><td>1000464</td><td>45</td><td>2100</td><td>Female</td><td>No </td><td>1.5555002</td><td>0.07861036</td><td>3</td><td>2</td><td>0</td><td>0</td><td>    NA</td><td>NA  </td><td>0</td><td>NA</td><td>NA</td><td>NA    </td><td>0</td></tr>\n",
       "\t<tr><td>1000471</td><td>50</td><td>2561</td><td>Female</td><td>No </td><td>1.4474940</td><td>0.08128705</td><td>3</td><td>2</td><td>0</td><td>0</td><td>    NA</td><td>NA  </td><td>0</td><td>NA</td><td>NA</td><td>NA    </td><td>0</td></tr>\n",
       "\t<tr><td>⋮</td><td>⋮</td><td>⋮</td><td>⋮</td><td>⋮</td><td>⋮</td><td>⋮</td><td>⋮</td><td>⋮</td><td>⋮</td><td>⋮</td><td>⋮</td><td>⋮</td><td>⋮</td><td>⋮</td><td>⋮</td><td>⋮</td><td>⋮</td></tr>\n",
       "\t<tr><td>9989434</td><td>72</td><td>5228</td><td>Female</td><td>NA </td><td>1.1643919</td><td>0.04399806</td><td>2</td><td>1</td><td>0</td><td>0</td><td>    NA</td><td>NA  </td><td>0</td><td>NA</td><td>NA</td><td>NA    </td><td>0</td></tr>\n",
       "\t<tr><td>9989777</td><td>61</td><td>3822</td><td>Male  </td><td>Yes</td><td>1.0573828</td><td>0.06107922</td><td>1</td><td>2</td><td>0</td><td>0</td><td>    NA</td><td>NA  </td><td>0</td><td>NA</td><td>NA</td><td>NA    </td><td>0</td></tr>\n",
       "\t<tr><td>9989855</td><td>62</td><td>3909</td><td>Male  </td><td>Yes</td><td>1.3447662</td><td>0.06755960</td><td>2</td><td>2</td><td>0</td><td>0</td><td>    NA</td><td>NA  </td><td>0</td><td>NA</td><td>NA</td><td>NA    </td><td>0</td></tr>\n",
       "\t<tr><td>9990273</td><td>66</td><td>4405</td><td>Female</td><td>Yes</td><td>0.9844489</td><td>0.03024400</td><td>1</td><td>1</td><td>0</td><td>0</td><td>    NA</td><td>NA  </td><td>0</td><td>NA</td><td>NA</td><td>NA    </td><td>0</td></tr>\n",
       "\t<tr><td>9990712</td><td>45</td><td>2082</td><td>Female</td><td>Yes</td><td>1.2063921</td><td>0.05795020</td><td>2</td><td>1</td><td>0</td><td>0</td><td>    NA</td><td>NA  </td><td>0</td><td>NA</td><td>NA</td><td>NA    </td><td>0</td></tr>\n",
       "\t<tr><td>9990760</td><td>78</td><td>6108</td><td>Female</td><td>Yes</td><td>1.4348253</td><td>0.09055129</td><td>3</td><td>3</td><td>0</td><td>0</td><td>    NA</td><td>NA  </td><td>0</td><td>NA</td><td>NA</td><td>NA    </td><td>0</td></tr>\n",
       "\t<tr><td>9990807</td><td>44</td><td>1948</td><td>Male  </td><td>No </td><td>1.0026504</td><td>0.06134439</td><td>1</td><td>2</td><td>0</td><td>0</td><td>    NA</td><td>NA  </td><td>0</td><td>NA</td><td>NA</td><td>NA    </td><td>0</td></tr>\n",
       "\t<tr><td>9991250</td><td>42</td><td>1837</td><td>Male  </td><td>Yes</td><td>1.6230059</td><td>0.10193154</td><td>3</td><td>3</td><td>0</td><td>0</td><td>    NA</td><td>NA  </td><td>0</td><td>NA</td><td>NA</td><td>NA    </td><td>0</td></tr>\n",
       "\t<tr><td>9991636</td><td>67</td><td>4562</td><td>Female</td><td>No </td><td>1.0215316</td><td>0.07175009</td><td>1</td><td>2</td><td>0</td><td>0</td><td>    NA</td><td>NA  </td><td>0</td><td>NA</td><td>NA</td><td>NA    </td><td>0</td></tr>\n",
       "\t<tr><td>9991712</td><td>45</td><td>2099</td><td>Female</td><td>No </td><td>1.3336332</td><td>0.05232583</td><td>2</td><td>1</td><td>0</td><td>0</td><td>    NA</td><td>NA  </td><td>0</td><td>NA</td><td>NA</td><td>NA    </td><td>0</td></tr>\n",
       "\t<tr><td>9992068</td><td>84</td><td>7175</td><td>Male  </td><td>Yes</td><td>1.3502832</td><td>0.07494468</td><td>2</td><td>2</td><td>0</td><td>0</td><td>    NA</td><td>NA  </td><td>0</td><td>NA</td><td>NA</td><td>NA    </td><td>0</td></tr>\n",
       "\t<tr><td>9992351</td><td>63</td><td>3991</td><td>Male  </td><td>No </td><td>0.9902676</td><td>0.07365975</td><td>1</td><td>2</td><td>0</td><td>0</td><td>    NA</td><td>NA  </td><td>0</td><td>NA</td><td>NA</td><td>NA    </td><td>0</td></tr>\n",
       "\t<tr><td>9992814</td><td>42</td><td>1815</td><td>Female</td><td>No </td><td>1.1535409</td><td>0.05383368</td><td>2</td><td>1</td><td>0</td><td>0</td><td>    NA</td><td>NA  </td><td>0</td><td>NA</td><td>NA</td><td>NA    </td><td>0</td></tr>\n",
       "\t<tr><td>9992979</td><td>79</td><td>6387</td><td>Female</td><td>NA </td><td>1.3741113</td><td>0.07399640</td><td>2</td><td>2</td><td>0</td><td>0</td><td>    NA</td><td>NA  </td><td>0</td><td>NA</td><td>NA</td><td>NA    </td><td>0</td></tr>\n",
       "\t<tr><td>9993207</td><td>66</td><td>4456</td><td>Male  </td><td>No </td><td>1.2341999</td><td>0.07990420</td><td>2</td><td>2</td><td>0</td><td>1</td><td>0.0556</td><td>chrX</td><td>2</td><td>T </td><td>T </td><td>CN-LOH</td><td>0</td></tr>\n",
       "\t<tr><td>9993246</td><td>73</td><td>5431</td><td>Female</td><td>No </td><td>1.3106497</td><td>0.06757981</td><td>2</td><td>2</td><td>0</td><td>0</td><td>    NA</td><td>NA  </td><td>0</td><td>NA</td><td>NA</td><td>NA    </td><td>0</td></tr>\n",
       "\t<tr><td>9993261</td><td>41</td><td>1705</td><td>Male  </td><td>No </td><td>1.2760732</td><td>0.09959170</td><td>2</td><td>3</td><td>0</td><td>0</td><td>    NA</td><td>NA  </td><td>0</td><td>NA</td><td>NA</td><td>NA    </td><td>0</td></tr>\n",
       "\t<tr><td>9995183</td><td>51</td><td>2663</td><td>Female</td><td>Yes</td><td>1.1186689</td><td>0.04980090</td><td>2</td><td>1</td><td>0</td><td>0</td><td>    NA</td><td>NA  </td><td>0</td><td>NA</td><td>NA</td><td>NA    </td><td>0</td></tr>\n",
       "\t<tr><td>9995309</td><td>56</td><td>3179</td><td>Male  </td><td>No </td><td>1.4127320</td><td>0.04371676</td><td>2</td><td>1</td><td>0</td><td>0</td><td>    NA</td><td>NA  </td><td>0</td><td>NA</td><td>NA</td><td>NA    </td><td>0</td></tr>\n",
       "\t<tr><td>9995312</td><td>75</td><td>5660</td><td>Male  </td><td>Yes</td><td>1.1349849</td><td>0.06813716</td><td>2</td><td>2</td><td>0</td><td>0</td><td>    NA</td><td>NA  </td><td>0</td><td>NA</td><td>NA</td><td>NA    </td><td>0</td></tr>\n",
       "\t<tr><td>9995407</td><td>55</td><td>3052</td><td>Female</td><td>Yes</td><td>1.3449926</td><td>0.07951910</td><td>2</td><td>2</td><td>0</td><td>0</td><td>    NA</td><td>NA  </td><td>0</td><td>NA</td><td>NA</td><td>NA    </td><td>0</td></tr>\n",
       "\t<tr><td>9995430</td><td>49</td><td>2421</td><td>Female</td><td>No </td><td>1.3312210</td><td>0.05384742</td><td>2</td><td>1</td><td>0</td><td>0</td><td>    NA</td><td>NA  </td><td>0</td><td>NA</td><td>NA</td><td>NA    </td><td>0</td></tr>\n",
       "\t<tr><td>9997301</td><td>46</td><td>2169</td><td>Male  </td><td>No </td><td>1.1993682</td><td>0.02795684</td><td>2</td><td>1</td><td>0</td><td>0</td><td>    NA</td><td>NA  </td><td>0</td><td>NA</td><td>NA</td><td>NA    </td><td>0</td></tr>\n",
       "\t<tr><td>9997501</td><td>69</td><td>4816</td><td>Male  </td><td>No </td><td>1.5404761</td><td>0.09300411</td><td>3</td><td>3</td><td>0</td><td>0</td><td>    NA</td><td>NA  </td><td>0</td><td>NA</td><td>NA</td><td>NA    </td><td>0</td></tr>\n",
       "\t<tr><td>9997532</td><td>68</td><td>4665</td><td>Male  </td><td>Yes</td><td>1.4878602</td><td>0.08507239</td><td>3</td><td>2</td><td>0</td><td>0</td><td>    NA</td><td>NA  </td><td>0</td><td>NA</td><td>NA</td><td>NA    </td><td>0</td></tr>\n",
       "\t<tr><td>9997943</td><td>75</td><td>5724</td><td>Female</td><td>Yes</td><td>1.0861339</td><td>0.09095358</td><td>1</td><td>3</td><td>0</td><td>0</td><td>    NA</td><td>NA  </td><td>0</td><td>NA</td><td>NA</td><td>NA    </td><td>0</td></tr>\n",
       "\t<tr><td>9998012</td><td>61</td><td>3818</td><td>Male  </td><td>No </td><td>1.3309468</td><td>0.08607086</td><td>2</td><td>2</td><td>0</td><td>0</td><td>    NA</td><td>NA  </td><td>0</td><td>NA</td><td>NA</td><td>NA    </td><td>0</td></tr>\n",
       "\t<tr><td>9998445</td><td>62</td><td>3849</td><td>Male  </td><td>No </td><td>1.2884761</td><td>0.06732584</td><td>2</td><td>2</td><td>0</td><td>0</td><td>    NA</td><td>NA  </td><td>0</td><td>NA</td><td>NA</td><td>NA    </td><td>0</td></tr>\n",
       "\t<tr><td>9998505</td><td>77</td><td>5985</td><td>Male  </td><td>Yes</td><td>1.1465520</td><td>0.07303516</td><td>2</td><td>2</td><td>0</td><td>0</td><td>    NA</td><td>NA  </td><td>0</td><td>NA</td><td>NA</td><td>NA    </td><td>0</td></tr>\n",
       "\t<tr><td>9999412</td><td>78</td><td>6136</td><td>Male  </td><td>No </td><td>1.6003945</td><td>0.06228284</td><td>3</td><td>2</td><td>0</td><td>0</td><td>    NA</td><td>NA  </td><td>0</td><td>NA</td><td>NA</td><td>NA    </td><td>0</td></tr>\n",
       "</tbody>\n",
       "</table>\n"
      ],
      "text/latex": [
       "A data.frame: 102803 × 18\n",
       "\\begin{tabular}{llllllllllllllllll}\n",
       " person\\_id & age & age\\_squ & sex\\_at\\_birth & smoking & cll\\_prs & ltl\\_prs & cll\\_262\\_coh & ltl\\_262\\_coh & mca\\_auto & cf\\_cat & cf\\_max & chrom & mca\\_highrisk & p\\_arm & q\\_arm & type & cll\\\\\n",
       " <int> & <int> & <int> & <chr> & <chr> & <dbl> & <dbl> & <fct> & <fct> & <dbl> & <fct> & <dbl> & <chr> & <fct> & <chr> & <chr> & <chr> & <dbl>\\\\\n",
       "\\hline\n",
       "\t 1000004 & 79 & 6258 & Male   & No  & 1.2691209 & 0.07003842 & 2 & 2 & 0 & 0 &     NA & NA   & 0 & NA & NA & NA     & 0\\\\\n",
       "\t 1000033 & 63 & 3983 & Male   & No  & 1.0465949 & 0.05900267 & 1 & 1 & 0 & 0 &     NA & NA   & 0 & NA & NA & NA     & 0\\\\\n",
       "\t 1000059 & 62 & 3873 & Female & Yes & 1.5140814 & 0.05709059 & 3 & 1 & 0 & 0 &     NA & NA   & 0 & NA & NA & NA     & 0\\\\\n",
       "\t 1000061 & 55 & 3064 & Male   & No  & 1.2991181 & 0.06786092 & 2 & 2 & 0 & 0 &     NA & NA   & 0 & NA & NA & NA     & 0\\\\\n",
       "\t 1000070 & 71 & 5081 & NA     & Yes & 1.2991541 & 0.06656039 & 2 & 2 & 0 & 0 &     NA & NA   & 0 & NA & NA & NA     & 0\\\\\n",
       "\t 1000091 & 65 & 4238 & Female & No  & 1.3227711 & 0.05297797 & 2 & 1 & 0 & 0 &     NA & NA   & 0 & NA & NA & NA     & 0\\\\\n",
       "\t 1000185 & 73 & 5357 & Female & No  & 1.1369147 & 0.05699883 & 2 & 1 & 0 & 0 &     NA & NA   & 0 & NA & NA & NA     & 0\\\\\n",
       "\t 1000186 & 78 & 6183 & Male   & Yes & 1.2822427 & 0.06077538 & 2 & 2 & 0 & 1 & 0.0734 & chrX & 2 & T  & T  & CN-LOH & 0\\\\\n",
       "\t 1000196 & 61 & 3755 & Male   & No  & 1.4637522 & 0.05153569 & 3 & 1 & 0 & 2 & 0.1040 & chrX & 2 & T  & T  & CN-LOH & 0\\\\\n",
       "\t 1000202 & 67 & 4575 & Male   & No  & 1.3464351 & 0.11069120 & 2 & 3 & 0 & 1 & 0.0798 & chrX & 2 & T  & T  & Gain   & 0\\\\\n",
       "\t 1000206 & 60 & 3634 & Male   & No  & 1.4347280 & 0.07073739 & 3 & 2 & 0 & 0 &     NA & NA   & 0 & NA & NA & NA     & 0\\\\\n",
       "\t 1000207 & 77 & 6000 & Female & No  & 1.1805501 & 0.06584593 & 2 & 2 & 0 & 0 &     NA & NA   & 0 & NA & NA & NA     & 0\\\\\n",
       "\t 1000216 & 51 & 2668 & Male   & Yes & 1.3104970 & 0.09961135 & 2 & 3 & 0 & 0 &     NA & NA   & 0 & NA & NA & NA     & 0\\\\\n",
       "\t 1000222 & 72 & 5327 & Male   & No  & 1.0444412 & 0.07545095 & 1 & 2 & 0 & 0 &     NA & NA   & 0 & NA & NA & NA     & 0\\\\\n",
       "\t 1000260 & 53 & 2885 & Male   & Yes & 1.1925987 & 0.05461395 & 2 & 1 & 0 & 0 &     NA & NA   & 0 & NA & NA & NA     & 0\\\\\n",
       "\t 1000275 & 62 & 3967 & Male   & No  & 1.0892089 & 0.04760061 & 1 & 1 & 0 & 0 &     NA & NA   & 0 & NA & NA & NA     & 0\\\\\n",
       "\t 1000292 & 40 & 1630 & Male   & No  & 1.1503816 & 0.06989333 & 2 & 2 & 0 & 0 &     NA & NA   & 0 & NA & NA & NA     & 0\\\\\n",
       "\t 1000301 & 59 & 3523 & Female & Yes & 1.2648959 & 0.07641079 & 2 & 2 & 0 & 0 &     NA & NA   & 0 & NA & NA & NA     & 0\\\\\n",
       "\t 1000307 & 54 & 3004 & Female & No  & 1.0607477 & 0.09933958 & 1 & 3 & 0 & 0 &     NA & NA   & 0 & NA & NA & NA     & 0\\\\\n",
       "\t 1000357 & 75 & 5730 & Female & Yes & 1.4903194 & 0.03874976 & 3 & 1 & 0 & 0 &     NA & NA   & 0 & NA & NA & NA     & 0\\\\\n",
       "\t 1000373 & 59 & 3551 & Male   & No  & 1.3548009 & 0.12956353 & 2 & 3 & 0 & 0 &     NA & NA   & 0 & NA & NA & NA     & 0\\\\\n",
       "\t 1000379 & 50 & 2511 & Male   & Yes & 0.8685744 & 0.06358450 & 1 & 2 & 0 & 0 &     NA & NA   & 0 & NA & NA & NA     & 0\\\\\n",
       "\t 1000384 & 74 & 5582 & Female & No  & 1.0319390 & 0.06897350 & 1 & 2 & 0 & 1 & 0.0222 & chrX & 2 & T  & T  & Gain   & 0\\\\\n",
       "\t 1000387 & 69 & 4769 & Male   & Yes & 1.3919831 & 0.08103790 & 2 & 2 & 0 & 0 &     NA & NA   & 0 & NA & NA & NA     & 0\\\\\n",
       "\t 1000396 & 71 & 5133 & Male   & Yes & 1.2614929 & 0.07581119 & 2 & 2 & 0 & 2 & 0.1061 & chrX & 2 & T  & T  & CN-LOH & 0\\\\\n",
       "\t 1000402 & 68 & 4717 & Female & No  & 1.2514038 & 0.05240179 & 2 & 1 & 0 & 0 &     NA & NA   & 0 & NA & NA & NA     & 0\\\\\n",
       "\t 1000434 & 63 & 3999 & Female & No  & 1.1215480 & 0.03287154 & 2 & 1 & 0 & 0 &     NA & NA   & 0 & NA & NA & NA     & 0\\\\\n",
       "\t 1000439 & 51 & 2672 & Male   & Yes & 1.3763296 & 0.05480801 & 2 & 1 & 0 & 0 &     NA & NA   & 0 & NA & NA & NA     & 0\\\\\n",
       "\t 1000464 & 45 & 2100 & Female & No  & 1.5555002 & 0.07861036 & 3 & 2 & 0 & 0 &     NA & NA   & 0 & NA & NA & NA     & 0\\\\\n",
       "\t 1000471 & 50 & 2561 & Female & No  & 1.4474940 & 0.08128705 & 3 & 2 & 0 & 0 &     NA & NA   & 0 & NA & NA & NA     & 0\\\\\n",
       "\t ⋮ & ⋮ & ⋮ & ⋮ & ⋮ & ⋮ & ⋮ & ⋮ & ⋮ & ⋮ & ⋮ & ⋮ & ⋮ & ⋮ & ⋮ & ⋮ & ⋮ & ⋮\\\\\n",
       "\t 9989434 & 72 & 5228 & Female & NA  & 1.1643919 & 0.04399806 & 2 & 1 & 0 & 0 &     NA & NA   & 0 & NA & NA & NA     & 0\\\\\n",
       "\t 9989777 & 61 & 3822 & Male   & Yes & 1.0573828 & 0.06107922 & 1 & 2 & 0 & 0 &     NA & NA   & 0 & NA & NA & NA     & 0\\\\\n",
       "\t 9989855 & 62 & 3909 & Male   & Yes & 1.3447662 & 0.06755960 & 2 & 2 & 0 & 0 &     NA & NA   & 0 & NA & NA & NA     & 0\\\\\n",
       "\t 9990273 & 66 & 4405 & Female & Yes & 0.9844489 & 0.03024400 & 1 & 1 & 0 & 0 &     NA & NA   & 0 & NA & NA & NA     & 0\\\\\n",
       "\t 9990712 & 45 & 2082 & Female & Yes & 1.2063921 & 0.05795020 & 2 & 1 & 0 & 0 &     NA & NA   & 0 & NA & NA & NA     & 0\\\\\n",
       "\t 9990760 & 78 & 6108 & Female & Yes & 1.4348253 & 0.09055129 & 3 & 3 & 0 & 0 &     NA & NA   & 0 & NA & NA & NA     & 0\\\\\n",
       "\t 9990807 & 44 & 1948 & Male   & No  & 1.0026504 & 0.06134439 & 1 & 2 & 0 & 0 &     NA & NA   & 0 & NA & NA & NA     & 0\\\\\n",
       "\t 9991250 & 42 & 1837 & Male   & Yes & 1.6230059 & 0.10193154 & 3 & 3 & 0 & 0 &     NA & NA   & 0 & NA & NA & NA     & 0\\\\\n",
       "\t 9991636 & 67 & 4562 & Female & No  & 1.0215316 & 0.07175009 & 1 & 2 & 0 & 0 &     NA & NA   & 0 & NA & NA & NA     & 0\\\\\n",
       "\t 9991712 & 45 & 2099 & Female & No  & 1.3336332 & 0.05232583 & 2 & 1 & 0 & 0 &     NA & NA   & 0 & NA & NA & NA     & 0\\\\\n",
       "\t 9992068 & 84 & 7175 & Male   & Yes & 1.3502832 & 0.07494468 & 2 & 2 & 0 & 0 &     NA & NA   & 0 & NA & NA & NA     & 0\\\\\n",
       "\t 9992351 & 63 & 3991 & Male   & No  & 0.9902676 & 0.07365975 & 1 & 2 & 0 & 0 &     NA & NA   & 0 & NA & NA & NA     & 0\\\\\n",
       "\t 9992814 & 42 & 1815 & Female & No  & 1.1535409 & 0.05383368 & 2 & 1 & 0 & 0 &     NA & NA   & 0 & NA & NA & NA     & 0\\\\\n",
       "\t 9992979 & 79 & 6387 & Female & NA  & 1.3741113 & 0.07399640 & 2 & 2 & 0 & 0 &     NA & NA   & 0 & NA & NA & NA     & 0\\\\\n",
       "\t 9993207 & 66 & 4456 & Male   & No  & 1.2341999 & 0.07990420 & 2 & 2 & 0 & 1 & 0.0556 & chrX & 2 & T  & T  & CN-LOH & 0\\\\\n",
       "\t 9993246 & 73 & 5431 & Female & No  & 1.3106497 & 0.06757981 & 2 & 2 & 0 & 0 &     NA & NA   & 0 & NA & NA & NA     & 0\\\\\n",
       "\t 9993261 & 41 & 1705 & Male   & No  & 1.2760732 & 0.09959170 & 2 & 3 & 0 & 0 &     NA & NA   & 0 & NA & NA & NA     & 0\\\\\n",
       "\t 9995183 & 51 & 2663 & Female & Yes & 1.1186689 & 0.04980090 & 2 & 1 & 0 & 0 &     NA & NA   & 0 & NA & NA & NA     & 0\\\\\n",
       "\t 9995309 & 56 & 3179 & Male   & No  & 1.4127320 & 0.04371676 & 2 & 1 & 0 & 0 &     NA & NA   & 0 & NA & NA & NA     & 0\\\\\n",
       "\t 9995312 & 75 & 5660 & Male   & Yes & 1.1349849 & 0.06813716 & 2 & 2 & 0 & 0 &     NA & NA   & 0 & NA & NA & NA     & 0\\\\\n",
       "\t 9995407 & 55 & 3052 & Female & Yes & 1.3449926 & 0.07951910 & 2 & 2 & 0 & 0 &     NA & NA   & 0 & NA & NA & NA     & 0\\\\\n",
       "\t 9995430 & 49 & 2421 & Female & No  & 1.3312210 & 0.05384742 & 2 & 1 & 0 & 0 &     NA & NA   & 0 & NA & NA & NA     & 0\\\\\n",
       "\t 9997301 & 46 & 2169 & Male   & No  & 1.1993682 & 0.02795684 & 2 & 1 & 0 & 0 &     NA & NA   & 0 & NA & NA & NA     & 0\\\\\n",
       "\t 9997501 & 69 & 4816 & Male   & No  & 1.5404761 & 0.09300411 & 3 & 3 & 0 & 0 &     NA & NA   & 0 & NA & NA & NA     & 0\\\\\n",
       "\t 9997532 & 68 & 4665 & Male   & Yes & 1.4878602 & 0.08507239 & 3 & 2 & 0 & 0 &     NA & NA   & 0 & NA & NA & NA     & 0\\\\\n",
       "\t 9997943 & 75 & 5724 & Female & Yes & 1.0861339 & 0.09095358 & 1 & 3 & 0 & 0 &     NA & NA   & 0 & NA & NA & NA     & 0\\\\\n",
       "\t 9998012 & 61 & 3818 & Male   & No  & 1.3309468 & 0.08607086 & 2 & 2 & 0 & 0 &     NA & NA   & 0 & NA & NA & NA     & 0\\\\\n",
       "\t 9998445 & 62 & 3849 & Male   & No  & 1.2884761 & 0.06732584 & 2 & 2 & 0 & 0 &     NA & NA   & 0 & NA & NA & NA     & 0\\\\\n",
       "\t 9998505 & 77 & 5985 & Male   & Yes & 1.1465520 & 0.07303516 & 2 & 2 & 0 & 0 &     NA & NA   & 0 & NA & NA & NA     & 0\\\\\n",
       "\t 9999412 & 78 & 6136 & Male   & No  & 1.6003945 & 0.06228284 & 3 & 2 & 0 & 0 &     NA & NA   & 0 & NA & NA & NA     & 0\\\\\n",
       "\\end{tabular}\n"
      ],
      "text/markdown": [
       "\n",
       "A data.frame: 102803 × 18\n",
       "\n",
       "| person_id &lt;int&gt; | age &lt;int&gt; | age_squ &lt;int&gt; | sex_at_birth &lt;chr&gt; | smoking &lt;chr&gt; | cll_prs &lt;dbl&gt; | ltl_prs &lt;dbl&gt; | cll_262_coh &lt;fct&gt; | ltl_262_coh &lt;fct&gt; | mca_auto &lt;dbl&gt; | cf_cat &lt;fct&gt; | cf_max &lt;dbl&gt; | chrom &lt;chr&gt; | mca_highrisk &lt;fct&gt; | p_arm &lt;chr&gt; | q_arm &lt;chr&gt; | type &lt;chr&gt; | cll &lt;dbl&gt; |\n",
       "|---|---|---|---|---|---|---|---|---|---|---|---|---|---|---|---|---|---|\n",
       "| 1000004 | 79 | 6258 | Male   | No  | 1.2691209 | 0.07003842 | 2 | 2 | 0 | 0 |     NA | NA   | 0 | NA | NA | NA     | 0 |\n",
       "| 1000033 | 63 | 3983 | Male   | No  | 1.0465949 | 0.05900267 | 1 | 1 | 0 | 0 |     NA | NA   | 0 | NA | NA | NA     | 0 |\n",
       "| 1000059 | 62 | 3873 | Female | Yes | 1.5140814 | 0.05709059 | 3 | 1 | 0 | 0 |     NA | NA   | 0 | NA | NA | NA     | 0 |\n",
       "| 1000061 | 55 | 3064 | Male   | No  | 1.2991181 | 0.06786092 | 2 | 2 | 0 | 0 |     NA | NA   | 0 | NA | NA | NA     | 0 |\n",
       "| 1000070 | 71 | 5081 | NA     | Yes | 1.2991541 | 0.06656039 | 2 | 2 | 0 | 0 |     NA | NA   | 0 | NA | NA | NA     | 0 |\n",
       "| 1000091 | 65 | 4238 | Female | No  | 1.3227711 | 0.05297797 | 2 | 1 | 0 | 0 |     NA | NA   | 0 | NA | NA | NA     | 0 |\n",
       "| 1000185 | 73 | 5357 | Female | No  | 1.1369147 | 0.05699883 | 2 | 1 | 0 | 0 |     NA | NA   | 0 | NA | NA | NA     | 0 |\n",
       "| 1000186 | 78 | 6183 | Male   | Yes | 1.2822427 | 0.06077538 | 2 | 2 | 0 | 1 | 0.0734 | chrX | 2 | T  | T  | CN-LOH | 0 |\n",
       "| 1000196 | 61 | 3755 | Male   | No  | 1.4637522 | 0.05153569 | 3 | 1 | 0 | 2 | 0.1040 | chrX | 2 | T  | T  | CN-LOH | 0 |\n",
       "| 1000202 | 67 | 4575 | Male   | No  | 1.3464351 | 0.11069120 | 2 | 3 | 0 | 1 | 0.0798 | chrX | 2 | T  | T  | Gain   | 0 |\n",
       "| 1000206 | 60 | 3634 | Male   | No  | 1.4347280 | 0.07073739 | 3 | 2 | 0 | 0 |     NA | NA   | 0 | NA | NA | NA     | 0 |\n",
       "| 1000207 | 77 | 6000 | Female | No  | 1.1805501 | 0.06584593 | 2 | 2 | 0 | 0 |     NA | NA   | 0 | NA | NA | NA     | 0 |\n",
       "| 1000216 | 51 | 2668 | Male   | Yes | 1.3104970 | 0.09961135 | 2 | 3 | 0 | 0 |     NA | NA   | 0 | NA | NA | NA     | 0 |\n",
       "| 1000222 | 72 | 5327 | Male   | No  | 1.0444412 | 0.07545095 | 1 | 2 | 0 | 0 |     NA | NA   | 0 | NA | NA | NA     | 0 |\n",
       "| 1000260 | 53 | 2885 | Male   | Yes | 1.1925987 | 0.05461395 | 2 | 1 | 0 | 0 |     NA | NA   | 0 | NA | NA | NA     | 0 |\n",
       "| 1000275 | 62 | 3967 | Male   | No  | 1.0892089 | 0.04760061 | 1 | 1 | 0 | 0 |     NA | NA   | 0 | NA | NA | NA     | 0 |\n",
       "| 1000292 | 40 | 1630 | Male   | No  | 1.1503816 | 0.06989333 | 2 | 2 | 0 | 0 |     NA | NA   | 0 | NA | NA | NA     | 0 |\n",
       "| 1000301 | 59 | 3523 | Female | Yes | 1.2648959 | 0.07641079 | 2 | 2 | 0 | 0 |     NA | NA   | 0 | NA | NA | NA     | 0 |\n",
       "| 1000307 | 54 | 3004 | Female | No  | 1.0607477 | 0.09933958 | 1 | 3 | 0 | 0 |     NA | NA   | 0 | NA | NA | NA     | 0 |\n",
       "| 1000357 | 75 | 5730 | Female | Yes | 1.4903194 | 0.03874976 | 3 | 1 | 0 | 0 |     NA | NA   | 0 | NA | NA | NA     | 0 |\n",
       "| 1000373 | 59 | 3551 | Male   | No  | 1.3548009 | 0.12956353 | 2 | 3 | 0 | 0 |     NA | NA   | 0 | NA | NA | NA     | 0 |\n",
       "| 1000379 | 50 | 2511 | Male   | Yes | 0.8685744 | 0.06358450 | 1 | 2 | 0 | 0 |     NA | NA   | 0 | NA | NA | NA     | 0 |\n",
       "| 1000384 | 74 | 5582 | Female | No  | 1.0319390 | 0.06897350 | 1 | 2 | 0 | 1 | 0.0222 | chrX | 2 | T  | T  | Gain   | 0 |\n",
       "| 1000387 | 69 | 4769 | Male   | Yes | 1.3919831 | 0.08103790 | 2 | 2 | 0 | 0 |     NA | NA   | 0 | NA | NA | NA     | 0 |\n",
       "| 1000396 | 71 | 5133 | Male   | Yes | 1.2614929 | 0.07581119 | 2 | 2 | 0 | 2 | 0.1061 | chrX | 2 | T  | T  | CN-LOH | 0 |\n",
       "| 1000402 | 68 | 4717 | Female | No  | 1.2514038 | 0.05240179 | 2 | 1 | 0 | 0 |     NA | NA   | 0 | NA | NA | NA     | 0 |\n",
       "| 1000434 | 63 | 3999 | Female | No  | 1.1215480 | 0.03287154 | 2 | 1 | 0 | 0 |     NA | NA   | 0 | NA | NA | NA     | 0 |\n",
       "| 1000439 | 51 | 2672 | Male   | Yes | 1.3763296 | 0.05480801 | 2 | 1 | 0 | 0 |     NA | NA   | 0 | NA | NA | NA     | 0 |\n",
       "| 1000464 | 45 | 2100 | Female | No  | 1.5555002 | 0.07861036 | 3 | 2 | 0 | 0 |     NA | NA   | 0 | NA | NA | NA     | 0 |\n",
       "| 1000471 | 50 | 2561 | Female | No  | 1.4474940 | 0.08128705 | 3 | 2 | 0 | 0 |     NA | NA   | 0 | NA | NA | NA     | 0 |\n",
       "| ⋮ | ⋮ | ⋮ | ⋮ | ⋮ | ⋮ | ⋮ | ⋮ | ⋮ | ⋮ | ⋮ | ⋮ | ⋮ | ⋮ | ⋮ | ⋮ | ⋮ | ⋮ |\n",
       "| 9989434 | 72 | 5228 | Female | NA  | 1.1643919 | 0.04399806 | 2 | 1 | 0 | 0 |     NA | NA   | 0 | NA | NA | NA     | 0 |\n",
       "| 9989777 | 61 | 3822 | Male   | Yes | 1.0573828 | 0.06107922 | 1 | 2 | 0 | 0 |     NA | NA   | 0 | NA | NA | NA     | 0 |\n",
       "| 9989855 | 62 | 3909 | Male   | Yes | 1.3447662 | 0.06755960 | 2 | 2 | 0 | 0 |     NA | NA   | 0 | NA | NA | NA     | 0 |\n",
       "| 9990273 | 66 | 4405 | Female | Yes | 0.9844489 | 0.03024400 | 1 | 1 | 0 | 0 |     NA | NA   | 0 | NA | NA | NA     | 0 |\n",
       "| 9990712 | 45 | 2082 | Female | Yes | 1.2063921 | 0.05795020 | 2 | 1 | 0 | 0 |     NA | NA   | 0 | NA | NA | NA     | 0 |\n",
       "| 9990760 | 78 | 6108 | Female | Yes | 1.4348253 | 0.09055129 | 3 | 3 | 0 | 0 |     NA | NA   | 0 | NA | NA | NA     | 0 |\n",
       "| 9990807 | 44 | 1948 | Male   | No  | 1.0026504 | 0.06134439 | 1 | 2 | 0 | 0 |     NA | NA   | 0 | NA | NA | NA     | 0 |\n",
       "| 9991250 | 42 | 1837 | Male   | Yes | 1.6230059 | 0.10193154 | 3 | 3 | 0 | 0 |     NA | NA   | 0 | NA | NA | NA     | 0 |\n",
       "| 9991636 | 67 | 4562 | Female | No  | 1.0215316 | 0.07175009 | 1 | 2 | 0 | 0 |     NA | NA   | 0 | NA | NA | NA     | 0 |\n",
       "| 9991712 | 45 | 2099 | Female | No  | 1.3336332 | 0.05232583 | 2 | 1 | 0 | 0 |     NA | NA   | 0 | NA | NA | NA     | 0 |\n",
       "| 9992068 | 84 | 7175 | Male   | Yes | 1.3502832 | 0.07494468 | 2 | 2 | 0 | 0 |     NA | NA   | 0 | NA | NA | NA     | 0 |\n",
       "| 9992351 | 63 | 3991 | Male   | No  | 0.9902676 | 0.07365975 | 1 | 2 | 0 | 0 |     NA | NA   | 0 | NA | NA | NA     | 0 |\n",
       "| 9992814 | 42 | 1815 | Female | No  | 1.1535409 | 0.05383368 | 2 | 1 | 0 | 0 |     NA | NA   | 0 | NA | NA | NA     | 0 |\n",
       "| 9992979 | 79 | 6387 | Female | NA  | 1.3741113 | 0.07399640 | 2 | 2 | 0 | 0 |     NA | NA   | 0 | NA | NA | NA     | 0 |\n",
       "| 9993207 | 66 | 4456 | Male   | No  | 1.2341999 | 0.07990420 | 2 | 2 | 0 | 1 | 0.0556 | chrX | 2 | T  | T  | CN-LOH | 0 |\n",
       "| 9993246 | 73 | 5431 | Female | No  | 1.3106497 | 0.06757981 | 2 | 2 | 0 | 0 |     NA | NA   | 0 | NA | NA | NA     | 0 |\n",
       "| 9993261 | 41 | 1705 | Male   | No  | 1.2760732 | 0.09959170 | 2 | 3 | 0 | 0 |     NA | NA   | 0 | NA | NA | NA     | 0 |\n",
       "| 9995183 | 51 | 2663 | Female | Yes | 1.1186689 | 0.04980090 | 2 | 1 | 0 | 0 |     NA | NA   | 0 | NA | NA | NA     | 0 |\n",
       "| 9995309 | 56 | 3179 | Male   | No  | 1.4127320 | 0.04371676 | 2 | 1 | 0 | 0 |     NA | NA   | 0 | NA | NA | NA     | 0 |\n",
       "| 9995312 | 75 | 5660 | Male   | Yes | 1.1349849 | 0.06813716 | 2 | 2 | 0 | 0 |     NA | NA   | 0 | NA | NA | NA     | 0 |\n",
       "| 9995407 | 55 | 3052 | Female | Yes | 1.3449926 | 0.07951910 | 2 | 2 | 0 | 0 |     NA | NA   | 0 | NA | NA | NA     | 0 |\n",
       "| 9995430 | 49 | 2421 | Female | No  | 1.3312210 | 0.05384742 | 2 | 1 | 0 | 0 |     NA | NA   | 0 | NA | NA | NA     | 0 |\n",
       "| 9997301 | 46 | 2169 | Male   | No  | 1.1993682 | 0.02795684 | 2 | 1 | 0 | 0 |     NA | NA   | 0 | NA | NA | NA     | 0 |\n",
       "| 9997501 | 69 | 4816 | Male   | No  | 1.5404761 | 0.09300411 | 3 | 3 | 0 | 0 |     NA | NA   | 0 | NA | NA | NA     | 0 |\n",
       "| 9997532 | 68 | 4665 | Male   | Yes | 1.4878602 | 0.08507239 | 3 | 2 | 0 | 0 |     NA | NA   | 0 | NA | NA | NA     | 0 |\n",
       "| 9997943 | 75 | 5724 | Female | Yes | 1.0861339 | 0.09095358 | 1 | 3 | 0 | 0 |     NA | NA   | 0 | NA | NA | NA     | 0 |\n",
       "| 9998012 | 61 | 3818 | Male   | No  | 1.3309468 | 0.08607086 | 2 | 2 | 0 | 0 |     NA | NA   | 0 | NA | NA | NA     | 0 |\n",
       "| 9998445 | 62 | 3849 | Male   | No  | 1.2884761 | 0.06732584 | 2 | 2 | 0 | 0 |     NA | NA   | 0 | NA | NA | NA     | 0 |\n",
       "| 9998505 | 77 | 5985 | Male   | Yes | 1.1465520 | 0.07303516 | 2 | 2 | 0 | 0 |     NA | NA   | 0 | NA | NA | NA     | 0 |\n",
       "| 9999412 | 78 | 6136 | Male   | No  | 1.6003945 | 0.06228284 | 3 | 2 | 0 | 0 |     NA | NA   | 0 | NA | NA | NA     | 0 |\n",
       "\n"
      ],
      "text/plain": [
       "       person_id age age_squ sex_at_birth smoking cll_prs   ltl_prs   \n",
       "1      1000004   79  6258    Male         No      1.2691209 0.07003842\n",
       "2      1000033   63  3983    Male         No      1.0465949 0.05900267\n",
       "3      1000059   62  3873    Female       Yes     1.5140814 0.05709059\n",
       "4      1000061   55  3064    Male         No      1.2991181 0.06786092\n",
       "5      1000070   71  5081    NA           Yes     1.2991541 0.06656039\n",
       "6      1000091   65  4238    Female       No      1.3227711 0.05297797\n",
       "7      1000185   73  5357    Female       No      1.1369147 0.05699883\n",
       "8      1000186   78  6183    Male         Yes     1.2822427 0.06077538\n",
       "9      1000196   61  3755    Male         No      1.4637522 0.05153569\n",
       "10     1000202   67  4575    Male         No      1.3464351 0.11069120\n",
       "11     1000206   60  3634    Male         No      1.4347280 0.07073739\n",
       "12     1000207   77  6000    Female       No      1.1805501 0.06584593\n",
       "13     1000216   51  2668    Male         Yes     1.3104970 0.09961135\n",
       "14     1000222   72  5327    Male         No      1.0444412 0.07545095\n",
       "15     1000260   53  2885    Male         Yes     1.1925987 0.05461395\n",
       "16     1000275   62  3967    Male         No      1.0892089 0.04760061\n",
       "17     1000292   40  1630    Male         No      1.1503816 0.06989333\n",
       "18     1000301   59  3523    Female       Yes     1.2648959 0.07641079\n",
       "19     1000307   54  3004    Female       No      1.0607477 0.09933958\n",
       "20     1000357   75  5730    Female       Yes     1.4903194 0.03874976\n",
       "21     1000373   59  3551    Male         No      1.3548009 0.12956353\n",
       "22     1000379   50  2511    Male         Yes     0.8685744 0.06358450\n",
       "23     1000384   74  5582    Female       No      1.0319390 0.06897350\n",
       "24     1000387   69  4769    Male         Yes     1.3919831 0.08103790\n",
       "25     1000396   71  5133    Male         Yes     1.2614929 0.07581119\n",
       "26     1000402   68  4717    Female       No      1.2514038 0.05240179\n",
       "27     1000434   63  3999    Female       No      1.1215480 0.03287154\n",
       "28     1000439   51  2672    Male         Yes     1.3763296 0.05480801\n",
       "29     1000464   45  2100    Female       No      1.5555002 0.07861036\n",
       "30     1000471   50  2561    Female       No      1.4474940 0.08128705\n",
       "⋮      ⋮         ⋮   ⋮       ⋮            ⋮       ⋮         ⋮         \n",
       "102774 9989434   72  5228    Female       NA      1.1643919 0.04399806\n",
       "102775 9989777   61  3822    Male         Yes     1.0573828 0.06107922\n",
       "102776 9989855   62  3909    Male         Yes     1.3447662 0.06755960\n",
       "102777 9990273   66  4405    Female       Yes     0.9844489 0.03024400\n",
       "102778 9990712   45  2082    Female       Yes     1.2063921 0.05795020\n",
       "102779 9990760   78  6108    Female       Yes     1.4348253 0.09055129\n",
       "102780 9990807   44  1948    Male         No      1.0026504 0.06134439\n",
       "102781 9991250   42  1837    Male         Yes     1.6230059 0.10193154\n",
       "102782 9991636   67  4562    Female       No      1.0215316 0.07175009\n",
       "102783 9991712   45  2099    Female       No      1.3336332 0.05232583\n",
       "102784 9992068   84  7175    Male         Yes     1.3502832 0.07494468\n",
       "102785 9992351   63  3991    Male         No      0.9902676 0.07365975\n",
       "102786 9992814   42  1815    Female       No      1.1535409 0.05383368\n",
       "102787 9992979   79  6387    Female       NA      1.3741113 0.07399640\n",
       "102788 9993207   66  4456    Male         No      1.2341999 0.07990420\n",
       "102789 9993246   73  5431    Female       No      1.3106497 0.06757981\n",
       "102790 9993261   41  1705    Male         No      1.2760732 0.09959170\n",
       "102791 9995183   51  2663    Female       Yes     1.1186689 0.04980090\n",
       "102792 9995309   56  3179    Male         No      1.4127320 0.04371676\n",
       "102793 9995312   75  5660    Male         Yes     1.1349849 0.06813716\n",
       "102794 9995407   55  3052    Female       Yes     1.3449926 0.07951910\n",
       "102795 9995430   49  2421    Female       No      1.3312210 0.05384742\n",
       "102796 9997301   46  2169    Male         No      1.1993682 0.02795684\n",
       "102797 9997501   69  4816    Male         No      1.5404761 0.09300411\n",
       "102798 9997532   68  4665    Male         Yes     1.4878602 0.08507239\n",
       "102799 9997943   75  5724    Female       Yes     1.0861339 0.09095358\n",
       "102800 9998012   61  3818    Male         No      1.3309468 0.08607086\n",
       "102801 9998445   62  3849    Male         No      1.2884761 0.06732584\n",
       "102802 9998505   77  5985    Male         Yes     1.1465520 0.07303516\n",
       "102803 9999412   78  6136    Male         No      1.6003945 0.06228284\n",
       "       cll_262_coh ltl_262_coh mca_auto cf_cat cf_max chrom mca_highrisk p_arm\n",
       "1      2           2           0        0          NA NA    0            NA   \n",
       "2      1           1           0        0          NA NA    0            NA   \n",
       "3      3           1           0        0          NA NA    0            NA   \n",
       "4      2           2           0        0          NA NA    0            NA   \n",
       "5      2           2           0        0          NA NA    0            NA   \n",
       "6      2           1           0        0          NA NA    0            NA   \n",
       "7      2           1           0        0          NA NA    0            NA   \n",
       "8      2           2           0        1      0.0734 chrX  2            T    \n",
       "9      3           1           0        2      0.1040 chrX  2            T    \n",
       "10     2           3           0        1      0.0798 chrX  2            T    \n",
       "11     3           2           0        0          NA NA    0            NA   \n",
       "12     2           2           0        0          NA NA    0            NA   \n",
       "13     2           3           0        0          NA NA    0            NA   \n",
       "14     1           2           0        0          NA NA    0            NA   \n",
       "15     2           1           0        0          NA NA    0            NA   \n",
       "16     1           1           0        0          NA NA    0            NA   \n",
       "17     2           2           0        0          NA NA    0            NA   \n",
       "18     2           2           0        0          NA NA    0            NA   \n",
       "19     1           3           0        0          NA NA    0            NA   \n",
       "20     3           1           0        0          NA NA    0            NA   \n",
       "21     2           3           0        0          NA NA    0            NA   \n",
       "22     1           2           0        0          NA NA    0            NA   \n",
       "23     1           2           0        1      0.0222 chrX  2            T    \n",
       "24     2           2           0        0          NA NA    0            NA   \n",
       "25     2           2           0        2      0.1061 chrX  2            T    \n",
       "26     2           1           0        0          NA NA    0            NA   \n",
       "27     2           1           0        0          NA NA    0            NA   \n",
       "28     2           1           0        0          NA NA    0            NA   \n",
       "29     3           2           0        0          NA NA    0            NA   \n",
       "30     3           2           0        0          NA NA    0            NA   \n",
       "⋮      ⋮           ⋮           ⋮        ⋮      ⋮      ⋮     ⋮            ⋮    \n",
       "102774 2           1           0        0          NA NA    0            NA   \n",
       "102775 1           2           0        0          NA NA    0            NA   \n",
       "102776 2           2           0        0          NA NA    0            NA   \n",
       "102777 1           1           0        0          NA NA    0            NA   \n",
       "102778 2           1           0        0          NA NA    0            NA   \n",
       "102779 3           3           0        0          NA NA    0            NA   \n",
       "102780 1           2           0        0          NA NA    0            NA   \n",
       "102781 3           3           0        0          NA NA    0            NA   \n",
       "102782 1           2           0        0          NA NA    0            NA   \n",
       "102783 2           1           0        0          NA NA    0            NA   \n",
       "102784 2           2           0        0          NA NA    0            NA   \n",
       "102785 1           2           0        0          NA NA    0            NA   \n",
       "102786 2           1           0        0          NA NA    0            NA   \n",
       "102787 2           2           0        0          NA NA    0            NA   \n",
       "102788 2           2           0        1      0.0556 chrX  2            T    \n",
       "102789 2           2           0        0          NA NA    0            NA   \n",
       "102790 2           3           0        0          NA NA    0            NA   \n",
       "102791 2           1           0        0          NA NA    0            NA   \n",
       "102792 2           1           0        0          NA NA    0            NA   \n",
       "102793 2           2           0        0          NA NA    0            NA   \n",
       "102794 2           2           0        0          NA NA    0            NA   \n",
       "102795 2           1           0        0          NA NA    0            NA   \n",
       "102796 2           1           0        0          NA NA    0            NA   \n",
       "102797 3           3           0        0          NA NA    0            NA   \n",
       "102798 3           2           0        0          NA NA    0            NA   \n",
       "102799 1           3           0        0          NA NA    0            NA   \n",
       "102800 2           2           0        0          NA NA    0            NA   \n",
       "102801 2           2           0        0          NA NA    0            NA   \n",
       "102802 2           2           0        0          NA NA    0            NA   \n",
       "102803 3           2           0        0          NA NA    0            NA   \n",
       "       q_arm type   cll\n",
       "1      NA    NA     0  \n",
       "2      NA    NA     0  \n",
       "3      NA    NA     0  \n",
       "4      NA    NA     0  \n",
       "5      NA    NA     0  \n",
       "6      NA    NA     0  \n",
       "7      NA    NA     0  \n",
       "8      T     CN-LOH 0  \n",
       "9      T     CN-LOH 0  \n",
       "10     T     Gain   0  \n",
       "11     NA    NA     0  \n",
       "12     NA    NA     0  \n",
       "13     NA    NA     0  \n",
       "14     NA    NA     0  \n",
       "15     NA    NA     0  \n",
       "16     NA    NA     0  \n",
       "17     NA    NA     0  \n",
       "18     NA    NA     0  \n",
       "19     NA    NA     0  \n",
       "20     NA    NA     0  \n",
       "21     NA    NA     0  \n",
       "22     NA    NA     0  \n",
       "23     T     Gain   0  \n",
       "24     NA    NA     0  \n",
       "25     T     CN-LOH 0  \n",
       "26     NA    NA     0  \n",
       "27     NA    NA     0  \n",
       "28     NA    NA     0  \n",
       "29     NA    NA     0  \n",
       "30     NA    NA     0  \n",
       "⋮      ⋮     ⋮      ⋮  \n",
       "102774 NA    NA     0  \n",
       "102775 NA    NA     0  \n",
       "102776 NA    NA     0  \n",
       "102777 NA    NA     0  \n",
       "102778 NA    NA     0  \n",
       "102779 NA    NA     0  \n",
       "102780 NA    NA     0  \n",
       "102781 NA    NA     0  \n",
       "102782 NA    NA     0  \n",
       "102783 NA    NA     0  \n",
       "102784 NA    NA     0  \n",
       "102785 NA    NA     0  \n",
       "102786 NA    NA     0  \n",
       "102787 NA    NA     0  \n",
       "102788 T     CN-LOH 0  \n",
       "102789 NA    NA     0  \n",
       "102790 NA    NA     0  \n",
       "102791 NA    NA     0  \n",
       "102792 NA    NA     0  \n",
       "102793 NA    NA     0  \n",
       "102794 NA    NA     0  \n",
       "102795 NA    NA     0  \n",
       "102796 NA    NA     0  \n",
       "102797 NA    NA     0  \n",
       "102798 NA    NA     0  \n",
       "102799 NA    NA     0  \n",
       "102800 NA    NA     0  \n",
       "102801 NA    NA     0  \n",
       "102802 NA    NA     0  \n",
       "102803 NA    NA     0  "
      ]
     },
     "metadata": {},
     "output_type": "display_data"
    }
   ],
   "source": [
    "AoU_mCA_clean$person_id <- as.integer(AoU_mCA_clean$person_id)\n",
    "AoU_mCA_clean$age <- as.integer(AoU_mCA_clean$age)\n",
    "AoU_mCA_clean$age_squ <- as.integer(AoU_mCA_clean$age_squ)\n",
    "\n",
    "UKB_mCA_clean2$cf_cat <- as.factor(UKB_mCA_clean2$cf_cat)\n",
    "UKB_mCA_clean2$mca_highrisk <- as.factor(UKB_mCA_clean2$mca_highrisk)\n",
    "\n",
    "UKB_mCA_clean2 #487071\n",
    "AoU_mCA_clean #102803\n"
   ]
  },
  {
   "cell_type": "code",
   "execution_count": 81,
   "id": "5350834c",
   "metadata": {},
   "outputs": [
    {
     "data": {
      "text/plain": [
       "   Min. 1st Qu.  Median    Mean 3rd Qu.    Max.    NA's \n",
       " 0.0047  0.0272  0.0469  0.1131  0.1233  0.8514     518 "
      ]
     },
     "metadata": {},
     "output_type": "display_data"
    }
   ],
   "source": [
    "UKB_mCA_carriers <- filter(UKB_mCA_clean2, UKB_mCA_clean2$mca_auto ==1)\n",
    "summary(UKB_mCA_carriers$cf_max)"
   ]
  },
  {
   "cell_type": "code",
   "execution_count": 62,
   "id": "1dc523c4",
   "metadata": {},
   "outputs": [],
   "source": [
    "UKB_mCA_clean2$cohort <- \"UKB\"\n",
    "AoU_mCA_clean$cohort <- \"AoU\""
   ]
  },
  {
   "cell_type": "code",
   "execution_count": 135,
   "id": "9faefa7b",
   "metadata": {},
   "outputs": [],
   "source": [
    "mCA_clean_A_U <- rbind(UKB_mCA_clean2, AoU_mCA_clean)"
   ]
  },
  {
   "cell_type": "code",
   "execution_count": 136,
   "id": "0b8ac17f",
   "metadata": {},
   "outputs": [
    {
     "data": {
      "text/html": [
       "<table class=\"dataframe\">\n",
       "<caption>A data.table: 589867 × 21</caption>\n",
       "<thead>\n",
       "\t<tr><th scope=col>person_id</th><th scope=col>age</th><th scope=col>age_squ</th><th scope=col>sex_at_birth</th><th scope=col>smoking</th><th scope=col>cll_prs</th><th scope=col>ltl_prs</th><th scope=col>cll_262_coh</th><th scope=col>ltl_262_coh</th><th scope=col>mca_auto</th><th scope=col>⋯</th><th scope=col>cf_max</th><th scope=col>chrom</th><th scope=col>mca_highrisk</th><th scope=col>p_arm</th><th scope=col>q_arm</th><th scope=col>type</th><th scope=col>cll</th><th scope=col>cohort</th><th scope=col>agegroup</th><th scope=col>mca_cf10</th></tr>\n",
       "\t<tr><th scope=col>&lt;int&gt;</th><th scope=col>&lt;int&gt;</th><th scope=col>&lt;int&gt;</th><th scope=col>&lt;chr&gt;</th><th scope=col>&lt;chr&gt;</th><th scope=col>&lt;dbl&gt;</th><th scope=col>&lt;dbl&gt;</th><th scope=col>&lt;fct&gt;</th><th scope=col>&lt;fct&gt;</th><th scope=col>&lt;dbl&gt;</th><th scope=col>⋯</th><th scope=col>&lt;dbl&gt;</th><th scope=col>&lt;chr&gt;</th><th scope=col>&lt;fct&gt;</th><th scope=col>&lt;chr&gt;</th><th scope=col>&lt;chr&gt;</th><th scope=col>&lt;chr&gt;</th><th scope=col>&lt;dbl&gt;</th><th scope=col>&lt;chr&gt;</th><th scope=col>&lt;chr&gt;</th><th scope=col>&lt;dbl&gt;</th></tr>\n",
       "</thead>\n",
       "<tbody>\n",
       "\t<tr><td>1000013</td><td>48</td><td>2304</td><td>Female</td><td>No </td><td>1.142505</td><td>-0.009114790</td><td>1</td><td>2</td><td>0</td><td>⋯</td><td>   NA</td><td>NA   </td><td>0</td><td>NA</td><td>NA</td><td>NA          </td><td>0</td><td>UKB</td><td>1</td><td>0</td></tr>\n",
       "\t<tr><td>1000024</td><td>54</td><td>2916</td><td>Female</td><td>Yes</td><td>1.365924</td><td>-0.048422140</td><td>2</td><td>1</td><td>0</td><td>⋯</td><td>   NA</td><td>NA   </td><td>0</td><td>NA</td><td>NA</td><td>NA          </td><td>0</td><td>UKB</td><td>2</td><td>0</td></tr>\n",
       "\t<tr><td>1000036</td><td>67</td><td>4489</td><td>Male  </td><td>No </td><td>1.520083</td><td>-0.034286250</td><td>2</td><td>1</td><td>0</td><td>⋯</td><td>   NA</td><td>NA   </td><td>0</td><td>NA</td><td>NA</td><td>NA          </td><td>0</td><td>UKB</td><td>3</td><td>0</td></tr>\n",
       "\t<tr><td>1000048</td><td>60</td><td>3600</td><td>Female</td><td>Yes</td><td>1.669113</td><td>-0.011578300</td><td>3</td><td>2</td><td>0</td><td>⋯</td><td>   NA</td><td>NA   </td><td>0</td><td>NA</td><td>NA</td><td>NA          </td><td>0</td><td>UKB</td><td>3</td><td>0</td></tr>\n",
       "\t<tr><td>1000055</td><td>40</td><td>1600</td><td>Male  </td><td>No </td><td>1.235437</td><td>-0.015263113</td><td>1</td><td>2</td><td>0</td><td>⋯</td><td>   NA</td><td>NA   </td><td>0</td><td>NA</td><td>NA</td><td>NA          </td><td>0</td><td>UKB</td><td>1</td><td>0</td></tr>\n",
       "\t<tr><td>1000067</td><td>64</td><td>4096</td><td>Female</td><td>No </td><td>1.159228</td><td>-0.021568793</td><td>1</td><td>2</td><td>0</td><td>⋯</td><td>   NA</td><td>NA   </td><td>0</td><td>NA</td><td>NA</td><td>NA          </td><td>0</td><td>UKB</td><td>3</td><td>0</td></tr>\n",
       "\t<tr><td>1000072</td><td>54</td><td>2916</td><td>Male  </td><td>No </td><td>1.915532</td><td>-0.021272490</td><td>3</td><td>2</td><td>0</td><td>⋯</td><td>   NA</td><td>NA   </td><td>0</td><td>NA</td><td>NA</td><td>NA          </td><td>0</td><td>UKB</td><td>2</td><td>0</td></tr>\n",
       "\t<tr><td>1000080</td><td>49</td><td>2401</td><td>Male  </td><td>Yes</td><td>1.352047</td><td>-0.003704730</td><td>2</td><td>2</td><td>0</td><td>⋯</td><td>   NA</td><td>NA   </td><td>0</td><td>NA</td><td>NA</td><td>NA          </td><td>0</td><td>UKB</td><td>1</td><td>0</td></tr>\n",
       "\t<tr><td>1000099</td><td>58</td><td>3364</td><td>Male  </td><td>Yes</td><td>1.686992</td><td>-0.027113390</td><td>3</td><td>1</td><td>0</td><td>⋯</td><td>   NA</td><td>NA   </td><td>0</td><td>NA</td><td>NA</td><td>NA          </td><td>0</td><td>UKB</td><td>2</td><td>0</td></tr>\n",
       "\t<tr><td>1000106</td><td>42</td><td>1764</td><td>Female</td><td>Yes</td><td>1.475761</td><td>-0.000256200</td><td>2</td><td>2</td><td>0</td><td>⋯</td><td>   NA</td><td>NA   </td><td>0</td><td>NA</td><td>NA</td><td>NA          </td><td>0</td><td>UKB</td><td>1</td><td>0</td></tr>\n",
       "\t<tr><td>1000114</td><td>43</td><td>1849</td><td>Male  </td><td>No </td><td>1.727055</td><td>-0.015734760</td><td>3</td><td>2</td><td>0</td><td>⋯</td><td>   NA</td><td>NA   </td><td>0</td><td>NA</td><td>NA</td><td>NA          </td><td>0</td><td>UKB</td><td>1</td><td>0</td></tr>\n",
       "\t<tr><td>1000123</td><td>64</td><td>4096</td><td>Male  </td><td>Yes</td><td>1.612589</td><td> 0.006438262</td><td>2</td><td>3</td><td>1</td><td>⋯</td><td>0.077</td><td>chr19</td><td>2</td><td>N </td><td>T </td><td>Undetermined</td><td>0</td><td>UKB</td><td>3</td><td>0</td></tr>\n",
       "\t<tr><td>1000131</td><td>57</td><td>3249</td><td>Male  </td><td>Yes</td><td>1.395898</td><td>-0.008145320</td><td>2</td><td>2</td><td>0</td><td>⋯</td><td>   NA</td><td>NA   </td><td>0</td><td>NA</td><td>NA</td><td>NA          </td><td>0</td><td>UKB</td><td>2</td><td>0</td></tr>\n",
       "\t<tr><td>1000140</td><td>48</td><td>2304</td><td>Female</td><td>No </td><td>1.334920</td><td>-0.032876348</td><td>2</td><td>1</td><td>0</td><td>⋯</td><td>   NA</td><td>NA   </td><td>0</td><td>NA</td><td>NA</td><td>NA          </td><td>0</td><td>UKB</td><td>1</td><td>0</td></tr>\n",
       "\t<tr><td>1000157</td><td>64</td><td>4096</td><td>Female</td><td>No </td><td>1.585097</td><td> 0.002202860</td><td>2</td><td>2</td><td>0</td><td>⋯</td><td>   NA</td><td>NA   </td><td>0</td><td>NA</td><td>NA</td><td>NA          </td><td>0</td><td>UKB</td><td>3</td><td>0</td></tr>\n",
       "\t<tr><td>1000165</td><td>64</td><td>4096</td><td>Female</td><td>No </td><td>1.777829</td><td>-0.026820388</td><td>3</td><td>1</td><td>0</td><td>⋯</td><td>   NA</td><td>NA   </td><td>0</td><td>NA</td><td>NA</td><td>NA          </td><td>0</td><td>UKB</td><td>3</td><td>0</td></tr>\n",
       "\t<tr><td>1000179</td><td>64</td><td>4096</td><td>Female</td><td>Yes</td><td>1.701367</td><td>-0.004466590</td><td>3</td><td>2</td><td>0</td><td>⋯</td><td>   NA</td><td>NA   </td><td>0</td><td>NA</td><td>NA</td><td>NA          </td><td>0</td><td>UKB</td><td>3</td><td>0</td></tr>\n",
       "\t<tr><td>1000188</td><td>65</td><td>4225</td><td>Male  </td><td>Yes</td><td>1.459902</td><td>-0.001325840</td><td>2</td><td>2</td><td>0</td><td>⋯</td><td>   NA</td><td>NA   </td><td>0</td><td>NA</td><td>NA</td><td>NA          </td><td>0</td><td>UKB</td><td>3</td><td>0</td></tr>\n",
       "\t<tr><td>1000192</td><td>57</td><td>3249</td><td>Female</td><td>Yes</td><td>1.329569</td><td>-0.033985270</td><td>2</td><td>1</td><td>0</td><td>⋯</td><td>   NA</td><td>NA   </td><td>0</td><td>NA</td><td>NA</td><td>NA          </td><td>0</td><td>UKB</td><td>2</td><td>0</td></tr>\n",
       "\t<tr><td>1000207</td><td>66</td><td>4356</td><td>Female</td><td>Yes</td><td>1.566201</td><td>-0.023885730</td><td>2</td><td>2</td><td>0</td><td>⋯</td><td>   NA</td><td>NA   </td><td>0</td><td>NA</td><td>NA</td><td>NA          </td><td>0</td><td>UKB</td><td>3</td><td>0</td></tr>\n",
       "\t<tr><td>1000219</td><td>66</td><td>4356</td><td>Female</td><td>No </td><td>1.377849</td><td>-0.010326590</td><td>2</td><td>2</td><td>0</td><td>⋯</td><td>   NA</td><td>NA   </td><td>0</td><td>NA</td><td>NA</td><td>NA          </td><td>0</td><td>UKB</td><td>3</td><td>0</td></tr>\n",
       "\t<tr><td>1000225</td><td>49</td><td>2401</td><td>Male  </td><td>No </td><td>1.299359</td><td>-0.016036085</td><td>1</td><td>2</td><td>0</td><td>⋯</td><td>   NA</td><td>NA   </td><td>0</td><td>NA</td><td>NA</td><td>NA          </td><td>0</td><td>UKB</td><td>1</td><td>0</td></tr>\n",
       "\t<tr><td>1000238</td><td>61</td><td>3721</td><td>Male  </td><td>Yes</td><td>1.570405</td><td>-0.008104350</td><td>2</td><td>2</td><td>0</td><td>⋯</td><td>   NA</td><td>NA   </td><td>0</td><td>NA</td><td>NA</td><td>NA          </td><td>0</td><td>UKB</td><td>3</td><td>0</td></tr>\n",
       "\t<tr><td>1000242</td><td>44</td><td>1936</td><td>Male  </td><td>Yes</td><td>1.353238</td><td>-0.012458130</td><td>2</td><td>2</td><td>0</td><td>⋯</td><td>   NA</td><td>NA   </td><td>0</td><td>NA</td><td>NA</td><td>NA          </td><td>0</td><td>UKB</td><td>1</td><td>0</td></tr>\n",
       "\t<tr><td>1000256</td><td>55</td><td>3025</td><td>Female</td><td>Yes</td><td>1.737987</td><td>-0.004229190</td><td>3</td><td>2</td><td>0</td><td>⋯</td><td>   NA</td><td>NA   </td><td>0</td><td>NA</td><td>NA</td><td>NA          </td><td>0</td><td>UKB</td><td>2</td><td>0</td></tr>\n",
       "\t<tr><td>1000263</td><td>48</td><td>2304</td><td>Female</td><td>Yes</td><td>1.490662</td><td> 0.003304697</td><td>2</td><td>2</td><td>0</td><td>⋯</td><td>   NA</td><td>NA   </td><td>0</td><td>NA</td><td>NA</td><td>NA          </td><td>0</td><td>UKB</td><td>1</td><td>0</td></tr>\n",
       "\t<tr><td>1000274</td><td>62</td><td>3844</td><td>Female</td><td>Yes</td><td>1.210703</td><td>-0.025498130</td><td>1</td><td>2</td><td>0</td><td>⋯</td><td>   NA</td><td>NA   </td><td>0</td><td>NA</td><td>NA</td><td>NA          </td><td>0</td><td>UKB</td><td>3</td><td>0</td></tr>\n",
       "\t<tr><td>1000281</td><td>57</td><td>3249</td><td>Female</td><td>No </td><td>1.531858</td><td>-0.003096880</td><td>2</td><td>2</td><td>0</td><td>⋯</td><td>   NA</td><td>NA   </td><td>0</td><td>NA</td><td>NA</td><td>NA          </td><td>0</td><td>UKB</td><td>2</td><td>0</td></tr>\n",
       "\t<tr><td>1000290</td><td>69</td><td>4761</td><td>Female</td><td>Yes</td><td>1.758791</td><td> 0.024574048</td><td>3</td><td>3</td><td>0</td><td>⋯</td><td>   NA</td><td>NA   </td><td>0</td><td>NA</td><td>NA</td><td>NA          </td><td>0</td><td>UKB</td><td>3</td><td>0</td></tr>\n",
       "\t<tr><td>1000305</td><td>46</td><td>2116</td><td>Female</td><td>Yes</td><td>1.643584</td><td> 0.024173190</td><td>3</td><td>3</td><td>0</td><td>⋯</td><td>   NA</td><td>NA   </td><td>0</td><td>NA</td><td>NA</td><td>NA          </td><td>0</td><td>UKB</td><td>1</td><td>0</td></tr>\n",
       "\t<tr><td>⋮</td><td>⋮</td><td>⋮</td><td>⋮</td><td>⋮</td><td>⋮</td><td>⋮</td><td>⋮</td><td>⋮</td><td>⋮</td><td>⋱</td><td>⋮</td><td>⋮</td><td>⋮</td><td>⋮</td><td>⋮</td><td>⋮</td><td>⋮</td><td>⋮</td><td>⋮</td><td>⋮</td></tr>\n",
       "\t<tr><td>9989434</td><td>72</td><td>5228</td><td>Female</td><td>NA </td><td>1.1643919</td><td>0.04399806</td><td>2</td><td>1</td><td>0</td><td>⋯</td><td>    NA</td><td>NA  </td><td>0</td><td>NA</td><td>NA</td><td>NA    </td><td>0</td><td>AoU</td><td>4</td><td>0</td></tr>\n",
       "\t<tr><td>9989777</td><td>61</td><td>3822</td><td>Male  </td><td>Yes</td><td>1.0573828</td><td>0.06107922</td><td>1</td><td>2</td><td>0</td><td>⋯</td><td>    NA</td><td>NA  </td><td>0</td><td>NA</td><td>NA</td><td>NA    </td><td>0</td><td>AoU</td><td>3</td><td>0</td></tr>\n",
       "\t<tr><td>9989855</td><td>62</td><td>3909</td><td>Male  </td><td>Yes</td><td>1.3447662</td><td>0.06755960</td><td>2</td><td>2</td><td>0</td><td>⋯</td><td>    NA</td><td>NA  </td><td>0</td><td>NA</td><td>NA</td><td>NA    </td><td>0</td><td>AoU</td><td>3</td><td>0</td></tr>\n",
       "\t<tr><td>9990273</td><td>66</td><td>4405</td><td>Female</td><td>Yes</td><td>0.9844489</td><td>0.03024400</td><td>1</td><td>1</td><td>0</td><td>⋯</td><td>    NA</td><td>NA  </td><td>0</td><td>NA</td><td>NA</td><td>NA    </td><td>0</td><td>AoU</td><td>3</td><td>0</td></tr>\n",
       "\t<tr><td>9990712</td><td>45</td><td>2082</td><td>Female</td><td>Yes</td><td>1.2063921</td><td>0.05795020</td><td>2</td><td>1</td><td>0</td><td>⋯</td><td>    NA</td><td>NA  </td><td>0</td><td>NA</td><td>NA</td><td>NA    </td><td>0</td><td>AoU</td><td>1</td><td>0</td></tr>\n",
       "\t<tr><td>9990760</td><td>78</td><td>6108</td><td>Female</td><td>Yes</td><td>1.4348253</td><td>0.09055129</td><td>3</td><td>3</td><td>0</td><td>⋯</td><td>    NA</td><td>NA  </td><td>0</td><td>NA</td><td>NA</td><td>NA    </td><td>0</td><td>AoU</td><td>4</td><td>0</td></tr>\n",
       "\t<tr><td>9990807</td><td>44</td><td>1948</td><td>Male  </td><td>No </td><td>1.0026504</td><td>0.06134439</td><td>1</td><td>2</td><td>0</td><td>⋯</td><td>    NA</td><td>NA  </td><td>0</td><td>NA</td><td>NA</td><td>NA    </td><td>0</td><td>AoU</td><td>1</td><td>0</td></tr>\n",
       "\t<tr><td>9991250</td><td>42</td><td>1837</td><td>Male  </td><td>Yes</td><td>1.6230059</td><td>0.10193154</td><td>3</td><td>3</td><td>0</td><td>⋯</td><td>    NA</td><td>NA  </td><td>0</td><td>NA</td><td>NA</td><td>NA    </td><td>0</td><td>AoU</td><td>1</td><td>0</td></tr>\n",
       "\t<tr><td>9991636</td><td>67</td><td>4562</td><td>Female</td><td>No </td><td>1.0215316</td><td>0.07175009</td><td>1</td><td>2</td><td>0</td><td>⋯</td><td>    NA</td><td>NA  </td><td>0</td><td>NA</td><td>NA</td><td>NA    </td><td>0</td><td>AoU</td><td>3</td><td>0</td></tr>\n",
       "\t<tr><td>9991712</td><td>45</td><td>2099</td><td>Female</td><td>No </td><td>1.3336332</td><td>0.05232583</td><td>2</td><td>1</td><td>0</td><td>⋯</td><td>    NA</td><td>NA  </td><td>0</td><td>NA</td><td>NA</td><td>NA    </td><td>0</td><td>AoU</td><td>1</td><td>0</td></tr>\n",
       "\t<tr><td>9992068</td><td>84</td><td>7175</td><td>Male  </td><td>Yes</td><td>1.3502832</td><td>0.07494468</td><td>2</td><td>2</td><td>0</td><td>⋯</td><td>    NA</td><td>NA  </td><td>0</td><td>NA</td><td>NA</td><td>NA    </td><td>0</td><td>AoU</td><td>5</td><td>0</td></tr>\n",
       "\t<tr><td>9992351</td><td>63</td><td>3991</td><td>Male  </td><td>No </td><td>0.9902676</td><td>0.07365975</td><td>1</td><td>2</td><td>0</td><td>⋯</td><td>    NA</td><td>NA  </td><td>0</td><td>NA</td><td>NA</td><td>NA    </td><td>0</td><td>AoU</td><td>3</td><td>0</td></tr>\n",
       "\t<tr><td>9992814</td><td>42</td><td>1815</td><td>Female</td><td>No </td><td>1.1535409</td><td>0.05383368</td><td>2</td><td>1</td><td>0</td><td>⋯</td><td>    NA</td><td>NA  </td><td>0</td><td>NA</td><td>NA</td><td>NA    </td><td>0</td><td>AoU</td><td>1</td><td>0</td></tr>\n",
       "\t<tr><td>9992979</td><td>79</td><td>6387</td><td>Female</td><td>NA </td><td>1.3741113</td><td>0.07399640</td><td>2</td><td>2</td><td>0</td><td>⋯</td><td>    NA</td><td>NA  </td><td>0</td><td>NA</td><td>NA</td><td>NA    </td><td>0</td><td>AoU</td><td>4</td><td>0</td></tr>\n",
       "\t<tr><td>9993207</td><td>66</td><td>4456</td><td>Male  </td><td>No </td><td>1.2341999</td><td>0.07990420</td><td>2</td><td>2</td><td>0</td><td>⋯</td><td>0.0556</td><td>chrX</td><td>2</td><td>T </td><td>T </td><td>CN-LOH</td><td>0</td><td>AoU</td><td>3</td><td>0</td></tr>\n",
       "\t<tr><td>9993246</td><td>73</td><td>5431</td><td>Female</td><td>No </td><td>1.3106497</td><td>0.06757981</td><td>2</td><td>2</td><td>0</td><td>⋯</td><td>    NA</td><td>NA  </td><td>0</td><td>NA</td><td>NA</td><td>NA    </td><td>0</td><td>AoU</td><td>4</td><td>0</td></tr>\n",
       "\t<tr><td>9993261</td><td>41</td><td>1705</td><td>Male  </td><td>No </td><td>1.2760732</td><td>0.09959170</td><td>2</td><td>3</td><td>0</td><td>⋯</td><td>    NA</td><td>NA  </td><td>0</td><td>NA</td><td>NA</td><td>NA    </td><td>0</td><td>AoU</td><td>1</td><td>0</td></tr>\n",
       "\t<tr><td>9995183</td><td>51</td><td>2663</td><td>Female</td><td>Yes</td><td>1.1186689</td><td>0.04980090</td><td>2</td><td>1</td><td>0</td><td>⋯</td><td>    NA</td><td>NA  </td><td>0</td><td>NA</td><td>NA</td><td>NA    </td><td>0</td><td>AoU</td><td>2</td><td>0</td></tr>\n",
       "\t<tr><td>9995309</td><td>56</td><td>3179</td><td>Male  </td><td>No </td><td>1.4127320</td><td>0.04371676</td><td>2</td><td>1</td><td>0</td><td>⋯</td><td>    NA</td><td>NA  </td><td>0</td><td>NA</td><td>NA</td><td>NA    </td><td>0</td><td>AoU</td><td>2</td><td>0</td></tr>\n",
       "\t<tr><td>9995312</td><td>75</td><td>5660</td><td>Male  </td><td>Yes</td><td>1.1349849</td><td>0.06813716</td><td>2</td><td>2</td><td>0</td><td>⋯</td><td>    NA</td><td>NA  </td><td>0</td><td>NA</td><td>NA</td><td>NA    </td><td>0</td><td>AoU</td><td>4</td><td>0</td></tr>\n",
       "\t<tr><td>9995407</td><td>55</td><td>3052</td><td>Female</td><td>Yes</td><td>1.3449926</td><td>0.07951910</td><td>2</td><td>2</td><td>0</td><td>⋯</td><td>    NA</td><td>NA  </td><td>0</td><td>NA</td><td>NA</td><td>NA    </td><td>0</td><td>AoU</td><td>2</td><td>0</td></tr>\n",
       "\t<tr><td>9995430</td><td>49</td><td>2421</td><td>Female</td><td>No </td><td>1.3312210</td><td>0.05384742</td><td>2</td><td>1</td><td>0</td><td>⋯</td><td>    NA</td><td>NA  </td><td>0</td><td>NA</td><td>NA</td><td>NA    </td><td>0</td><td>AoU</td><td>1</td><td>0</td></tr>\n",
       "\t<tr><td>9997301</td><td>46</td><td>2169</td><td>Male  </td><td>No </td><td>1.1993682</td><td>0.02795684</td><td>2</td><td>1</td><td>0</td><td>⋯</td><td>    NA</td><td>NA  </td><td>0</td><td>NA</td><td>NA</td><td>NA    </td><td>0</td><td>AoU</td><td>1</td><td>0</td></tr>\n",
       "\t<tr><td>9997501</td><td>69</td><td>4816</td><td>Male  </td><td>No </td><td>1.5404761</td><td>0.09300411</td><td>3</td><td>3</td><td>0</td><td>⋯</td><td>    NA</td><td>NA  </td><td>0</td><td>NA</td><td>NA</td><td>NA    </td><td>0</td><td>AoU</td><td>3</td><td>0</td></tr>\n",
       "\t<tr><td>9997532</td><td>68</td><td>4665</td><td>Male  </td><td>Yes</td><td>1.4878602</td><td>0.08507239</td><td>3</td><td>2</td><td>0</td><td>⋯</td><td>    NA</td><td>NA  </td><td>0</td><td>NA</td><td>NA</td><td>NA    </td><td>0</td><td>AoU</td><td>3</td><td>0</td></tr>\n",
       "\t<tr><td>9997943</td><td>75</td><td>5724</td><td>Female</td><td>Yes</td><td>1.0861339</td><td>0.09095358</td><td>1</td><td>3</td><td>0</td><td>⋯</td><td>    NA</td><td>NA  </td><td>0</td><td>NA</td><td>NA</td><td>NA    </td><td>0</td><td>AoU</td><td>4</td><td>0</td></tr>\n",
       "\t<tr><td>9998012</td><td>61</td><td>3818</td><td>Male  </td><td>No </td><td>1.3309468</td><td>0.08607086</td><td>2</td><td>2</td><td>0</td><td>⋯</td><td>    NA</td><td>NA  </td><td>0</td><td>NA</td><td>NA</td><td>NA    </td><td>0</td><td>AoU</td><td>3</td><td>0</td></tr>\n",
       "\t<tr><td>9998445</td><td>62</td><td>3849</td><td>Male  </td><td>No </td><td>1.2884761</td><td>0.06732584</td><td>2</td><td>2</td><td>0</td><td>⋯</td><td>    NA</td><td>NA  </td><td>0</td><td>NA</td><td>NA</td><td>NA    </td><td>0</td><td>AoU</td><td>3</td><td>0</td></tr>\n",
       "\t<tr><td>9998505</td><td>77</td><td>5985</td><td>Male  </td><td>Yes</td><td>1.1465520</td><td>0.07303516</td><td>2</td><td>2</td><td>0</td><td>⋯</td><td>    NA</td><td>NA  </td><td>0</td><td>NA</td><td>NA</td><td>NA    </td><td>0</td><td>AoU</td><td>4</td><td>0</td></tr>\n",
       "\t<tr><td>9999412</td><td>78</td><td>6136</td><td>Male  </td><td>No </td><td>1.6003945</td><td>0.06228284</td><td>3</td><td>2</td><td>0</td><td>⋯</td><td>    NA</td><td>NA  </td><td>0</td><td>NA</td><td>NA</td><td>NA    </td><td>0</td><td>AoU</td><td>4</td><td>0</td></tr>\n",
       "</tbody>\n",
       "</table>\n"
      ],
      "text/latex": [
       "A data.table: 589867 × 21\n",
       "\\begin{tabular}{lllllllllllllllllllll}\n",
       " person\\_id & age & age\\_squ & sex\\_at\\_birth & smoking & cll\\_prs & ltl\\_prs & cll\\_262\\_coh & ltl\\_262\\_coh & mca\\_auto & ⋯ & cf\\_max & chrom & mca\\_highrisk & p\\_arm & q\\_arm & type & cll & cohort & agegroup & mca\\_cf10\\\\\n",
       " <int> & <int> & <int> & <chr> & <chr> & <dbl> & <dbl> & <fct> & <fct> & <dbl> & ⋯ & <dbl> & <chr> & <fct> & <chr> & <chr> & <chr> & <dbl> & <chr> & <chr> & <dbl>\\\\\n",
       "\\hline\n",
       "\t 1000013 & 48 & 2304 & Female & No  & 1.142505 & -0.009114790 & 1 & 2 & 0 & ⋯ &    NA & NA    & 0 & NA & NA & NA           & 0 & UKB & 1 & 0\\\\\n",
       "\t 1000024 & 54 & 2916 & Female & Yes & 1.365924 & -0.048422140 & 2 & 1 & 0 & ⋯ &    NA & NA    & 0 & NA & NA & NA           & 0 & UKB & 2 & 0\\\\\n",
       "\t 1000036 & 67 & 4489 & Male   & No  & 1.520083 & -0.034286250 & 2 & 1 & 0 & ⋯ &    NA & NA    & 0 & NA & NA & NA           & 0 & UKB & 3 & 0\\\\\n",
       "\t 1000048 & 60 & 3600 & Female & Yes & 1.669113 & -0.011578300 & 3 & 2 & 0 & ⋯ &    NA & NA    & 0 & NA & NA & NA           & 0 & UKB & 3 & 0\\\\\n",
       "\t 1000055 & 40 & 1600 & Male   & No  & 1.235437 & -0.015263113 & 1 & 2 & 0 & ⋯ &    NA & NA    & 0 & NA & NA & NA           & 0 & UKB & 1 & 0\\\\\n",
       "\t 1000067 & 64 & 4096 & Female & No  & 1.159228 & -0.021568793 & 1 & 2 & 0 & ⋯ &    NA & NA    & 0 & NA & NA & NA           & 0 & UKB & 3 & 0\\\\\n",
       "\t 1000072 & 54 & 2916 & Male   & No  & 1.915532 & -0.021272490 & 3 & 2 & 0 & ⋯ &    NA & NA    & 0 & NA & NA & NA           & 0 & UKB & 2 & 0\\\\\n",
       "\t 1000080 & 49 & 2401 & Male   & Yes & 1.352047 & -0.003704730 & 2 & 2 & 0 & ⋯ &    NA & NA    & 0 & NA & NA & NA           & 0 & UKB & 1 & 0\\\\\n",
       "\t 1000099 & 58 & 3364 & Male   & Yes & 1.686992 & -0.027113390 & 3 & 1 & 0 & ⋯ &    NA & NA    & 0 & NA & NA & NA           & 0 & UKB & 2 & 0\\\\\n",
       "\t 1000106 & 42 & 1764 & Female & Yes & 1.475761 & -0.000256200 & 2 & 2 & 0 & ⋯ &    NA & NA    & 0 & NA & NA & NA           & 0 & UKB & 1 & 0\\\\\n",
       "\t 1000114 & 43 & 1849 & Male   & No  & 1.727055 & -0.015734760 & 3 & 2 & 0 & ⋯ &    NA & NA    & 0 & NA & NA & NA           & 0 & UKB & 1 & 0\\\\\n",
       "\t 1000123 & 64 & 4096 & Male   & Yes & 1.612589 &  0.006438262 & 2 & 3 & 1 & ⋯ & 0.077 & chr19 & 2 & N  & T  & Undetermined & 0 & UKB & 3 & 0\\\\\n",
       "\t 1000131 & 57 & 3249 & Male   & Yes & 1.395898 & -0.008145320 & 2 & 2 & 0 & ⋯ &    NA & NA    & 0 & NA & NA & NA           & 0 & UKB & 2 & 0\\\\\n",
       "\t 1000140 & 48 & 2304 & Female & No  & 1.334920 & -0.032876348 & 2 & 1 & 0 & ⋯ &    NA & NA    & 0 & NA & NA & NA           & 0 & UKB & 1 & 0\\\\\n",
       "\t 1000157 & 64 & 4096 & Female & No  & 1.585097 &  0.002202860 & 2 & 2 & 0 & ⋯ &    NA & NA    & 0 & NA & NA & NA           & 0 & UKB & 3 & 0\\\\\n",
       "\t 1000165 & 64 & 4096 & Female & No  & 1.777829 & -0.026820388 & 3 & 1 & 0 & ⋯ &    NA & NA    & 0 & NA & NA & NA           & 0 & UKB & 3 & 0\\\\\n",
       "\t 1000179 & 64 & 4096 & Female & Yes & 1.701367 & -0.004466590 & 3 & 2 & 0 & ⋯ &    NA & NA    & 0 & NA & NA & NA           & 0 & UKB & 3 & 0\\\\\n",
       "\t 1000188 & 65 & 4225 & Male   & Yes & 1.459902 & -0.001325840 & 2 & 2 & 0 & ⋯ &    NA & NA    & 0 & NA & NA & NA           & 0 & UKB & 3 & 0\\\\\n",
       "\t 1000192 & 57 & 3249 & Female & Yes & 1.329569 & -0.033985270 & 2 & 1 & 0 & ⋯ &    NA & NA    & 0 & NA & NA & NA           & 0 & UKB & 2 & 0\\\\\n",
       "\t 1000207 & 66 & 4356 & Female & Yes & 1.566201 & -0.023885730 & 2 & 2 & 0 & ⋯ &    NA & NA    & 0 & NA & NA & NA           & 0 & UKB & 3 & 0\\\\\n",
       "\t 1000219 & 66 & 4356 & Female & No  & 1.377849 & -0.010326590 & 2 & 2 & 0 & ⋯ &    NA & NA    & 0 & NA & NA & NA           & 0 & UKB & 3 & 0\\\\\n",
       "\t 1000225 & 49 & 2401 & Male   & No  & 1.299359 & -0.016036085 & 1 & 2 & 0 & ⋯ &    NA & NA    & 0 & NA & NA & NA           & 0 & UKB & 1 & 0\\\\\n",
       "\t 1000238 & 61 & 3721 & Male   & Yes & 1.570405 & -0.008104350 & 2 & 2 & 0 & ⋯ &    NA & NA    & 0 & NA & NA & NA           & 0 & UKB & 3 & 0\\\\\n",
       "\t 1000242 & 44 & 1936 & Male   & Yes & 1.353238 & -0.012458130 & 2 & 2 & 0 & ⋯ &    NA & NA    & 0 & NA & NA & NA           & 0 & UKB & 1 & 0\\\\\n",
       "\t 1000256 & 55 & 3025 & Female & Yes & 1.737987 & -0.004229190 & 3 & 2 & 0 & ⋯ &    NA & NA    & 0 & NA & NA & NA           & 0 & UKB & 2 & 0\\\\\n",
       "\t 1000263 & 48 & 2304 & Female & Yes & 1.490662 &  0.003304697 & 2 & 2 & 0 & ⋯ &    NA & NA    & 0 & NA & NA & NA           & 0 & UKB & 1 & 0\\\\\n",
       "\t 1000274 & 62 & 3844 & Female & Yes & 1.210703 & -0.025498130 & 1 & 2 & 0 & ⋯ &    NA & NA    & 0 & NA & NA & NA           & 0 & UKB & 3 & 0\\\\\n",
       "\t 1000281 & 57 & 3249 & Female & No  & 1.531858 & -0.003096880 & 2 & 2 & 0 & ⋯ &    NA & NA    & 0 & NA & NA & NA           & 0 & UKB & 2 & 0\\\\\n",
       "\t 1000290 & 69 & 4761 & Female & Yes & 1.758791 &  0.024574048 & 3 & 3 & 0 & ⋯ &    NA & NA    & 0 & NA & NA & NA           & 0 & UKB & 3 & 0\\\\\n",
       "\t 1000305 & 46 & 2116 & Female & Yes & 1.643584 &  0.024173190 & 3 & 3 & 0 & ⋯ &    NA & NA    & 0 & NA & NA & NA           & 0 & UKB & 1 & 0\\\\\n",
       "\t ⋮ & ⋮ & ⋮ & ⋮ & ⋮ & ⋮ & ⋮ & ⋮ & ⋮ & ⋮ & ⋱ & ⋮ & ⋮ & ⋮ & ⋮ & ⋮ & ⋮ & ⋮ & ⋮ & ⋮ & ⋮\\\\\n",
       "\t 9989434 & 72 & 5228 & Female & NA  & 1.1643919 & 0.04399806 & 2 & 1 & 0 & ⋯ &     NA & NA   & 0 & NA & NA & NA     & 0 & AoU & 4 & 0\\\\\n",
       "\t 9989777 & 61 & 3822 & Male   & Yes & 1.0573828 & 0.06107922 & 1 & 2 & 0 & ⋯ &     NA & NA   & 0 & NA & NA & NA     & 0 & AoU & 3 & 0\\\\\n",
       "\t 9989855 & 62 & 3909 & Male   & Yes & 1.3447662 & 0.06755960 & 2 & 2 & 0 & ⋯ &     NA & NA   & 0 & NA & NA & NA     & 0 & AoU & 3 & 0\\\\\n",
       "\t 9990273 & 66 & 4405 & Female & Yes & 0.9844489 & 0.03024400 & 1 & 1 & 0 & ⋯ &     NA & NA   & 0 & NA & NA & NA     & 0 & AoU & 3 & 0\\\\\n",
       "\t 9990712 & 45 & 2082 & Female & Yes & 1.2063921 & 0.05795020 & 2 & 1 & 0 & ⋯ &     NA & NA   & 0 & NA & NA & NA     & 0 & AoU & 1 & 0\\\\\n",
       "\t 9990760 & 78 & 6108 & Female & Yes & 1.4348253 & 0.09055129 & 3 & 3 & 0 & ⋯ &     NA & NA   & 0 & NA & NA & NA     & 0 & AoU & 4 & 0\\\\\n",
       "\t 9990807 & 44 & 1948 & Male   & No  & 1.0026504 & 0.06134439 & 1 & 2 & 0 & ⋯ &     NA & NA   & 0 & NA & NA & NA     & 0 & AoU & 1 & 0\\\\\n",
       "\t 9991250 & 42 & 1837 & Male   & Yes & 1.6230059 & 0.10193154 & 3 & 3 & 0 & ⋯ &     NA & NA   & 0 & NA & NA & NA     & 0 & AoU & 1 & 0\\\\\n",
       "\t 9991636 & 67 & 4562 & Female & No  & 1.0215316 & 0.07175009 & 1 & 2 & 0 & ⋯ &     NA & NA   & 0 & NA & NA & NA     & 0 & AoU & 3 & 0\\\\\n",
       "\t 9991712 & 45 & 2099 & Female & No  & 1.3336332 & 0.05232583 & 2 & 1 & 0 & ⋯ &     NA & NA   & 0 & NA & NA & NA     & 0 & AoU & 1 & 0\\\\\n",
       "\t 9992068 & 84 & 7175 & Male   & Yes & 1.3502832 & 0.07494468 & 2 & 2 & 0 & ⋯ &     NA & NA   & 0 & NA & NA & NA     & 0 & AoU & 5 & 0\\\\\n",
       "\t 9992351 & 63 & 3991 & Male   & No  & 0.9902676 & 0.07365975 & 1 & 2 & 0 & ⋯ &     NA & NA   & 0 & NA & NA & NA     & 0 & AoU & 3 & 0\\\\\n",
       "\t 9992814 & 42 & 1815 & Female & No  & 1.1535409 & 0.05383368 & 2 & 1 & 0 & ⋯ &     NA & NA   & 0 & NA & NA & NA     & 0 & AoU & 1 & 0\\\\\n",
       "\t 9992979 & 79 & 6387 & Female & NA  & 1.3741113 & 0.07399640 & 2 & 2 & 0 & ⋯ &     NA & NA   & 0 & NA & NA & NA     & 0 & AoU & 4 & 0\\\\\n",
       "\t 9993207 & 66 & 4456 & Male   & No  & 1.2341999 & 0.07990420 & 2 & 2 & 0 & ⋯ & 0.0556 & chrX & 2 & T  & T  & CN-LOH & 0 & AoU & 3 & 0\\\\\n",
       "\t 9993246 & 73 & 5431 & Female & No  & 1.3106497 & 0.06757981 & 2 & 2 & 0 & ⋯ &     NA & NA   & 0 & NA & NA & NA     & 0 & AoU & 4 & 0\\\\\n",
       "\t 9993261 & 41 & 1705 & Male   & No  & 1.2760732 & 0.09959170 & 2 & 3 & 0 & ⋯ &     NA & NA   & 0 & NA & NA & NA     & 0 & AoU & 1 & 0\\\\\n",
       "\t 9995183 & 51 & 2663 & Female & Yes & 1.1186689 & 0.04980090 & 2 & 1 & 0 & ⋯ &     NA & NA   & 0 & NA & NA & NA     & 0 & AoU & 2 & 0\\\\\n",
       "\t 9995309 & 56 & 3179 & Male   & No  & 1.4127320 & 0.04371676 & 2 & 1 & 0 & ⋯ &     NA & NA   & 0 & NA & NA & NA     & 0 & AoU & 2 & 0\\\\\n",
       "\t 9995312 & 75 & 5660 & Male   & Yes & 1.1349849 & 0.06813716 & 2 & 2 & 0 & ⋯ &     NA & NA   & 0 & NA & NA & NA     & 0 & AoU & 4 & 0\\\\\n",
       "\t 9995407 & 55 & 3052 & Female & Yes & 1.3449926 & 0.07951910 & 2 & 2 & 0 & ⋯ &     NA & NA   & 0 & NA & NA & NA     & 0 & AoU & 2 & 0\\\\\n",
       "\t 9995430 & 49 & 2421 & Female & No  & 1.3312210 & 0.05384742 & 2 & 1 & 0 & ⋯ &     NA & NA   & 0 & NA & NA & NA     & 0 & AoU & 1 & 0\\\\\n",
       "\t 9997301 & 46 & 2169 & Male   & No  & 1.1993682 & 0.02795684 & 2 & 1 & 0 & ⋯ &     NA & NA   & 0 & NA & NA & NA     & 0 & AoU & 1 & 0\\\\\n",
       "\t 9997501 & 69 & 4816 & Male   & No  & 1.5404761 & 0.09300411 & 3 & 3 & 0 & ⋯ &     NA & NA   & 0 & NA & NA & NA     & 0 & AoU & 3 & 0\\\\\n",
       "\t 9997532 & 68 & 4665 & Male   & Yes & 1.4878602 & 0.08507239 & 3 & 2 & 0 & ⋯ &     NA & NA   & 0 & NA & NA & NA     & 0 & AoU & 3 & 0\\\\\n",
       "\t 9997943 & 75 & 5724 & Female & Yes & 1.0861339 & 0.09095358 & 1 & 3 & 0 & ⋯ &     NA & NA   & 0 & NA & NA & NA     & 0 & AoU & 4 & 0\\\\\n",
       "\t 9998012 & 61 & 3818 & Male   & No  & 1.3309468 & 0.08607086 & 2 & 2 & 0 & ⋯ &     NA & NA   & 0 & NA & NA & NA     & 0 & AoU & 3 & 0\\\\\n",
       "\t 9998445 & 62 & 3849 & Male   & No  & 1.2884761 & 0.06732584 & 2 & 2 & 0 & ⋯ &     NA & NA   & 0 & NA & NA & NA     & 0 & AoU & 3 & 0\\\\\n",
       "\t 9998505 & 77 & 5985 & Male   & Yes & 1.1465520 & 0.07303516 & 2 & 2 & 0 & ⋯ &     NA & NA   & 0 & NA & NA & NA     & 0 & AoU & 4 & 0\\\\\n",
       "\t 9999412 & 78 & 6136 & Male   & No  & 1.6003945 & 0.06228284 & 3 & 2 & 0 & ⋯ &     NA & NA   & 0 & NA & NA & NA     & 0 & AoU & 4 & 0\\\\\n",
       "\\end{tabular}\n"
      ],
      "text/markdown": [
       "\n",
       "A data.table: 589867 × 21\n",
       "\n",
       "| person_id &lt;int&gt; | age &lt;int&gt; | age_squ &lt;int&gt; | sex_at_birth &lt;chr&gt; | smoking &lt;chr&gt; | cll_prs &lt;dbl&gt; | ltl_prs &lt;dbl&gt; | cll_262_coh &lt;fct&gt; | ltl_262_coh &lt;fct&gt; | mca_auto &lt;dbl&gt; | ⋯ ⋯ | cf_max &lt;dbl&gt; | chrom &lt;chr&gt; | mca_highrisk &lt;fct&gt; | p_arm &lt;chr&gt; | q_arm &lt;chr&gt; | type &lt;chr&gt; | cll &lt;dbl&gt; | cohort &lt;chr&gt; | agegroup &lt;chr&gt; | mca_cf10 &lt;dbl&gt; |\n",
       "|---|---|---|---|---|---|---|---|---|---|---|---|---|---|---|---|---|---|---|---|---|\n",
       "| 1000013 | 48 | 2304 | Female | No  | 1.142505 | -0.009114790 | 1 | 2 | 0 | ⋯ |    NA | NA    | 0 | NA | NA | NA           | 0 | UKB | 1 | 0 |\n",
       "| 1000024 | 54 | 2916 | Female | Yes | 1.365924 | -0.048422140 | 2 | 1 | 0 | ⋯ |    NA | NA    | 0 | NA | NA | NA           | 0 | UKB | 2 | 0 |\n",
       "| 1000036 | 67 | 4489 | Male   | No  | 1.520083 | -0.034286250 | 2 | 1 | 0 | ⋯ |    NA | NA    | 0 | NA | NA | NA           | 0 | UKB | 3 | 0 |\n",
       "| 1000048 | 60 | 3600 | Female | Yes | 1.669113 | -0.011578300 | 3 | 2 | 0 | ⋯ |    NA | NA    | 0 | NA | NA | NA           | 0 | UKB | 3 | 0 |\n",
       "| 1000055 | 40 | 1600 | Male   | No  | 1.235437 | -0.015263113 | 1 | 2 | 0 | ⋯ |    NA | NA    | 0 | NA | NA | NA           | 0 | UKB | 1 | 0 |\n",
       "| 1000067 | 64 | 4096 | Female | No  | 1.159228 | -0.021568793 | 1 | 2 | 0 | ⋯ |    NA | NA    | 0 | NA | NA | NA           | 0 | UKB | 3 | 0 |\n",
       "| 1000072 | 54 | 2916 | Male   | No  | 1.915532 | -0.021272490 | 3 | 2 | 0 | ⋯ |    NA | NA    | 0 | NA | NA | NA           | 0 | UKB | 2 | 0 |\n",
       "| 1000080 | 49 | 2401 | Male   | Yes | 1.352047 | -0.003704730 | 2 | 2 | 0 | ⋯ |    NA | NA    | 0 | NA | NA | NA           | 0 | UKB | 1 | 0 |\n",
       "| 1000099 | 58 | 3364 | Male   | Yes | 1.686992 | -0.027113390 | 3 | 1 | 0 | ⋯ |    NA | NA    | 0 | NA | NA | NA           | 0 | UKB | 2 | 0 |\n",
       "| 1000106 | 42 | 1764 | Female | Yes | 1.475761 | -0.000256200 | 2 | 2 | 0 | ⋯ |    NA | NA    | 0 | NA | NA | NA           | 0 | UKB | 1 | 0 |\n",
       "| 1000114 | 43 | 1849 | Male   | No  | 1.727055 | -0.015734760 | 3 | 2 | 0 | ⋯ |    NA | NA    | 0 | NA | NA | NA           | 0 | UKB | 1 | 0 |\n",
       "| 1000123 | 64 | 4096 | Male   | Yes | 1.612589 |  0.006438262 | 2 | 3 | 1 | ⋯ | 0.077 | chr19 | 2 | N  | T  | Undetermined | 0 | UKB | 3 | 0 |\n",
       "| 1000131 | 57 | 3249 | Male   | Yes | 1.395898 | -0.008145320 | 2 | 2 | 0 | ⋯ |    NA | NA    | 0 | NA | NA | NA           | 0 | UKB | 2 | 0 |\n",
       "| 1000140 | 48 | 2304 | Female | No  | 1.334920 | -0.032876348 | 2 | 1 | 0 | ⋯ |    NA | NA    | 0 | NA | NA | NA           | 0 | UKB | 1 | 0 |\n",
       "| 1000157 | 64 | 4096 | Female | No  | 1.585097 |  0.002202860 | 2 | 2 | 0 | ⋯ |    NA | NA    | 0 | NA | NA | NA           | 0 | UKB | 3 | 0 |\n",
       "| 1000165 | 64 | 4096 | Female | No  | 1.777829 | -0.026820388 | 3 | 1 | 0 | ⋯ |    NA | NA    | 0 | NA | NA | NA           | 0 | UKB | 3 | 0 |\n",
       "| 1000179 | 64 | 4096 | Female | Yes | 1.701367 | -0.004466590 | 3 | 2 | 0 | ⋯ |    NA | NA    | 0 | NA | NA | NA           | 0 | UKB | 3 | 0 |\n",
       "| 1000188 | 65 | 4225 | Male   | Yes | 1.459902 | -0.001325840 | 2 | 2 | 0 | ⋯ |    NA | NA    | 0 | NA | NA | NA           | 0 | UKB | 3 | 0 |\n",
       "| 1000192 | 57 | 3249 | Female | Yes | 1.329569 | -0.033985270 | 2 | 1 | 0 | ⋯ |    NA | NA    | 0 | NA | NA | NA           | 0 | UKB | 2 | 0 |\n",
       "| 1000207 | 66 | 4356 | Female | Yes | 1.566201 | -0.023885730 | 2 | 2 | 0 | ⋯ |    NA | NA    | 0 | NA | NA | NA           | 0 | UKB | 3 | 0 |\n",
       "| 1000219 | 66 | 4356 | Female | No  | 1.377849 | -0.010326590 | 2 | 2 | 0 | ⋯ |    NA | NA    | 0 | NA | NA | NA           | 0 | UKB | 3 | 0 |\n",
       "| 1000225 | 49 | 2401 | Male   | No  | 1.299359 | -0.016036085 | 1 | 2 | 0 | ⋯ |    NA | NA    | 0 | NA | NA | NA           | 0 | UKB | 1 | 0 |\n",
       "| 1000238 | 61 | 3721 | Male   | Yes | 1.570405 | -0.008104350 | 2 | 2 | 0 | ⋯ |    NA | NA    | 0 | NA | NA | NA           | 0 | UKB | 3 | 0 |\n",
       "| 1000242 | 44 | 1936 | Male   | Yes | 1.353238 | -0.012458130 | 2 | 2 | 0 | ⋯ |    NA | NA    | 0 | NA | NA | NA           | 0 | UKB | 1 | 0 |\n",
       "| 1000256 | 55 | 3025 | Female | Yes | 1.737987 | -0.004229190 | 3 | 2 | 0 | ⋯ |    NA | NA    | 0 | NA | NA | NA           | 0 | UKB | 2 | 0 |\n",
       "| 1000263 | 48 | 2304 | Female | Yes | 1.490662 |  0.003304697 | 2 | 2 | 0 | ⋯ |    NA | NA    | 0 | NA | NA | NA           | 0 | UKB | 1 | 0 |\n",
       "| 1000274 | 62 | 3844 | Female | Yes | 1.210703 | -0.025498130 | 1 | 2 | 0 | ⋯ |    NA | NA    | 0 | NA | NA | NA           | 0 | UKB | 3 | 0 |\n",
       "| 1000281 | 57 | 3249 | Female | No  | 1.531858 | -0.003096880 | 2 | 2 | 0 | ⋯ |    NA | NA    | 0 | NA | NA | NA           | 0 | UKB | 2 | 0 |\n",
       "| 1000290 | 69 | 4761 | Female | Yes | 1.758791 |  0.024574048 | 3 | 3 | 0 | ⋯ |    NA | NA    | 0 | NA | NA | NA           | 0 | UKB | 3 | 0 |\n",
       "| 1000305 | 46 | 2116 | Female | Yes | 1.643584 |  0.024173190 | 3 | 3 | 0 | ⋯ |    NA | NA    | 0 | NA | NA | NA           | 0 | UKB | 1 | 0 |\n",
       "| ⋮ | ⋮ | ⋮ | ⋮ | ⋮ | ⋮ | ⋮ | ⋮ | ⋮ | ⋮ | ⋱ | ⋮ | ⋮ | ⋮ | ⋮ | ⋮ | ⋮ | ⋮ | ⋮ | ⋮ | ⋮ |\n",
       "| 9989434 | 72 | 5228 | Female | NA  | 1.1643919 | 0.04399806 | 2 | 1 | 0 | ⋯ |     NA | NA   | 0 | NA | NA | NA     | 0 | AoU | 4 | 0 |\n",
       "| 9989777 | 61 | 3822 | Male   | Yes | 1.0573828 | 0.06107922 | 1 | 2 | 0 | ⋯ |     NA | NA   | 0 | NA | NA | NA     | 0 | AoU | 3 | 0 |\n",
       "| 9989855 | 62 | 3909 | Male   | Yes | 1.3447662 | 0.06755960 | 2 | 2 | 0 | ⋯ |     NA | NA   | 0 | NA | NA | NA     | 0 | AoU | 3 | 0 |\n",
       "| 9990273 | 66 | 4405 | Female | Yes | 0.9844489 | 0.03024400 | 1 | 1 | 0 | ⋯ |     NA | NA   | 0 | NA | NA | NA     | 0 | AoU | 3 | 0 |\n",
       "| 9990712 | 45 | 2082 | Female | Yes | 1.2063921 | 0.05795020 | 2 | 1 | 0 | ⋯ |     NA | NA   | 0 | NA | NA | NA     | 0 | AoU | 1 | 0 |\n",
       "| 9990760 | 78 | 6108 | Female | Yes | 1.4348253 | 0.09055129 | 3 | 3 | 0 | ⋯ |     NA | NA   | 0 | NA | NA | NA     | 0 | AoU | 4 | 0 |\n",
       "| 9990807 | 44 | 1948 | Male   | No  | 1.0026504 | 0.06134439 | 1 | 2 | 0 | ⋯ |     NA | NA   | 0 | NA | NA | NA     | 0 | AoU | 1 | 0 |\n",
       "| 9991250 | 42 | 1837 | Male   | Yes | 1.6230059 | 0.10193154 | 3 | 3 | 0 | ⋯ |     NA | NA   | 0 | NA | NA | NA     | 0 | AoU | 1 | 0 |\n",
       "| 9991636 | 67 | 4562 | Female | No  | 1.0215316 | 0.07175009 | 1 | 2 | 0 | ⋯ |     NA | NA   | 0 | NA | NA | NA     | 0 | AoU | 3 | 0 |\n",
       "| 9991712 | 45 | 2099 | Female | No  | 1.3336332 | 0.05232583 | 2 | 1 | 0 | ⋯ |     NA | NA   | 0 | NA | NA | NA     | 0 | AoU | 1 | 0 |\n",
       "| 9992068 | 84 | 7175 | Male   | Yes | 1.3502832 | 0.07494468 | 2 | 2 | 0 | ⋯ |     NA | NA   | 0 | NA | NA | NA     | 0 | AoU | 5 | 0 |\n",
       "| 9992351 | 63 | 3991 | Male   | No  | 0.9902676 | 0.07365975 | 1 | 2 | 0 | ⋯ |     NA | NA   | 0 | NA | NA | NA     | 0 | AoU | 3 | 0 |\n",
       "| 9992814 | 42 | 1815 | Female | No  | 1.1535409 | 0.05383368 | 2 | 1 | 0 | ⋯ |     NA | NA   | 0 | NA | NA | NA     | 0 | AoU | 1 | 0 |\n",
       "| 9992979 | 79 | 6387 | Female | NA  | 1.3741113 | 0.07399640 | 2 | 2 | 0 | ⋯ |     NA | NA   | 0 | NA | NA | NA     | 0 | AoU | 4 | 0 |\n",
       "| 9993207 | 66 | 4456 | Male   | No  | 1.2341999 | 0.07990420 | 2 | 2 | 0 | ⋯ | 0.0556 | chrX | 2 | T  | T  | CN-LOH | 0 | AoU | 3 | 0 |\n",
       "| 9993246 | 73 | 5431 | Female | No  | 1.3106497 | 0.06757981 | 2 | 2 | 0 | ⋯ |     NA | NA   | 0 | NA | NA | NA     | 0 | AoU | 4 | 0 |\n",
       "| 9993261 | 41 | 1705 | Male   | No  | 1.2760732 | 0.09959170 | 2 | 3 | 0 | ⋯ |     NA | NA   | 0 | NA | NA | NA     | 0 | AoU | 1 | 0 |\n",
       "| 9995183 | 51 | 2663 | Female | Yes | 1.1186689 | 0.04980090 | 2 | 1 | 0 | ⋯ |     NA | NA   | 0 | NA | NA | NA     | 0 | AoU | 2 | 0 |\n",
       "| 9995309 | 56 | 3179 | Male   | No  | 1.4127320 | 0.04371676 | 2 | 1 | 0 | ⋯ |     NA | NA   | 0 | NA | NA | NA     | 0 | AoU | 2 | 0 |\n",
       "| 9995312 | 75 | 5660 | Male   | Yes | 1.1349849 | 0.06813716 | 2 | 2 | 0 | ⋯ |     NA | NA   | 0 | NA | NA | NA     | 0 | AoU | 4 | 0 |\n",
       "| 9995407 | 55 | 3052 | Female | Yes | 1.3449926 | 0.07951910 | 2 | 2 | 0 | ⋯ |     NA | NA   | 0 | NA | NA | NA     | 0 | AoU | 2 | 0 |\n",
       "| 9995430 | 49 | 2421 | Female | No  | 1.3312210 | 0.05384742 | 2 | 1 | 0 | ⋯ |     NA | NA   | 0 | NA | NA | NA     | 0 | AoU | 1 | 0 |\n",
       "| 9997301 | 46 | 2169 | Male   | No  | 1.1993682 | 0.02795684 | 2 | 1 | 0 | ⋯ |     NA | NA   | 0 | NA | NA | NA     | 0 | AoU | 1 | 0 |\n",
       "| 9997501 | 69 | 4816 | Male   | No  | 1.5404761 | 0.09300411 | 3 | 3 | 0 | ⋯ |     NA | NA   | 0 | NA | NA | NA     | 0 | AoU | 3 | 0 |\n",
       "| 9997532 | 68 | 4665 | Male   | Yes | 1.4878602 | 0.08507239 | 3 | 2 | 0 | ⋯ |     NA | NA   | 0 | NA | NA | NA     | 0 | AoU | 3 | 0 |\n",
       "| 9997943 | 75 | 5724 | Female | Yes | 1.0861339 | 0.09095358 | 1 | 3 | 0 | ⋯ |     NA | NA   | 0 | NA | NA | NA     | 0 | AoU | 4 | 0 |\n",
       "| 9998012 | 61 | 3818 | Male   | No  | 1.3309468 | 0.08607086 | 2 | 2 | 0 | ⋯ |     NA | NA   | 0 | NA | NA | NA     | 0 | AoU | 3 | 0 |\n",
       "| 9998445 | 62 | 3849 | Male   | No  | 1.2884761 | 0.06732584 | 2 | 2 | 0 | ⋯ |     NA | NA   | 0 | NA | NA | NA     | 0 | AoU | 3 | 0 |\n",
       "| 9998505 | 77 | 5985 | Male   | Yes | 1.1465520 | 0.07303516 | 2 | 2 | 0 | ⋯ |     NA | NA   | 0 | NA | NA | NA     | 0 | AoU | 4 | 0 |\n",
       "| 9999412 | 78 | 6136 | Male   | No  | 1.6003945 | 0.06228284 | 3 | 2 | 0 | ⋯ |     NA | NA   | 0 | NA | NA | NA     | 0 | AoU | 4 | 0 |\n",
       "\n"
      ],
      "text/plain": [
       "       person_id age age_squ sex_at_birth smoking cll_prs   ltl_prs     \n",
       "1      1000013   48  2304    Female       No      1.142505  -0.009114790\n",
       "2      1000024   54  2916    Female       Yes     1.365924  -0.048422140\n",
       "3      1000036   67  4489    Male         No      1.520083  -0.034286250\n",
       "4      1000048   60  3600    Female       Yes     1.669113  -0.011578300\n",
       "5      1000055   40  1600    Male         No      1.235437  -0.015263113\n",
       "6      1000067   64  4096    Female       No      1.159228  -0.021568793\n",
       "7      1000072   54  2916    Male         No      1.915532  -0.021272490\n",
       "8      1000080   49  2401    Male         Yes     1.352047  -0.003704730\n",
       "9      1000099   58  3364    Male         Yes     1.686992  -0.027113390\n",
       "10     1000106   42  1764    Female       Yes     1.475761  -0.000256200\n",
       "11     1000114   43  1849    Male         No      1.727055  -0.015734760\n",
       "12     1000123   64  4096    Male         Yes     1.612589   0.006438262\n",
       "13     1000131   57  3249    Male         Yes     1.395898  -0.008145320\n",
       "14     1000140   48  2304    Female       No      1.334920  -0.032876348\n",
       "15     1000157   64  4096    Female       No      1.585097   0.002202860\n",
       "16     1000165   64  4096    Female       No      1.777829  -0.026820388\n",
       "17     1000179   64  4096    Female       Yes     1.701367  -0.004466590\n",
       "18     1000188   65  4225    Male         Yes     1.459902  -0.001325840\n",
       "19     1000192   57  3249    Female       Yes     1.329569  -0.033985270\n",
       "20     1000207   66  4356    Female       Yes     1.566201  -0.023885730\n",
       "21     1000219   66  4356    Female       No      1.377849  -0.010326590\n",
       "22     1000225   49  2401    Male         No      1.299359  -0.016036085\n",
       "23     1000238   61  3721    Male         Yes     1.570405  -0.008104350\n",
       "24     1000242   44  1936    Male         Yes     1.353238  -0.012458130\n",
       "25     1000256   55  3025    Female       Yes     1.737987  -0.004229190\n",
       "26     1000263   48  2304    Female       Yes     1.490662   0.003304697\n",
       "27     1000274   62  3844    Female       Yes     1.210703  -0.025498130\n",
       "28     1000281   57  3249    Female       No      1.531858  -0.003096880\n",
       "29     1000290   69  4761    Female       Yes     1.758791   0.024574048\n",
       "30     1000305   46  2116    Female       Yes     1.643584   0.024173190\n",
       "⋮      ⋮         ⋮   ⋮       ⋮            ⋮       ⋮         ⋮           \n",
       "589838 9989434   72  5228    Female       NA      1.1643919 0.04399806  \n",
       "589839 9989777   61  3822    Male         Yes     1.0573828 0.06107922  \n",
       "589840 9989855   62  3909    Male         Yes     1.3447662 0.06755960  \n",
       "589841 9990273   66  4405    Female       Yes     0.9844489 0.03024400  \n",
       "589842 9990712   45  2082    Female       Yes     1.2063921 0.05795020  \n",
       "589843 9990760   78  6108    Female       Yes     1.4348253 0.09055129  \n",
       "589844 9990807   44  1948    Male         No      1.0026504 0.06134439  \n",
       "589845 9991250   42  1837    Male         Yes     1.6230059 0.10193154  \n",
       "589846 9991636   67  4562    Female       No      1.0215316 0.07175009  \n",
       "589847 9991712   45  2099    Female       No      1.3336332 0.05232583  \n",
       "589848 9992068   84  7175    Male         Yes     1.3502832 0.07494468  \n",
       "589849 9992351   63  3991    Male         No      0.9902676 0.07365975  \n",
       "589850 9992814   42  1815    Female       No      1.1535409 0.05383368  \n",
       "589851 9992979   79  6387    Female       NA      1.3741113 0.07399640  \n",
       "589852 9993207   66  4456    Male         No      1.2341999 0.07990420  \n",
       "589853 9993246   73  5431    Female       No      1.3106497 0.06757981  \n",
       "589854 9993261   41  1705    Male         No      1.2760732 0.09959170  \n",
       "589855 9995183   51  2663    Female       Yes     1.1186689 0.04980090  \n",
       "589856 9995309   56  3179    Male         No      1.4127320 0.04371676  \n",
       "589857 9995312   75  5660    Male         Yes     1.1349849 0.06813716  \n",
       "589858 9995407   55  3052    Female       Yes     1.3449926 0.07951910  \n",
       "589859 9995430   49  2421    Female       No      1.3312210 0.05384742  \n",
       "589860 9997301   46  2169    Male         No      1.1993682 0.02795684  \n",
       "589861 9997501   69  4816    Male         No      1.5404761 0.09300411  \n",
       "589862 9997532   68  4665    Male         Yes     1.4878602 0.08507239  \n",
       "589863 9997943   75  5724    Female       Yes     1.0861339 0.09095358  \n",
       "589864 9998012   61  3818    Male         No      1.3309468 0.08607086  \n",
       "589865 9998445   62  3849    Male         No      1.2884761 0.06732584  \n",
       "589866 9998505   77  5985    Male         Yes     1.1465520 0.07303516  \n",
       "589867 9999412   78  6136    Male         No      1.6003945 0.06228284  \n",
       "       cll_262_coh ltl_262_coh mca_auto ⋯ cf_max chrom mca_highrisk p_arm q_arm\n",
       "1      1           2           0        ⋯    NA  NA    0            NA    NA   \n",
       "2      2           1           0        ⋯    NA  NA    0            NA    NA   \n",
       "3      2           1           0        ⋯    NA  NA    0            NA    NA   \n",
       "4      3           2           0        ⋯    NA  NA    0            NA    NA   \n",
       "5      1           2           0        ⋯    NA  NA    0            NA    NA   \n",
       "6      1           2           0        ⋯    NA  NA    0            NA    NA   \n",
       "7      3           2           0        ⋯    NA  NA    0            NA    NA   \n",
       "8      2           2           0        ⋯    NA  NA    0            NA    NA   \n",
       "9      3           1           0        ⋯    NA  NA    0            NA    NA   \n",
       "10     2           2           0        ⋯    NA  NA    0            NA    NA   \n",
       "11     3           2           0        ⋯    NA  NA    0            NA    NA   \n",
       "12     2           3           1        ⋯ 0.077  chr19 2            N     T    \n",
       "13     2           2           0        ⋯    NA  NA    0            NA    NA   \n",
       "14     2           1           0        ⋯    NA  NA    0            NA    NA   \n",
       "15     2           2           0        ⋯    NA  NA    0            NA    NA   \n",
       "16     3           1           0        ⋯    NA  NA    0            NA    NA   \n",
       "17     3           2           0        ⋯    NA  NA    0            NA    NA   \n",
       "18     2           2           0        ⋯    NA  NA    0            NA    NA   \n",
       "19     2           1           0        ⋯    NA  NA    0            NA    NA   \n",
       "20     2           2           0        ⋯    NA  NA    0            NA    NA   \n",
       "21     2           2           0        ⋯    NA  NA    0            NA    NA   \n",
       "22     1           2           0        ⋯    NA  NA    0            NA    NA   \n",
       "23     2           2           0        ⋯    NA  NA    0            NA    NA   \n",
       "24     2           2           0        ⋯    NA  NA    0            NA    NA   \n",
       "25     3           2           0        ⋯    NA  NA    0            NA    NA   \n",
       "26     2           2           0        ⋯    NA  NA    0            NA    NA   \n",
       "27     1           2           0        ⋯    NA  NA    0            NA    NA   \n",
       "28     2           2           0        ⋯    NA  NA    0            NA    NA   \n",
       "29     3           3           0        ⋯    NA  NA    0            NA    NA   \n",
       "30     3           3           0        ⋯    NA  NA    0            NA    NA   \n",
       "⋮      ⋮           ⋮           ⋮        ⋱ ⋮      ⋮     ⋮            ⋮     ⋮    \n",
       "589838 2           1           0        ⋯     NA NA    0            NA    NA   \n",
       "589839 1           2           0        ⋯     NA NA    0            NA    NA   \n",
       "589840 2           2           0        ⋯     NA NA    0            NA    NA   \n",
       "589841 1           1           0        ⋯     NA NA    0            NA    NA   \n",
       "589842 2           1           0        ⋯     NA NA    0            NA    NA   \n",
       "589843 3           3           0        ⋯     NA NA    0            NA    NA   \n",
       "589844 1           2           0        ⋯     NA NA    0            NA    NA   \n",
       "589845 3           3           0        ⋯     NA NA    0            NA    NA   \n",
       "589846 1           2           0        ⋯     NA NA    0            NA    NA   \n",
       "589847 2           1           0        ⋯     NA NA    0            NA    NA   \n",
       "589848 2           2           0        ⋯     NA NA    0            NA    NA   \n",
       "589849 1           2           0        ⋯     NA NA    0            NA    NA   \n",
       "589850 2           1           0        ⋯     NA NA    0            NA    NA   \n",
       "589851 2           2           0        ⋯     NA NA    0            NA    NA   \n",
       "589852 2           2           0        ⋯ 0.0556 chrX  2            T     T    \n",
       "589853 2           2           0        ⋯     NA NA    0            NA    NA   \n",
       "589854 2           3           0        ⋯     NA NA    0            NA    NA   \n",
       "589855 2           1           0        ⋯     NA NA    0            NA    NA   \n",
       "589856 2           1           0        ⋯     NA NA    0            NA    NA   \n",
       "589857 2           2           0        ⋯     NA NA    0            NA    NA   \n",
       "589858 2           2           0        ⋯     NA NA    0            NA    NA   \n",
       "589859 2           1           0        ⋯     NA NA    0            NA    NA   \n",
       "589860 2           1           0        ⋯     NA NA    0            NA    NA   \n",
       "589861 3           3           0        ⋯     NA NA    0            NA    NA   \n",
       "589862 3           2           0        ⋯     NA NA    0            NA    NA   \n",
       "589863 1           3           0        ⋯     NA NA    0            NA    NA   \n",
       "589864 2           2           0        ⋯     NA NA    0            NA    NA   \n",
       "589865 2           2           0        ⋯     NA NA    0            NA    NA   \n",
       "589866 2           2           0        ⋯     NA NA    0            NA    NA   \n",
       "589867 3           2           0        ⋯     NA NA    0            NA    NA   \n",
       "       type         cll cohort agegroup mca_cf10\n",
       "1      NA           0   UKB    1        0       \n",
       "2      NA           0   UKB    2        0       \n",
       "3      NA           0   UKB    3        0       \n",
       "4      NA           0   UKB    3        0       \n",
       "5      NA           0   UKB    1        0       \n",
       "6      NA           0   UKB    3        0       \n",
       "7      NA           0   UKB    2        0       \n",
       "8      NA           0   UKB    1        0       \n",
       "9      NA           0   UKB    2        0       \n",
       "10     NA           0   UKB    1        0       \n",
       "11     NA           0   UKB    1        0       \n",
       "12     Undetermined 0   UKB    3        0       \n",
       "13     NA           0   UKB    2        0       \n",
       "14     NA           0   UKB    1        0       \n",
       "15     NA           0   UKB    3        0       \n",
       "16     NA           0   UKB    3        0       \n",
       "17     NA           0   UKB    3        0       \n",
       "18     NA           0   UKB    3        0       \n",
       "19     NA           0   UKB    2        0       \n",
       "20     NA           0   UKB    3        0       \n",
       "21     NA           0   UKB    3        0       \n",
       "22     NA           0   UKB    1        0       \n",
       "23     NA           0   UKB    3        0       \n",
       "24     NA           0   UKB    1        0       \n",
       "25     NA           0   UKB    2        0       \n",
       "26     NA           0   UKB    1        0       \n",
       "27     NA           0   UKB    3        0       \n",
       "28     NA           0   UKB    2        0       \n",
       "29     NA           0   UKB    3        0       \n",
       "30     NA           0   UKB    1        0       \n",
       "⋮      ⋮            ⋮   ⋮      ⋮        ⋮       \n",
       "589838 NA           0   AoU    4        0       \n",
       "589839 NA           0   AoU    3        0       \n",
       "589840 NA           0   AoU    3        0       \n",
       "589841 NA           0   AoU    3        0       \n",
       "589842 NA           0   AoU    1        0       \n",
       "589843 NA           0   AoU    4        0       \n",
       "589844 NA           0   AoU    1        0       \n",
       "589845 NA           0   AoU    1        0       \n",
       "589846 NA           0   AoU    3        0       \n",
       "589847 NA           0   AoU    1        0       \n",
       "589848 NA           0   AoU    5        0       \n",
       "589849 NA           0   AoU    3        0       \n",
       "589850 NA           0   AoU    1        0       \n",
       "589851 NA           0   AoU    4        0       \n",
       "589852 CN-LOH       0   AoU    3        0       \n",
       "589853 NA           0   AoU    4        0       \n",
       "589854 NA           0   AoU    1        0       \n",
       "589855 NA           0   AoU    2        0       \n",
       "589856 NA           0   AoU    2        0       \n",
       "589857 NA           0   AoU    4        0       \n",
       "589858 NA           0   AoU    2        0       \n",
       "589859 NA           0   AoU    1        0       \n",
       "589860 NA           0   AoU    1        0       \n",
       "589861 NA           0   AoU    3        0       \n",
       "589862 NA           0   AoU    3        0       \n",
       "589863 NA           0   AoU    4        0       \n",
       "589864 NA           0   AoU    3        0       \n",
       "589865 NA           0   AoU    3        0       \n",
       "589866 NA           0   AoU    4        0       \n",
       "589867 NA           0   AoU    4        0       "
      ]
     },
     "metadata": {},
     "output_type": "display_data"
    }
   ],
   "source": [
    "mCA_clean_A_U"
   ]
  },
  {
   "cell_type": "code",
   "execution_count": 137,
   "id": "63b3df0a",
   "metadata": {},
   "outputs": [],
   "source": [
    "save(mCA_clean_A_U,file=\"mCA_clean_A_U.Rdata\")"
   ]
  },
  {
   "cell_type": "code",
   "execution_count": 63,
   "id": "f87b4c1c",
   "metadata": {},
   "outputs": [
    {
     "data": {
      "text/html": [
       "<style>\n",
       ".list-inline {list-style: none; margin:0; padding: 0}\n",
       ".list-inline>li {display: inline-block}\n",
       ".list-inline>li:not(:last-child)::after {content: \"\\00b7\"; padding: 0 .5ex}\n",
       "</style>\n",
       "<ol class=list-inline><li>'age'</li><li>'age_squ'</li><li>'cf_cat'</li><li>'cf_max'</li><li>'chrom'</li><li>'cll'</li><li>'cll_262_coh'</li><li>'cll_prs'</li><li>'cohort'</li><li>'ltl_262_coh'</li><li>'ltl_prs'</li><li>'mca_auto'</li><li>'mca_highrisk'</li><li>'p_arm'</li><li>'person_id'</li><li>'q_arm'</li><li>'sex_at_birth'</li><li>'smoking'</li><li>'type'</li></ol>\n"
      ],
      "text/latex": [
       "\\begin{enumerate*}\n",
       "\\item 'age'\n",
       "\\item 'age\\_squ'\n",
       "\\item 'cf\\_cat'\n",
       "\\item 'cf\\_max'\n",
       "\\item 'chrom'\n",
       "\\item 'cll'\n",
       "\\item 'cll\\_262\\_coh'\n",
       "\\item 'cll\\_prs'\n",
       "\\item 'cohort'\n",
       "\\item 'ltl\\_262\\_coh'\n",
       "\\item 'ltl\\_prs'\n",
       "\\item 'mca\\_auto'\n",
       "\\item 'mca\\_highrisk'\n",
       "\\item 'p\\_arm'\n",
       "\\item 'person\\_id'\n",
       "\\item 'q\\_arm'\n",
       "\\item 'sex\\_at\\_birth'\n",
       "\\item 'smoking'\n",
       "\\item 'type'\n",
       "\\end{enumerate*}\n"
      ],
      "text/markdown": [
       "1. 'age'\n",
       "2. 'age_squ'\n",
       "3. 'cf_cat'\n",
       "4. 'cf_max'\n",
       "5. 'chrom'\n",
       "6. 'cll'\n",
       "7. 'cll_262_coh'\n",
       "8. 'cll_prs'\n",
       "9. 'cohort'\n",
       "10. 'ltl_262_coh'\n",
       "11. 'ltl_prs'\n",
       "12. 'mca_auto'\n",
       "13. 'mca_highrisk'\n",
       "14. 'p_arm'\n",
       "15. 'person_id'\n",
       "16. 'q_arm'\n",
       "17. 'sex_at_birth'\n",
       "18. 'smoking'\n",
       "19. 'type'\n",
       "\n",
       "\n"
      ],
      "text/plain": [
       " [1] \"age\"          \"age_squ\"      \"cf_cat\"       \"cf_max\"       \"chrom\"       \n",
       " [6] \"cll\"          \"cll_262_coh\"  \"cll_prs\"      \"cohort\"       \"ltl_262_coh\" \n",
       "[11] \"ltl_prs\"      \"mca_auto\"     \"mca_highrisk\" \"p_arm\"        \"person_id\"   \n",
       "[16] \"q_arm\"        \"sex_at_birth\" \"smoking\"      \"type\"        "
      ]
     },
     "metadata": {},
     "output_type": "display_data"
    }
   ],
   "source": [
    "x<-load(\"mCA_clean_A_U.Rdata\")\n",
    "ls(mCA_clean_A_U)"
   ]
  },
  {
   "cell_type": "code",
   "execution_count": 64,
   "id": "0094897c",
   "metadata": {},
   "outputs": [
    {
     "data": {
      "text/plain": [
       "   Min. 1st Qu.  Median    Mean 3rd Qu.    Max. \n",
       "  37.00   51.00   59.00   57.57   64.00   89.00 "
      ]
     },
     "metadata": {},
     "output_type": "display_data"
    },
    {
     "data": {
      "text/plain": [
       "   Min. 1st Qu.  Median    Mean 3rd Qu.    Max. \n",
       "  40.00   51.00   59.00   57.57   64.00   89.00 "
      ]
     },
     "metadata": {},
     "output_type": "display_data"
    }
   ],
   "source": [
    "summary(mCA_clean_A_U$age)\n",
    "mCA_clean_A_U <- filter(mCA_clean_A_U, mCA_clean_A_U$age >=40)\n",
    "summary(mCA_clean_A_U$age)"
   ]
  },
  {
   "cell_type": "code",
   "execution_count": 3,
   "id": "dddfc509",
   "metadata": {
    "scrolled": true
   },
   "outputs": [
    {
     "name": "stderr",
     "output_type": "stream",
     "text": [
      "Installing package into ‘/home/jupyter/packages’\n",
      "(as ‘lib’ is unspecified)\n",
      "\n",
      "Loading required package: MASS\n",
      "\n",
      "\n",
      "Attaching package: ‘MASS’\n",
      "\n",
      "\n",
      "The following object is masked from ‘package:dplyr’:\n",
      "\n",
      "    select\n",
      "\n",
      "\n",
      "Loading required package: Matrix\n",
      "\n",
      "\n",
      "Attaching package: ‘Matrix’\n",
      "\n",
      "\n",
      "The following objects are masked from ‘package:tidyr’:\n",
      "\n",
      "    expand, pack, unpack\n",
      "\n",
      "\n",
      "Loading required package: mvtnorm\n",
      "\n",
      "Loading required package: sandwich\n",
      "\n",
      "mediation: Causal Mediation Analysis\n",
      "Version: 4.5.0\n",
      "\n",
      "\n"
     ]
    }
   ],
   "source": [
    "#Mediation\n",
    "install.packages(\"mediation\")\n",
    "library(mediation)"
   ]
  },
  {
   "cell_type": "code",
   "execution_count": 7,
   "id": "58e7eac0",
   "metadata": {
    "scrolled": true
   },
   "outputs": [
    {
     "data": {
      "text/plain": [
       "\n",
       "Call:\n",
       "glm(formula = mca_auto ~ cll_prs + age + age_squ + sex_at_birth + \n",
       "    smoking, family = binomial, data = mCA_clean_A_U)\n",
       "\n",
       "Coefficients:\n",
       "                        Estimate Std. Error z value Pr(>|z|)    \n",
       "(Intercept)           -8.116e+00  2.325e-01 -34.911  < 2e-16 ***\n",
       "cll_prs                5.978e-01  3.831e-02  15.602  < 2e-16 ***\n",
       "age                    7.714e-02  7.734e-03   9.974  < 2e-16 ***\n",
       "age_squ               -2.469e-04  6.306e-05  -3.916 9.00e-05 ***\n",
       "sex_at_birthIntersex  -7.016e+00  3.025e+01  -0.232    0.817    \n",
       "sex_at_birthMale       1.495e-01  1.529e-02   9.779  < 2e-16 ***\n",
       "smokingPMI: Dont Know  9.229e-02  1.737e-01   0.531    0.595    \n",
       "smokingYes             8.157e-02  1.567e-02   5.205 1.94e-07 ***\n",
       "---\n",
       "Signif. codes:  0 ‘***’ 0.001 ‘**’ 0.01 ‘*’ 0.05 ‘.’ 0.1 ‘ ’ 1\n",
       "\n",
       "(Dispersion parameter for binomial family taken to be 1)\n",
       "\n",
       "    Null deviance: 160633  on 583876  degrees of freedom\n",
       "Residual deviance: 157372  on 583869  degrees of freedom\n",
       "  (5990 observations deleted due to missingness)\n",
       "AIC: 157388\n",
       "\n",
       "Number of Fisher Scoring iterations: 9\n"
      ]
     },
     "metadata": {},
     "output_type": "display_data"
    }
   ],
   "source": [
    "model.m <- glm(mca_auto ~ cll_prs + age + age_squ+ sex_at_birth+ smoking, \n",
    "               data = mCA_clean_A_U, family = binomial)\n",
    "summary(model.m)"
   ]
  },
  {
   "cell_type": "code",
   "execution_count": 8,
   "id": "dca18ac4",
   "metadata": {
    "scrolled": true
   },
   "outputs": [
    {
     "data": {
      "text/plain": [
       "\n",
       "Call:\n",
       "glm(formula = cll ~ mca_auto + cll_prs + age + age_squ + sex_at_birth + \n",
       "    smoking, family = binomial, data = mCA_clean_A_U)\n",
       "\n",
       "Coefficients:\n",
       "                        Estimate Std. Error z value Pr(>|z|)    \n",
       "(Intercept)           -1.232e+01  1.144e+00 -10.769  < 2e-16 ***\n",
       "mca_auto               2.957e+00  7.254e-02  40.762  < 2e-16 ***\n",
       "cll_prs                9.763e-01  1.793e-01   5.444 5.20e-08 ***\n",
       "age                    2.617e-02  3.408e-02   0.768   0.4425    \n",
       "age_squ                5.356e-04  2.504e-04   2.139   0.0324 *  \n",
       "sex_at_birthIntersex  -6.235e+00  1.330e+02  -0.047   0.9626    \n",
       "sex_at_birthMale       4.540e-01  7.306e-02   6.214 5.18e-10 ***\n",
       "smokingPMI: Dont Know  3.476e-01  5.175e-01   0.672   0.5018    \n",
       "smokingYes            -2.253e-01  7.218e-02  -3.121   0.0018 ** \n",
       "---\n",
       "Signif. codes:  0 ‘***’ 0.001 ‘**’ 0.01 ‘*’ 0.05 ‘.’ 0.1 ‘ ’ 1\n",
       "\n",
       "(Dispersion parameter for binomial family taken to be 1)\n",
       "\n",
       "    Null deviance: 12292  on 583876  degrees of freedom\n",
       "Residual deviance: 10181  on 583868  degrees of freedom\n",
       "  (5990 observations deleted due to missingness)\n",
       "AIC: 10199\n",
       "\n",
       "Number of Fisher Scoring iterations: 12\n"
      ]
     },
     "metadata": {},
     "output_type": "display_data"
    }
   ],
   "source": [
    "model.y <- glm(cll ~ mca_auto + cll_prs + age + age_squ+ sex_at_birth+ smoking, \n",
    "               data = mCA_clean_A_U, family = binomial)\n",
    "summary(model.y)"
   ]
  },
  {
   "cell_type": "code",
   "execution_count": 9,
   "id": "f776eaae",
   "metadata": {
    "scrolled": true
   },
   "outputs": [
    {
     "data": {
      "text/plain": [
       "\n",
       "Causal Mediation Analysis \n",
       "\n",
       "Quasi-Bayesian Confidence Intervals\n",
       "\n",
       "                         Estimate 95% CI Lower 95% CI Upper p-value    \n",
       "ACME (control)           5.53e-05     3.13e-05         0.00  <2e-16 ***\n",
       "ACME (treated)           1.37e-04     1.09e-04         0.00  <2e-16 ***\n",
       "ADE (control)            4.21e-04     3.56e-04         0.00  <2e-16 ***\n",
       "ADE (treated)            5.02e-04     4.24e-04         0.00  <2e-16 ***\n",
       "Total Effect             5.57e-04     5.06e-04         0.00  <2e-16 ***\n",
       "Prop. Mediated (control) 9.17e-02     5.71e-02         0.20  <2e-16 ***\n",
       "Prop. Mediated (treated) 2.41e-01     1.97e-01         0.32  <2e-16 ***\n",
       "ACME (average)           9.61e-05     7.15e-05         0.00  <2e-16 ***\n",
       "ADE (average)            4.61e-04     3.90e-04         0.00  <2e-16 ***\n",
       "Prop. Mediated (average) 1.66e-01     1.29e-01         0.26  <2e-16 ***\n",
       "---\n",
       "Signif. codes:  0 ‘***’ 0.001 ‘**’ 0.01 ‘*’ 0.05 ‘.’ 0.1 ‘ ’ 1\n",
       "\n",
       "Sample Size Used: 583877 \n",
       "\n",
       "\n",
       "Simulations: 100 \n"
      ]
     },
     "metadata": {},
     "output_type": "display_data"
    }
   ],
   "source": [
    "med.out <- mediate(model.m, model.y, treat = \"cll_prs\", mediator = \"mca_auto\", robustSE = TRUE, sims = 100)\n",
    "summary(med.out)"
   ]
  },
  {
   "cell_type": "code",
   "execution_count": 10,
   "id": "eed093c8",
   "metadata": {},
   "outputs": [
    {
     "data": {
      "image/png": "[encoded data removed]",
      "text/plain": [
       "plot without title"
      ]
     },
     "metadata": {
      "image/png": {
       "height": 420,
       "width": 420
      }
     },
     "output_type": "display_data"
    }
   ],
   "source": [
    "library(ggplot2)\n",
    "ggplot(mCA_clean_A_U, aes(x = age, y = mca_auto, color = cll_262_coh)) +\n",
    "  geom_smooth(method = \"gam\", formula = y ~ s(x, bs = \"cs\"), se = TRUE) +\n",
    "  scale_color_manual(values = c(\"1\" = \"#009E73\", \"2\" = \"#56B4E9\", \"3\" = \"#E69F00\")) +\n",
    "  labs(\n",
    "    title = \"Age vs mCA Status by CLL-PRS Groups\",\n",
    "    x = \"Age\",\n",
    "    y = \"mCA Status Probability\",\n",
    "    color = \"CLL-PRS Group\"\n",
    "  ) +\n",
    "  theme_minimal() +\n",
    "  theme(\n",
    "    plot.title = element_text(hjust = 0.5, size = 16, face = \"bold\"),\n",
    "    axis.title = element_text(size = 14),\n",
    "    axis.text = element_text(size = 12),\n",
    "    legend.position = \"right\",\n",
    "    legend.title = element_text(size = 14),\n",
    "    legend.text = element_text(size = 12)\n",
    "  )"
   ]
  },
  {
   "cell_type": "code",
   "execution_count": 11,
   "id": "b612ce6e",
   "metadata": {},
   "outputs": [
    {
     "data": {
      "text/plain": [
       "\n",
       "     1      2      3 \n",
       "117974 353919 117974 "
      ]
     },
     "metadata": {},
     "output_type": "display_data"
    }
   ],
   "source": [
    "mCA_clean_A_U$cll_262 <- 2\n",
    "mCA_clean_A_U$cll_262[mCA_clean_A_U$cll_prs >= quantile(mCA_clean_A_U$cll_prs,0.8)] <- 3\n",
    "mCA_clean_A_U$cll_262[mCA_clean_A_U$cll_prs < quantile(mCA_clean_A_U$cll_prs,0.2)] <- 1\n",
    "mCA_clean_A_U$cll_262<-as.factor(mCA_clean_A_U$cll_262)\n",
    "table(mCA_clean_A_U$cll_262)"
   ]
  },
  {
   "cell_type": "code",
   "execution_count": 12,
   "id": "fffa8d35",
   "metadata": {
    "scrolled": true
   },
   "outputs": [
    {
     "data": {
      "image/png": "[encoded data removed]",
      "text/plain": [
       "plot without title"
      ]
     },
     "metadata": {
      "image/png": {
       "height": 420,
       "width": 420
      }
     },
     "output_type": "display_data"
    }
   ],
   "source": [
    "ggplot(mCA_clean_A_U, aes(x = age, y = mca_auto, color = cll_262)) +\n",
    "  geom_smooth(method = \"gam\", formula = y ~ s(x, bs = \"cs\"), se = TRUE) +\n",
    "  scale_color_manual(values = c(\"1\" = \"#009E73\", \"2\" = \"#56B4E9\", \"3\" = \"#E69F00\")) +\n",
    "  labs(\n",
    "    title = \"Age vs mCA Status by CLL-PRS Groups\",\n",
    "    x = \"Age\",\n",
    "    y = \"mCA Status Probability\",\n",
    "    color = \"CLL-PRS Group\"\n",
    "  ) +\n",
    "  theme_minimal() +\n",
    "  theme(\n",
    "    plot.title = element_text(hjust = 0.5, size = 16, face = \"bold\"),\n",
    "    axis.title = element_text(size = 14),\n",
    "    axis.text = element_text(size = 12),\n",
    "    legend.position = \"right\",\n",
    "    legend.title = element_text(size = 14),\n",
    "    legend.text = element_text(size = 12)\n",
    "  )"
   ]
  },
  {
   "cell_type": "code",
   "execution_count": 13,
   "id": "ce5cc020",
   "metadata": {
    "scrolled": true
   },
   "outputs": [
    {
     "data": {
      "text/plain": [
       "\n",
       "Call:\n",
       "glm(formula = mca_auto ~ ltl_prs + age + age_squ + sex_at_birth + \n",
       "    smoking, family = binomial, data = mCA_clean_A_U)\n",
       "\n",
       "Coefficients:\n",
       "                        Estimate Std. Error z value Pr(>|z|)    \n",
       "(Intercept)           -6.945e+00  2.502e-01 -27.755  < 2e-16 ***\n",
       "ltl_prs               -2.221e+00  2.435e-01  -9.120  < 2e-16 ***\n",
       "age                    6.619e-02  8.358e-03   7.920 2.37e-15 ***\n",
       "age_squ               -1.480e-04  6.927e-05  -2.137   0.0326 *  \n",
       "sex_at_birthIntersex  -6.990e+00  3.021e+01  -0.231   0.8170    \n",
       "sex_at_birthMale       1.479e-01  1.529e-02   9.671  < 2e-16 ***\n",
       "smokingPMI: Dont Know  1.298e-01  1.740e-01   0.746   0.4557    \n",
       "smokingYes             7.792e-02  1.572e-02   4.956 7.18e-07 ***\n",
       "---\n",
       "Signif. codes:  0 ‘***’ 0.001 ‘**’ 0.01 ‘*’ 0.05 ‘.’ 0.1 ‘ ’ 1\n",
       "\n",
       "(Dispersion parameter for binomial family taken to be 1)\n",
       "\n",
       "    Null deviance: 160633  on 583876  degrees of freedom\n",
       "Residual deviance: 157531  on 583869  degrees of freedom\n",
       "  (5990 observations deleted due to missingness)\n",
       "AIC: 157547\n",
       "\n",
       "Number of Fisher Scoring iterations: 9\n"
      ]
     },
     "metadata": {},
     "output_type": "display_data"
    }
   ],
   "source": [
    "#mCA and LTL_PRS\n",
    "model.m <- glm(mca_auto ~ ltl_prs + age + age_squ+ sex_at_birth+ smoking, \n",
    "               data = mCA_clean_A_U, family = binomial)\n",
    "summary(model.m)"
   ]
  },
  {
   "cell_type": "code",
   "execution_count": 14,
   "id": "e2b0daab",
   "metadata": {
    "scrolled": true
   },
   "outputs": [
    {
     "data": {
      "text/plain": [
       "\n",
       "Call:\n",
       "glm(formula = cll ~ mca_auto + ltl_prs + age + age_squ + sex_at_birth + \n",
       "    smoking, family = binomial, data = mCA_clean_A_U)\n",
       "\n",
       "Coefficients:\n",
       "                        Estimate Std. Error z value Pr(>|z|)    \n",
       "(Intercept)           -1.807e+01  1.342e+00 -13.469  < 2e-16 ***\n",
       "mca_auto               3.050e+00  7.280e-02  41.891  < 2e-16 ***\n",
       "ltl_prs                1.757e+01  9.378e-01  18.736  < 2e-16 ***\n",
       "age                    2.747e-01  4.064e-02   6.758 1.40e-11 ***\n",
       "age_squ               -1.685e-03  3.067e-04  -5.493 3.94e-08 ***\n",
       "sex_at_birthIntersex  -7.110e+00  1.339e+02  -0.053    0.958    \n",
       "sex_at_birthMale       4.962e-01  7.312e-02   6.786 1.15e-11 ***\n",
       "smokingPMI: Dont Know -1.274e-01  5.143e-01  -0.248    0.804    \n",
       "smokingYes            -3.937e-02  7.286e-02  -0.540    0.589    \n",
       "---\n",
       "Signif. codes:  0 ‘***’ 0.001 ‘**’ 0.01 ‘*’ 0.05 ‘.’ 0.1 ‘ ’ 1\n",
       "\n",
       "(Dispersion parameter for binomial family taken to be 1)\n",
       "\n",
       "    Null deviance: 12292.3  on 583876  degrees of freedom\n",
       "Residual deviance:  9884.2  on 583868  degrees of freedom\n",
       "  (5990 observations deleted due to missingness)\n",
       "AIC: 9902.2\n",
       "\n",
       "Number of Fisher Scoring iterations: 12\n"
      ]
     },
     "metadata": {},
     "output_type": "display_data"
    }
   ],
   "source": [
    "model.y <- glm(cll ~ mca_auto + ltl_prs + age + age_squ+ sex_at_birth+ smoking, \n",
    "               data = mCA_clean_A_U, family = binomial)\n",
    "summary(model.y)"
   ]
  },
  {
   "cell_type": "code",
   "execution_count": 15,
   "id": "68ce7722",
   "metadata": {
    "scrolled": true
   },
   "outputs": [
    {
     "data": {
      "text/plain": [
       "\n",
       "Causal Mediation Analysis \n",
       "\n",
       "Quasi-Bayesian Confidence Intervals\n",
       "\n",
       "                          Estimate 95% CI Lower 95% CI Upper p-value    \n",
       "ACME (control)           -3.66e-04    -4.18e-04            0  <2e-16 ***\n",
       "ACME (treated)           -2.05e-06    -6.64e-06            0  <2e-16 ***\n",
       "ADE (control)             9.99e-01     9.99e-01            1  <2e-16 ***\n",
       "ADE (treated)             9.99e-01     9.99e-01            1  <2e-16 ***\n",
       "Total Effect              9.99e-01     9.99e-01            1  <2e-16 ***\n",
       "Prop. Mediated (control) -3.65e-04    -4.18e-04            0  <2e-16 ***\n",
       "Prop. Mediated (treated) -1.60e-06    -6.64e-06            0  <2e-16 ***\n",
       "ACME (average)           -1.84e-04    -2.10e-04            0  <2e-16 ***\n",
       "ADE (average)             9.99e-01     9.99e-01            1  <2e-16 ***\n",
       "Prop. Mediated (average) -1.84e-04    -2.10e-04            0  <2e-16 ***\n",
       "---\n",
       "Signif. codes:  0 ‘***’ 0.001 ‘**’ 0.01 ‘*’ 0.05 ‘.’ 0.1 ‘ ’ 1\n",
       "\n",
       "Sample Size Used: 583877 \n",
       "\n",
       "\n",
       "Simulations: 100 \n"
      ]
     },
     "metadata": {},
     "output_type": "display_data"
    }
   ],
   "source": [
    "med.out <- mediate(model.m, model.y, treat = \"ltl_prs\", mediator = \"mca_auto\", robustSE = TRUE, sims = 100)\n",
    "summary(med.out)"
   ]
  },
  {
   "cell_type": "code",
   "execution_count": 16,
   "id": "2614526d",
   "metadata": {
    "scrolled": true
   },
   "outputs": [
    {
     "data": {
      "image/png": "[encoded data removed]",
      "text/plain": [
       "plot without title"
      ]
     },
     "metadata": {
      "image/png": {
       "height": 420,
       "width": 420
      }
     },
     "output_type": "display_data"
    }
   ],
   "source": [
    "ggplot(mCA_clean_A_U, aes(x = age, y = mca_auto, color = ltl_262_coh)) +\n",
    "  geom_smooth(method = \"gam\", formula = y ~ s(x, bs = \"cs\"), se = TRUE) +\n",
    "  scale_color_manual(values = c(\"1\" = \"#009E73\", \"2\" = \"#56B4E9\", \"3\" = \"#E69F00\")) +\n",
    "  labs(\n",
    "    title = \"Age vs mCA Status by CLL-PRS Groups\",\n",
    "    x = \"Age\",\n",
    "    y = \"mCA Status Probability\",\n",
    "    color = \"CLL-PRS Group\"\n",
    "  ) +\n",
    "  theme_minimal() +\n",
    "  theme(\n",
    "    plot.title = element_text(hjust = 0.5, size = 16, face = \"bold\"),\n",
    "    axis.title = element_text(size = 14),\n",
    "    axis.text = element_text(size = 12),\n",
    "    legend.position = \"right\",\n",
    "    legend.title = element_text(size = 14),\n",
    "    legend.text = element_text(size = 12)\n",
    "  )"
   ]
  },
  {
   "cell_type": "code",
   "execution_count": 18,
   "id": "88573339",
   "metadata": {},
   "outputs": [
    {
     "data": {
      "text/plain": [
       "\n",
       "     0      1      2 \n",
       "566090   2541  21236 "
      ]
     },
     "metadata": {},
     "output_type": "display_data"
    },
    {
     "data": {
      "text/plain": [
       "\n",
       "     1      2 \n",
       "566090   2541 "
      ]
     },
     "metadata": {},
     "output_type": "display_data"
    }
   ],
   "source": [
    "#High risk \n",
    "table(mCA_clean_A_U$mca_highrisk)\n",
    "mCA_clean_A_U <- filter(mCA_clean_A_U,mCA_clean_A_U$mca_highrisk==0 | mCA_clean_A_U$mca_highrisk==1)\n",
    "mCA_clean_A_U <- mCA_clean_A_U %>%\n",
    "  mutate(mca_highrisk = ifelse(mca_highrisk == 2, NA, mca_highrisk)) \n",
    "table(mCA_clean_A_U$mca_highrisk)"
   ]
  },
  {
   "cell_type": "code",
   "execution_count": 19,
   "id": "6e84954d",
   "metadata": {},
   "outputs": [
    {
     "data": {
      "text/plain": [
       "\n",
       "     0      1 \n",
       "566090   2541 "
      ]
     },
     "metadata": {},
     "output_type": "display_data"
    }
   ],
   "source": [
    "mCA_clean_A_U$mca_highrisk <- ifelse(mCA_clean_A_U$mca_highrisk ==1, 0, mCA_clean_A_U$mca_highrisk)\n",
    "mCA_clean_A_U$mca_highrisk <- ifelse(mCA_clean_A_U$mca_highrisk ==2, 1, mCA_clean_A_U$mca_highrisk)\n",
    "table(mCA_clean_A_U$mca_highrisk)"
   ]
  },
  {
   "cell_type": "code",
   "execution_count": 20,
   "id": "702427f7",
   "metadata": {
    "scrolled": true
   },
   "outputs": [
    {
     "data": {
      "text/plain": [
       "\n",
       "Call:\n",
       "glm(formula = mca_highrisk ~ cll_prs + age + age_squ + sex_at_birth + \n",
       "    smoking, family = binomial, data = mCA_clean_A_U)\n",
       "\n",
       "Coefficients:\n",
       "                        Estimate Std. Error z value Pr(>|z|)    \n",
       "(Intercept)           -1.249e+01  6.334e-01 -19.713  < 2e-16 ***\n",
       "cll_prs                1.566e+00  1.013e-01  15.454  < 2e-16 ***\n",
       "age                    7.041e-02  2.012e-02   3.500 0.000464 ***\n",
       "age_squ                9.531e-05  1.571e-04   0.607 0.543959    \n",
       "sex_at_birthIntersex  -6.732e+00  8.653e+01  -0.078 0.937981    \n",
       "sex_at_birthMale       3.850e-01  4.055e-02   9.495  < 2e-16 ***\n",
       "smokingPMI: Dont Know  3.677e-01  3.834e-01   0.959 0.337532    \n",
       "smokingYes            -1.743e-02  4.122e-02  -0.423 0.672416    \n",
       "---\n",
       "Signif. codes:  0 ‘***’ 0.001 ‘**’ 0.01 ‘*’ 0.05 ‘.’ 0.1 ‘ ’ 1\n",
       "\n",
       "(Dispersion parameter for binomial family taken to be 1)\n",
       "\n",
       "    Null deviance: 32203  on 562969  degrees of freedom\n",
       "Residual deviance: 30777  on 562962  degrees of freedom\n",
       "  (5661 observations deleted due to missingness)\n",
       "AIC: 30793\n",
       "\n",
       "Number of Fisher Scoring iterations: 11\n"
      ]
     },
     "metadata": {},
     "output_type": "display_data"
    }
   ],
   "source": [
    "model.m <- glm(mca_highrisk ~ cll_prs + age + age_squ+ sex_at_birth+ smoking, \n",
    "               data = mCA_clean_A_U, family = binomial)\n",
    "summary(model.m)"
   ]
  },
  {
   "cell_type": "code",
   "execution_count": 21,
   "id": "43983d33",
   "metadata": {
    "scrolled": true
   },
   "outputs": [
    {
     "data": {
      "text/plain": [
       "\n",
       "Call:\n",
       "glm(formula = cll ~ mca_highrisk + cll_prs + age + age_squ + \n",
       "    sex_at_birth + smoking, family = binomial, data = mCA_clean_A_U)\n",
       "\n",
       "Coefficients:\n",
       "                        Estimate Std. Error z value Pr(>|z|)    \n",
       "(Intercept)           -1.102e+01  1.255e+00  -8.778  < 2e-16 ***\n",
       "mca_highrisk           4.706e+00  8.227e-02  57.199  < 2e-16 ***\n",
       "cll_prs                6.968e-01  1.938e-01   3.596 0.000323 ***\n",
       "age                   -2.478e-03  3.824e-02  -0.065 0.948326    \n",
       "age_squ                7.648e-04  2.854e-04   2.680 0.007360 ** \n",
       "sex_at_birthIntersex  -6.176e+00  1.425e+02  -0.043 0.965428    \n",
       "sex_at_birthMale       4.282e-01  7.905e-02   5.417 6.07e-08 ***\n",
       "smokingPMI: Dont Know  4.088e-01  5.577e-01   0.733 0.463582    \n",
       "smokingYes            -2.501e-01  7.857e-02  -3.184 0.001455 ** \n",
       "---\n",
       "Signif. codes:  0 ‘***’ 0.001 ‘**’ 0.01 ‘*’ 0.05 ‘.’ 0.1 ‘ ’ 1\n",
       "\n",
       "(Dispersion parameter for binomial family taken to be 1)\n",
       "\n",
       "    Null deviance: 11125.1  on 562969  degrees of freedom\n",
       "Residual deviance:  8319.9  on 562961  degrees of freedom\n",
       "  (5661 observations deleted due to missingness)\n",
       "AIC: 8337.9\n",
       "\n",
       "Number of Fisher Scoring iterations: 12\n"
      ]
     },
     "metadata": {},
     "output_type": "display_data"
    }
   ],
   "source": [
    "model.y <- glm(cll ~ mca_highrisk + cll_prs + age + age_squ+ sex_at_birth+ smoking, \n",
    "               data = mCA_clean_A_U, family = binomial)\n",
    "summary(model.y)"
   ]
  },
  {
   "cell_type": "code",
   "execution_count": 22,
   "id": "c137b7b9",
   "metadata": {
    "scrolled": true
   },
   "outputs": [
    {
     "data": {
      "text/plain": [
       "\n",
       "Causal Mediation Analysis \n",
       "\n",
       "Quasi-Bayesian Confidence Intervals\n",
       "\n",
       "                         Estimate 95% CI Lower 95% CI Upper p-value    \n",
       "ACME (control)           9.94e-05     5.82e-05         0.00  <2e-16 ***\n",
       "ACME (treated)           1.73e-04     1.36e-04         0.00  <2e-16 ***\n",
       "ADE (control)            3.00e-04     2.18e-04         0.00  <2e-16 ***\n",
       "ADE (treated)            3.74e-04     2.69e-04         0.00  <2e-16 ***\n",
       "Total Effect             4.73e-04     4.03e-04         0.00  <2e-16 ***\n",
       "Prop. Mediated (control) 1.99e-01     1.23e-01         0.36  <2e-16 ***\n",
       "Prop. Mediated (treated) 3.61e-01     2.91e-01         0.48  <2e-16 ***\n",
       "ACME (average)           1.36e-04     9.79e-05         0.00  <2e-16 ***\n",
       "ADE (average)            3.37e-04     2.44e-04         0.00  <2e-16 ***\n",
       "Prop. Mediated (average) 2.80e-01     2.06e-01         0.42  <2e-16 ***\n",
       "---\n",
       "Signif. codes:  0 ‘***’ 0.001 ‘**’ 0.01 ‘*’ 0.05 ‘.’ 0.1 ‘ ’ 1\n",
       "\n",
       "Sample Size Used: 562970 \n",
       "\n",
       "\n",
       "Simulations: 100 \n"
      ]
     },
     "metadata": {},
     "output_type": "display_data"
    }
   ],
   "source": [
    "med.out <- mediate(model.m, model.y, treat = \"cll_prs\", mediator = \"mca_highrisk\", robustSE = TRUE, sims = 100)\n",
    "summary(med.out)"
   ]
  },
  {
   "cell_type": "code",
   "execution_count": 23,
   "id": "7fc6af56",
   "metadata": {
    "scrolled": true
   },
   "outputs": [
    {
     "data": {
      "image/png": "[encoded data removed]",
      "text/plain": [
       "plot without title"
      ]
     },
     "metadata": {
      "image/png": {
       "height": 420,
       "width": 420
      }
     },
     "output_type": "display_data"
    }
   ],
   "source": [
    "ggplot(mCA_clean_A_U, aes(x = age, y = mca_highrisk, color = cll_262_coh)) +\n",
    "  geom_smooth(method = \"gam\", formula = y ~ s(x, bs = \"cs\"), se = TRUE) +\n",
    "  scale_color_manual(values = c(\"1\" = \"#009E73\", \"2\" = \"#56B4E9\", \"3\" = \"#E69F00\")) +\n",
    "  labs(\n",
    "    title = \"Age vs high-risk mCA by CLL-PRS Groups\",\n",
    "    x = \"Age\",\n",
    "    y = \"high-risk mCA Probability\",\n",
    "    color = \"CLL-PRS Group\"\n",
    "  ) +\n",
    "  theme_minimal() +\n",
    "  theme(\n",
    "    plot.title = element_text(hjust = 0.5, size = 16, face = \"bold\"),\n",
    "    axis.title = element_text(size = 14),\n",
    "    axis.text = element_text(size = 12),\n",
    "    legend.position = \"right\",\n",
    "    legend.title = element_text(size = 14),\n",
    "    legend.text = element_text(size = 12)\n",
    "  )"
   ]
  },
  {
   "cell_type": "code",
   "execution_count": 24,
   "id": "0a45ce11",
   "metadata": {
    "scrolled": true
   },
   "outputs": [
    {
     "data": {
      "text/plain": [
       "\n",
       "Call:\n",
       "glm(formula = mca_highrisk ~ ltl_prs + age + age_squ + sex_at_birth + \n",
       "    smoking, family = binomial, data = mCA_clean_A_U)\n",
       "\n",
       "Coefficients:\n",
       "                        Estimate Std. Error z value Pr(>|z|)    \n",
       "(Intercept)           -1.302e+01  7.176e-01 -18.145  < 2e-16 ***\n",
       "ltl_prs                2.837e+00  5.977e-01   4.747 2.07e-06 ***\n",
       "age                    1.719e-01  2.295e-02   7.488 7.01e-14 ***\n",
       "age_squ               -8.018e-04  1.830e-04  -4.382 1.17e-05 ***\n",
       "sex_at_birthIntersex  -7.141e+00  8.684e+01  -0.082    0.934    \n",
       "sex_at_birthMale       3.985e-01  4.054e-02   9.828  < 2e-16 ***\n",
       "smokingPMI: Dont Know  1.644e-01  3.827e-01   0.430    0.667    \n",
       "smokingYes             2.825e-02  4.140e-02   0.682    0.495    \n",
       "---\n",
       "Signif. codes:  0 ‘***’ 0.001 ‘**’ 0.01 ‘*’ 0.05 ‘.’ 0.1 ‘ ’ 1\n",
       "\n",
       "(Dispersion parameter for binomial family taken to be 1)\n",
       "\n",
       "    Null deviance: 32203  on 562969  degrees of freedom\n",
       "Residual deviance: 30994  on 562962  degrees of freedom\n",
       "  (5661 observations deleted due to missingness)\n",
       "AIC: 31010\n",
       "\n",
       "Number of Fisher Scoring iterations: 11\n"
      ]
     },
     "metadata": {},
     "output_type": "display_data"
    }
   ],
   "source": [
    "#LTL-PRS\n",
    "model.m <- glm(mca_highrisk ~ ltl_prs + age + age_squ+ sex_at_birth+ smoking, \n",
    "               data = mCA_clean_A_U, family = binomial)\n",
    "summary(model.m)"
   ]
  },
  {
   "cell_type": "code",
   "execution_count": 25,
   "id": "5173cb3d",
   "metadata": {
    "scrolled": true
   },
   "outputs": [
    {
     "data": {
      "text/plain": [
       "\n",
       "Call:\n",
       "glm(formula = cll ~ mca_highrisk + ltl_prs + age + age_squ + \n",
       "    sex_at_birth + smoking, family = binomial, data = mCA_clean_A_U)\n",
       "\n",
       "Coefficients:\n",
       "                        Estimate Std. Error z value Pr(>|z|)    \n",
       "(Intercept)           -1.762e+01  1.487e+00 -11.848  < 2e-16 ***\n",
       "mca_highrisk           4.732e+00  8.293e-02  57.066  < 2e-16 ***\n",
       "ltl_prs                1.693e+01  1.032e+00  16.410  < 2e-16 ***\n",
       "age                    2.593e-01  4.543e-02   5.708 1.15e-08 ***\n",
       "age_squ               -1.543e-03  3.457e-04  -4.464 8.05e-06 ***\n",
       "sex_at_birthIntersex  -7.015e+00  1.433e+02  -0.049    0.961    \n",
       "sex_at_birthMale       4.845e-01  7.956e-02   6.090 1.13e-09 ***\n",
       "smokingPMI: Dont Know -2.192e-02  5.486e-01  -0.040    0.968    \n",
       "smokingYes            -6.471e-02  7.974e-02  -0.812    0.417    \n",
       "---\n",
       "Signif. codes:  0 ‘***’ 0.001 ‘**’ 0.01 ‘*’ 0.05 ‘.’ 0.1 ‘ ’ 1\n",
       "\n",
       "(Dispersion parameter for binomial family taken to be 1)\n",
       "\n",
       "    Null deviance: 11125.1  on 562969  degrees of freedom\n",
       "Residual deviance:  8078.3  on 562961  degrees of freedom\n",
       "  (5661 observations deleted due to missingness)\n",
       "AIC: 8096.3\n",
       "\n",
       "Number of Fisher Scoring iterations: 12\n"
      ]
     },
     "metadata": {},
     "output_type": "display_data"
    }
   ],
   "source": [
    "model.y <- glm(cll ~ mca_highrisk + ltl_prs + age + age_squ+ sex_at_birth+ smoking, \n",
    "               data = mCA_clean_A_U, family = binomial)\n",
    "summary(model.y)"
   ]
  },
  {
   "cell_type": "code",
   "execution_count": 26,
   "id": "f78bdb05",
   "metadata": {
    "scrolled": true
   },
   "outputs": [
    {
     "data": {
      "text/plain": [
       "\n",
       "Causal Mediation Analysis \n",
       "\n",
       "Quasi-Bayesian Confidence Intervals\n",
       "\n",
       "                         Estimate 95% CI Lower 95% CI Upper p-value    \n",
       "ACME (control)           5.27e-03     1.50e-03         0.01  <2e-16 ***\n",
       "ACME (treated)           1.07e-05     3.54e-07         0.00  <2e-16 ***\n",
       "ADE (control)            9.99e-01     9.98e-01         1.00  <2e-16 ***\n",
       "ADE (treated)            9.94e-01     9.88e-01         1.00  <2e-16 ***\n",
       "Total Effect             9.99e-01     9.98e-01         1.00  <2e-16 ***\n",
       "Prop. Mediated (control) 4.92e-03     1.50e-03         0.01  <2e-16 ***\n",
       "Prop. Mediated (treated) 6.25e-06     3.54e-07         0.00  <2e-16 ***\n",
       "ACME (average)           2.64e-03     7.51e-04         0.01  <2e-16 ***\n",
       "ADE (average)            9.96e-01     9.93e-01         1.00  <2e-16 ***\n",
       "Prop. Mediated (average) 2.46e-03     7.52e-04         0.01  <2e-16 ***\n",
       "---\n",
       "Signif. codes:  0 ‘***’ 0.001 ‘**’ 0.01 ‘*’ 0.05 ‘.’ 0.1 ‘ ’ 1\n",
       "\n",
       "Sample Size Used: 562970 \n",
       "\n",
       "\n",
       "Simulations: 100 \n"
      ]
     },
     "metadata": {},
     "output_type": "display_data"
    }
   ],
   "source": [
    "med.out <- mediate(model.m, model.y, treat = \"ltl_prs\", mediator = \"mca_highrisk\", robustSE = TRUE, sims = 100)\n",
    "summary(med.out)"
   ]
  },
  {
   "cell_type": "code",
   "execution_count": 27,
   "id": "733e1e7d",
   "metadata": {},
   "outputs": [
    {
     "data": {
      "image/png": "[encoded data removed]",
      "text/plain": [
       "plot without title"
      ]
     },
     "metadata": {
      "image/png": {
       "height": 420,
       "width": 420
      }
     },
     "output_type": "display_data"
    }
   ],
   "source": [
    "ggplot(mCA_clean_A_U, aes(x = age, y = mca_highrisk, color = ltl_262_coh)) +\n",
    "  geom_smooth(method = \"gam\", formula = y ~ s(x, bs = \"cs\"), se = TRUE) +\n",
    "  scale_color_manual(values = c(\"1\" = \"#009E73\", \"2\" = \"#56B4E9\", \"3\" = \"#E69F00\")) +\n",
    "  labs(\n",
    "    title = \"Age vs high-risk mCA by CLL-PRS Groups\",\n",
    "    x = \"Age\",\n",
    "    y = \"high-risk mCA Probability\",\n",
    "    color = \"LTL-PRS Group\"\n",
    "  ) +\n",
    "  theme_minimal() +\n",
    "  theme(\n",
    "    plot.title = element_text(hjust = 0.5, size = 16, face = \"bold\"),\n",
    "    axis.title = element_text(size = 14),\n",
    "    axis.text = element_text(size = 12),\n",
    "    legend.position = \"right\",\n",
    "    legend.title = element_text(size = 14),\n",
    "    legend.text = element_text(size = 12)\n",
    "  )"
   ]
  },
  {
   "cell_type": "code",
   "execution_count": 76,
   "id": "cea0bd91",
   "metadata": {},
   "outputs": [
    {
     "data": {
      "text/plain": [
       "      \n",
       "            0      1   <NA>\n",
       "  1    127840   2115      0\n",
       "  2    181202   4546      0\n",
       "  3    231833   9779      0\n",
       "  4     25579   1305      0\n",
       "  5      5247    421      0\n",
       "  <NA>      0      0      0"
      ]
     },
     "metadata": {},
     "output_type": "display_data"
    }
   ],
   "source": [
    "#age chart\n",
    "mCA_clean_A_U$agegroup<-NA\n",
    "mCA_clean_A_U$agegroup[mCA_clean_A_U$age<50] <-\"1\"\n",
    "mCA_clean_A_U$agegroup[mCA_clean_A_U$age>=50 & mCA_clean_A_U$age<60] <-\"2\"\n",
    "mCA_clean_A_U$agegroup[mCA_clean_A_U$age>=60 & mCA_clean_A_U$age<70] <-\"3\"\n",
    "mCA_clean_A_U$agegroup[mCA_clean_A_U$age>=70 & mCA_clean_A_U$age<80] <-\"4\"\n",
    "mCA_clean_A_U$agegroup[mCA_clean_A_U$age>=80] <-\"5\"\n",
    "table(mCA_clean_A_U$agegroup,mCA_clean_A_U$mca_auto,useNA = \"always\")\n"
   ]
  },
  {
   "cell_type": "code",
   "execution_count": 95,
   "id": "25cb6760",
   "metadata": {},
   "outputs": [
    {
     "name": "stderr",
     "output_type": "stream",
     "text": [
      "\u001b[1m\u001b[22m`summarise()` has grouped output by 'cohort'. You can override using the\n",
      "`.groups` argument.\n"
     ]
    },
    {
     "data": {
      "text/html": [
       "<table class=\"dataframe\">\n",
       "<caption>A tibble: 9 × 3</caption>\n",
       "<thead>\n",
       "\t<tr><th scope=col>cohort</th><th scope=col>agegroup</th><th scope=col>mca_rate</th></tr>\n",
       "\t<tr><th scope=col>&lt;chr&gt;</th><th scope=col>&lt;chr&gt;</th><th scope=col>&lt;dbl&gt;</th></tr>\n",
       "</thead>\n",
       "<tbody>\n",
       "\t<tr><td>AoU</td><td>1</td><td>0.01027247</td></tr>\n",
       "\t<tr><td>AoU</td><td>2</td><td>0.01646556</td></tr>\n",
       "\t<tr><td>AoU</td><td>3</td><td>0.02869440</td></tr>\n",
       "\t<tr><td>AoU</td><td>4</td><td>0.04832335</td></tr>\n",
       "\t<tr><td>AoU</td><td>5</td><td>0.07427664</td></tr>\n",
       "\t<tr><td>UKB</td><td>1</td><td>0.01711554</td></tr>\n",
       "\t<tr><td>UKB</td><td>2</td><td>0.02565481</td></tr>\n",
       "\t<tr><td>UKB</td><td>3</td><td>0.04232163</td></tr>\n",
       "\t<tr><td>UKB</td><td>4</td><td>0.05083298</td></tr>\n",
       "</tbody>\n",
       "</table>\n"
      ],
      "text/latex": [
       "A tibble: 9 × 3\n",
       "\\begin{tabular}{lll}\n",
       " cohort & agegroup & mca\\_rate\\\\\n",
       " <chr> & <chr> & <dbl>\\\\\n",
       "\\hline\n",
       "\t AoU & 1 & 0.01027247\\\\\n",
       "\t AoU & 2 & 0.01646556\\\\\n",
       "\t AoU & 3 & 0.02869440\\\\\n",
       "\t AoU & 4 & 0.04832335\\\\\n",
       "\t AoU & 5 & 0.07427664\\\\\n",
       "\t UKB & 1 & 0.01711554\\\\\n",
       "\t UKB & 2 & 0.02565481\\\\\n",
       "\t UKB & 3 & 0.04232163\\\\\n",
       "\t UKB & 4 & 0.05083298\\\\\n",
       "\\end{tabular}\n"
      ],
      "text/markdown": [
       "\n",
       "A tibble: 9 × 3\n",
       "\n",
       "| cohort &lt;chr&gt; | agegroup &lt;chr&gt; | mca_rate &lt;dbl&gt; |\n",
       "|---|---|---|\n",
       "| AoU | 1 | 0.01027247 |\n",
       "| AoU | 2 | 0.01646556 |\n",
       "| AoU | 3 | 0.02869440 |\n",
       "| AoU | 4 | 0.04832335 |\n",
       "| AoU | 5 | 0.07427664 |\n",
       "| UKB | 1 | 0.01711554 |\n",
       "| UKB | 2 | 0.02565481 |\n",
       "| UKB | 3 | 0.04232163 |\n",
       "| UKB | 4 | 0.05083298 |\n",
       "\n"
      ],
      "text/plain": [
       "  cohort agegroup mca_rate  \n",
       "1 AoU    1        0.01027247\n",
       "2 AoU    2        0.01646556\n",
       "3 AoU    3        0.02869440\n",
       "4 AoU    4        0.04832335\n",
       "5 AoU    5        0.07427664\n",
       "6 UKB    1        0.01711554\n",
       "7 UKB    2        0.02565481\n",
       "8 UKB    3        0.04232163\n",
       "9 UKB    4        0.05083298"
      ]
     },
     "metadata": {},
     "output_type": "display_data"
    }
   ],
   "source": [
    "rate_data <- mCA_clean_A_U %>% group_by (cohort, agegroup) %>% summarise (mca_rate = mean(mca_auto)) %>% ungroup\n",
    "rate_data"
   ]
  },
  {
   "cell_type": "code",
   "execution_count": 73,
   "id": "f07bcfe3",
   "metadata": {},
   "outputs": [
    {
     "data": {
      "text/plain": [
       "     \n",
       "           1      2      3      4      5\n",
       "  AoU  15965  23868  32759  24543   5668\n",
       "  UKB 113990 161880 208853   2341      0"
      ]
     },
     "metadata": {},
     "output_type": "display_data"
    }
   ],
   "source": [
    "table(mCA_clean_A_U$cohort, mCA_clean_A_U$agegroup)\n",
    "\n",
    "test"
   ]
  },
  {
   "cell_type": "code",
   "execution_count": 104,
   "id": "cfedebaf",
   "metadata": {},
   "outputs": [
    {
     "data": {
      "text/plain": [
       "\n",
       "     0      1   <NA> \n",
       "586618   3249      0 "
      ]
     },
     "metadata": {},
     "output_type": "display_data"
    },
    {
     "data": {
      "text/plain": [
       "\n",
       "     0      1   <NA> \n",
       "571701  18166      0 "
      ]
     },
     "metadata": {},
     "output_type": "display_data"
    }
   ],
   "source": [
    "mCA_clean_A_U$mca_cf10 <- NA\n",
    "mCA_clean_A_U$mca_cf10 <- ifelse(mCA_clean_A_U$mca_auto ==1 & mCA_clean_A_U$cf_max>=0.2 ,1,0)\n",
    "mCA_clean_A_U$mca_cf10 <- ifelse(is.na(mCA_clean_A_U$mca_cf10),0,mCA_clean_A_U$mca_cf10 )\n",
    "table(mCA_clean_A_U$mca_cf10, useNA= \"always\")\n",
    "table(mCA_clean_A_U$mca_auto, useNA= \"always\")"
   ]
  },
  {
   "cell_type": "code",
   "execution_count": 105,
   "id": "e9d56308",
   "metadata": {},
   "outputs": [
    {
     "data": {
      "text/html": [
       "<table class=\"dataframe\">\n",
       "<caption>A tibble: 9 × 3</caption>\n",
       "<thead>\n",
       "\t<tr><th scope=col>cohort</th><th scope=col>agegroup</th><th scope=col>mca_rate</th></tr>\n",
       "\t<tr><th scope=col>&lt;chr&gt;</th><th scope=col>&lt;chr&gt;</th><th scope=col>&lt;dbl&gt;</th></tr>\n",
       "</thead>\n",
       "<tbody>\n",
       "\t<tr><td>AoU</td><td>1</td><td>0.001816474</td></tr>\n",
       "\t<tr><td>AoU</td><td>2</td><td>0.002681414</td></tr>\n",
       "\t<tr><td>AoU</td><td>3</td><td>0.006196770</td></tr>\n",
       "\t<tr><td>AoU</td><td>4</td><td>0.012264189</td></tr>\n",
       "\t<tr><td>AoU</td><td>5</td><td>0.025229358</td></tr>\n",
       "\t<tr><td>UKB</td><td>1</td><td>0.002552856</td></tr>\n",
       "\t<tr><td>UKB</td><td>2</td><td>0.004052384</td></tr>\n",
       "\t<tr><td>UKB</td><td>3</td><td>0.007402336</td></tr>\n",
       "\t<tr><td>UKB</td><td>4</td><td>0.006834686</td></tr>\n",
       "</tbody>\n",
       "</table>\n"
      ],
      "text/latex": [
       "A tibble: 9 × 3\n",
       "\\begin{tabular}{lll}\n",
       " cohort & agegroup & mca\\_rate\\\\\n",
       " <chr> & <chr> & <dbl>\\\\\n",
       "\\hline\n",
       "\t AoU & 1 & 0.001816474\\\\\n",
       "\t AoU & 2 & 0.002681414\\\\\n",
       "\t AoU & 3 & 0.006196770\\\\\n",
       "\t AoU & 4 & 0.012264189\\\\\n",
       "\t AoU & 5 & 0.025229358\\\\\n",
       "\t UKB & 1 & 0.002552856\\\\\n",
       "\t UKB & 2 & 0.004052384\\\\\n",
       "\t UKB & 3 & 0.007402336\\\\\n",
       "\t UKB & 4 & 0.006834686\\\\\n",
       "\\end{tabular}\n"
      ],
      "text/markdown": [
       "\n",
       "A tibble: 9 × 3\n",
       "\n",
       "| cohort &lt;chr&gt; | agegroup &lt;chr&gt; | mca_rate &lt;dbl&gt; |\n",
       "|---|---|---|\n",
       "| AoU | 1 | 0.001816474 |\n",
       "| AoU | 2 | 0.002681414 |\n",
       "| AoU | 3 | 0.006196770 |\n",
       "| AoU | 4 | 0.012264189 |\n",
       "| AoU | 5 | 0.025229358 |\n",
       "| UKB | 1 | 0.002552856 |\n",
       "| UKB | 2 | 0.004052384 |\n",
       "| UKB | 3 | 0.007402336 |\n",
       "| UKB | 4 | 0.006834686 |\n",
       "\n"
      ],
      "text/plain": [
       "  cohort agegroup mca_rate   \n",
       "1 AoU    1        0.001816474\n",
       "2 AoU    2        0.002681414\n",
       "3 AoU    3        0.006196770\n",
       "4 AoU    4        0.012264189\n",
       "5 AoU    5        0.025229358\n",
       "6 UKB    1        0.002552856\n",
       "7 UKB    2        0.004052384\n",
       "8 UKB    3        0.007402336\n",
       "9 UKB    4        0.006834686"
      ]
     },
     "metadata": {},
     "output_type": "display_data"
    }
   ],
   "source": [
    "mCA_clean_A_U$mca_cf10 <- as.numeric(mCA_clean_A_U$mca_cf10)\n",
    "\n",
    "rate_data2 <- mCA_clean_A_U %>% group_by (cohort, agegroup) %>% summarise (mca_rate = mean(mca_cf10), .groups = \"drop\")\n",
    "rate_data2"
   ]
  },
  {
   "cell_type": "code",
   "execution_count": 69,
   "id": "18ce4fe8",
   "metadata": {},
   "outputs": [
    {
     "data": {
      "text/html": [
       "<table class=\"dataframe\">\n",
       "<caption>A data.frame: 19 × 3</caption>\n",
       "<thead>\n",
       "\t<tr><th scope=col>cohort</th><th scope=col>agegroup</th><th scope=col>mca_rate</th></tr>\n",
       "\t<tr><th scope=col>&lt;chr&gt;</th><th scope=col>&lt;chr&gt;</th><th scope=col>&lt;dbl&gt;</th></tr>\n",
       "</thead>\n",
       "<tbody>\n",
       "\t<tr><td>TOPMed</td><td>40-50</td><td>0.0161</td></tr>\n",
       "\t<tr><td>TOPMed</td><td>50-60</td><td>0.0284</td></tr>\n",
       "\t<tr><td>TOPMed</td><td>60-70</td><td>0.0442</td></tr>\n",
       "\t<tr><td>TOPMed</td><td>70-80</td><td>0.0712</td></tr>\n",
       "\t<tr><td>TOPMed</td><td>80-90</td><td>0.1078</td></tr>\n",
       "\t<tr><td>UKB   </td><td>40-50</td><td>0.0171</td></tr>\n",
       "\t<tr><td>UKB   </td><td>50-60</td><td>0.0257</td></tr>\n",
       "\t<tr><td>UKB   </td><td>60-70</td><td>0.0423</td></tr>\n",
       "\t<tr><td>UKB   </td><td>70-80</td><td>0.0508</td></tr>\n",
       "\t<tr><td>AoU   </td><td>40-50</td><td>0.0103</td></tr>\n",
       "\t<tr><td>AoU   </td><td>50-60</td><td>0.0165</td></tr>\n",
       "\t<tr><td>AoU   </td><td>60-70</td><td>0.0287</td></tr>\n",
       "\t<tr><td>AoU   </td><td>70-80</td><td>0.0483</td></tr>\n",
       "\t<tr><td>AoU   </td><td>80-90</td><td>0.0743</td></tr>\n",
       "\t<tr><td>BioVU </td><td>40-50</td><td>0.0082</td></tr>\n",
       "\t<tr><td>BioVU </td><td>50-60</td><td>0.0089</td></tr>\n",
       "\t<tr><td>BioVU </td><td>60-70</td><td>0.0081</td></tr>\n",
       "\t<tr><td>BioVU </td><td>70-80</td><td>0.0085</td></tr>\n",
       "\t<tr><td>BioVU </td><td>80-90</td><td>0.0094</td></tr>\n",
       "</tbody>\n",
       "</table>\n"
      ],
      "text/latex": [
       "A data.frame: 19 × 3\n",
       "\\begin{tabular}{lll}\n",
       " cohort & agegroup & mca\\_rate\\\\\n",
       " <chr> & <chr> & <dbl>\\\\\n",
       "\\hline\n",
       "\t TOPMed & 40-50 & 0.0161\\\\\n",
       "\t TOPMed & 50-60 & 0.0284\\\\\n",
       "\t TOPMed & 60-70 & 0.0442\\\\\n",
       "\t TOPMed & 70-80 & 0.0712\\\\\n",
       "\t TOPMed & 80-90 & 0.1078\\\\\n",
       "\t UKB    & 40-50 & 0.0171\\\\\n",
       "\t UKB    & 50-60 & 0.0257\\\\\n",
       "\t UKB    & 60-70 & 0.0423\\\\\n",
       "\t UKB    & 70-80 & 0.0508\\\\\n",
       "\t AoU    & 40-50 & 0.0103\\\\\n",
       "\t AoU    & 50-60 & 0.0165\\\\\n",
       "\t AoU    & 60-70 & 0.0287\\\\\n",
       "\t AoU    & 70-80 & 0.0483\\\\\n",
       "\t AoU    & 80-90 & 0.0743\\\\\n",
       "\t BioVU  & 40-50 & 0.0082\\\\\n",
       "\t BioVU  & 50-60 & 0.0089\\\\\n",
       "\t BioVU  & 60-70 & 0.0081\\\\\n",
       "\t BioVU  & 70-80 & 0.0085\\\\\n",
       "\t BioVU  & 80-90 & 0.0094\\\\\n",
       "\\end{tabular}\n"
      ],
      "text/markdown": [
       "\n",
       "A data.frame: 19 × 3\n",
       "\n",
       "| cohort &lt;chr&gt; | agegroup &lt;chr&gt; | mca_rate &lt;dbl&gt; |\n",
       "|---|---|---|\n",
       "| TOPMed | 40-50 | 0.0161 |\n",
       "| TOPMed | 50-60 | 0.0284 |\n",
       "| TOPMed | 60-70 | 0.0442 |\n",
       "| TOPMed | 70-80 | 0.0712 |\n",
       "| TOPMed | 80-90 | 0.1078 |\n",
       "| UKB    | 40-50 | 0.0171 |\n",
       "| UKB    | 50-60 | 0.0257 |\n",
       "| UKB    | 60-70 | 0.0423 |\n",
       "| UKB    | 70-80 | 0.0508 |\n",
       "| AoU    | 40-50 | 0.0103 |\n",
       "| AoU    | 50-60 | 0.0165 |\n",
       "| AoU    | 60-70 | 0.0287 |\n",
       "| AoU    | 70-80 | 0.0483 |\n",
       "| AoU    | 80-90 | 0.0743 |\n",
       "| BioVU  | 40-50 | 0.0082 |\n",
       "| BioVU  | 50-60 | 0.0089 |\n",
       "| BioVU  | 60-70 | 0.0081 |\n",
       "| BioVU  | 70-80 | 0.0085 |\n",
       "| BioVU  | 80-90 | 0.0094 |\n",
       "\n"
      ],
      "text/plain": [
       "   cohort agegroup mca_rate\n",
       "1  TOPMed 40-50    0.0161  \n",
       "2  TOPMed 50-60    0.0284  \n",
       "3  TOPMed 60-70    0.0442  \n",
       "4  TOPMed 70-80    0.0712  \n",
       "5  TOPMed 80-90    0.1078  \n",
       "6  UKB    40-50    0.0171  \n",
       "7  UKB    50-60    0.0257  \n",
       "8  UKB    60-70    0.0423  \n",
       "9  UKB    70-80    0.0508  \n",
       "10 AoU    40-50    0.0103  \n",
       "11 AoU    50-60    0.0165  \n",
       "12 AoU    60-70    0.0287  \n",
       "13 AoU    70-80    0.0483  \n",
       "14 AoU    80-90    0.0743  \n",
       "15 BioVU  40-50    0.0082  \n",
       "16 BioVU  50-60    0.0089  \n",
       "17 BioVU  60-70    0.0081  \n",
       "18 BioVU  70-80    0.0085  \n",
       "19 BioVU  80-90    0.0094  "
      ]
     },
     "metadata": {},
     "output_type": "display_data"
    }
   ],
   "source": [
    "age_rate <- read.csv(\"age_rate_4cohorts.csv\")\n",
    "age_rate"
   ]
  },
  {
   "cell_type": "code",
   "execution_count": 72,
   "id": "13d6f267",
   "metadata": {},
   "outputs": [
    {
     "data": {
      "image/png": "[encoded data removed]",
      "text/plain": [
       "plot without title"
      ]
     },
     "metadata": {
      "image/png": {
       "height": 420,
       "width": 420
      }
     },
     "output_type": "display_data"
    }
   ],
   "source": [
    "ggplot(age_rate, aes(x = agegroup, y = mca_rate, color = cohort, group = cohort)) +\n",
    "  geom_line(size = 1.2) + \n",
    "  geom_point(size = 3) +\n",
    "  labs(\n",
    "    title = \"mCA Prevalence with Age\",\n",
    "    x = \"Age Group\",\n",
    "    y = \"mCA Prevalence\",\n",
    "    color = \"Cohort\"\n",
    "  ) +\n",
    "  theme_minimal() + \n",
    "  theme(\n",
    "    plot.title = element_text(hjust = 0.5, size = 16),\n",
    "    axis.title.x = element_text(size = 14),\n",
    "    axis.title.y = element_text(size = 14),\n",
    "    axis.text = element_text(size = 12),\n",
    "    legend.position = \"right\"\n",
    "  )"
   ]
  },
  {
   "cell_type": "code",
   "execution_count": 106,
   "id": "57d9ca9f",
   "metadata": {},
   "outputs": [],
   "source": [
    "#Age, mCA and ancestry\n",
    "#Load TOPMed\n",
    "system(\"gsutil cp gs://fc-secure-cb192ac6-30ba-46b9-92ee-896a6e36c63e/kun/topmed_mCA2.Rdata .\")"
   ]
  },
  {
   "cell_type": "code",
   "execution_count": 107,
   "id": "35f9835d",
   "metadata": {},
   "outputs": [
    {
     "data": {
      "text/html": [
       "'topmed_mCA2'"
      ],
      "text/latex": [
       "'topmed\\_mCA2'"
      ],
      "text/markdown": [
       "'topmed_mCA2'"
      ],
      "text/plain": [
       "[1] \"topmed_mCA2\""
      ]
     },
     "metadata": {},
     "output_type": "display_data"
    }
   ],
   "source": [
    "b<-load(\"topmed_mCA2.Rdata\")\n",
    "b"
   ]
  },
  {
   "cell_type": "code",
   "execution_count": 146,
   "id": "72268504",
   "metadata": {},
   "outputs": [
    {
     "data": {
      "text/plain": [
       "\n",
       "  AFR   AMR   EAS   EUR   SAS \n",
       "18459  1109  1913 47161   302 "
      ]
     },
     "metadata": {},
     "output_type": "display_data"
    }
   ],
   "source": [
    "table(topmed_mCA2$ancestry)"
   ]
  },
  {
   "cell_type": "code",
   "execution_count": 112,
   "id": "c177f239",
   "metadata": {},
   "outputs": [
    {
     "data": {
      "text/html": [
       "<style>\n",
       ".list-inline {list-style: none; margin:0; padding: 0}\n",
       ".list-inline>li {display: inline-block}\n",
       ".list-inline>li:not(:last-child)::after {content: \"\\00b7\"; padding: 0 .5ex}\n",
       "</style>\n",
       "<ol class=list-inline><li>'AgeAtBloodDraw'</li><li>'ancestry'</li><li>'ancestry2'</li><li>'baf_conc'</li><li>'bdev'</li><li>'bdev_se'</li><li>'beg_GRCh38'</li><li>'cf'</li><li>'cf_cat'</li><li>'cf_max'</li><li>'chrom'</li><li>'computed_gender'</li><li>'end_GRCh38'</li><li>'length'</li><li>'lod_baf_conc'</li><li>'lod_baf_phase'</li><li>'lod_lrr_baf'</li><li>'mca_auto'</li><li>'mca_highrisk'</li><li>'mca_status'</li><li>'n_flips'</li><li>'n_hets'</li><li>'n_sites'</li><li>'n50_hets'</li><li>'p_arm'</li><li>'q_arm'</li><li>'rel_cov'</li><li>'rel_cov_se'</li><li>'sample'</li><li>'sex'</li><li>'type'</li></ol>\n"
      ],
      "text/latex": [
       "\\begin{enumerate*}\n",
       "\\item 'AgeAtBloodDraw'\n",
       "\\item 'ancestry'\n",
       "\\item 'ancestry2'\n",
       "\\item 'baf\\_conc'\n",
       "\\item 'bdev'\n",
       "\\item 'bdev\\_se'\n",
       "\\item 'beg\\_GRCh38'\n",
       "\\item 'cf'\n",
       "\\item 'cf\\_cat'\n",
       "\\item 'cf\\_max'\n",
       "\\item 'chrom'\n",
       "\\item 'computed\\_gender'\n",
       "\\item 'end\\_GRCh38'\n",
       "\\item 'length'\n",
       "\\item 'lod\\_baf\\_conc'\n",
       "\\item 'lod\\_baf\\_phase'\n",
       "\\item 'lod\\_lrr\\_baf'\n",
       "\\item 'mca\\_auto'\n",
       "\\item 'mca\\_highrisk'\n",
       "\\item 'mca\\_status'\n",
       "\\item 'n\\_flips'\n",
       "\\item 'n\\_hets'\n",
       "\\item 'n\\_sites'\n",
       "\\item 'n50\\_hets'\n",
       "\\item 'p\\_arm'\n",
       "\\item 'q\\_arm'\n",
       "\\item 'rel\\_cov'\n",
       "\\item 'rel\\_cov\\_se'\n",
       "\\item 'sample'\n",
       "\\item 'sex'\n",
       "\\item 'type'\n",
       "\\end{enumerate*}\n"
      ],
      "text/markdown": [
       "1. 'AgeAtBloodDraw'\n",
       "2. 'ancestry'\n",
       "3. 'ancestry2'\n",
       "4. 'baf_conc'\n",
       "5. 'bdev'\n",
       "6. 'bdev_se'\n",
       "7. 'beg_GRCh38'\n",
       "8. 'cf'\n",
       "9. 'cf_cat'\n",
       "10. 'cf_max'\n",
       "11. 'chrom'\n",
       "12. 'computed_gender'\n",
       "13. 'end_GRCh38'\n",
       "14. 'length'\n",
       "15. 'lod_baf_conc'\n",
       "16. 'lod_baf_phase'\n",
       "17. 'lod_lrr_baf'\n",
       "18. 'mca_auto'\n",
       "19. 'mca_highrisk'\n",
       "20. 'mca_status'\n",
       "21. 'n_flips'\n",
       "22. 'n_hets'\n",
       "23. 'n_sites'\n",
       "24. 'n50_hets'\n",
       "25. 'p_arm'\n",
       "26. 'q_arm'\n",
       "27. 'rel_cov'\n",
       "28. 'rel_cov_se'\n",
       "29. 'sample'\n",
       "30. 'sex'\n",
       "31. 'type'\n",
       "\n",
       "\n"
      ],
      "text/plain": [
       " [1] \"AgeAtBloodDraw\"  \"ancestry\"        \"ancestry2\"       \"baf_conc\"       \n",
       " [5] \"bdev\"            \"bdev_se\"         \"beg_GRCh38\"      \"cf\"             \n",
       " [9] \"cf_cat\"          \"cf_max\"          \"chrom\"           \"computed_gender\"\n",
       "[13] \"end_GRCh38\"      \"length\"          \"lod_baf_conc\"    \"lod_baf_phase\"  \n",
       "[17] \"lod_lrr_baf\"     \"mca_auto\"        \"mca_highrisk\"    \"mca_status\"     \n",
       "[21] \"n_flips\"         \"n_hets\"          \"n_sites\"         \"n50_hets\"       \n",
       "[25] \"p_arm\"           \"q_arm\"           \"rel_cov\"         \"rel_cov_se\"     \n",
       "[29] \"sample\"          \"sex\"             \"type\"           "
      ]
     },
     "metadata": {},
     "output_type": "display_data"
    },
    {
     "data": {
      "text/html": [
       "<style>\n",
       ".list-inline {list-style: none; margin:0; padding: 0}\n",
       ".list-inline>li {display: inline-block}\n",
       ".list-inline>li:not(:last-child)::after {content: \"\\00b7\"; padding: 0 .5ex}\n",
       "</style>\n",
       "<ol class=list-inline><li>'age'</li><li>'age_squ'</li><li>'cf_cat'</li><li>'cf_max'</li><li>'chrom'</li><li>'cll'</li><li>'cll_262_coh'</li><li>'cll_prs'</li><li>'cohort'</li><li>'ltl_262_coh'</li><li>'ltl_prs'</li><li>'mca_auto'</li><li>'mca_highrisk'</li><li>'p_arm'</li><li>'person_id'</li><li>'q_arm'</li><li>'sex_at_birth'</li><li>'smoking'</li><li>'type'</li></ol>\n"
      ],
      "text/latex": [
       "\\begin{enumerate*}\n",
       "\\item 'age'\n",
       "\\item 'age\\_squ'\n",
       "\\item 'cf\\_cat'\n",
       "\\item 'cf\\_max'\n",
       "\\item 'chrom'\n",
       "\\item 'cll'\n",
       "\\item 'cll\\_262\\_coh'\n",
       "\\item 'cll\\_prs'\n",
       "\\item 'cohort'\n",
       "\\item 'ltl\\_262\\_coh'\n",
       "\\item 'ltl\\_prs'\n",
       "\\item 'mca\\_auto'\n",
       "\\item 'mca\\_highrisk'\n",
       "\\item 'p\\_arm'\n",
       "\\item 'person\\_id'\n",
       "\\item 'q\\_arm'\n",
       "\\item 'sex\\_at\\_birth'\n",
       "\\item 'smoking'\n",
       "\\item 'type'\n",
       "\\end{enumerate*}\n"
      ],
      "text/markdown": [
       "1. 'age'\n",
       "2. 'age_squ'\n",
       "3. 'cf_cat'\n",
       "4. 'cf_max'\n",
       "5. 'chrom'\n",
       "6. 'cll'\n",
       "7. 'cll_262_coh'\n",
       "8. 'cll_prs'\n",
       "9. 'cohort'\n",
       "10. 'ltl_262_coh'\n",
       "11. 'ltl_prs'\n",
       "12. 'mca_auto'\n",
       "13. 'mca_highrisk'\n",
       "14. 'p_arm'\n",
       "15. 'person_id'\n",
       "16. 'q_arm'\n",
       "17. 'sex_at_birth'\n",
       "18. 'smoking'\n",
       "19. 'type'\n",
       "\n",
       "\n"
      ],
      "text/plain": [
       " [1] \"age\"          \"age_squ\"      \"cf_cat\"       \"cf_max\"       \"chrom\"       \n",
       " [6] \"cll\"          \"cll_262_coh\"  \"cll_prs\"      \"cohort\"       \"ltl_262_coh\" \n",
       "[11] \"ltl_prs\"      \"mca_auto\"     \"mca_highrisk\" \"p_arm\"        \"person_id\"   \n",
       "[16] \"q_arm\"        \"sex_at_birth\" \"smoking\"      \"type\"        "
      ]
     },
     "metadata": {},
     "output_type": "display_data"
    }
   ],
   "source": [
    "ls(topmed_mCA2)\n",
    "ls(UKB_mCA_clean2)"
   ]
  },
  {
   "cell_type": "code",
   "execution_count": 147,
   "id": "15e46b27",
   "metadata": {},
   "outputs": [
    {
     "data": {
      "text/html": [
       "<table class=\"dataframe\">\n",
       "<caption>A data.table: 6 × 12</caption>\n",
       "<thead>\n",
       "\t<tr><th scope=col>AgeAtBloodDraw</th><th scope=col>cf_cat</th><th scope=col>cf_max</th><th scope=col>chrom</th><th scope=col>mca_auto</th><th scope=col>mca_highrisk</th><th scope=col>p_arm</th><th scope=col>sample</th><th scope=col>q_arm</th><th scope=col>sex</th><th scope=col>type</th><th scope=col>ancestry</th></tr>\n",
       "\t<tr><th scope=col>&lt;dbl&gt;</th><th scope=col>&lt;dbl&gt;</th><th scope=col>&lt;dbl&gt;</th><th scope=col>&lt;chr&gt;</th><th scope=col>&lt;dbl&gt;</th><th scope=col>&lt;dbl&gt;</th><th scope=col>&lt;chr&gt;</th><th scope=col>&lt;chr&gt;</th><th scope=col>&lt;chr&gt;</th><th scope=col>&lt;chr&gt;</th><th scope=col>&lt;chr&gt;</th><th scope=col>&lt;chr&gt;</th></tr>\n",
       "</thead>\n",
       "<tbody>\n",
       "\t<tr><td>57.00</td><td>NA</td><td>NA</td><td>NA</td><td>0</td><td>0</td><td>NA</td><td>NWD100018</td><td>NA</td><td>M</td><td>NA</td><td>EUR</td></tr>\n",
       "\t<tr><td>55.00</td><td>NA</td><td>NA</td><td>NA</td><td>0</td><td>0</td><td>NA</td><td>NWD100028</td><td>NA</td><td>M</td><td>NA</td><td>EUR</td></tr>\n",
       "\t<tr><td>51.00</td><td>NA</td><td>NA</td><td>NA</td><td>0</td><td>0</td><td>NA</td><td>NWD100045</td><td>NA</td><td>F</td><td>NA</td><td>EUR</td></tr>\n",
       "\t<tr><td>42.11</td><td>NA</td><td>NA</td><td>NA</td><td>0</td><td>0</td><td>NA</td><td>NWD100047</td><td>NA</td><td>F</td><td>NA</td><td>EUR</td></tr>\n",
       "\t<tr><td>63.00</td><td>NA</td><td>NA</td><td>NA</td><td>0</td><td>0</td><td>NA</td><td>NWD100048</td><td>NA</td><td>M</td><td>NA</td><td>EUR</td></tr>\n",
       "\t<tr><td>67.00</td><td>NA</td><td>NA</td><td>NA</td><td>0</td><td>0</td><td>NA</td><td>NWD100057</td><td>NA</td><td>M</td><td>NA</td><td>EUR</td></tr>\n",
       "</tbody>\n",
       "</table>\n"
      ],
      "text/latex": [
       "A data.table: 6 × 12\n",
       "\\begin{tabular}{llllllllllll}\n",
       " AgeAtBloodDraw & cf\\_cat & cf\\_max & chrom & mca\\_auto & mca\\_highrisk & p\\_arm & sample & q\\_arm & sex & type & ancestry\\\\\n",
       " <dbl> & <dbl> & <dbl> & <chr> & <dbl> & <dbl> & <chr> & <chr> & <chr> & <chr> & <chr> & <chr>\\\\\n",
       "\\hline\n",
       "\t 57.00 & NA & NA & NA & 0 & 0 & NA & NWD100018 & NA & M & NA & EUR\\\\\n",
       "\t 55.00 & NA & NA & NA & 0 & 0 & NA & NWD100028 & NA & M & NA & EUR\\\\\n",
       "\t 51.00 & NA & NA & NA & 0 & 0 & NA & NWD100045 & NA & F & NA & EUR\\\\\n",
       "\t 42.11 & NA & NA & NA & 0 & 0 & NA & NWD100047 & NA & F & NA & EUR\\\\\n",
       "\t 63.00 & NA & NA & NA & 0 & 0 & NA & NWD100048 & NA & M & NA & EUR\\\\\n",
       "\t 67.00 & NA & NA & NA & 0 & 0 & NA & NWD100057 & NA & M & NA & EUR\\\\\n",
       "\\end{tabular}\n"
      ],
      "text/markdown": [
       "\n",
       "A data.table: 6 × 12\n",
       "\n",
       "| AgeAtBloodDraw &lt;dbl&gt; | cf_cat &lt;dbl&gt; | cf_max &lt;dbl&gt; | chrom &lt;chr&gt; | mca_auto &lt;dbl&gt; | mca_highrisk &lt;dbl&gt; | p_arm &lt;chr&gt; | sample &lt;chr&gt; | q_arm &lt;chr&gt; | sex &lt;chr&gt; | type &lt;chr&gt; | ancestry &lt;chr&gt; |\n",
       "|---|---|---|---|---|---|---|---|---|---|---|---|\n",
       "| 57.00 | NA | NA | NA | 0 | 0 | NA | NWD100018 | NA | M | NA | EUR |\n",
       "| 55.00 | NA | NA | NA | 0 | 0 | NA | NWD100028 | NA | M | NA | EUR |\n",
       "| 51.00 | NA | NA | NA | 0 | 0 | NA | NWD100045 | NA | F | NA | EUR |\n",
       "| 42.11 | NA | NA | NA | 0 | 0 | NA | NWD100047 | NA | F | NA | EUR |\n",
       "| 63.00 | NA | NA | NA | 0 | 0 | NA | NWD100048 | NA | M | NA | EUR |\n",
       "| 67.00 | NA | NA | NA | 0 | 0 | NA | NWD100057 | NA | M | NA | EUR |\n",
       "\n"
      ],
      "text/plain": [
       "  AgeAtBloodDraw cf_cat cf_max chrom mca_auto mca_highrisk p_arm sample   \n",
       "1 57.00          NA     NA     NA    0        0            NA    NWD100018\n",
       "2 55.00          NA     NA     NA    0        0            NA    NWD100028\n",
       "3 51.00          NA     NA     NA    0        0            NA    NWD100045\n",
       "4 42.11          NA     NA     NA    0        0            NA    NWD100047\n",
       "5 63.00          NA     NA     NA    0        0            NA    NWD100048\n",
       "6 67.00          NA     NA     NA    0        0            NA    NWD100057\n",
       "  q_arm sex type ancestry\n",
       "1 NA    M   NA   EUR     \n",
       "2 NA    M   NA   EUR     \n",
       "3 NA    F   NA   EUR     \n",
       "4 NA    F   NA   EUR     \n",
       "5 NA    M   NA   EUR     \n",
       "6 NA    M   NA   EUR     "
      ]
     },
     "metadata": {},
     "output_type": "display_data"
    }
   ],
   "source": [
    "topmed_clean <- topmed_mCA2[,c(\"AgeAtBloodDraw\",\"cf_cat\",\"cf_max\",\"chrom\",\"mca_auto\",\"mca_highrisk\",\"p_arm\",\"sample\",\n",
    "                              \"q_arm\",\"sex\",\"type\",\"ancestry\")]\n",
    "head(topmed_clean)"
   ]
  },
  {
   "cell_type": "code",
   "execution_count": 148,
   "id": "998412f1",
   "metadata": {},
   "outputs": [],
   "source": [
    "names(topmed_clean)[1]<-\"age\"\n",
    "names(topmed_clean)[8]<-\"person_id\"\n",
    "names(topmed_clean)[10]<-\"sex_at_birth\"\n",
    "names(topmed_clean)[12]<-\"ancestry\"\n",
    "topmed_clean$cohort <- \"TOPMed\"\n",
    "topmed_clean$age_squ <- topmed_clean$age * topmed_clean$age"
   ]
  },
  {
   "cell_type": "code",
   "execution_count": 150,
   "id": "23051584",
   "metadata": {},
   "outputs": [
    {
     "data": {
      "text/plain": [
       "\n",
       "  AFR   AMR   EAS   EUR   SAS \n",
       "18459  1109  1913 47161   302 "
      ]
     },
     "metadata": {},
     "output_type": "display_data"
    },
    {
     "data": {
      "text/html": [
       "<style>\n",
       ".list-inline {list-style: none; margin:0; padding: 0}\n",
       ".list-inline>li {display: inline-block}\n",
       ".list-inline>li:not(:last-child)::after {content: \"\\00b7\"; padding: 0 .5ex}\n",
       "</style>\n",
       "<ol class=list-inline><li>'age'</li><li>'age_squ'</li><li>'ancestry'</li><li>'cf_cat'</li><li>'cf_max'</li><li>'chrom'</li><li>'cll'</li><li>'cohort'</li><li>'mca_auto'</li><li>'mca_highrisk'</li><li>'p_arm'</li><li>'person_id'</li><li>'q_arm'</li><li>'sex_at_birth'</li><li>'smoking'</li><li>'type'</li></ol>\n"
      ],
      "text/latex": [
       "\\begin{enumerate*}\n",
       "\\item 'age'\n",
       "\\item 'age\\_squ'\n",
       "\\item 'ancestry'\n",
       "\\item 'cf\\_cat'\n",
       "\\item 'cf\\_max'\n",
       "\\item 'chrom'\n",
       "\\item 'cll'\n",
       "\\item 'cohort'\n",
       "\\item 'mca\\_auto'\n",
       "\\item 'mca\\_highrisk'\n",
       "\\item 'p\\_arm'\n",
       "\\item 'person\\_id'\n",
       "\\item 'q\\_arm'\n",
       "\\item 'sex\\_at\\_birth'\n",
       "\\item 'smoking'\n",
       "\\item 'type'\n",
       "\\end{enumerate*}\n"
      ],
      "text/markdown": [
       "1. 'age'\n",
       "2. 'age_squ'\n",
       "3. 'ancestry'\n",
       "4. 'cf_cat'\n",
       "5. 'cf_max'\n",
       "6. 'chrom'\n",
       "7. 'cll'\n",
       "8. 'cohort'\n",
       "9. 'mca_auto'\n",
       "10. 'mca_highrisk'\n",
       "11. 'p_arm'\n",
       "12. 'person_id'\n",
       "13. 'q_arm'\n",
       "14. 'sex_at_birth'\n",
       "15. 'smoking'\n",
       "16. 'type'\n",
       "\n",
       "\n"
      ],
      "text/plain": [
       " [1] \"age\"          \"age_squ\"      \"ancestry\"     \"cf_cat\"       \"cf_max\"      \n",
       " [6] \"chrom\"        \"cll\"          \"cohort\"       \"mca_auto\"     \"mca_highrisk\"\n",
       "[11] \"p_arm\"        \"person_id\"    \"q_arm\"        \"sex_at_birth\" \"smoking\"     \n",
       "[16] \"type\"        "
      ]
     },
     "metadata": {},
     "output_type": "display_data"
    }
   ],
   "source": [
    "table(topmed_clean$ancestry)\n",
    "topmed_clean$smoking <- NA\n",
    "topmed_clean$cll <- NA\n",
    "ls(topmed_clean)"
   ]
  },
  {
   "cell_type": "code",
   "execution_count": 160,
   "id": "8b232ff8",
   "metadata": {},
   "outputs": [
    {
     "data": {
      "text/html": [
       "<style>\n",
       ".list-inline {list-style: none; margin:0; padding: 0}\n",
       ".list-inline>li {display: inline-block}\n",
       ".list-inline>li:not(:last-child)::after {content: \"\\00b7\"; padding: 0 .5ex}\n",
       "</style>\n",
       "<ol class=list-inline><li>'age'</li><li>'age_squ'</li><li>'ancestry'</li><li>'cf_cat'</li><li>'cf_max'</li><li>'chrom'</li><li>'cll'</li><li>'cohort'</li><li>'mca_auto'</li><li>'mca_highrisk'</li><li>'p_arm'</li><li>'person_id'</li><li>'q_arm'</li><li>'sex_at_birth'</li><li>'smoking'</li><li>'type'</li></ol>\n"
      ],
      "text/latex": [
       "\\begin{enumerate*}\n",
       "\\item 'age'\n",
       "\\item 'age\\_squ'\n",
       "\\item 'ancestry'\n",
       "\\item 'cf\\_cat'\n",
       "\\item 'cf\\_max'\n",
       "\\item 'chrom'\n",
       "\\item 'cll'\n",
       "\\item 'cohort'\n",
       "\\item 'mca\\_auto'\n",
       "\\item 'mca\\_highrisk'\n",
       "\\item 'p\\_arm'\n",
       "\\item 'person\\_id'\n",
       "\\item 'q\\_arm'\n",
       "\\item 'sex\\_at\\_birth'\n",
       "\\item 'smoking'\n",
       "\\item 'type'\n",
       "\\end{enumerate*}\n"
      ],
      "text/markdown": [
       "1. 'age'\n",
       "2. 'age_squ'\n",
       "3. 'ancestry'\n",
       "4. 'cf_cat'\n",
       "5. 'cf_max'\n",
       "6. 'chrom'\n",
       "7. 'cll'\n",
       "8. 'cohort'\n",
       "9. 'mca_auto'\n",
       "10. 'mca_highrisk'\n",
       "11. 'p_arm'\n",
       "12. 'person_id'\n",
       "13. 'q_arm'\n",
       "14. 'sex_at_birth'\n",
       "15. 'smoking'\n",
       "16. 'type'\n",
       "\n",
       "\n"
      ],
      "text/plain": [
       " [1] \"age\"          \"age_squ\"      \"ancestry\"     \"cf_cat\"       \"cf_max\"      \n",
       " [6] \"chrom\"        \"cll\"          \"cohort\"       \"mca_auto\"     \"mca_highrisk\"\n",
       "[11] \"p_arm\"        \"person_id\"    \"q_arm\"        \"sex_at_birth\" \"smoking\"     \n",
       "[16] \"type\"        "
      ]
     },
     "metadata": {},
     "output_type": "display_data"
    },
    {
     "data": {
      "text/html": [
       "<style>\n",
       ".list-inline {list-style: none; margin:0; padding: 0}\n",
       ".list-inline>li {display: inline-block}\n",
       ".list-inline>li:not(:last-child)::after {content: \"\\00b7\"; padding: 0 .5ex}\n",
       "</style>\n",
       "<ol class=list-inline><li>502413</li><li>16</li></ol>\n"
      ],
      "text/latex": [
       "\\begin{enumerate*}\n",
       "\\item 502413\n",
       "\\item 16\n",
       "\\end{enumerate*}\n"
      ],
      "text/markdown": [
       "1. 502413\n",
       "2. 16\n",
       "\n",
       "\n"
      ],
      "text/plain": [
       "[1] 502413     16"
      ]
     },
     "metadata": {},
     "output_type": "display_data"
    }
   ],
   "source": [
    "#UKB\n",
    "UKB_clean <- UKB_mCA_clean[,c(\"ID_VUMC\", \"baseline_age\", \"age2\", \"genetic_sex\",\"eversmoked_0\",\n",
    "                             \"mca_status\", \"cf_cat\", \"cf_max\",\"chrom\", \"mca_highrisk\",\n",
    "                             \"p_arm\",\"q_arm\",\"type\",\"cll\")]\n",
    "names(UKB_clean)[1] <- \"person_id\"\n",
    "names(UKB_clean)[2] <- \"age\"\n",
    "names(UKB_clean)[3] <- \"age_squ\"\n",
    "names(UKB_clean)[4] <- \"sex_at_birth\"\n",
    "names(UKB_clean)[5] <- \"smoking\"\n",
    "names(UKB_clean)[6] <- \"mca_auto\"\n",
    "UKB_clean$ancestry <-\"eur\"\n",
    "UKB_clean$cohort <-\"UKB\"\n",
    "ls(UKB_clean)\n",
    "dim(UKB_clean)"
   ]
  },
  {
   "cell_type": "code",
   "execution_count": 128,
   "id": "9f42fe88",
   "metadata": {},
   "outputs": [
    {
     "data": {
      "text/plain": [
       "\n",
       "   afr    amr    eas    eur    mid    sas   <NA> \n",
       " 56911  45034   5706 133578    942   3217  67537 "
      ]
     },
     "metadata": {},
     "output_type": "display_data"
    },
    {
     "data": {
      "text/plain": [
       "   Min. 1st Qu.  Median    Mean 3rd Qu.    Max. \n",
       "  40.00   51.79   60.34   60.46   68.74   89.99 "
      ]
     },
     "metadata": {},
     "output_type": "display_data"
    }
   ],
   "source": [
    "#AoU\n",
    "table(data_all_pheno_cox$ancestry_pred,useNA = \"always\")\n",
    "AoU_clean <- filter(data_all_pheno_cox,data_all_pheno_cox$age>=40 & data_all_pheno_cox$age<=90)\n",
    "summary(AoU_clean$age)"
   ]
  },
  {
   "cell_type": "code",
   "execution_count": 129,
   "id": "61ccd196",
   "metadata": {},
   "outputs": [
    {
     "data": {
      "text/plain": [
       "\n",
       "     0      1 \n",
       "217587   5263 "
      ]
     },
     "metadata": {},
     "output_type": "display_data"
    },
    {
     "data": {
      "text/plain": [
       "\n",
       "     0      1 \n",
       "209309  13541 "
      ]
     },
     "metadata": {},
     "output_type": "display_data"
    }
   ],
   "source": [
    "AoU_clean$mca_auto <- AoU_clean$mca_status\n",
    "AoU_clean$mca_auto <- ifelse(AoU_clean$chrom == \"chrX\" & AoU_clean$mca_status == \"1\" , 0 ,AoU_clean$mca_auto)\n",
    "table(AoU_clean$mca_auto)\n",
    "table(AoU_clean$mca_status)"
   ]
  },
  {
   "cell_type": "code",
   "execution_count": 139,
   "id": "e8e82243",
   "metadata": {},
   "outputs": [],
   "source": [
    "AoU_clean <- AoU_clean[,c(\"person_id\", \"age\", \"age_squ\", \"sex_at_birth\", \"smoking\",\"ancestry_pred\", \"mca_auto\", \"cf_cat\", \"cf_max\",\"chrom\", \"mca_highrisk\",\n",
    "                                       \"p_arm\",\"q_arm\",\"type\",\"cll\")]"
   ]
  },
  {
   "cell_type": "code",
   "execution_count": 140,
   "id": "158da82b",
   "metadata": {},
   "outputs": [
    {
     "data": {
      "text/html": [
       "<style>\n",
       ".list-inline {list-style: none; margin:0; padding: 0}\n",
       ".list-inline>li {display: inline-block}\n",
       ".list-inline>li:not(:last-child)::after {content: \"\\00b7\"; padding: 0 .5ex}\n",
       "</style>\n",
       "<ol class=list-inline><li>'age'</li><li>'age_squ'</li><li>'ancestry'</li><li>'cf_cat'</li><li>'cf_max'</li><li>'chrom'</li><li>'cll'</li><li>'cohort'</li><li>'mca_auto'</li><li>'mca_highrisk'</li><li>'p_arm'</li><li>'person_id'</li><li>'q_arm'</li><li>'sex_at_birth'</li><li>'smoking'</li><li>'type'</li></ol>\n"
      ],
      "text/latex": [
       "\\begin{enumerate*}\n",
       "\\item 'age'\n",
       "\\item 'age\\_squ'\n",
       "\\item 'ancestry'\n",
       "\\item 'cf\\_cat'\n",
       "\\item 'cf\\_max'\n",
       "\\item 'chrom'\n",
       "\\item 'cll'\n",
       "\\item 'cohort'\n",
       "\\item 'mca\\_auto'\n",
       "\\item 'mca\\_highrisk'\n",
       "\\item 'p\\_arm'\n",
       "\\item 'person\\_id'\n",
       "\\item 'q\\_arm'\n",
       "\\item 'sex\\_at\\_birth'\n",
       "\\item 'smoking'\n",
       "\\item 'type'\n",
       "\\end{enumerate*}\n"
      ],
      "text/markdown": [
       "1. 'age'\n",
       "2. 'age_squ'\n",
       "3. 'ancestry'\n",
       "4. 'cf_cat'\n",
       "5. 'cf_max'\n",
       "6. 'chrom'\n",
       "7. 'cll'\n",
       "8. 'cohort'\n",
       "9. 'mca_auto'\n",
       "10. 'mca_highrisk'\n",
       "11. 'p_arm'\n",
       "12. 'person_id'\n",
       "13. 'q_arm'\n",
       "14. 'sex_at_birth'\n",
       "15. 'smoking'\n",
       "16. 'type'\n",
       "\n",
       "\n"
      ],
      "text/plain": [
       " [1] \"age\"          \"age_squ\"      \"ancestry\"     \"cf_cat\"       \"cf_max\"      \n",
       " [6] \"chrom\"        \"cll\"          \"cohort\"       \"mca_auto\"     \"mca_highrisk\"\n",
       "[11] \"p_arm\"        \"person_id\"    \"q_arm\"        \"sex_at_birth\" \"smoking\"     \n",
       "[16] \"type\"        "
      ]
     },
     "metadata": {},
     "output_type": "display_data"
    }
   ],
   "source": [
    "names(AoU_clean)[6] <- \"ancestry\"\n",
    "AoU_clean$cohort <- \"AoU\"\n",
    "ls(AoU_clean)"
   ]
  },
  {
   "cell_type": "code",
   "execution_count": 161,
   "id": "5320a808",
   "metadata": {},
   "outputs": [
    {
     "data": {
      "text/plain": [
       "\n",
       "   afr    amr    eas    eur    mid    sas \n",
       " 40582  25997   3020 605216    506   1506 "
      ]
     },
     "metadata": {},
     "output_type": "display_data"
    }
   ],
   "source": [
    "data_A_U <- rbind(UKB_clean, AoU_clean)\n",
    "table(data_A_U$ancestry)"
   ]
  },
  {
   "cell_type": "code",
   "execution_count": 169,
   "id": "0470381d",
   "metadata": {},
   "outputs": [
    {
     "data": {
      "text/plain": [
       "\n",
       "   afr    amr    eas    eur    mid    sas \n",
       " 59041  27106   4933 652377    506   1808 "
      ]
     },
     "metadata": {},
     "output_type": "display_data"
    },
    {
     "data": {
      "text/plain": [
       "\n",
       "             0              1             No PMI: Dont Know            Yes \n",
       "        200814         298715         119706           2376          96446 "
      ]
     },
     "metadata": {},
     "output_type": "display_data"
    }
   ],
   "source": [
    "topmed_clean$ancestry <- tolower(topmed_clean$ancestry)\n",
    "data_A_U_T <- rbind(data_A_U, topmed_clean)\n",
    "table(data_A_U_T$ancestry)\n",
    "table(data_A_U_T$smoking)"
   ]
  },
  {
   "cell_type": "code",
   "execution_count": 163,
   "id": "42783184",
   "metadata": {},
   "outputs": [
    {
     "data": {
      "text/html": [
       "<style>\n",
       ".list-inline {list-style: none; margin:0; padding: 0}\n",
       ".list-inline>li {display: inline-block}\n",
       ".list-inline>li:not(:last-child)::after {content: \"\\00b7\"; padding: 0 .5ex}\n",
       "</style>\n",
       "<ol class=list-inline><li>502413</li><li>16</li></ol>\n"
      ],
      "text/latex": [
       "\\begin{enumerate*}\n",
       "\\item 502413\n",
       "\\item 16\n",
       "\\end{enumerate*}\n"
      ],
      "text/markdown": [
       "1. 502413\n",
       "2. 16\n",
       "\n",
       "\n"
      ],
      "text/plain": [
       "[1] 502413     16"
      ]
     },
     "metadata": {},
     "output_type": "display_data"
    },
    {
     "data": {
      "text/html": [
       "<style>\n",
       ".list-inline {list-style: none; margin:0; padding: 0}\n",
       ".list-inline>li {display: inline-block}\n",
       ".list-inline>li:not(:last-child)::after {content: \"\\00b7\"; padding: 0 .5ex}\n",
       "</style>\n",
       "<ol class=list-inline><li>222850</li><li>16</li></ol>\n"
      ],
      "text/latex": [
       "\\begin{enumerate*}\n",
       "\\item 222850\n",
       "\\item 16\n",
       "\\end{enumerate*}\n"
      ],
      "text/markdown": [
       "1. 222850\n",
       "2. 16\n",
       "\n",
       "\n"
      ],
      "text/plain": [
       "[1] 222850     16"
      ]
     },
     "metadata": {},
     "output_type": "display_data"
    },
    {
     "data": {
      "text/html": [
       "<style>\n",
       ".list-inline {list-style: none; margin:0; padding: 0}\n",
       ".list-inline>li {display: inline-block}\n",
       ".list-inline>li:not(:last-child)::after {content: \"\\00b7\"; padding: 0 .5ex}\n",
       "</style>\n",
       "<ol class=list-inline><li>69105</li><li>16</li></ol>\n"
      ],
      "text/latex": [
       "\\begin{enumerate*}\n",
       "\\item 69105\n",
       "\\item 16\n",
       "\\end{enumerate*}\n"
      ],
      "text/markdown": [
       "1. 69105\n",
       "2. 16\n",
       "\n",
       "\n"
      ],
      "text/plain": [
       "[1] 69105    16"
      ]
     },
     "metadata": {},
     "output_type": "display_data"
    }
   ],
   "source": [
    "dim(UKB_clean)\n",
    "dim(AoU_clean)\n",
    "dim(topmed_clean)"
   ]
  },
  {
   "cell_type": "code",
   "execution_count": 181,
   "id": "2bead885",
   "metadata": {},
   "outputs": [
    {
     "data": {
      "text/html": [
       "'BioVU_all'"
      ],
      "text/latex": [
       "'BioVU\\_all'"
      ],
      "text/markdown": [
       "'BioVU_all'"
      ],
      "text/plain": [
       "[1] \"BioVU_all\""
      ]
     },
     "metadata": {},
     "output_type": "display_data"
    }
   ],
   "source": [
    "#BioVU\n",
    "d <- load(\"Users_Kun_Zhao_BioVU_all_40_90.Rdata\")\n",
    "d"
   ]
  },
  {
   "cell_type": "code",
   "execution_count": 183,
   "id": "d85961ef",
   "metadata": {},
   "outputs": [
    {
     "data": {
      "text/html": [
       "<style>\n",
       ".list-inline {list-style: none; margin:0; padding: 0}\n",
       ".list-inline>li {display: inline-block}\n",
       ".list-inline>li:not(:last-child)::after {content: \"\\00b7\"; padding: 0 .5ex}\n",
       "</style>\n",
       "<ol class=list-inline><li>'age'</li><li>'agegroup'</li><li>'ancestry'</li><li>'arm'</li><li>'baf_conc'</li><li>'bdev'</li><li>'bdev_se'</li><li>'beg_GRCh37'</li><li>'birthDate'</li><li>'cf'</li><li>'cf_cat'</li><li>'cf_max'</li><li>'cf_max100'</li><li>'chr_type'</li><li>'chrom'</li><li>'cll'</li><li>'cohort'</li><li>'computed_gender.x'</li><li>'computed_gender.y'</li><li>'deathDate'</li><li>'DNADate'</li><li>'end_GRCh37'</li><li>'Ethnicity'</li><li>'first_phecode_date'</li><li>'isDead'</li><li>'lastRecordDate'</li><li>'length'</li><li>'lod_baf_conc'</li><li>'lod_baf_phase'</li><li>'lod_lrr_baf'</li><li>'mac_high.x'</li><li>'mac_high.y'</li><li>'mca_auto'</li><li>'mca_status'</li><li>'n_flips'</li><li>'n_hets'</li><li>'n_sites'</li><li>'n50_hets'</li><li>'ourSid'</li><li>'p_arm'</li><li>'p_count'</li><li>'q_arm'</li><li>'q_count'</li><li>'Race'</li><li>'race2'</li><li>'rel_cov'</li><li>'rel_cov_se'</li><li>'SmokingStatus'</li><li>'SmokingStatus2'</li><li>'type'</li><li>'YAgeAtDNA'</li><li>'YAgeAtLastRecORDeath'</li></ol>\n"
      ],
      "text/latex": [
       "\\begin{enumerate*}\n",
       "\\item 'age'\n",
       "\\item 'agegroup'\n",
       "\\item 'ancestry'\n",
       "\\item 'arm'\n",
       "\\item 'baf\\_conc'\n",
       "\\item 'bdev'\n",
       "\\item 'bdev\\_se'\n",
       "\\item 'beg\\_GRCh37'\n",
       "\\item 'birthDate'\n",
       "\\item 'cf'\n",
       "\\item 'cf\\_cat'\n",
       "\\item 'cf\\_max'\n",
       "\\item 'cf\\_max100'\n",
       "\\item 'chr\\_type'\n",
       "\\item 'chrom'\n",
       "\\item 'cll'\n",
       "\\item 'cohort'\n",
       "\\item 'computed\\_gender.x'\n",
       "\\item 'computed\\_gender.y'\n",
       "\\item 'deathDate'\n",
       "\\item 'DNADate'\n",
       "\\item 'end\\_GRCh37'\n",
       "\\item 'Ethnicity'\n",
       "\\item 'first\\_phecode\\_date'\n",
       "\\item 'isDead'\n",
       "\\item 'lastRecordDate'\n",
       "\\item 'length'\n",
       "\\item 'lod\\_baf\\_conc'\n",
       "\\item 'lod\\_baf\\_phase'\n",
       "\\item 'lod\\_lrr\\_baf'\n",
       "\\item 'mac\\_high.x'\n",
       "\\item 'mac\\_high.y'\n",
       "\\item 'mca\\_auto'\n",
       "\\item 'mca\\_status'\n",
       "\\item 'n\\_flips'\n",
       "\\item 'n\\_hets'\n",
       "\\item 'n\\_sites'\n",
       "\\item 'n50\\_hets'\n",
       "\\item 'ourSid'\n",
       "\\item 'p\\_arm'\n",
       "\\item 'p\\_count'\n",
       "\\item 'q\\_arm'\n",
       "\\item 'q\\_count'\n",
       "\\item 'Race'\n",
       "\\item 'race2'\n",
       "\\item 'rel\\_cov'\n",
       "\\item 'rel\\_cov\\_se'\n",
       "\\item 'SmokingStatus'\n",
       "\\item 'SmokingStatus2'\n",
       "\\item 'type'\n",
       "\\item 'YAgeAtDNA'\n",
       "\\item 'YAgeAtLastRecORDeath'\n",
       "\\end{enumerate*}\n"
      ],
      "text/markdown": [
       "1. 'age'\n",
       "2. 'agegroup'\n",
       "3. 'ancestry'\n",
       "4. 'arm'\n",
       "5. 'baf_conc'\n",
       "6. 'bdev'\n",
       "7. 'bdev_se'\n",
       "8. 'beg_GRCh37'\n",
       "9. 'birthDate'\n",
       "10. 'cf'\n",
       "11. 'cf_cat'\n",
       "12. 'cf_max'\n",
       "13. 'cf_max100'\n",
       "14. 'chr_type'\n",
       "15. 'chrom'\n",
       "16. 'cll'\n",
       "17. 'cohort'\n",
       "18. 'computed_gender.x'\n",
       "19. 'computed_gender.y'\n",
       "20. 'deathDate'\n",
       "21. 'DNADate'\n",
       "22. 'end_GRCh37'\n",
       "23. 'Ethnicity'\n",
       "24. 'first_phecode_date'\n",
       "25. 'isDead'\n",
       "26. 'lastRecordDate'\n",
       "27. 'length'\n",
       "28. 'lod_baf_conc'\n",
       "29. 'lod_baf_phase'\n",
       "30. 'lod_lrr_baf'\n",
       "31. 'mac_high.x'\n",
       "32. 'mac_high.y'\n",
       "33. 'mca_auto'\n",
       "34. 'mca_status'\n",
       "35. 'n_flips'\n",
       "36. 'n_hets'\n",
       "37. 'n_sites'\n",
       "38. 'n50_hets'\n",
       "39. 'ourSid'\n",
       "40. 'p_arm'\n",
       "41. 'p_count'\n",
       "42. 'q_arm'\n",
       "43. 'q_count'\n",
       "44. 'Race'\n",
       "45. 'race2'\n",
       "46. 'rel_cov'\n",
       "47. 'rel_cov_se'\n",
       "48. 'SmokingStatus'\n",
       "49. 'SmokingStatus2'\n",
       "50. 'type'\n",
       "51. 'YAgeAtDNA'\n",
       "52. 'YAgeAtLastRecORDeath'\n",
       "\n",
       "\n"
      ],
      "text/plain": [
       " [1] \"age\"                  \"agegroup\"             \"ancestry\"            \n",
       " [4] \"arm\"                  \"baf_conc\"             \"bdev\"                \n",
       " [7] \"bdev_se\"              \"beg_GRCh37\"           \"birthDate\"           \n",
       "[10] \"cf\"                   \"cf_cat\"               \"cf_max\"              \n",
       "[13] \"cf_max100\"            \"chr_type\"             \"chrom\"               \n",
       "[16] \"cll\"                  \"cohort\"               \"computed_gender.x\"   \n",
       "[19] \"computed_gender.y\"    \"deathDate\"            \"DNADate\"             \n",
       "[22] \"end_GRCh37\"           \"Ethnicity\"            \"first_phecode_date\"  \n",
       "[25] \"isDead\"               \"lastRecordDate\"       \"length\"              \n",
       "[28] \"lod_baf_conc\"         \"lod_baf_phase\"        \"lod_lrr_baf\"         \n",
       "[31] \"mac_high.x\"           \"mac_high.y\"           \"mca_auto\"            \n",
       "[34] \"mca_status\"           \"n_flips\"              \"n_hets\"              \n",
       "[37] \"n_sites\"              \"n50_hets\"             \"ourSid\"              \n",
       "[40] \"p_arm\"                \"p_count\"              \"q_arm\"               \n",
       "[43] \"q_count\"              \"Race\"                 \"race2\"               \n",
       "[46] \"rel_cov\"              \"rel_cov_se\"           \"SmokingStatus\"       \n",
       "[49] \"SmokingStatus2\"       \"type\"                 \"YAgeAtDNA\"           \n",
       "[52] \"YAgeAtLastRecORDeath\""
      ]
     },
     "metadata": {},
     "output_type": "display_data"
    }
   ],
   "source": [
    "ls(BioVU_all)"
   ]
  },
  {
   "cell_type": "code",
   "execution_count": 184,
   "id": "b9a0d5a9",
   "metadata": {},
   "outputs": [
    {
     "data": {
      "text/plain": [
       "\n",
       "    0     1  <NA> \n",
       "56221   221     0 "
      ]
     },
     "metadata": {},
     "output_type": "display_data"
    }
   ],
   "source": [
    "table(BioVU_all$cll,useNA = \"always\")"
   ]
  },
  {
   "cell_type": "code",
   "execution_count": 186,
   "id": "c424a6e0",
   "metadata": {},
   "outputs": [],
   "source": [
    "BioVU_clean <- BioVU_all[,c(\"ourSid\", \"age\", \"computed_gender.x\", \"SmokingStatus\",\"Race\", \"mca_auto\", \"cf_cat\", \"cf_max\",\"chrom\", \"mac_high.y\",\n",
    "                              \"p_arm\",\"q_arm\",\"type\",\"cll\")]"
   ]
  },
  {
   "cell_type": "code",
   "execution_count": 187,
   "id": "22f5487d",
   "metadata": {},
   "outputs": [],
   "source": [
    "names(BioVU_clean)[1] <- \"person_id\"\n",
    "names(BioVU_clean)[3] <- \"sex_at_birth\"\n",
    "names(BioVU_clean)[4] <- \"smoking\"\n",
    "names(BioVU_clean)[5] <- \"ancestry\"\n",
    "names(BioVU_clean)[10] <- \"mca_highrisk\""
   ]
  },
  {
   "cell_type": "code",
   "execution_count": 189,
   "id": "e189662d",
   "metadata": {},
   "outputs": [
    {
     "data": {
      "text/html": [
       "<style>\n",
       ".list-inline {list-style: none; margin:0; padding: 0}\n",
       ".list-inline>li {display: inline-block}\n",
       ".list-inline>li:not(:last-child)::after {content: \"\\00b7\"; padding: 0 .5ex}\n",
       "</style>\n",
       "<ol class=list-inline><li>56442</li><li>16</li></ol>\n"
      ],
      "text/latex": [
       "\\begin{enumerate*}\n",
       "\\item 56442\n",
       "\\item 16\n",
       "\\end{enumerate*}\n"
      ],
      "text/markdown": [
       "1. 56442\n",
       "2. 16\n",
       "\n",
       "\n"
      ],
      "text/plain": [
       "[1] 56442    16"
      ]
     },
     "metadata": {},
     "output_type": "display_data"
    }
   ],
   "source": [
    "BioVU_clean$cohort<-\"BioVU\"\n",
    "BioVU_clean$age_squ<-BioVU_clean$age * BioVU_clean$age\n",
    "dim(BioVU_clean)"
   ]
  },
  {
   "cell_type": "code",
   "execution_count": 191,
   "id": "13423c8f",
   "metadata": {},
   "outputs": [
    {
     "data": {
      "text/plain": [
       "\n",
       "    A     B     I     U     W \n",
       "  436  6930    76  3550 45450 "
      ]
     },
     "metadata": {},
     "output_type": "display_data"
    },
    {
     "data": {
      "text/plain": [
       "\n",
       "  afr   eas   eur     I     U \n",
       " 6930   436 45450    76  3550 "
      ]
     },
     "metadata": {},
     "output_type": "display_data"
    }
   ],
   "source": [
    "table(BioVU_clean$ancestry)\n",
    "BioVU_clean$ancestry<- ifelse(BioVU_clean$ancestry == \"W\", \"eur\",BioVU_clean$ancestry)\n",
    "BioVU_clean$ancestry<- ifelse(BioVU_clean$ancestry == \"B\", \"afr\",BioVU_clean$ancestry)\n",
    "BioVU_clean$ancestry<- ifelse(BioVU_clean$ancestry == \"A\", \"eas\",BioVU_clean$ancestry)\n",
    "table(BioVU_clean$ancestry)"
   ]
  },
  {
   "cell_type": "code",
   "execution_count": 219,
   "id": "70c7dad8",
   "metadata": {},
   "outputs": [
    {
     "data": {
      "text/html": [
       "<style>\n",
       ".list-inline {list-style: none; margin:0; padding: 0}\n",
       ".list-inline>li {display: inline-block}\n",
       ".list-inline>li:not(:last-child)::after {content: \"\\00b7\"; padding: 0 .5ex}\n",
       "</style>\n",
       "<ol class=list-inline><li>850810</li><li>16</li></ol>\n"
      ],
      "text/latex": [
       "\\begin{enumerate*}\n",
       "\\item 850810\n",
       "\\item 16\n",
       "\\end{enumerate*}\n"
      ],
      "text/markdown": [
       "1. 850810\n",
       "2. 16\n",
       "\n",
       "\n"
      ],
      "text/plain": [
       "[1] 850810     16"
      ]
     },
     "metadata": {},
     "output_type": "display_data"
    },
    {
     "data": {
      "text/plain": [
       "\n",
       "     0      1      2 \n",
       "697242  22023  10204 "
      ]
     },
     "metadata": {},
     "output_type": "display_data"
    }
   ],
   "source": [
    "data_B_A_U_T <- rbind(data_A_U_T, BioVU_clean)\n",
    "dim(data_B_A_U_T)\n",
    "table(data_B_A_U_T$cf_cat)"
   ]
  },
  {
   "cell_type": "code",
   "execution_count": 233,
   "id": "583a0634",
   "metadata": {},
   "outputs": [
    {
     "data": {
      "text/plain": [
       "\n",
       "     0      1      2      3   <NA> \n",
       "121341 697242  22023  10204      0 "
      ]
     },
     "metadata": {},
     "output_type": "display_data"
    }
   ],
   "source": [
    "data_B_A_U_T$cf_cat <- ifelse(is.na(data_B_A_U_T$cf_cat),0,data_B_A_U_T$cf_cat)\n",
    "table(data_B_A_U_T$cf_cat,useNA = \"always\")"
   ]
  },
  {
   "cell_type": "code",
   "execution_count": 224,
   "id": "5bc11112",
   "metadata": {},
   "outputs": [
    {
     "name": "stderr",
     "output_type": "stream",
     "text": [
      "\u001b[1m\u001b[22m`summarise()` has grouped output by 'agegroup'. You can override using the\n",
      "`.groups` argument.\n"
     ]
    },
    {
     "data": {
      "text/html": [
       "<table class=\"dataframe\">\n",
       "<caption>A tibble: 15 × 3</caption>\n",
       "<thead>\n",
       "\t<tr><th scope=col>agegroup</th><th scope=col>ancestry</th><th scope=col>mca_rate</th></tr>\n",
       "\t<tr><th scope=col>&lt;fct&gt;</th><th scope=col>&lt;chr&gt;</th><th scope=col>&lt;dbl&gt;</th></tr>\n",
       "</thead>\n",
       "<tbody>\n",
       "\t<tr><td><span style=white-space:pre-wrap>&lt;50  </span></td><td>afr</td><td>0.01487014</td></tr>\n",
       "\t<tr><td><span style=white-space:pre-wrap>&lt;50  </span></td><td>eas</td><td>0.00968523</td></tr>\n",
       "\t<tr><td><span style=white-space:pre-wrap>&lt;50  </span></td><td>eur</td><td>0.01630647</td></tr>\n",
       "\t<tr><td>50-60</td><td>afr</td><td>0.02124966</td></tr>\n",
       "\t<tr><td>50-60</td><td>eas</td><td>0.01186322</td></tr>\n",
       "\t<tr><td>50-60</td><td>eur</td><td>0.02427964</td></tr>\n",
       "\t<tr><td>60-70</td><td>afr</td><td>0.03246508</td></tr>\n",
       "\t<tr><td>60-70</td><td>eas</td><td>0.02274882</td></tr>\n",
       "\t<tr><td>60-70</td><td>eur</td><td>0.04015747</td></tr>\n",
       "\t<tr><td>70-80</td><td>afr</td><td>0.04815498</td></tr>\n",
       "\t<tr><td>70-80</td><td>eas</td><td>0.03362573</td></tr>\n",
       "\t<tr><td>70-80</td><td>eur</td><td>0.05744807</td></tr>\n",
       "\t<tr><td>&gt;=80 </td><td>afr</td><td>0.07158837</td></tr>\n",
       "\t<tr><td>&gt;=80 </td><td>eas</td><td>0.04273504</td></tr>\n",
       "\t<tr><td>&gt;=80 </td><td>eur</td><td>0.09035088</td></tr>\n",
       "</tbody>\n",
       "</table>\n"
      ],
      "text/latex": [
       "A tibble: 15 × 3\n",
       "\\begin{tabular}{lll}\n",
       " agegroup & ancestry & mca\\_rate\\\\\n",
       " <fct> & <chr> & <dbl>\\\\\n",
       "\\hline\n",
       "\t <50   & afr & 0.01487014\\\\\n",
       "\t <50   & eas & 0.00968523\\\\\n",
       "\t <50   & eur & 0.01630647\\\\\n",
       "\t 50-60 & afr & 0.02124966\\\\\n",
       "\t 50-60 & eas & 0.01186322\\\\\n",
       "\t 50-60 & eur & 0.02427964\\\\\n",
       "\t 60-70 & afr & 0.03246508\\\\\n",
       "\t 60-70 & eas & 0.02274882\\\\\n",
       "\t 60-70 & eur & 0.04015747\\\\\n",
       "\t 70-80 & afr & 0.04815498\\\\\n",
       "\t 70-80 & eas & 0.03362573\\\\\n",
       "\t 70-80 & eur & 0.05744807\\\\\n",
       "\t >=80  & afr & 0.07158837\\\\\n",
       "\t >=80  & eas & 0.04273504\\\\\n",
       "\t >=80  & eur & 0.09035088\\\\\n",
       "\\end{tabular}\n"
      ],
      "text/markdown": [
       "\n",
       "A tibble: 15 × 3\n",
       "\n",
       "| agegroup &lt;fct&gt; | ancestry &lt;chr&gt; | mca_rate &lt;dbl&gt; |\n",
       "|---|---|---|\n",
       "| &lt;50   | afr | 0.01487014 |\n",
       "| &lt;50   | eas | 0.00968523 |\n",
       "| &lt;50   | eur | 0.01630647 |\n",
       "| 50-60 | afr | 0.02124966 |\n",
       "| 50-60 | eas | 0.01186322 |\n",
       "| 50-60 | eur | 0.02427964 |\n",
       "| 60-70 | afr | 0.03246508 |\n",
       "| 60-70 | eas | 0.02274882 |\n",
       "| 60-70 | eur | 0.04015747 |\n",
       "| 70-80 | afr | 0.04815498 |\n",
       "| 70-80 | eas | 0.03362573 |\n",
       "| 70-80 | eur | 0.05744807 |\n",
       "| &gt;=80  | afr | 0.07158837 |\n",
       "| &gt;=80  | eas | 0.04273504 |\n",
       "| &gt;=80  | eur | 0.09035088 |\n",
       "\n"
      ],
      "text/plain": [
       "   agegroup ancestry mca_rate  \n",
       "1  <50      afr      0.01487014\n",
       "2  <50      eas      0.00968523\n",
       "3  <50      eur      0.01630647\n",
       "4  50-60    afr      0.02124966\n",
       "5  50-60    eas      0.01186322\n",
       "6  50-60    eur      0.02427964\n",
       "7  60-70    afr      0.03246508\n",
       "8  60-70    eas      0.02274882\n",
       "9  60-70    eur      0.04015747\n",
       "10 70-80    afr      0.04815498\n",
       "11 70-80    eas      0.03362573\n",
       "12 70-80    eur      0.05744807\n",
       "13 >=80     afr      0.07158837\n",
       "14 >=80     eas      0.04273504\n",
       "15 >=80     eur      0.09035088"
      ]
     },
     "metadata": {},
     "output_type": "display_data"
    }
   ],
   "source": [
    "filtered_race <- data_B_A_U_T %>% filter(ancestry %in% c(\"eur\", \"eas\", \"afr\"))\n",
    "filtered_race$agegroup <- NA\n",
    "filtered_race$agegroup[filtered_race$age<50] <-\"1\"\n",
    "filtered_race$agegroup[filtered_race$age>=50 & filtered_race$age<60] <-\"2\"\n",
    "filtered_race$agegroup[filtered_race$age>=60 & filtered_race$age<70] <-\"3\"\n",
    "filtered_race$agegroup[filtered_race$age>=70 & filtered_race$age<80] <-\"4\"\n",
    "filtered_race$agegroup[filtered_race$age>=80] <-\"5\"\n",
    "\n",
    "filtered_race <- filtered_race %>%\n",
    "  mutate(agegroup = factor(agegroup, levels = 1:5, labels = c(\"<50\", \"50-60\", \"60-70\", \"70-80\", \">=80\")))\n",
    "\n",
    "rate_data <- filtered_race %>% group_by(agegroup, ancestry) %>% summarize(mca_rate = mean(mca_auto)) %>% ungroup()\n",
    "rate_data <- filter(rate_data,rate_data$agegroup != \"NA\")\n",
    "rate_data"
   ]
  },
  {
   "cell_type": "code",
   "execution_count": 198,
   "id": "bd6b3f3b",
   "metadata": {},
   "outputs": [
    {
     "data": {
      "image/png": "[encoded data removed]",
      "text/plain": [
       "plot without title"
      ]
     },
     "metadata": {
      "image/png": {
       "height": 420,
       "width": 420
      }
     },
     "output_type": "display_data"
    }
   ],
   "source": [
    "ggplot(rate_data, aes(x = agegroup, y = mca_rate, color = ancestry, group = ancestry)) +\n",
    "  geom_line(size = 1) +\n",
    "  geom_point(size = 3) +\n",
    "  scale_y_continuous(labels = scales::percent_format(accuracy = 1)) +\n",
    "  labs(\n",
    "    title = \"Proportion of individuals with detectable mCA by age group\",\n",
    "    x = \"Age group\",\n",
    "    y = \"Proportion of individuals with mCA\"\n",
    "  ) +\n",
    "  theme_minimal() +\n",
    "  theme(\n",
    "    axis.text.x = element_text(angle = 45, hjust = 1)\n",
    "  )"
   ]
  },
  {
   "cell_type": "code",
   "execution_count": 226,
   "id": "f3721fe6",
   "metadata": {},
   "outputs": [
    {
     "data": {
      "text/plain": [
       "\n",
       "     0      1      2      3   <NA> \n",
       "116274 623659  19909   9325      0 "
      ]
     },
     "metadata": {},
     "output_type": "display_data"
    }
   ],
   "source": [
    "filtered_race$cf_cat <- ifelse(is.na(filtered_race$cf_cat),0,filtered_race$cf_cat)\n",
    "table(filtered_race$cf_cat,useNA = \"always\")"
   ]
  },
  {
   "cell_type": "code",
   "execution_count": 227,
   "id": "4dcbc492",
   "metadata": {},
   "outputs": [
    {
     "data": {
      "text/plain": [
       "\n",
       "     1      2      3   <NA> \n",
       "739933  19909   9325      0 "
      ]
     },
     "metadata": {},
     "output_type": "display_data"
    }
   ],
   "source": [
    "filtered_race$cf_cat <- ifelse(filtered_race$cf_cat==0,1,filtered_race$cf_cat)\n",
    "table(filtered_race$cf_cat,useNA = \"always\")"
   ]
  },
  {
   "cell_type": "code",
   "execution_count": 228,
   "id": "1515ce17",
   "metadata": {},
   "outputs": [
    {
     "data": {
      "text/plain": [
       "\n",
       "      non-mCA         small large (>=10%)          <NA> \n",
       "       739933         19909          9325             0 "
      ]
     },
     "metadata": {},
     "output_type": "display_data"
    }
   ],
   "source": [
    "filtered_race <- filtered_race %>%\n",
    "  mutate(cf_cat = factor(cf_cat, levels = c(1, 2, 3), labels = c(\"non-mCA\", \"small\", \"large (>=10%)\")))\n",
    "table(filtered_race$cf_cat,useNA = \"always\")"
   ]
  },
  {
   "cell_type": "code",
   "execution_count": 231,
   "id": "96cd0eff",
   "metadata": {},
   "outputs": [
    {
     "data": {
      "text/html": [
       "<table class=\"dataframe\">\n",
       "<caption>A grouped_df: 30 × 6</caption>\n",
       "<thead>\n",
       "\t<tr><th scope=col>ancestry</th><th scope=col>agegroup</th><th scope=col>cf_cat</th><th scope=col>count</th><th scope=col>total</th><th scope=col>mca_rate</th></tr>\n",
       "\t<tr><th scope=col>&lt;chr&gt;</th><th scope=col>&lt;fct&gt;</th><th scope=col>&lt;fct&gt;</th><th scope=col>&lt;int&gt;</th><th scope=col>&lt;int&gt;</th><th scope=col>&lt;dbl&gt;</th></tr>\n",
       "</thead>\n",
       "<tbody>\n",
       "\t<tr><td>afr</td><td><span style=white-space:pre-wrap>&lt;50  </span></td><td><span style=white-space:pre-wrap>small        </span></td><td> 172</td><td> 14862</td><td>0.011573140</td></tr>\n",
       "\t<tr><td>afr</td><td><span style=white-space:pre-wrap>&lt;50  </span></td><td>large (&gt;=10%)</td><td><span style=white-space:pre-wrap>  89</span></td><td> 14862</td><td>0.005988427</td></tr>\n",
       "\t<tr><td>afr</td><td>50-60</td><td>small        </td><td> 533</td><td> 22118</td><td>0.024098020</td></tr>\n",
       "\t<tr><td>afr</td><td>50-60</td><td>large (&gt;=10%)</td><td> 159</td><td> 22118</td><td>0.007188715</td></tr>\n",
       "\t<tr><td>afr</td><td>60-70</td><td>small        </td><td> 788</td><td> 15894</td><td>0.049578457</td></tr>\n",
       "\t<tr><td>afr</td><td>60-70</td><td>large (&gt;=10%)</td><td> 220</td><td> 15894</td><td>0.013841701</td></tr>\n",
       "\t<tr><td>afr</td><td>70-80</td><td>small        </td><td> 384</td><td>  5420</td><td>0.070848708</td></tr>\n",
       "\t<tr><td>afr</td><td>70-80</td><td>large (&gt;=10%)</td><td> 191</td><td><span style=white-space:pre-wrap>  5420</span></td><td>0.035239852</td></tr>\n",
       "\t<tr><td>afr</td><td>&gt;=80 </td><td><span style=white-space:pre-wrap>small        </span></td><td><span style=white-space:pre-wrap>  78</span></td><td><span style=white-space:pre-wrap>   894</span></td><td>0.087248322</td></tr>\n",
       "\t<tr><td>afr</td><td>&gt;=80 </td><td>large (&gt;=10%)</td><td><span style=white-space:pre-wrap>  60</span></td><td><span style=white-space:pre-wrap>   894</span></td><td>0.067114094</td></tr>\n",
       "\t<tr><td>eas</td><td><span style=white-space:pre-wrap>&lt;50  </span></td><td><span style=white-space:pre-wrap>small        </span></td><td><span style=white-space:pre-wrap>  10</span></td><td><span style=white-space:pre-wrap>  1652</span></td><td>0.006053269</td></tr>\n",
       "\t<tr><td>eas</td><td><span style=white-space:pre-wrap>&lt;50  </span></td><td>large (&gt;=10%)</td><td><span style=white-space:pre-wrap>  10</span></td><td><span style=white-space:pre-wrap>  1652</span></td><td>0.006053269</td></tr>\n",
       "\t<tr><td>eas</td><td>50-60</td><td>small        </td><td>  15</td><td>  1433</td><td>0.010467551</td></tr>\n",
       "\t<tr><td>eas</td><td>50-60</td><td>large (&gt;=10%)</td><td><span style=white-space:pre-wrap>   5</span></td><td><span style=white-space:pre-wrap>  1433</span></td><td>0.003489184</td></tr>\n",
       "\t<tr><td>eas</td><td>60-70</td><td>small        </td><td>  32</td><td>  1055</td><td>0.030331754</td></tr>\n",
       "\t<tr><td>eas</td><td>60-70</td><td>large (&gt;=10%)</td><td><span style=white-space:pre-wrap>  11</span></td><td><span style=white-space:pre-wrap>  1055</span></td><td>0.010426540</td></tr>\n",
       "\t<tr><td>eas</td><td>70-80</td><td>small        </td><td>  26</td><td>   684</td><td>0.038011696</td></tr>\n",
       "\t<tr><td>eas</td><td>70-80</td><td>large (&gt;=10%)</td><td><span style=white-space:pre-wrap>  23</span></td><td><span style=white-space:pre-wrap>   684</span></td><td>0.033625731</td></tr>\n",
       "\t<tr><td>eas</td><td>&gt;=80 </td><td><span style=white-space:pre-wrap>small        </span></td><td><span style=white-space:pre-wrap>   5</span></td><td><span style=white-space:pre-wrap>   117</span></td><td>0.042735043</td></tr>\n",
       "\t<tr><td>eas</td><td>&gt;=80 </td><td>large (&gt;=10%)</td><td><span style=white-space:pre-wrap>   8</span></td><td><span style=white-space:pre-wrap>   117</span></td><td>0.068376068</td></tr>\n",
       "\t<tr><td>eur</td><td><span style=white-space:pre-wrap>&lt;50  </span></td><td><span style=white-space:pre-wrap>small        </span></td><td>1574</td><td>140987</td><td>0.011164150</td></tr>\n",
       "\t<tr><td>eur</td><td><span style=white-space:pre-wrap>&lt;50  </span></td><td>large (&gt;=10%)</td><td> 683</td><td>140987</td><td>0.004844418</td></tr>\n",
       "\t<tr><td>eur</td><td>50-60</td><td>small        </td><td>3685</td><td>202886</td><td>0.018162909</td></tr>\n",
       "\t<tr><td>eur</td><td>50-60</td><td>large (&gt;=10%)</td><td>1458</td><td>202886</td><td>0.007186302</td></tr>\n",
       "\t<tr><td>eur</td><td>60-70</td><td>small        </td><td>8514</td><td>262915</td><td>0.032383090</td></tr>\n",
       "\t<tr><td>eur</td><td>60-70</td><td>large (&gt;=10%)</td><td>3579</td><td>262915</td><td>0.013612765</td></tr>\n",
       "\t<tr><td>eur</td><td>70-80</td><td>small        </td><td>3201</td><td> 38661</td><td>0.082796617</td></tr>\n",
       "\t<tr><td>eur</td><td>70-80</td><td>large (&gt;=10%)</td><td>1964</td><td> 38661</td><td>0.050800548</td></tr>\n",
       "\t<tr><td>eur</td><td>&gt;=80 </td><td><span style=white-space:pre-wrap>small        </span></td><td> 892</td><td><span style=white-space:pre-wrap>  7980</span></td><td>0.111779449</td></tr>\n",
       "\t<tr><td>eur</td><td>&gt;=80 </td><td>large (&gt;=10%)</td><td> 865</td><td><span style=white-space:pre-wrap>  7980</span></td><td>0.108395990</td></tr>\n",
       "</tbody>\n",
       "</table>\n"
      ],
      "text/latex": [
       "A grouped\\_df: 30 × 6\n",
       "\\begin{tabular}{llllll}\n",
       " ancestry & agegroup & cf\\_cat & count & total & mca\\_rate\\\\\n",
       " <chr> & <fct> & <fct> & <int> & <int> & <dbl>\\\\\n",
       "\\hline\n",
       "\t afr & <50   & small         &  172 &  14862 & 0.011573140\\\\\n",
       "\t afr & <50   & large (>=10\\%) &   89 &  14862 & 0.005988427\\\\\n",
       "\t afr & 50-60 & small         &  533 &  22118 & 0.024098020\\\\\n",
       "\t afr & 50-60 & large (>=10\\%) &  159 &  22118 & 0.007188715\\\\\n",
       "\t afr & 60-70 & small         &  788 &  15894 & 0.049578457\\\\\n",
       "\t afr & 60-70 & large (>=10\\%) &  220 &  15894 & 0.013841701\\\\\n",
       "\t afr & 70-80 & small         &  384 &   5420 & 0.070848708\\\\\n",
       "\t afr & 70-80 & large (>=10\\%) &  191 &   5420 & 0.035239852\\\\\n",
       "\t afr & >=80  & small         &   78 &    894 & 0.087248322\\\\\n",
       "\t afr & >=80  & large (>=10\\%) &   60 &    894 & 0.067114094\\\\\n",
       "\t eas & <50   & small         &   10 &   1652 & 0.006053269\\\\\n",
       "\t eas & <50   & large (>=10\\%) &   10 &   1652 & 0.006053269\\\\\n",
       "\t eas & 50-60 & small         &   15 &   1433 & 0.010467551\\\\\n",
       "\t eas & 50-60 & large (>=10\\%) &    5 &   1433 & 0.003489184\\\\\n",
       "\t eas & 60-70 & small         &   32 &   1055 & 0.030331754\\\\\n",
       "\t eas & 60-70 & large (>=10\\%) &   11 &   1055 & 0.010426540\\\\\n",
       "\t eas & 70-80 & small         &   26 &    684 & 0.038011696\\\\\n",
       "\t eas & 70-80 & large (>=10\\%) &   23 &    684 & 0.033625731\\\\\n",
       "\t eas & >=80  & small         &    5 &    117 & 0.042735043\\\\\n",
       "\t eas & >=80  & large (>=10\\%) &    8 &    117 & 0.068376068\\\\\n",
       "\t eur & <50   & small         & 1574 & 140987 & 0.011164150\\\\\n",
       "\t eur & <50   & large (>=10\\%) &  683 & 140987 & 0.004844418\\\\\n",
       "\t eur & 50-60 & small         & 3685 & 202886 & 0.018162909\\\\\n",
       "\t eur & 50-60 & large (>=10\\%) & 1458 & 202886 & 0.007186302\\\\\n",
       "\t eur & 60-70 & small         & 8514 & 262915 & 0.032383090\\\\\n",
       "\t eur & 60-70 & large (>=10\\%) & 3579 & 262915 & 0.013612765\\\\\n",
       "\t eur & 70-80 & small         & 3201 &  38661 & 0.082796617\\\\\n",
       "\t eur & 70-80 & large (>=10\\%) & 1964 &  38661 & 0.050800548\\\\\n",
       "\t eur & >=80  & small         &  892 &   7980 & 0.111779449\\\\\n",
       "\t eur & >=80  & large (>=10\\%) &  865 &   7980 & 0.108395990\\\\\n",
       "\\end{tabular}\n"
      ],
      "text/markdown": [
       "\n",
       "A grouped_df: 30 × 6\n",
       "\n",
       "| ancestry &lt;chr&gt; | agegroup &lt;fct&gt; | cf_cat &lt;fct&gt; | count &lt;int&gt; | total &lt;int&gt; | mca_rate &lt;dbl&gt; |\n",
       "|---|---|---|---|---|---|\n",
       "| afr | &lt;50   | small         |  172 |  14862 | 0.011573140 |\n",
       "| afr | &lt;50   | large (&gt;=10%) |   89 |  14862 | 0.005988427 |\n",
       "| afr | 50-60 | small         |  533 |  22118 | 0.024098020 |\n",
       "| afr | 50-60 | large (&gt;=10%) |  159 |  22118 | 0.007188715 |\n",
       "| afr | 60-70 | small         |  788 |  15894 | 0.049578457 |\n",
       "| afr | 60-70 | large (&gt;=10%) |  220 |  15894 | 0.013841701 |\n",
       "| afr | 70-80 | small         |  384 |   5420 | 0.070848708 |\n",
       "| afr | 70-80 | large (&gt;=10%) |  191 |   5420 | 0.035239852 |\n",
       "| afr | &gt;=80  | small         |   78 |    894 | 0.087248322 |\n",
       "| afr | &gt;=80  | large (&gt;=10%) |   60 |    894 | 0.067114094 |\n",
       "| eas | &lt;50   | small         |   10 |   1652 | 0.006053269 |\n",
       "| eas | &lt;50   | large (&gt;=10%) |   10 |   1652 | 0.006053269 |\n",
       "| eas | 50-60 | small         |   15 |   1433 | 0.010467551 |\n",
       "| eas | 50-60 | large (&gt;=10%) |    5 |   1433 | 0.003489184 |\n",
       "| eas | 60-70 | small         |   32 |   1055 | 0.030331754 |\n",
       "| eas | 60-70 | large (&gt;=10%) |   11 |   1055 | 0.010426540 |\n",
       "| eas | 70-80 | small         |   26 |    684 | 0.038011696 |\n",
       "| eas | 70-80 | large (&gt;=10%) |   23 |    684 | 0.033625731 |\n",
       "| eas | &gt;=80  | small         |    5 |    117 | 0.042735043 |\n",
       "| eas | &gt;=80  | large (&gt;=10%) |    8 |    117 | 0.068376068 |\n",
       "| eur | &lt;50   | small         | 1574 | 140987 | 0.011164150 |\n",
       "| eur | &lt;50   | large (&gt;=10%) |  683 | 140987 | 0.004844418 |\n",
       "| eur | 50-60 | small         | 3685 | 202886 | 0.018162909 |\n",
       "| eur | 50-60 | large (&gt;=10%) | 1458 | 202886 | 0.007186302 |\n",
       "| eur | 60-70 | small         | 8514 | 262915 | 0.032383090 |\n",
       "| eur | 60-70 | large (&gt;=10%) | 3579 | 262915 | 0.013612765 |\n",
       "| eur | 70-80 | small         | 3201 |  38661 | 0.082796617 |\n",
       "| eur | 70-80 | large (&gt;=10%) | 1964 |  38661 | 0.050800548 |\n",
       "| eur | &gt;=80  | small         |  892 |   7980 | 0.111779449 |\n",
       "| eur | &gt;=80  | large (&gt;=10%) |  865 |   7980 | 0.108395990 |\n",
       "\n"
      ],
      "text/plain": [
       "   ancestry agegroup cf_cat        count total  mca_rate   \n",
       "1  afr      <50      small          172   14862 0.011573140\n",
       "2  afr      <50      large (>=10%)   89   14862 0.005988427\n",
       "3  afr      50-60    small          533   22118 0.024098020\n",
       "4  afr      50-60    large (>=10%)  159   22118 0.007188715\n",
       "5  afr      60-70    small          788   15894 0.049578457\n",
       "6  afr      60-70    large (>=10%)  220   15894 0.013841701\n",
       "7  afr      70-80    small          384    5420 0.070848708\n",
       "8  afr      70-80    large (>=10%)  191    5420 0.035239852\n",
       "9  afr      >=80     small           78     894 0.087248322\n",
       "10 afr      >=80     large (>=10%)   60     894 0.067114094\n",
       "11 eas      <50      small           10    1652 0.006053269\n",
       "12 eas      <50      large (>=10%)   10    1652 0.006053269\n",
       "13 eas      50-60    small           15    1433 0.010467551\n",
       "14 eas      50-60    large (>=10%)    5    1433 0.003489184\n",
       "15 eas      60-70    small           32    1055 0.030331754\n",
       "16 eas      60-70    large (>=10%)   11    1055 0.010426540\n",
       "17 eas      70-80    small           26     684 0.038011696\n",
       "18 eas      70-80    large (>=10%)   23     684 0.033625731\n",
       "19 eas      >=80     small            5     117 0.042735043\n",
       "20 eas      >=80     large (>=10%)    8     117 0.068376068\n",
       "21 eur      <50      small         1574  140987 0.011164150\n",
       "22 eur      <50      large (>=10%)  683  140987 0.004844418\n",
       "23 eur      50-60    small         3685  202886 0.018162909\n",
       "24 eur      50-60    large (>=10%) 1458  202886 0.007186302\n",
       "25 eur      60-70    small         8514  262915 0.032383090\n",
       "26 eur      60-70    large (>=10%) 3579  262915 0.013612765\n",
       "27 eur      70-80    small         3201   38661 0.082796617\n",
       "28 eur      70-80    large (>=10%) 1964   38661 0.050800548\n",
       "29 eur      >=80     small          892    7980 0.111779449\n",
       "30 eur      >=80     large (>=10%)  865    7980 0.108395990"
      ]
     },
     "metadata": {},
     "output_type": "display_data"
    }
   ],
   "source": [
    "df_summary <- filtered_race %>%\n",
    "  group_by(ancestry, agegroup, cf_cat) %>%\n",
    "  summarize(count = n(), .groups = \"drop\") %>%\n",
    "  group_by(ancestry, agegroup) %>%\n",
    "  mutate(total = sum(count),\n",
    "        mca_rate = count/total)\n",
    "\n",
    "df_summary <- df_summary %>%\n",
    "  filter(cf_cat != \"non-mCA\")\n",
    "df_summary"
   ]
  },
  {
   "cell_type": "code",
   "execution_count": 232,
   "id": "381e2ce0",
   "metadata": {},
   "outputs": [
    {
     "data": {
      "image/png": "[encoded data removed]",
      "text/plain": [
       "plot without title"
      ]
     },
     "metadata": {
      "image/png": {
       "height": 420,
       "width": 420
      }
     },
     "output_type": "display_data"
    }
   ],
   "source": [
    "ggplot(df_summary, aes(x = agegroup, y = mca_rate, color = ancestry, linetype = cf_cat, group = interaction(ancestry, cf_cat))) +\n",
    "  geom_line(size = 1) + scale_y_continuous(labels =scales::percent_format(accuracy = 1)) +\n",
    "  labs(\n",
    "    title = \"Proportion of individuals with detectable mCA by age group\",\n",
    "    x = \"Age group\",\n",
    "    y = \"Proportion of individuals with mCA\",\n",
    "    color = \"Ancestry\",\n",
    "    linetype = \"Cell fraction\"\n",
    "  ) +\n",
    "  theme_minimal() +\n",
    "  theme(\n",
    "    legend.position = \"right\"\n",
    "  )\n"
   ]
  },
  {
   "cell_type": "code",
   "execution_count": null,
   "id": "258942e1",
   "metadata": {},
   "outputs": [],
   "source": []
  }
 ],
 "metadata": {
  "kernelspec": {
   "display_name": "R",
   "language": "R",
   "name": "ir"
  },
  "language_info": {
   "codemirror_mode": "r",
   "file_extension": ".r",
   "mimetype": "text/x-r-source",
   "name": "R",
   "pygments_lexer": "r",
   "version": "4.4.0"
  },
  "toc": {
   "base_numbering": 1,
   "nav_menu": {},
   "number_sections": true,
   "sideBar": true,
   "skip_h1_title": false,
   "title_cell": "Table of Contents",
   "title_sidebar": "Contents",
   "toc_cell": false,
   "toc_position": {},
   "toc_section_display": true,
   "toc_window_display": false
  }
 },
 "nbformat": 4,
 "nbformat_minor": 5
}
