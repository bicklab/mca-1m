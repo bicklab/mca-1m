{
 "cells": [
  {
   "cell_type": "code",
   "execution_count": 1,
   "metadata": {},
   "outputs": [
    {
     "name": "stderr",
     "output_type": "stream",
     "text": [
      "Installing package into ‘/home/jupyter/packages’\n",
      "(as ‘lib’ is unspecified)\n",
      "\n",
      "Much appreciate for using CMplot.\n",
      "\n",
      "Full description, Bug report, Suggestion and the latest codes:\n",
      "\n",
      "https://github.com/YinLiLin/CMplot\n",
      "\n"
     ]
    }
   ],
   "source": [
    "install.packages(\"CMplot\")"
   ]
  },
  {
   "cell_type": "code",
   "execution_count": 1,
   "metadata": {
    "scrolled": true
   },
   "outputs": [
    {
     "name": "stderr",
     "output_type": "stream",
     "text": [
      "\n",
      "Attaching package: ‘dplyr’\n",
      "\n",
      "\n",
      "The following objects are masked from ‘package:stats’:\n",
      "\n",
      "    filter, lag\n",
      "\n",
      "\n",
      "The following objects are masked from ‘package:base’:\n",
      "\n",
      "    intersect, setdiff, setequal, union\n",
      "\n",
      "\n",
      "── \u001b[1mAttaching core tidyverse packages\u001b[22m ──────────────────────── tidyverse 2.0.0 ──\n",
      "\u001b[32m✔\u001b[39m \u001b[34mforcats  \u001b[39m 1.0.0     \u001b[32m✔\u001b[39m \u001b[34mreadr    \u001b[39m 2.1.5\n",
      "\u001b[32m✔\u001b[39m \u001b[34mggplot2  \u001b[39m 3.5.1     \u001b[32m✔\u001b[39m \u001b[34mstringr  \u001b[39m 1.5.1\n",
      "\u001b[32m✔\u001b[39m \u001b[34mlubridate\u001b[39m 1.9.3     \u001b[32m✔\u001b[39m \u001b[34mtibble   \u001b[39m 3.2.1\n",
      "\u001b[32m✔\u001b[39m \u001b[34mpurrr    \u001b[39m 1.0.2     \n",
      "── \u001b[1mConflicts\u001b[22m ────────────────────────────────────────── tidyverse_conflicts() ──\n",
      "\u001b[31m✖\u001b[39m \u001b[34mdplyr\u001b[39m::\u001b[32mfilter()\u001b[39m masks \u001b[34mstats\u001b[39m::filter()\n",
      "\u001b[31m✖\u001b[39m \u001b[34mdplyr\u001b[39m::\u001b[32mlag()\u001b[39m    masks \u001b[34mstats\u001b[39m::lag()\n",
      "\u001b[36mℹ\u001b[39m Use the conflicted package (\u001b[3m\u001b[34m<http://conflicted.r-lib.org/>\u001b[39m\u001b[23m) to force all conflicts to become errors\n",
      "\n",
      "Attaching package: ‘data.table’\n",
      "\n",
      "\n",
      "The following objects are masked from ‘package:lubridate’:\n",
      "\n",
      "    hour, isoweek, mday, minute, month, quarter, second, wday, week,\n",
      "    yday, year\n",
      "\n",
      "\n",
      "The following object is masked from ‘package:purrr’:\n",
      "\n",
      "    transpose\n",
      "\n",
      "\n",
      "The following objects are masked from ‘package:dplyr’:\n",
      "\n",
      "    between, first, last\n",
      "\n",
      "\n"
     ]
    }
   ],
   "source": [
    "library(tidyr)\n",
    "library(dplyr)\n",
    "library(tidyverse)\n",
    "library(data.table)"
   ]
  },
  {
   "cell_type": "code",
   "execution_count": 2,
   "metadata": {},
   "outputs": [
    {
     "name": "stderr",
     "output_type": "stream",
     "text": [
      "Much appreciate for using CMplot.\n",
      "\n",
      "Full description, Bug report, Suggestion and the latest codes:\n",
      "\n",
      "https://github.com/YinLiLin/CMplot\n",
      "\n"
     ]
    }
   ],
   "source": [
    "library(\"CMplot\")"
   ]
  },
  {
   "cell_type": "code",
   "execution_count": 23,
   "metadata": {},
   "outputs": [
    {
     "data": {
      "text/html": [
       "<table class=\"dataframe\">\n",
       "<caption>A data.frame: 6 × 6</caption>\n",
       "<thead>\n",
       "\t<tr><th></th><th scope=col>SNP</th><th scope=col>Chromosome</th><th scope=col>Position</th><th scope=col>trait1</th><th scope=col>trait2</th><th scope=col>trait3</th></tr>\n",
       "\t<tr><th></th><th scope=col>&lt;fct&gt;</th><th scope=col>&lt;fct&gt;</th><th scope=col>&lt;int&gt;</th><th scope=col>&lt;dbl&gt;</th><th scope=col>&lt;dbl&gt;</th><th scope=col>&lt;dbl&gt;</th></tr>\n",
       "</thead>\n",
       "<tbody>\n",
       "\t<tr><th scope=row>1</th><td>ALGA0000009</td><td>1</td><td> 52297</td><td>0.7738187</td><td>0.51194318</td><td>0.51194318</td></tr>\n",
       "\t<tr><th scope=row>2</th><td>ALGA0000014</td><td>1</td><td> 79763</td><td>0.7738187</td><td>0.51194318</td><td>0.51194318</td></tr>\n",
       "\t<tr><th scope=row>3</th><td>ALGA0000021</td><td>1</td><td>209568</td><td>0.7583016</td><td>0.98405289</td><td>0.98405289</td></tr>\n",
       "\t<tr><th scope=row>4</th><td>ALGA0000022</td><td>1</td><td>292758</td><td>0.7200305</td><td>0.48887140</td><td>0.48887140</td></tr>\n",
       "\t<tr><th scope=row>5</th><td>ALGA0000046</td><td>1</td><td>747831</td><td>0.9736840</td><td>0.22096836</td><td>0.22096836</td></tr>\n",
       "\t<tr><th scope=row>6</th><td>ALGA0000047</td><td>1</td><td>761957</td><td>0.9174565</td><td>0.05753712</td><td>0.05753712</td></tr>\n",
       "</tbody>\n",
       "</table>\n"
      ],
      "text/latex": [
       "A data.frame: 6 × 6\n",
       "\\begin{tabular}{r|llllll}\n",
       "  & SNP & Chromosome & Position & trait1 & trait2 & trait3\\\\\n",
       "  & <fct> & <fct> & <int> & <dbl> & <dbl> & <dbl>\\\\\n",
       "\\hline\n",
       "\t1 & ALGA0000009 & 1 &  52297 & 0.7738187 & 0.51194318 & 0.51194318\\\\\n",
       "\t2 & ALGA0000014 & 1 &  79763 & 0.7738187 & 0.51194318 & 0.51194318\\\\\n",
       "\t3 & ALGA0000021 & 1 & 209568 & 0.7583016 & 0.98405289 & 0.98405289\\\\\n",
       "\t4 & ALGA0000022 & 1 & 292758 & 0.7200305 & 0.48887140 & 0.48887140\\\\\n",
       "\t5 & ALGA0000046 & 1 & 747831 & 0.9736840 & 0.22096836 & 0.22096836\\\\\n",
       "\t6 & ALGA0000047 & 1 & 761957 & 0.9174565 & 0.05753712 & 0.05753712\\\\\n",
       "\\end{tabular}\n"
      ],
      "text/markdown": [
       "\n",
       "A data.frame: 6 × 6\n",
       "\n",
       "| <!--/--> | SNP &lt;fct&gt; | Chromosome &lt;fct&gt; | Position &lt;int&gt; | trait1 &lt;dbl&gt; | trait2 &lt;dbl&gt; | trait3 &lt;dbl&gt; |\n",
       "|---|---|---|---|---|---|---|\n",
       "| 1 | ALGA0000009 | 1 |  52297 | 0.7738187 | 0.51194318 | 0.51194318 |\n",
       "| 2 | ALGA0000014 | 1 |  79763 | 0.7738187 | 0.51194318 | 0.51194318 |\n",
       "| 3 | ALGA0000021 | 1 | 209568 | 0.7583016 | 0.98405289 | 0.98405289 |\n",
       "| 4 | ALGA0000022 | 1 | 292758 | 0.7200305 | 0.48887140 | 0.48887140 |\n",
       "| 5 | ALGA0000046 | 1 | 747831 | 0.9736840 | 0.22096836 | 0.22096836 |\n",
       "| 6 | ALGA0000047 | 1 | 761957 | 0.9174565 | 0.05753712 | 0.05753712 |\n",
       "\n"
      ],
      "text/plain": [
       "  SNP         Chromosome Position trait1    trait2     trait3    \n",
       "1 ALGA0000009 1           52297   0.7738187 0.51194318 0.51194318\n",
       "2 ALGA0000014 1           79763   0.7738187 0.51194318 0.51194318\n",
       "3 ALGA0000021 1          209568   0.7583016 0.98405289 0.98405289\n",
       "4 ALGA0000022 1          292758   0.7200305 0.48887140 0.48887140\n",
       "5 ALGA0000046 1          747831   0.9736840 0.22096836 0.22096836\n",
       "6 ALGA0000047 1          761957   0.9174565 0.05753712 0.05753712"
      ]
     },
     "metadata": {},
     "output_type": "display_data"
    }
   ],
   "source": [
    "data(pig60K)   #calculated p-values by MLM\n",
    "data(cattle50K)   #calculated SNP effects by rrblup\n",
    "head(pig60K)"
   ]
  },
  {
   "cell_type": "code",
   "execution_count": 3,
   "metadata": {},
   "outputs": [
    {
     "name": "stdout",
     "output_type": "stream",
     "text": [
      " Circular Manhattan plotting trait1.\n",
      " Circular Manhattan plotting trait2.\n",
      " Circular Manhattan plotting trait3.\n",
      " Plots are stored in: /home/jupyter/workspaces/chipinallofusgenomeswithmutect2v7 \n"
     ]
    }
   ],
   "source": [
    "CMplot(pig60K,type=\"p\",plot.type=\"c\",chr.labels=paste(\"Chr\",c(1:18,\"X\",\"Y\"),sep=\"\"),r=0.4,cir.axis=TRUE,\n",
    "        outward=FALSE,cir.axis.col=\"black\",cir.chr.h=1.3,chr.den.col=\"black\",file=\"jpg\",\n",
    "        file.name=\"\",dpi=300,file.output=TRUE,verbose=TRUE,width=10,height=10)"
   ]
  },
  {
   "cell_type": "code",
   "execution_count": 6,
   "metadata": {},
   "outputs": [
    {
     "data": {
      "text/html": [],
      "text/latex": [],
      "text/markdown": [],
      "text/plain": [
       "character(0)"
      ]
     },
     "metadata": {},
     "output_type": "display_data"
    }
   ],
   "source": [
    "system(\"gsutil cp gs://fc-secure-cb192ac6-30ba-46b9-92ee-896a6e36c63e/pershy1/gwas_cis_for_circ_manhattan_02222025.tsv .\", intern = TRUE)"
   ]
  },
  {
   "cell_type": "code",
   "execution_count": 8,
   "metadata": {},
   "outputs": [
    {
     "data": {
      "text/html": [],
      "text/latex": [],
      "text/markdown": [],
      "text/plain": [
       "character(0)"
      ]
     },
     "metadata": {},
     "output_type": "display_data"
    }
   ],
   "source": [
    "system(\"gsutil cp gs://fc-secure-cb192ac6-30ba-46b9-92ee-896a6e36c63e/pershy1/gwas_cis_for_circ_manhattan_02222025_v2.tsv .\", intern = TRUE)"
   ]
  },
  {
   "cell_type": "code",
   "execution_count": 3,
   "metadata": {},
   "outputs": [],
   "source": [
    "circ_datav1 <- fread(\"gwas_cis_for_circ_manhattan_02222025.tsv\")\n",
    "circ_datav2 <- fread(\"gwas_cis_for_circ_manhattan_02222025_v2.tsv\")"
   ]
  },
  {
   "cell_type": "code",
   "execution_count": 4,
   "metadata": {},
   "outputs": [
    {
     "data": {
      "text/html": [
       "<style>\n",
       ".list-inline {list-style: none; margin:0; padding: 0}\n",
       ".list-inline>li {display: inline-block}\n",
       ".list-inline>li:not(:last-child)::after {content: \"\\00b7\"; padding: 0 .5ex}\n",
       "</style>\n",
       "<ol class=list-inline><li>13709787</li><li>6</li></ol>\n"
      ],
      "text/latex": [
       "\\begin{enumerate*}\n",
       "\\item 13709787\n",
       "\\item 6\n",
       "\\end{enumerate*}\n"
      ],
      "text/markdown": [
       "1. 13709787\n",
       "2. 6\n",
       "\n",
       "\n"
      ],
      "text/plain": [
       "[1] 13709787        6"
      ]
     },
     "metadata": {},
     "output_type": "display_data"
    },
    {
     "data": {
      "text/html": [
       "<style>\n",
       ".list-inline {list-style: none; margin:0; padding: 0}\n",
       ".list-inline>li {display: inline-block}\n",
       ".list-inline>li:not(:last-child)::after {content: \"\\00b7\"; padding: 0 .5ex}\n",
       "</style>\n",
       "<ol class=list-inline><li>14109132</li><li>6</li></ol>\n"
      ],
      "text/latex": [
       "\\begin{enumerate*}\n",
       "\\item 14109132\n",
       "\\item 6\n",
       "\\end{enumerate*}\n"
      ],
      "text/markdown": [
       "1. 14109132\n",
       "2. 6\n",
       "\n",
       "\n"
      ],
      "text/plain": [
       "[1] 14109132        6"
      ]
     },
     "metadata": {},
     "output_type": "display_data"
    }
   ],
   "source": [
    "dim(circ_datav1)\n",
    "dim(circ_datav2)"
   ]
  },
  {
   "cell_type": "code",
   "execution_count": 5,
   "metadata": {},
   "outputs": [],
   "source": [
    "circ_data <- circ_datav2"
   ]
  },
  {
   "cell_type": "code",
   "execution_count": 6,
   "metadata": {},
   "outputs": [
    {
     "data": {
      "text/plain": [
       "   Min. 1st Qu.  Median    Mean 3rd Qu.    Max.    NA's \n",
       "    0.0     0.3     0.5     0.5     0.7     1.0 2209041 "
      ]
     },
     "metadata": {},
     "output_type": "display_data"
    },
    {
     "data": {
      "text/plain": [
       "   Min. 1st Qu.  Median    Mean 3rd Qu.    Max.    NA's \n",
       "      0       0       1       1       1       1 8745077 "
      ]
     },
     "metadata": {},
     "output_type": "display_data"
    },
    {
     "data": {
      "text/plain": [
       "   Min. 1st Qu.  Median    Mean 3rd Qu.    Max.    NA's \n",
       "      0       0       0       1       1       1 5278653 "
      ]
     },
     "metadata": {},
     "output_type": "display_data"
    }
   ],
   "source": [
    "summary(circ_data$cnloh_pvalue)\n",
    "summary(circ_data$gain_pvalue)\n",
    "summary(circ_data$loss_pvalue)"
   ]
  },
  {
   "cell_type": "code",
   "execution_count": 6,
   "metadata": {},
   "outputs": [],
   "source": [
    "circ_data <- circ_data %>%\n",
    "  mutate(across(everything(), ~ replace(., is.na(.), 0.999))) %>%\n",
    "  mutate(across(everything(), ~ replace(., . == 0, 1e-20)))"
   ]
  },
  {
   "cell_type": "code",
   "execution_count": 8,
   "metadata": {},
   "outputs": [
    {
     "data": {
      "text/html": [
       "<table class=\"dataframe\">\n",
       "<caption>A data.table: 6 × 6</caption>\n",
       "<thead>\n",
       "\t<tr><th scope=col>chr</th><th scope=col>pos</th><th scope=col>cnloh_pvalue</th><th scope=col>gain_pvalue</th><th scope=col>loss_pvalue</th><th scope=col>SNP</th></tr>\n",
       "\t<tr><th scope=col>&lt;chr&gt;</th><th scope=col>&lt;dbl&gt;</th><th scope=col>&lt;dbl&gt;</th><th scope=col>&lt;dbl&gt;</th><th scope=col>&lt;dbl&gt;</th><th scope=col>&lt;chr&gt;</th></tr>\n",
       "</thead>\n",
       "<tbody>\n",
       "\t<tr><td>chr1</td><td>727233</td><td>0.31530</td><td>0.999</td><td>0.3198</td><td>chr1:727233</td></tr>\n",
       "\t<tr><td>chr1</td><td>730869</td><td>0.52680</td><td>0.999</td><td>0.9364</td><td>chr1:730869</td></tr>\n",
       "\t<tr><td>chr1</td><td>740747</td><td>0.14000</td><td>0.999</td><td>0.9990</td><td>chr1:740747</td></tr>\n",
       "\t<tr><td>chr1</td><td>756898</td><td>0.68910</td><td>0.999</td><td>0.9990</td><td>chr1:756898</td></tr>\n",
       "\t<tr><td>chr1</td><td>758540</td><td>0.03119</td><td>0.999</td><td>0.9990</td><td>chr1:758540</td></tr>\n",
       "\t<tr><td>chr1</td><td>762107</td><td>0.39300</td><td>0.999</td><td>0.9990</td><td>chr1:762107</td></tr>\n",
       "</tbody>\n",
       "</table>\n"
      ],
      "text/latex": [
       "A data.table: 6 × 6\n",
       "\\begin{tabular}{llllll}\n",
       " chr & pos & cnloh\\_pvalue & gain\\_pvalue & loss\\_pvalue & SNP\\\\\n",
       " <chr> & <dbl> & <dbl> & <dbl> & <dbl> & <chr>\\\\\n",
       "\\hline\n",
       "\t chr1 & 727233 & 0.31530 & 0.999 & 0.3198 & chr1:727233\\\\\n",
       "\t chr1 & 730869 & 0.52680 & 0.999 & 0.9364 & chr1:730869\\\\\n",
       "\t chr1 & 740747 & 0.14000 & 0.999 & 0.9990 & chr1:740747\\\\\n",
       "\t chr1 & 756898 & 0.68910 & 0.999 & 0.9990 & chr1:756898\\\\\n",
       "\t chr1 & 758540 & 0.03119 & 0.999 & 0.9990 & chr1:758540\\\\\n",
       "\t chr1 & 762107 & 0.39300 & 0.999 & 0.9990 & chr1:762107\\\\\n",
       "\\end{tabular}\n"
      ],
      "text/markdown": [
       "\n",
       "A data.table: 6 × 6\n",
       "\n",
       "| chr &lt;chr&gt; | pos &lt;dbl&gt; | cnloh_pvalue &lt;dbl&gt; | gain_pvalue &lt;dbl&gt; | loss_pvalue &lt;dbl&gt; | SNP &lt;chr&gt; |\n",
       "|---|---|---|---|---|---|\n",
       "| chr1 | 727233 | 0.31530 | 0.999 | 0.3198 | chr1:727233 |\n",
       "| chr1 | 730869 | 0.52680 | 0.999 | 0.9364 | chr1:730869 |\n",
       "| chr1 | 740747 | 0.14000 | 0.999 | 0.9990 | chr1:740747 |\n",
       "| chr1 | 756898 | 0.68910 | 0.999 | 0.9990 | chr1:756898 |\n",
       "| chr1 | 758540 | 0.03119 | 0.999 | 0.9990 | chr1:758540 |\n",
       "| chr1 | 762107 | 0.39300 | 0.999 | 0.9990 | chr1:762107 |\n",
       "\n"
      ],
      "text/plain": [
       "  chr  pos    cnloh_pvalue gain_pvalue loss_pvalue SNP        \n",
       "1 chr1 727233 0.31530      0.999       0.3198      chr1:727233\n",
       "2 chr1 730869 0.52680      0.999       0.9364      chr1:730869\n",
       "3 chr1 740747 0.14000      0.999       0.9990      chr1:740747\n",
       "4 chr1 756898 0.68910      0.999       0.9990      chr1:756898\n",
       "5 chr1 758540 0.03119      0.999       0.9990      chr1:758540\n",
       "6 chr1 762107 0.39300      0.999       0.9990      chr1:762107"
      ]
     },
     "metadata": {},
     "output_type": "display_data"
    }
   ],
   "source": [
    "head(circ_data)"
   ]
  },
  {
   "cell_type": "code",
   "execution_count": 7,
   "metadata": {},
   "outputs": [],
   "source": [
    "circ_data <- circ_data[,c(6,1,2,4,5,3)]"
   ]
  },
  {
   "cell_type": "code",
   "execution_count": 8,
   "metadata": {},
   "outputs": [
    {
     "data": {
      "text/html": [
       "<table class=\"dataframe\">\n",
       "<caption>A data.table: 6 × 6</caption>\n",
       "<thead>\n",
       "\t<tr><th scope=col>SNP</th><th scope=col>chr</th><th scope=col>pos</th><th scope=col>gain_pvalue</th><th scope=col>loss_pvalue</th><th scope=col>cnloh_pvalue</th></tr>\n",
       "\t<tr><th scope=col>&lt;chr&gt;</th><th scope=col>&lt;chr&gt;</th><th scope=col>&lt;dbl&gt;</th><th scope=col>&lt;dbl&gt;</th><th scope=col>&lt;dbl&gt;</th><th scope=col>&lt;dbl&gt;</th></tr>\n",
       "</thead>\n",
       "<tbody>\n",
       "\t<tr><td>chr1:727233</td><td>chr1</td><td>727233</td><td>0.999</td><td>0.3198</td><td>0.31530</td></tr>\n",
       "\t<tr><td>chr1:730869</td><td>chr1</td><td>730869</td><td>0.999</td><td>0.9364</td><td>0.52680</td></tr>\n",
       "\t<tr><td>chr1:740747</td><td>chr1</td><td>740747</td><td>0.999</td><td>0.9990</td><td>0.14000</td></tr>\n",
       "\t<tr><td>chr1:756898</td><td>chr1</td><td>756898</td><td>0.999</td><td>0.9990</td><td>0.68910</td></tr>\n",
       "\t<tr><td>chr1:758540</td><td>chr1</td><td>758540</td><td>0.999</td><td>0.9990</td><td>0.03119</td></tr>\n",
       "\t<tr><td>chr1:762107</td><td>chr1</td><td>762107</td><td>0.999</td><td>0.9990</td><td>0.39300</td></tr>\n",
       "</tbody>\n",
       "</table>\n"
      ],
      "text/latex": [
       "A data.table: 6 × 6\n",
       "\\begin{tabular}{llllll}\n",
       " SNP & chr & pos & gain\\_pvalue & loss\\_pvalue & cnloh\\_pvalue\\\\\n",
       " <chr> & <chr> & <dbl> & <dbl> & <dbl> & <dbl>\\\\\n",
       "\\hline\n",
       "\t chr1:727233 & chr1 & 727233 & 0.999 & 0.3198 & 0.31530\\\\\n",
       "\t chr1:730869 & chr1 & 730869 & 0.999 & 0.9364 & 0.52680\\\\\n",
       "\t chr1:740747 & chr1 & 740747 & 0.999 & 0.9990 & 0.14000\\\\\n",
       "\t chr1:756898 & chr1 & 756898 & 0.999 & 0.9990 & 0.68910\\\\\n",
       "\t chr1:758540 & chr1 & 758540 & 0.999 & 0.9990 & 0.03119\\\\\n",
       "\t chr1:762107 & chr1 & 762107 & 0.999 & 0.9990 & 0.39300\\\\\n",
       "\\end{tabular}\n"
      ],
      "text/markdown": [
       "\n",
       "A data.table: 6 × 6\n",
       "\n",
       "| SNP &lt;chr&gt; | chr &lt;chr&gt; | pos &lt;dbl&gt; | gain_pvalue &lt;dbl&gt; | loss_pvalue &lt;dbl&gt; | cnloh_pvalue &lt;dbl&gt; |\n",
       "|---|---|---|---|---|---|\n",
       "| chr1:727233 | chr1 | 727233 | 0.999 | 0.3198 | 0.31530 |\n",
       "| chr1:730869 | chr1 | 730869 | 0.999 | 0.9364 | 0.52680 |\n",
       "| chr1:740747 | chr1 | 740747 | 0.999 | 0.9990 | 0.14000 |\n",
       "| chr1:756898 | chr1 | 756898 | 0.999 | 0.9990 | 0.68910 |\n",
       "| chr1:758540 | chr1 | 758540 | 0.999 | 0.9990 | 0.03119 |\n",
       "| chr1:762107 | chr1 | 762107 | 0.999 | 0.9990 | 0.39300 |\n",
       "\n"
      ],
      "text/plain": [
       "  SNP         chr  pos    gain_pvalue loss_pvalue cnloh_pvalue\n",
       "1 chr1:727233 chr1 727233 0.999       0.3198      0.31530     \n",
       "2 chr1:730869 chr1 730869 0.999       0.9364      0.52680     \n",
       "3 chr1:740747 chr1 740747 0.999       0.9990      0.14000     \n",
       "4 chr1:756898 chr1 756898 0.999       0.9990      0.68910     \n",
       "5 chr1:758540 chr1 758540 0.999       0.9990      0.03119     \n",
       "6 chr1:762107 chr1 762107 0.999       0.9990      0.39300     "
      ]
     },
     "metadata": {},
     "output_type": "display_data"
    }
   ],
   "source": [
    "head(circ_data)"
   ]
  },
  {
   "cell_type": "code",
   "execution_count": 9,
   "metadata": {},
   "outputs": [],
   "source": [
    "names(circ_data)[4] <- \"trait1\"\n",
    "names(circ_data)[5] <- \"trait2\"\n",
    "names(circ_data)[6] <- \"trait3\""
   ]
  },
  {
   "cell_type": "code",
   "execution_count": 10,
   "metadata": {},
   "outputs": [],
   "source": [
    "circ_data$chr <- gsub(\"chr\", \"\", circ_data$chr)"
   ]
  },
  {
   "cell_type": "code",
   "execution_count": 11,
   "metadata": {},
   "outputs": [
    {
     "data": {
      "text/plain": [
       "\n",
       "      1       2       3       4       5       6       7       8       9      10 \n",
       "1123128 1180212 1003100 1051690  943980  896883  832903  823172  638916  468714 \n",
       "     11      12      13      14      15      16      17      18      19      20 \n",
       " 728563  708183  536489  474317  422873  429709  380218  400850  296593  169909 \n",
       "     21 \n",
       " 199385 "
      ]
     },
     "metadata": {},
     "output_type": "display_data"
    }
   ],
   "source": [
    "table(circ_datav1$chr)"
   ]
  },
  {
   "cell_type": "code",
   "execution_count": 14,
   "metadata": {},
   "outputs": [
    {
     "data": {
      "text/html": [
       "'integer'"
      ],
      "text/latex": [
       "'integer'"
      ],
      "text/markdown": [
       "'integer'"
      ],
      "text/plain": [
       "[1] \"integer\""
      ]
     },
     "metadata": {},
     "output_type": "display_data"
    },
    {
     "data": {
      "text/html": [
       "'character'"
      ],
      "text/latex": [
       "'character'"
      ],
      "text/markdown": [
       "'character'"
      ],
      "text/plain": [
       "[1] \"character\""
      ]
     },
     "metadata": {},
     "output_type": "display_data"
    }
   ],
   "source": [
    "class(circ_datav1$chr)\n",
    "class(circ_data$chr)"
   ]
  },
  {
   "cell_type": "code",
   "execution_count": 12,
   "metadata": {},
   "outputs": [],
   "source": [
    "circ_data$chr <- as.integer(circ_data$chr)"
   ]
  },
  {
   "cell_type": "code",
   "execution_count": 13,
   "metadata": {},
   "outputs": [
    {
     "data": {
      "text/plain": [
       "\n",
       "      1       2       3       4       5       6       7       8       9      10 \n",
       "1123078 1180179 1002939 1051614  943917  896833  832855  823109  638828  468690 \n",
       "     11      12      13      14      15      16      17      18      19      20 \n",
       " 728511  708072  536478  474275  422837  429695  380182  400839  296572  169903 \n",
       "     21      22 \n",
       " 199301  400425 "
      ]
     },
     "metadata": {},
     "output_type": "display_data"
    }
   ],
   "source": [
    "table(circ_data$chr)"
   ]
  },
  {
   "cell_type": "code",
   "execution_count": 14,
   "metadata": {},
   "outputs": [
    {
     "name": "stdout",
     "output_type": "stream",
     "text": [
      "[1] 1.94e-30\n"
     ]
    }
   ],
   "source": [
    "min_loss_pvalue <- min(circ_data$trait3[circ_data$chr == \"1\"], na.rm = TRUE)\n",
    "print(min_loss_pvalue)"
   ]
  },
  {
   "cell_type": "code",
   "execution_count": 15,
   "metadata": {},
   "outputs": [],
   "source": [
    "circ_data$trait1[circ_data$trait1 < 1e-10] <- 1e-10\n",
    "circ_data$trait2[circ_data$trait2 < 1e-10] <- 1e-10\n",
    "circ_data$trait3[circ_data$trait3 < 1e-10] <- 1e-10"
   ]
  },
  {
   "cell_type": "code",
   "execution_count": 16,
   "metadata": {},
   "outputs": [
    {
     "name": "stdout",
     "output_type": "stream",
     "text": [
      "[1] 1e-10\n"
     ]
    }
   ],
   "source": [
    "min_loss_pvalue <- min(circ_data$trait3[circ_data$chr == \"1\"], na.rm = TRUE)\n",
    "print(min_loss_pvalue)"
   ]
  },
  {
   "cell_type": "code",
   "execution_count": 17,
   "metadata": {},
   "outputs": [
    {
     "name": "stdout",
     "output_type": "stream",
     "text": [
      " (warning: all phenotypes will use the same ylim.)\n",
      " Circular Manhattan plotting trait1.\n",
      " Circular Manhattan plotting trait2.\n",
      " Circular Manhattan plotting trait3.\n",
      " Plots are stored in: /home/jupyter/workspaces/chipinallofusgenomeswithmutect2v7 \n"
     ]
    }
   ],
   "source": [
    "CMplot(circ_data, \n",
    "       type = \"p\", \n",
    "       plot.type = \"c\", \n",
    "       chr.labels = c(1:22), \n",
    "       r = 0.4,  \n",
    "       cir.axis = TRUE, \n",
    "       cir.axis.col = \"black\", \n",
    "       cir.chr.h = 1.3,  \n",
    "       chr.den.col = \"black\", \n",
    "       file = \"jpg\",\n",
    "       file.name = \"\", \n",
    "       dpi = 300, \n",
    "       file.output = TRUE, \n",
    "       verbose = TRUE, \n",
    "       width = 10, height = 10,\n",
    "       ylim = c(0, 10) \n",
    ")"
   ]
  }
 ],
 "metadata": {
  "kernelspec": {
   "display_name": "R",
   "language": "R",
   "name": "ir"
  },
  "language_info": {
   "codemirror_mode": "r",
   "file_extension": ".r",
   "mimetype": "text/x-r-source",
   "name": "R",
   "pygments_lexer": "r",
   "version": "4.4.0"
  },
  "toc": {
   "base_numbering": 1,
   "nav_menu": {},
   "number_sections": true,
   "sideBar": true,
   "skip_h1_title": false,
   "title_cell": "Table of Contents",
   "title_sidebar": "Contents",
   "toc_cell": false,
   "toc_position": {},
   "toc_section_display": true,
   "toc_window_display": false
  }
 },
 "nbformat": 4,
 "nbformat_minor": 2
}
